{
 "metadata": {
  "name": "",
  "signature": "sha256:17172b1b59cf074f6715e67969567a5bdde6d35bebc4818aed588212e9a9e779"
 },
 "nbformat": 3,
 "nbformat_minor": 0,
 "worksheets": [
  {
   "cells": [
    {
     "cell_type": "code",
     "collapsed": false,
     "input": [
      "import os\n",
      "import sys\n",
      "import pandas as pd\n",
      "import numpy as np\n",
      "import time\n",
      "import gzip\n",
      "import zlib\n",
      "os.getcwd()"
     ],
     "language": "python",
     "metadata": {},
     "outputs": [
      {
       "metadata": {},
       "output_type": "pyout",
       "prompt_number": 1,
       "text": [
        "'/Users/pascaltimshel/git/snpsnap/notebooks'"
       ]
      }
     ],
     "prompt_number": 1
    },
    {
     "cell_type": "heading",
     "level": 2,
     "metadata": {},
     "source": [
      "Original HDF5"
     ]
    },
    {
     "cell_type": "code",
     "collapsed": false,
     "input": [],
     "language": "python",
     "metadata": {},
     "outputs": [],
     "prompt_number": 1
    },
    {
     "cell_type": "code",
     "collapsed": false,
     "input": [
      "%%timeit\n",
      "user_snps = [\"14:69873335\", \"9:5453460\", \"7:88660988\", \"1:201688955\", \"1:181844943\", \"18:67015865\", \"6:32592119\", \"9:133472747\", \"4:63055561\", \"11:127160664\"]*100\n",
      "file_db = \"/Users/pascaltimshel/snpsnap/data/step3/ld0.5/ld0.5_db.h5\"\n",
      "store = pd.HDFStore(file_db, 'r')\n",
      "list_of_df = []\n",
      "start_time = time.time()\n",
      "for item in user_snps:\n",
      "    df = store.select('dummy', \"index=['%s']\" % item) # Remember to quote the string!\n",
      "    #print time.time()-start_time\n",
      "    list_of_df.append(df)\n",
      "store.close()\n",
      "user_snps_df = pd.concat(list_of_df)\n",
      "#print time.time()-start_time\n",
      "#print user_snps_df.head()\n",
      "#print user_snps_df.dtypes"
     ],
     "language": "python",
     "metadata": {},
     "outputs": [
      {
       "output_type": "stream",
       "stream": "stdout",
       "text": [
        "1 loops, best of 3: 2.7 s per loop\n"
       ]
      }
     ],
     "prompt_number": 3
    },
    {
     "cell_type": "code",
     "collapsed": false,
     "input": [
      "file_db = \"/Users/pascaltimshel/snpsnap/data/step3/ld0.5/ld0.5_db.h5\"\n",
      "store = pd.HDFStore(file_db, 'r')\n",
      "print store\n",
      "print store.root.dummy.table\n",
      "print store.get_storer('dummy').table\n",
      "print store.get_storer('dummy')\n",
      "store.close()"
     ],
     "language": "python",
     "metadata": {},
     "outputs": [
      {
       "output_type": "stream",
       "stream": "stdout",
       "text": [
        "<class 'pandas.io.pytables.HDFStore'>\n",
        "File path: /Users/pascaltimshel/snpsnap/data/step3/ld0.5/ld0.5_db.h5\n",
        "/dummy            frame_table  (typ->appendable,nrows->9239613,ncols->4,indexers->[index],dc->[rsID,freq_bin,gene_count,dist_nearest_gene])\n",
        "/dummy/table (Table(9239613,), shuffle, blosc(9)) ''\n",
        "/dummy/table (Table(9239613,), shuffle, blosc(9)) ''\n",
        "frame_table  (typ->appendable,nrows->9239613,ncols->4,indexers->[index],dc->[rsID,freq_bin,gene_count,dist_nearest_gene])\n"
       ]
      }
     ],
     "prompt_number": 10
    },
    {
     "cell_type": "code",
     "collapsed": false,
     "input": [
      "store = pd.HDFStore(file_db, 'r')\n",
      "store.root.dummy.table"
     ],
     "language": "python",
     "metadata": {},
     "outputs": [
      {
       "metadata": {},
       "output_type": "pyout",
       "prompt_number": 9,
       "text": [
        "/dummy/table (Table(9239613,), shuffle, blosc(9)) ''\n",
        "  description := {\n",
        "  \"index\": StringCol(itemsize=12, shape=(), dflt='', pos=0),\n",
        "  \"rsID\": StringCol(itemsize=12, shape=(), dflt='', pos=1),\n",
        "  \"freq_bin\": Int64Col(shape=(), dflt=0, pos=2),\n",
        "  \"gene_count\": Int64Col(shape=(), dflt=0, pos=3),\n",
        "  \"dist_nearest_gene\": Int64Col(shape=(), dflt=0, pos=4)}\n",
        "  byteorder := 'little'\n",
        "  chunkshape := (5461,)\n",
        "  autoindex := True\n",
        "  colindexes := {\n",
        "    \"index\": Index(6, medium, shuffle, zlib(1)).is_csi=False,\n",
        "    \"rsID\": Index(6, medium, shuffle, zlib(1)).is_csi=False,\n",
        "    \"dist_nearest_gene\": Index(6, medium, shuffle, zlib(1)).is_csi=False,\n",
        "    \"gene_count\": Index(6, medium, shuffle, zlib(1)).is_csi=False,\n",
        "    \"freq_bin\": Index(6, medium, shuffle, zlib(1)).is_csi=False}"
       ]
      }
     ],
     "prompt_number": 9
    },
    {
     "cell_type": "heading",
     "level": 2,
     "metadata": {},
     "source": [
      "Production_v1 - ALL ld_friends columns"
     ]
    },
    {
     "cell_type": "code",
     "collapsed": false,
     "input": [
      "%%timeit\n",
      "user_snps = [\"14:69873335\", \"9:5453460\", \"7:88660988\", \"1:201688955\", \"1:181844943\", \"18:67015865\", \"6:32592119\", \"9:133472747\", \"4:63055561\", \"11:127160664\"]*100\n",
      "file_db = \"/Users/pascaltimshel/snpsnap/data/step3/1KG_snpsnap_production_v1/ld0.5/ld0.5_db.h5\"\n",
      "store = pd.HDFStore(file_db, 'r')\n",
      "list_of_df = []\n",
      "start_time = time.time()\n",
      "for item in user_snps:\n",
      "    df = store.select('dummy', \"index=['%s']\" % item) # Remember to quote the string!\n",
      "    #print time.time()-start_time\n",
      "    list_of_df.append(df)\n",
      "store.close()\n",
      "user_snps_df = pd.concat(list_of_df)\n",
      "#print time.time()-start_time\n",
      "#print user_snps_df.head()\n",
      "#print user_snps_df.dtypes"
     ],
     "language": "python",
     "metadata": {},
     "outputs": [
      {
       "output_type": "stream",
       "stream": "stdout",
       "text": [
        "1 loops, best of 3: 3.62 s per loop\n"
       ]
      }
     ],
     "prompt_number": 5
    },
    {
     "cell_type": "code",
     "collapsed": false,
     "input": [
      "file_db = \"/Users/pascaltimshel/snpsnap/data/step3/1KG_snpsnap_production_v1/ld0.5/ld0.5_db.h5\"\n",
      "store = pd.HDFStore(file_db, 'r')\n",
      "print store\n",
      "print store.root.dummy.table\n",
      "print store.get_storer('dummy').table\n",
      "print store.get_storer('dummy')\n",
      "store.close()"
     ],
     "language": "python",
     "metadata": {},
     "outputs": [
      {
       "output_type": "stream",
       "stream": "stdout",
       "text": [
        "<class 'pandas.io.pytables.HDFStore'>\n",
        "File path: /Users/pascaltimshel/snpsnap/data/step3/1KG_snpsnap_production_v1/ld0.5/ld0.5_db.h5\n",
        "/dummy            frame_table  (typ->appendable,nrows->9239613,ncols->12,indexers->[index],dc->[freq_bin,gene_count,dist_nearest_gene_snpsnap,friends_ld01,friends_ld02,friends_ld03,friends_ld04,friends_ld05,friends_ld06,friends_ld07,friends_ld08,friends_ld09])\n",
        "/dummy/table (Table(9239613,), shuffle, blosc(9)) ''\n",
        "/dummy/table (Table(9239613,), shuffle, blosc(9)) ''\n",
        "frame_table  (typ->appendable,nrows->9239613,ncols->12,indexers->[index],dc->[freq_bin,gene_count,dist_nearest_gene_snpsnap,friends_ld01,friends_ld02,friends_ld03,friends_ld04,friends_ld05,friends_ld06,friends_ld07,friends_ld08,friends_ld09])\n"
       ]
      }
     ],
     "prompt_number": 11
    },
    {
     "cell_type": "code",
     "collapsed": false,
     "input": [
      "store = pd.HDFStore(file_db, 'r')\n",
      "store.root.dummy.table"
     ],
     "language": "python",
     "metadata": {},
     "outputs": [
      {
       "metadata": {},
       "output_type": "pyout",
       "prompt_number": 11,
       "text": [
        "/dummy/table (Table(9239613,), shuffle, blosc(9)) ''\n",
        "  description := {\n",
        "  \"index\": StringCol(itemsize=12, shape=(), dflt='', pos=0),\n",
        "  \"freq_bin\": Int64Col(shape=(), dflt=0, pos=1),\n",
        "  \"gene_count\": Int64Col(shape=(), dflt=0, pos=2),\n",
        "  \"dist_nearest_gene_snpsnap\": Int64Col(shape=(), dflt=0, pos=3),\n",
        "  \"friends_ld01\": Int64Col(shape=(), dflt=0, pos=4),\n",
        "  \"friends_ld02\": Int64Col(shape=(), dflt=0, pos=5),\n",
        "  \"friends_ld03\": Int64Col(shape=(), dflt=0, pos=6),\n",
        "  \"friends_ld04\": Int64Col(shape=(), dflt=0, pos=7),\n",
        "  \"friends_ld05\": Int64Col(shape=(), dflt=0, pos=8),\n",
        "  \"friends_ld06\": Int64Col(shape=(), dflt=0, pos=9),\n",
        "  \"friends_ld07\": Int64Col(shape=(), dflt=0, pos=10),\n",
        "  \"friends_ld08\": Int64Col(shape=(), dflt=0, pos=11),\n",
        "  \"friends_ld09\": Int64Col(shape=(), dflt=0, pos=12)}\n",
        "  byteorder := 'little'\n",
        "  chunkshape := (2427,)\n",
        "  autoindex := True\n",
        "  colindexes := {\n",
        "    \"index\": Index(6, medium, shuffle, zlib(1)).is_csi=False,\n",
        "    \"friends_ld08\": Index(6, medium, shuffle, zlib(1)).is_csi=False,\n",
        "    \"friends_ld09\": Index(6, medium, shuffle, zlib(1)).is_csi=False,\n",
        "    \"friends_ld02\": Index(6, medium, shuffle, zlib(1)).is_csi=False,\n",
        "    \"freq_bin\": Index(6, medium, shuffle, zlib(1)).is_csi=False,\n",
        "    \"friends_ld01\": Index(6, medium, shuffle, zlib(1)).is_csi=False,\n",
        "    \"friends_ld06\": Index(6, medium, shuffle, zlib(1)).is_csi=False,\n",
        "    \"friends_ld07\": Index(6, medium, shuffle, zlib(1)).is_csi=False,\n",
        "    \"friends_ld04\": Index(6, medium, shuffle, zlib(1)).is_csi=False,\n",
        "    \"gene_count\": Index(6, medium, shuffle, zlib(1)).is_csi=False,\n",
        "    \"friends_ld03\": Index(6, medium, shuffle, zlib(1)).is_csi=False,\n",
        "    \"dist_nearest_gene_snpsnap\": Index(6, medium, shuffle, zlib(1)).is_csi=False,\n",
        "    \"friends_ld05\": Index(6, medium, shuffle, zlib(1)).is_csi=False}"
       ]
      }
     ],
     "prompt_number": 11
    },
    {
     "cell_type": "code",
     "collapsed": false,
     "input": [],
     "language": "python",
     "metadata": {},
     "outputs": [],
     "prompt_number": 68
    },
    {
     "cell_type": "heading",
     "level": 2,
     "metadata": {},
     "source": [
      "single_ld"
     ]
    },
    {
     "cell_type": "code",
     "collapsed": false,
     "input": [
      "%%timeit\n",
      "user_snps = [\"14:69873335\", \"9:5453460\", \"7:88660988\", \"1:201688955\", \"1:181844943\", \"18:67015865\", \"6:32592119\", \"9:133472747\", \"4:63055561\", \"11:127160664\"]*100\n",
      "file_db = \"/Users/pascaltimshel/snpsnap/data/step3/1KG_snpsnap_production_v1_single_ld/ld0.5/ld0.5_db.h5\"\n",
      "store = pd.HDFStore(file_db, 'r')\n",
      "list_of_df = []\n",
      "start_time = time.time()\n",
      "for item in user_snps:\n",
      "    df = store.select('dummy', \"index=['%s']\" % item) # Remember to quote the string!\n",
      "    #print time.time()-start_time\n",
      "    list_of_df.append(df)\n",
      "store.close()\n",
      "user_snps_df = pd.concat(list_of_df)\n",
      "#print time.time()-start_time\n",
      "#print user_snps_df.head()\n",
      "#print user_snps_df.dtypes"
     ],
     "language": "python",
     "metadata": {},
     "outputs": [
      {
       "output_type": "stream",
       "stream": "stdout",
       "text": [
        "1 loops, best of 3: 2.55 s per loop\n"
       ]
      }
     ],
     "prompt_number": 8
    },
    {
     "cell_type": "code",
     "collapsed": false,
     "input": [
      "user_snps_df.head()"
     ],
     "language": "python",
     "metadata": {},
     "outputs": [
      {
       "html": [
        "<div style=\"max-height:1000px;max-width:1500px;overflow:auto;\">\n",
        "<table border=\"1\" class=\"dataframe\">\n",
        "  <thead>\n",
        "    <tr style=\"text-align: right;\">\n",
        "      <th></th>\n",
        "      <th>freq_bin</th>\n",
        "      <th>gene_count</th>\n",
        "      <th>dist_nearest_gene_snpsnap</th>\n",
        "      <th>friends_ld05</th>\n",
        "    </tr>\n",
        "    <tr>\n",
        "      <th>snpID</th>\n",
        "      <th></th>\n",
        "      <th></th>\n",
        "      <th></th>\n",
        "      <th></th>\n",
        "    </tr>\n",
        "  </thead>\n",
        "  <tbody>\n",
        "    <tr>\n",
        "      <th>14:69873335</th>\n",
        "      <td>  1</td>\n",
        "      <td> 1</td>\n",
        "      <td>   8603</td>\n",
        "      <td>   0</td>\n",
        "    </tr>\n",
        "    <tr>\n",
        "      <th>9:5453460</th>\n",
        "      <td>  3</td>\n",
        "      <td> 1</td>\n",
        "      <td>   2957</td>\n",
        "      <td>  14</td>\n",
        "    </tr>\n",
        "    <tr>\n",
        "      <th>7:88660988</th>\n",
        "      <td>  6</td>\n",
        "      <td> 1</td>\n",
        "      <td> 272306</td>\n",
        "      <td>  17</td>\n",
        "    </tr>\n",
        "    <tr>\n",
        "      <th>1:201688955</th>\n",
        "      <td> 30</td>\n",
        "      <td> 4</td>\n",
        "      <td>  96544</td>\n",
        "      <td>  70</td>\n",
        "    </tr>\n",
        "    <tr>\n",
        "      <th>1:181844943</th>\n",
        "      <td> 11</td>\n",
        "      <td> 0</td>\n",
        "      <td>  36034</td>\n",
        "      <td> 109</td>\n",
        "    </tr>\n",
        "  </tbody>\n",
        "</table>\n",
        "<p>5 rows \u00d7 4 columns</p>\n",
        "</div>"
       ],
       "metadata": {},
       "output_type": "pyout",
       "prompt_number": 13,
       "text": [
        "             freq_bin  gene_count  dist_nearest_gene_snpsnap  friends_ld05\n",
        "snpID                                                                     \n",
        "14:69873335         1           1                       8603             0\n",
        "9:5453460           3           1                       2957            14\n",
        "7:88660988          6           1                     272306            17\n",
        "1:201688955        30           4                      96544            70\n",
        "1:181844943        11           0                      36034           109\n",
        "\n",
        "[5 rows x 4 columns]"
       ]
      }
     ],
     "prompt_number": 13
    },
    {
     "cell_type": "code",
     "collapsed": false,
     "input": [
      "file_db = \"/Users/pascaltimshel/snpsnap/data/step3/1KG_snpsnap_production_v1_single_ld/ld0.5/ld0.5_db.h5\"\n",
      "store = pd.HDFStore(file_db, 'r')\n",
      "store.root.dummy.table"
     ],
     "language": "python",
     "metadata": {},
     "outputs": [
      {
       "metadata": {},
       "output_type": "pyout",
       "prompt_number": 14,
       "text": [
        "/dummy/table (Table(9239613,), shuffle, blosc(9)) ''\n",
        "  description := {\n",
        "  \"index\": StringCol(itemsize=12, shape=(), dflt='', pos=0),\n",
        "  \"freq_bin\": Int64Col(shape=(), dflt=0, pos=1),\n",
        "  \"gene_count\": Int64Col(shape=(), dflt=0, pos=2),\n",
        "  \"dist_nearest_gene_snpsnap\": Int64Col(shape=(), dflt=0, pos=3),\n",
        "  \"friends_ld05\": Int64Col(shape=(), dflt=0, pos=4)}\n",
        "  byteorder := 'little'\n",
        "  chunkshape := (5957,)\n",
        "  autoindex := True\n",
        "  colindexes := {\n",
        "    \"index\": Index(6, medium, shuffle, zlib(1)).is_csi=False,\n",
        "    \"friends_ld05\": Index(6, medium, shuffle, zlib(1)).is_csi=False,\n",
        "    \"dist_nearest_gene_snpsnap\": Index(6, medium, shuffle, zlib(1)).is_csi=False,\n",
        "    \"gene_count\": Index(6, medium, shuffle, zlib(1)).is_csi=False,\n",
        "    \"freq_bin\": Index(6, medium, shuffle, zlib(1)).is_csi=False}"
       ]
      }
     ],
     "prompt_number": 14
    },
    {
     "cell_type": "code",
     "collapsed": false,
     "input": [],
     "language": "python",
     "metadata": {},
     "outputs": [],
     "prompt_number": 14
    },
    {
     "cell_type": "code",
     "collapsed": false,
     "input": [],
     "language": "python",
     "metadata": {},
     "outputs": [],
     "prompt_number": 14
    },
    {
     "cell_type": "heading",
     "level": 2,
     "metadata": {},
     "source": [
      "no_ld"
     ]
    },
    {
     "cell_type": "code",
     "collapsed": false,
     "input": [
      "%%timeit\n",
      "user_snps = [\"14:69873335\", \"9:5453460\", \"7:88660988\", \"1:201688955\", \"1:181844943\", \"18:67015865\", \"6:32592119\", \"9:133472747\", \"4:63055561\", \"11:127160664\"]*100\n",
      "file_db = \"/Users/pascaltimshel/snpsnap/data/step3/1KG_snpsnap_production_v1_no_ld/ld0.5/ld0.5_db.h5\"\n",
      "store = pd.HDFStore(file_db, 'r')\n",
      "list_of_df = []\n",
      "start_time = time.time()\n",
      "for item in user_snps:\n",
      "    df = store.select('dummy', \"index=['%s']\" % item) # Remember to quote the string!\n",
      "    #print time.time()-start_time\n",
      "    list_of_df.append(df)\n",
      "store.close()\n",
      "user_snps_df = pd.concat(list_of_df)\n",
      "#print time.time()-start_time\n",
      "#print user_snps_df.head()\n",
      "#print user_snps_df.dtypes"
     ],
     "language": "python",
     "metadata": {},
     "outputs": [
      {
       "output_type": "stream",
       "stream": "stdout",
       "text": [
        "1 loops, best of 3: 2.34 s per loop\n"
       ]
      }
     ],
     "prompt_number": 9
    },
    {
     "cell_type": "code",
     "collapsed": false,
     "input": [
      "file_db = \"/Users/pascaltimshel/snpsnap/data/step3/1KG_snpsnap_production_v1_no_ld/ld0.5/ld0.5_db.h5\"\n",
      "store = pd.HDFStore(file_db, 'r')\n",
      "store.root.dummy.table"
     ],
     "language": "python",
     "metadata": {},
     "outputs": [
      {
       "metadata": {},
       "output_type": "pyout",
       "prompt_number": 16,
       "text": [
        "/dummy/table (Table(9239613,), shuffle, blosc(9)) ''\n",
        "  description := {\n",
        "  \"index\": StringCol(itemsize=12, shape=(), dflt='', pos=0),\n",
        "  \"freq_bin\": Int64Col(shape=(), dflt=0, pos=1),\n",
        "  \"gene_count\": Int64Col(shape=(), dflt=0, pos=2),\n",
        "  \"dist_nearest_gene_snpsnap\": Int64Col(shape=(), dflt=0, pos=3)}\n",
        "  byteorder := 'little'\n",
        "  chunkshape := (7281,)\n",
        "  autoindex := True\n",
        "  colindexes := {\n",
        "    \"index\": Index(6, medium, shuffle, zlib(1)).is_csi=False,\n",
        "    \"dist_nearest_gene_snpsnap\": Index(6, medium, shuffle, zlib(1)).is_csi=False,\n",
        "    \"gene_count\": Index(6, medium, shuffle, zlib(1)).is_csi=False,\n",
        "    \"freq_bin\": Index(6, medium, shuffle, zlib(1)).is_csi=False}"
       ]
      }
     ],
     "prompt_number": 16
    },
    {
     "cell_type": "code",
     "collapsed": false,
     "input": [],
     "language": "python",
     "metadata": {},
     "outputs": [],
     "prompt_number": 45
    },
    {
     "cell_type": "code",
     "collapsed": false,
     "input": [],
     "language": "python",
     "metadata": {},
     "outputs": []
    }
   ],
   "metadata": {}
  }
 ]
}