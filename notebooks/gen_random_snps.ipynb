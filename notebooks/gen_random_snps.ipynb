{
 "metadata": {
  "name": "",
  "signature": "sha256:a258a6b8d923f819034adf5ec4398027b6da3712e60a41eae280519f74303b08"
 },
 "nbformat": 3,
 "nbformat_minor": 0,
 "worksheets": [
  {
   "cells": [
    {
     "cell_type": "code",
     "collapsed": false,
     "input": [
      "import os\n",
      "import sys\n",
      "import pandas as pd\n",
      "import numpy as np\n",
      "os.getcwd()"
     ],
     "language": "python",
     "metadata": {},
     "outputs": [
      {
       "metadata": {},
       "output_type": "pyout",
       "prompt_number": 1,
       "text": [
        "'/Users/pascaltimshel/git/snpsnap/notebooks'"
       ]
      }
     ],
     "prompt_number": 1
    },
    {
     "cell_type": "code",
     "collapsed": false,
     "input": [
      "# read cvs into df\n",
      "\n",
      "tabfile = '/Users/pascaltimshel/snpsnap/data/step2/1KG_test_thin0.02_duprm/ld0.5/matchedsnps.tab'\n",
      "header_str = \"matched_rsID freq_bin snp_chr snp_position matched_gene_count matched_dist_to_nearest_gene matched_nearest_gene genes_in_matched_locus\"\n",
      "colnames=header_str.split()\n",
      "df = pd.read_csv(tabfile, names=colnames, delim_whitespace=True)\n",
      "df['chrposID'] = df.snp_chr.map(str) + \":\" + df.snp_position.map(str)\n",
      "df.set_index('chrposID', inplace=True)\n",
      "df.drop(['snp_chr', 'snp_position'], axis=1, inplace=True) # Deletes unnecessary columns\n",
      "df['freq_bin'] = df.freq_bin.str.split('-').str.get(0).apply(int) # Converting freq_bin into 'int' so we can sort later on\n",
      "df.head()"
     ],
     "language": "python",
     "metadata": {},
     "outputs": [
      {
       "html": [
        "<div style=\"max-height:1000px;max-width:1500px;overflow:auto;\">\n",
        "<table border=\"1\" class=\"dataframe\">\n",
        "  <thead>\n",
        "    <tr style=\"text-align: right;\">\n",
        "      <th></th>\n",
        "      <th>matched_rsID</th>\n",
        "      <th>freq_bin</th>\n",
        "      <th>matched_gene_count</th>\n",
        "      <th>matched_dist_to_nearest_gene</th>\n",
        "      <th>matched_nearest_gene</th>\n",
        "      <th>genes_in_matched_locus</th>\n",
        "    </tr>\n",
        "    <tr>\n",
        "      <th>chrposID</th>\n",
        "      <th></th>\n",
        "      <th></th>\n",
        "      <th></th>\n",
        "      <th></th>\n",
        "      <th></th>\n",
        "      <th></th>\n",
        "    </tr>\n",
        "  </thead>\n",
        "  <tbody>\n",
        "    <tr>\n",
        "      <th>8:67085800</th>\n",
        "      <td> rs117838274</td>\n",
        "      <td> 1</td>\n",
        "      <td> 1</td>\n",
        "      <td>  2820</td>\n",
        "      <td> ENSG00000147571</td>\n",
        "      <td>                 ENSG00000147573</td>\n",
        "    </tr>\n",
        "    <tr>\n",
        "      <th>3:38424943</th>\n",
        "      <td> rs116646648</td>\n",
        "      <td> 1</td>\n",
        "      <td> 1</td>\n",
        "      <td> 36597</td>\n",
        "      <td> ENSG00000093217</td>\n",
        "      <td>                 ENSG00000093217</td>\n",
        "    </tr>\n",
        "    <tr>\n",
        "      <th>4:20507804</th>\n",
        "      <td>  rs74417123</td>\n",
        "      <td> 1</td>\n",
        "      <td> 2</td>\n",
        "      <td> 22094</td>\n",
        "      <td> ENSG00000207732</td>\n",
        "      <td> ENSG00000145147,ENSG00000207732</td>\n",
        "    </tr>\n",
        "    <tr>\n",
        "      <th>2:150423534</th>\n",
        "      <td> rs141575115</td>\n",
        "      <td> 1</td>\n",
        "      <td> 0</td>\n",
        "      <td> 19869</td>\n",
        "      <td> ENSG00000168288</td>\n",
        "      <td>                             NaN</td>\n",
        "    </tr>\n",
        "    <tr>\n",
        "      <th>8:76665584</th>\n",
        "      <td>  rs72663517</td>\n",
        "      <td> 1</td>\n",
        "      <td> 1</td>\n",
        "      <td> 33016</td>\n",
        "      <td> ENSG00000221029</td>\n",
        "      <td>                 ENSG00000221029</td>\n",
        "    </tr>\n",
        "  </tbody>\n",
        "</table>\n",
        "<p>5 rows \u00d7 6 columns</p>\n",
        "</div>"
       ],
       "metadata": {},
       "output_type": "pyout",
       "prompt_number": 2,
       "text": [
        "            matched_rsID  freq_bin  matched_gene_count  \\\n",
        "chrposID                                                 \n",
        "8:67085800   rs117838274         1                   1   \n",
        "3:38424943   rs116646648         1                   1   \n",
        "4:20507804    rs74417123         1                   2   \n",
        "2:150423534  rs141575115         1                   0   \n",
        "8:76665584    rs72663517         1                   1   \n",
        "\n",
        "             matched_dist_to_nearest_gene matched_nearest_gene  \\\n",
        "chrposID                                                         \n",
        "8:67085800                           2820      ENSG00000147571   \n",
        "3:38424943                          36597      ENSG00000093217   \n",
        "4:20507804                          22094      ENSG00000207732   \n",
        "2:150423534                         19869      ENSG00000168288   \n",
        "8:76665584                          33016      ENSG00000221029   \n",
        "\n",
        "                      genes_in_matched_locus  \n",
        "chrposID                                      \n",
        "8:67085800                   ENSG00000147573  \n",
        "3:38424943                   ENSG00000093217  \n",
        "4:20507804   ENSG00000145147,ENSG00000207732  \n",
        "2:150423534                              NaN  \n",
        "8:76665584                   ENSG00000221029  \n",
        "\n",
        "[5 rows x 6 columns]"
       ]
      }
     ],
     "prompt_number": 2
    },
    {
     "cell_type": "code",
     "collapsed": false,
     "input": [
      "#print df[0:10]\n",
      "df_user_snp_found_index = df.ix[0:10].index\n",
      "print df_user_snp_found_index\n",
      "df.ix[df_user_snp_found_index]"
     ],
     "language": "python",
     "metadata": {},
     "outputs": [
      {
       "output_type": "stream",
       "stream": "stdout",
       "text": [
        "Index([u'8:67085800', u'3:38424943', u'4:20507804', u'2:150423534', u'8:76665584', u'20:31605067', u'8:110606752', u'10:77031653', u'1:146835651', u'16:13954597'], dtype='object')\n"
       ]
      },
      {
       "html": [
        "<div style=\"max-height:1000px;max-width:1500px;overflow:auto;\">\n",
        "<table border=\"1\" class=\"dataframe\">\n",
        "  <thead>\n",
        "    <tr style=\"text-align: right;\">\n",
        "      <th></th>\n",
        "      <th>matched_rsID</th>\n",
        "      <th>freq_bin</th>\n",
        "      <th>matched_gene_count</th>\n",
        "      <th>matched_dist_to_nearest_gene</th>\n",
        "      <th>matched_nearest_gene</th>\n",
        "      <th>genes_in_matched_locus</th>\n",
        "    </tr>\n",
        "    <tr>\n",
        "      <th>chrposID</th>\n",
        "      <th></th>\n",
        "      <th></th>\n",
        "      <th></th>\n",
        "      <th></th>\n",
        "      <th></th>\n",
        "      <th></th>\n",
        "    </tr>\n",
        "  </thead>\n",
        "  <tbody>\n",
        "    <tr>\n",
        "      <th>8:67085800</th>\n",
        "      <td> rs117838274</td>\n",
        "      <td> 1</td>\n",
        "      <td>  1</td>\n",
        "      <td>  2820</td>\n",
        "      <td> ENSG00000147571</td>\n",
        "      <td>                                   ENSG00000147573</td>\n",
        "    </tr>\n",
        "    <tr>\n",
        "      <th>3:38424943</th>\n",
        "      <td> rs116646648</td>\n",
        "      <td> 1</td>\n",
        "      <td>  1</td>\n",
        "      <td> 36597</td>\n",
        "      <td> ENSG00000093217</td>\n",
        "      <td>                                   ENSG00000093217</td>\n",
        "    </tr>\n",
        "    <tr>\n",
        "      <th>4:20507804</th>\n",
        "      <td>  rs74417123</td>\n",
        "      <td> 1</td>\n",
        "      <td>  2</td>\n",
        "      <td> 22094</td>\n",
        "      <td> ENSG00000207732</td>\n",
        "      <td>                   ENSG00000145147,ENSG00000207732</td>\n",
        "    </tr>\n",
        "    <tr>\n",
        "      <th>2:150423534</th>\n",
        "      <td> rs141575115</td>\n",
        "      <td> 1</td>\n",
        "      <td>  0</td>\n",
        "      <td> 19869</td>\n",
        "      <td> ENSG00000168288</td>\n",
        "      <td>                                               NaN</td>\n",
        "    </tr>\n",
        "    <tr>\n",
        "      <th>8:76665584</th>\n",
        "      <td>  rs72663517</td>\n",
        "      <td> 1</td>\n",
        "      <td>  1</td>\n",
        "      <td> 33016</td>\n",
        "      <td> ENSG00000221029</td>\n",
        "      <td>                                   ENSG00000221029</td>\n",
        "    </tr>\n",
        "    <tr>\n",
        "      <th>20:31605067</th>\n",
        "      <td>  rs17124001</td>\n",
        "      <td> 1</td>\n",
        "      <td>  1</td>\n",
        "      <td>  9661</td>\n",
        "      <td> ENSG00000078898</td>\n",
        "      <td>                                   ENSG00000078898</td>\n",
        "    </tr>\n",
        "    <tr>\n",
        "      <th>8:110606752</th>\n",
        "      <td> rs113602407</td>\n",
        "      <td> 1</td>\n",
        "      <td>  2</td>\n",
        "      <td>  1720</td>\n",
        "      <td> ENSG00000252559</td>\n",
        "      <td>                   ENSG00000147642,ENSG00000147654</td>\n",
        "    </tr>\n",
        "    <tr>\n",
        "      <th>10:77031653</th>\n",
        "      <td>  rs75482812</td>\n",
        "      <td> 1</td>\n",
        "      <td>  0</td>\n",
        "      <td>  2503</td>\n",
        "      <td> ENSG00000227271</td>\n",
        "      <td>                                               NaN</td>\n",
        "    </tr>\n",
        "    <tr>\n",
        "      <th>1:146835651</th>\n",
        "      <td> rs142962780</td>\n",
        "      <td> 1</td>\n",
        "      <td> 13</td>\n",
        "      <td> 44823</td>\n",
        "      <td> ENSG00000213226</td>\n",
        "      <td> ENSG00000213226,ENSG00000236806,ENSG0000018086...</td>\n",
        "    </tr>\n",
        "    <tr>\n",
        "      <th>16:13954597</th>\n",
        "      <td>   rs2006860</td>\n",
        "      <td> 1</td>\n",
        "      <td>  0</td>\n",
        "      <td> 59417</td>\n",
        "      <td> ENSG00000175595</td>\n",
        "      <td>                                               NaN</td>\n",
        "    </tr>\n",
        "  </tbody>\n",
        "</table>\n",
        "<p>10 rows \u00d7 6 columns</p>\n",
        "</div>"
       ],
       "metadata": {},
       "output_type": "pyout",
       "prompt_number": 11,
       "text": [
        "            matched_rsID  freq_bin  matched_gene_count  \\\n",
        "chrposID                                                 \n",
        "8:67085800   rs117838274         1                   1   \n",
        "3:38424943   rs116646648         1                   1   \n",
        "4:20507804    rs74417123         1                   2   \n",
        "2:150423534  rs141575115         1                   0   \n",
        "8:76665584    rs72663517         1                   1   \n",
        "20:31605067   rs17124001         1                   1   \n",
        "8:110606752  rs113602407         1                   2   \n",
        "10:77031653   rs75482812         1                   0   \n",
        "1:146835651  rs142962780         1                  13   \n",
        "16:13954597    rs2006860         1                   0   \n",
        "\n",
        "             matched_dist_to_nearest_gene matched_nearest_gene  \\\n",
        "chrposID                                                         \n",
        "8:67085800                           2820      ENSG00000147571   \n",
        "3:38424943                          36597      ENSG00000093217   \n",
        "4:20507804                          22094      ENSG00000207732   \n",
        "2:150423534                         19869      ENSG00000168288   \n",
        "8:76665584                          33016      ENSG00000221029   \n",
        "20:31605067                          9661      ENSG00000078898   \n",
        "8:110606752                          1720      ENSG00000252559   \n",
        "10:77031653                          2503      ENSG00000227271   \n",
        "1:146835651                         44823      ENSG00000213226   \n",
        "16:13954597                         59417      ENSG00000175595   \n",
        "\n",
        "                                        genes_in_matched_locus  \n",
        "chrposID                                                        \n",
        "8:67085800                                     ENSG00000147573  \n",
        "3:38424943                                     ENSG00000093217  \n",
        "4:20507804                     ENSG00000145147,ENSG00000207732  \n",
        "2:150423534                                                NaN  \n",
        "8:76665584                                     ENSG00000221029  \n",
        "20:31605067                                    ENSG00000078898  \n",
        "8:110606752                    ENSG00000147642,ENSG00000147654  \n",
        "10:77031653                                                NaN  \n",
        "1:146835651  ENSG00000213226,ENSG00000236806,ENSG0000018086...  \n",
        "16:13954597                                                NaN  \n",
        "\n",
        "[10 rows x 6 columns]"
       ]
      }
     ],
     "prompt_number": 11
    },
    {
     "cell_type": "code",
     "collapsed": false,
     "input": [
      "## Generate random SNPs\n",
      "#\n",
      "n_sample = 500\n",
      "np.random.seed(1)\n",
      "#type(df.index.values) #==>numpy.ndarray\n",
      "rand_idx = np.random.choice(df.index.values, size=n_sample, replace=False, p=None) # sample uniformly\n",
      "df_rand_samp = df.ix[rand_idx] # new data frame\n",
      "\n",
      "\n",
      "\n",
      "string_list = \"\\n\".join(df_rand_samp.index.values)\n",
      "filename = \"/Users/pascaltimshel/git/snpsnap/samples/sample_%drandSNPs.list\" % n_sample\n",
      "with open(filename, 'w') as f:\n",
      "    f.write(string_list)\n",
      "#df_rand_samp.head(n_sample)\n",
      "\n"
     ],
     "language": "python",
     "metadata": {},
     "outputs": [],
     "prompt_number": 8
    },
    {
     "cell_type": "code",
     "collapsed": false,
     "input": [
      "type(df.index.values)"
     ],
     "language": "python",
     "metadata": {},
     "outputs": [
      {
       "metadata": {},
       "output_type": "pyout",
       "prompt_number": 10,
       "text": [
        "numpy.ndarray"
       ]
      }
     ],
     "prompt_number": 10
    },
    {
     "cell_type": "code",
     "collapsed": false,
     "input": [
      "df.ix[0].duplicated()"
     ],
     "language": "python",
     "metadata": {},
     "outputs": [
      {
       "ename": "AttributeError",
       "evalue": "'Index' object has no attribute 'duplicated'",
       "output_type": "pyerr",
       "traceback": [
        "\u001b[0;31m---------------------------------------------------------------------------\u001b[0m\n\u001b[0;31mAttributeError\u001b[0m                            Traceback (most recent call last)",
        "\u001b[0;32m<ipython-input-11-3480e37d939f>\u001b[0m in \u001b[0;36m<module>\u001b[0;34m()\u001b[0m\n\u001b[0;32m----> 1\u001b[0;31m \u001b[0mdf\u001b[0m\u001b[0;34m.\u001b[0m\u001b[0mindex\u001b[0m\u001b[0;34m.\u001b[0m\u001b[0mduplicated\u001b[0m\u001b[0;34m(\u001b[0m\u001b[0;34m)\u001b[0m\u001b[0;34m\u001b[0m\u001b[0m\n\u001b[0m",
        "\u001b[0;31mAttributeError\u001b[0m: 'Index' object has no attribute 'duplicated'"
       ]
      }
     ],
     "prompt_number": 11
    },
    {
     "cell_type": "code",
     "collapsed": false,
     "input": [
      "dup = pd.Series(df.index).duplicated().values"
     ],
     "language": "python",
     "metadata": {},
     "outputs": [],
     "prompt_number": 20
    },
    {
     "cell_type": "code",
     "collapsed": false,
     "input": [
      "print len(dup)\n",
      "print len(df)\n",
      "#df.ix[dup]"
     ],
     "language": "python",
     "metadata": {},
     "outputs": [
      {
       "output_type": "stream",
       "stream": "stdout",
       "text": [
        "185433\n",
        "185433\n"
       ]
      }
     ],
     "prompt_number": 21
    },
    {
     "cell_type": "code",
     "collapsed": false,
     "input": [
      "type(dup)\n",
      "dup"
     ],
     "language": "python",
     "metadata": {},
     "outputs": [
      {
       "metadata": {},
       "output_type": "pyout",
       "prompt_number": 24,
       "text": [
        "array([False, False, False, ..., False, False, False], dtype=bool)"
       ]
      }
     ],
     "prompt_number": 24
    },
    {
     "cell_type": "code",
     "collapsed": false,
     "input": [
      "# Create the dataframe\n",
      "df = pd.DataFrame(columns=(\"Trial\",\"Generation\",\"Max_Fitness\",\"Avg_Fitness\",\"Fitness_SEM\",\"Upp_CI\",\"Low_CI\"))\n",
      "# Create a test piece of data\n",
      "data = {\"Trial\":1,\"Generation\":1,\"Max_Fitness\":10,\"Avg_Fitness\":5,\"Fitness_SEM\":.25,\"Upp_CI\":5.25,\"Low_CI\":4.25}\n",
      "# Append to the dataframe\n",
      "df = df.append(data, ignore_index=True)\n",
      " \n",
      "# Print the result\n",
      "df"
     ],
     "language": "python",
     "metadata": {},
     "outputs": [
      {
       "html": [
        "<div style=\"max-height:1000px;max-width:1500px;overflow:auto;\">\n",
        "<table border=\"1\" class=\"dataframe\">\n",
        "  <thead>\n",
        "    <tr style=\"text-align: right;\">\n",
        "      <th></th>\n",
        "      <th>Trial</th>\n",
        "      <th>Generation</th>\n",
        "      <th>Max_Fitness</th>\n",
        "      <th>Avg_Fitness</th>\n",
        "      <th>Fitness_SEM</th>\n",
        "      <th>Upp_CI</th>\n",
        "      <th>Low_CI</th>\n",
        "    </tr>\n",
        "  </thead>\n",
        "  <tbody>\n",
        "    <tr>\n",
        "      <th>0</th>\n",
        "      <td> 1</td>\n",
        "      <td> 1</td>\n",
        "      <td> 10</td>\n",
        "      <td> 5</td>\n",
        "      <td> 0.25</td>\n",
        "      <td> 5.25</td>\n",
        "      <td> 4.25</td>\n",
        "    </tr>\n",
        "  </tbody>\n",
        "</table>\n",
        "<p>1 rows \u00d7 7 columns</p>\n",
        "</div>"
       ],
       "metadata": {},
       "output_type": "pyout",
       "prompt_number": 30,
       "text": [
        "  Trial Generation Max_Fitness Avg_Fitness Fitness_SEM Upp_CI Low_CI\n",
        "0     1          1          10           5        0.25   5.25   4.25\n",
        "\n",
        "[1 rows x 7 columns]"
       ]
      }
     ],
     "prompt_number": 30
    },
    {
     "cell_type": "code",
     "collapsed": false,
     "input": [
      "# Create the dataframe\n",
      "df = pd.DataFrame(columns=(\"Trial\",\"Generation\",\"Max_Fitness\",\"Avg_Fitness\",\"Fitness_SEM\",\"Upp_CI\",\"Low_CI\"))\n",
      " \n",
      "# Create a test piece of data\n",
      "data = {\"Trial\":1,\"Generation\":1,\"Max_Fitness\":10,\"Avg_Fitness\":5,\"Fitness_SEM\":.25,\"Upp_CI\":5.25,\"Low_CI\":4.25}\n",
      " \n",
      "# Append to the dataframe\n",
      "df = df.append(data, ignore_index=False)\n",
      " \n",
      "# Print the result\n",
      "df"
     ],
     "language": "python",
     "metadata": {},
     "outputs": [
      {
       "ename": "TypeError",
       "evalue": "Can only append a Series if ignore_index=True",
       "output_type": "pyerr",
       "traceback": [
        "\u001b[0;31m---------------------------------------------------------------------------\u001b[0m\n\u001b[0;31mTypeError\u001b[0m                                 Traceback (most recent call last)",
        "\u001b[0;32m<ipython-input-28-e694a57b2591>\u001b[0m in \u001b[0;36m<module>\u001b[0;34m()\u001b[0m\n\u001b[1;32m      6\u001b[0m \u001b[0;34m\u001b[0m\u001b[0m\n\u001b[1;32m      7\u001b[0m \u001b[0;31m# Append to the dataframe\u001b[0m\u001b[0;34m\u001b[0m\u001b[0;34m\u001b[0m\u001b[0m\n\u001b[0;32m----> 8\u001b[0;31m \u001b[0mdf\u001b[0m \u001b[0;34m=\u001b[0m \u001b[0mdf\u001b[0m\u001b[0;34m.\u001b[0m\u001b[0mappend\u001b[0m\u001b[0;34m(\u001b[0m\u001b[0mdata\u001b[0m\u001b[0;34m,\u001b[0m \u001b[0mignore_index\u001b[0m\u001b[0;34m=\u001b[0m\u001b[0mFalse\u001b[0m\u001b[0;34m)\u001b[0m\u001b[0;34m\u001b[0m\u001b[0m\n\u001b[0m\u001b[1;32m      9\u001b[0m \u001b[0;34m\u001b[0m\u001b[0m\n\u001b[1;32m     10\u001b[0m \u001b[0;31m# Print the result\u001b[0m\u001b[0;34m\u001b[0m\u001b[0;34m\u001b[0m\u001b[0m\n",
        "\u001b[0;32m/usr/local/lib/python2.7/site-packages/pandas/core/frame.pyc\u001b[0m in \u001b[0;36mappend\u001b[0;34m(self, other, ignore_index, verify_integrity)\u001b[0m\n\u001b[1;32m   3510\u001b[0m                 \u001b[0mother\u001b[0m \u001b[0;34m=\u001b[0m \u001b[0mSeries\u001b[0m\u001b[0;34m(\u001b[0m\u001b[0mother\u001b[0m\u001b[0;34m)\u001b[0m\u001b[0;34m\u001b[0m\u001b[0m\n\u001b[1;32m   3511\u001b[0m             \u001b[0;32mif\u001b[0m \u001b[0mother\u001b[0m\u001b[0;34m.\u001b[0m\u001b[0mname\u001b[0m \u001b[0;32mis\u001b[0m \u001b[0mNone\u001b[0m \u001b[0;32mand\u001b[0m \u001b[0;32mnot\u001b[0m \u001b[0mignore_index\u001b[0m\u001b[0;34m:\u001b[0m\u001b[0;34m\u001b[0m\u001b[0m\n\u001b[0;32m-> 3512\u001b[0;31m                 raise TypeError('Can only append a Series if '\n\u001b[0m\u001b[1;32m   3513\u001b[0m                                 'ignore_index=True')\n\u001b[1;32m   3514\u001b[0m \u001b[0;34m\u001b[0m\u001b[0m\n",
        "\u001b[0;31mTypeError\u001b[0m: Can only append a Series if ignore_index=True"
       ]
      }
     ],
     "prompt_number": 28
    },
    {
     "cell_type": "code",
     "collapsed": false,
     "input": [],
     "language": "python",
     "metadata": {},
     "outputs": [],
     "prompt_number": 24
    },
    {
     "cell_type": "code",
     "collapsed": false,
     "input": [],
     "language": "python",
     "metadata": {},
     "outputs": [],
     "prompt_number": 24
    },
    {
     "cell_type": "code",
     "collapsed": false,
     "input": [],
     "language": "python",
     "metadata": {},
     "outputs": [],
     "prompt_number": 24
    },
    {
     "cell_type": "code",
     "collapsed": false,
     "input": [],
     "language": "python",
     "metadata": {},
     "outputs": [],
     "prompt_number": 24
    },
    {
     "cell_type": "code",
     "collapsed": false,
     "input": [
      "# Setting freq_bin\n",
      "ldfile =  \"ong_path/freq10-2-part0-10000.ld\"\n",
      "filename_ld = os.path.basename(ldfile) # gives e.g. freq1-2-part0-10000.ld\n",
      "freq_bin = '??'\n",
      "if 'freq' in filename_ld:\n",
      "\ttmp1 = filename_ld.split('freq')[1] # gives e.g. 1-2-part0-10000.ld\n",
      "\tfreq_bin = tmp1.split('-')[0] # gives e.g. 1\n",
      "else:\n",
      "\tprint \"Warning: unknow ldfile name format. Cannot set freq_bin. Check source code\"\n"
     ],
     "language": "python",
     "metadata": {},
     "outputs": [],
     "prompt_number": 33
    },
    {
     "cell_type": "code",
     "collapsed": false,
     "input": [
      "freq_bin"
     ],
     "language": "python",
     "metadata": {},
     "outputs": [
      {
       "metadata": {},
       "output_type": "pyout",
       "prompt_number": 34,
       "text": [
        "'10'"
       ]
      }
     ],
     "prompt_number": 34
    },
    {
     "cell_type": "code",
     "collapsed": false,
     "input": [],
     "language": "python",
     "metadata": {},
     "outputs": [],
     "prompt_number": 24
    },
    {
     "cell_type": "code",
     "collapsed": false,
     "input": [],
     "language": "python",
     "metadata": {},
     "outputs": []
    }
   ],
   "metadata": {}
  }
 ]
}