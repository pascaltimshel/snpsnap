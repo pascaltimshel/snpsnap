{
 "metadata": {
  "name": "",
  "signature": "sha256:ac98e69ba619803185cd188d016da9f749f3ab3eb44d69044963b93f1afa85d0"
 },
 "nbformat": 3,
 "nbformat_minor": 0,
 "worksheets": [
  {
   "cells": [
    {
     "cell_type": "code",
     "collapsed": false,
     "input": [
      "import os\n",
      "import sys\n",
      "import pandas as pd\n",
      "import numpy as np\n",
      "import time\n",
      "import gzip\n",
      "import zlib\n",
      "os.getcwd()"
     ],
     "language": "python",
     "metadata": {},
     "outputs": [
      {
       "metadata": {},
       "output_type": "pyout",
       "prompt_number": 3,
       "text": [
        "'/Users/pascaltimshel/git/snpsnap/notebooks'"
       ]
      }
     ],
     "prompt_number": 3
    },
    {
     "cell_type": "heading",
     "level": 1,
     "metadata": {},
     "source": [
      "Original HDF5"
     ]
    },
    {
     "cell_type": "heading",
     "level": 2,
     "metadata": {},
     "source": [
      "1. Reading from store"
     ]
    },
    {
     "cell_type": "code",
     "collapsed": false,
     "input": [
      "file_db = \"/Users/pascaltimshel/snpsnap/data/step3/ld0.5/ld0.5_db.h5\""
     ],
     "language": "python",
     "metadata": {},
     "outputs": [],
     "prompt_number": 24
    },
    {
     "cell_type": "code",
     "collapsed": false,
     "input": [
      "start_time = time.time()\n",
      "store = pd.HDFStore(file_db, 'r')\n",
      "dataframe_orig = store.select('dummy') # read data frame\n",
      "store.close()\n",
      "elapsed_time = time.time()-start_time\n",
      "print \"time taken: %s\" % elapsed_time"
     ],
     "language": "python",
     "metadata": {},
     "outputs": [
      {
       "output_type": "stream",
       "stream": "stdout",
       "text": [
        "time taken: 5.34850406647\n"
       ]
      }
     ],
     "prompt_number": 25
    },
    {
     "cell_type": "code",
     "collapsed": false,
     "input": [
      "dataframe_orig.head(2)"
     ],
     "language": "python",
     "metadata": {},
     "outputs": [
      {
       "html": [
        "<div style=\"max-height:1000px;max-width:1500px;overflow:auto;\">\n",
        "<table border=\"1\" class=\"dataframe\">\n",
        "  <thead>\n",
        "    <tr style=\"text-align: right;\">\n",
        "      <th></th>\n",
        "      <th>rsID</th>\n",
        "      <th>freq_bin</th>\n",
        "      <th>gene_count</th>\n",
        "      <th>dist_nearest_gene</th>\n",
        "    </tr>\n",
        "    <tr>\n",
        "      <th>snpID</th>\n",
        "      <th></th>\n",
        "      <th></th>\n",
        "      <th></th>\n",
        "      <th></th>\n",
        "    </tr>\n",
        "  </thead>\n",
        "  <tbody>\n",
        "    <tr>\n",
        "      <th>7:152288872</th>\n",
        "      <td> rs116944133</td>\n",
        "      <td> 1</td>\n",
        "      <td> 5</td>\n",
        "      <td>  1146</td>\n",
        "    </tr>\n",
        "    <tr>\n",
        "      <th>8:141975135</th>\n",
        "      <td> rs145218714</td>\n",
        "      <td> 1</td>\n",
        "      <td> 2</td>\n",
        "      <td> 24474</td>\n",
        "    </tr>\n",
        "  </tbody>\n",
        "</table>\n",
        "<p>2 rows \u00d7 4 columns</p>\n",
        "</div>"
       ],
       "metadata": {},
       "output_type": "pyout",
       "prompt_number": 28,
       "text": [
        "                    rsID  freq_bin  gene_count  dist_nearest_gene\n",
        "snpID                                                            \n",
        "7:152288872  rs116944133         1           5               1146\n",
        "8:141975135  rs145218714         1           2              24474\n",
        "\n",
        "[2 rows x 4 columns]"
       ]
      }
     ],
     "prompt_number": 28
    },
    {
     "cell_type": "heading",
     "level": 2,
     "metadata": {},
     "source": [
      "1.b Modifying the data frame"
     ]
    },
    {
     "cell_type": "code",
     "collapsed": false,
     "input": [
      "dataframe = dataframe_orig.drop('rsID', axis=1) # remove rsID col.\n",
      "dataframe.columns"
     ],
     "language": "python",
     "metadata": {},
     "outputs": [
      {
       "metadata": {},
       "output_type": "pyout",
       "prompt_number": 31,
       "text": [
        "Index([u'freq_bin', u'gene_count', u'dist_nearest_gene'], dtype='object')"
       ]
      }
     ],
     "prompt_number": 31
    },
    {
     "cell_type": "code",
     "collapsed": false,
     "input": [
      "dataframe.columns = ['freq_bin', 'gene_count', 'dist_nearest_gene_snpsnap'] # changing dist col to a longer name \n",
      "dataframe.head(2)"
     ],
     "language": "python",
     "metadata": {},
     "outputs": [
      {
       "html": [
        "<div style=\"max-height:1000px;max-width:1500px;overflow:auto;\">\n",
        "<table border=\"1\" class=\"dataframe\">\n",
        "  <thead>\n",
        "    <tr style=\"text-align: right;\">\n",
        "      <th></th>\n",
        "      <th>freq_bin</th>\n",
        "      <th>gene_count</th>\n",
        "      <th>dist_nearest_gene_snpsnap</th>\n",
        "    </tr>\n",
        "    <tr>\n",
        "      <th>snpID</th>\n",
        "      <th></th>\n",
        "      <th></th>\n",
        "      <th></th>\n",
        "    </tr>\n",
        "  </thead>\n",
        "  <tbody>\n",
        "    <tr>\n",
        "      <th>7:152288872</th>\n",
        "      <td> 1</td>\n",
        "      <td> 5</td>\n",
        "      <td>  1146</td>\n",
        "    </tr>\n",
        "    <tr>\n",
        "      <th>8:141975135</th>\n",
        "      <td> 1</td>\n",
        "      <td> 2</td>\n",
        "      <td> 24474</td>\n",
        "    </tr>\n",
        "  </tbody>\n",
        "</table>\n",
        "<p>2 rows \u00d7 3 columns</p>\n",
        "</div>"
       ],
       "metadata": {},
       "output_type": "pyout",
       "prompt_number": 33,
       "text": [
        "             freq_bin  gene_count  dist_nearest_gene_snpsnap\n",
        "snpID                                                       \n",
        "7:152288872         1           5                       1146\n",
        "8:141975135         1           2                      24474\n",
        "\n",
        "[2 rows x 3 columns]"
       ]
      }
     ],
     "prompt_number": 33
    },
    {
     "cell_type": "heading",
     "level": 2,
     "metadata": {},
     "source": [
      "2. Writing DF to store"
     ]
    },
    {
     "cell_type": "code",
     "collapsed": false,
     "input": [],
     "language": "python",
     "metadata": {},
     "outputs": []
    },
    {
     "cell_type": "code",
     "collapsed": false,
     "input": [
      "# will write to CWD\n",
      "#file_hdf5_no_comp = \"ld0.5_ORIGINAL_db_no_comp.h5\"\n",
      "#file_hdf5_blosc9 = \"ld0.5_ORIGINAL_db_blosc9.h5\"\n",
      "\n",
      "#file_hdf5_no_comp = \"ld0.5_ORIGINAL_mod_db_no_comp.h5\"\n",
      "file_hdf5_blosc9 = \"ld0.5_ORIGINAL_mod_db_blosc9.h5\""
     ],
     "language": "python",
     "metadata": {},
     "outputs": [],
     "prompt_number": 34
    },
    {
     "cell_type": "code",
     "collapsed": false,
     "input": [
      "file_hdf5 = file_hdf5_blosc9 # SWITCH\n",
      "print \"file is %s\" % file_hdf5\n",
      "\n",
      "store_w = pd.HDFStore(file_hdf5, 'w', complevel=9, complib='blosc') # blosc9\n",
      "#store_w = pd.HDFStore(file_hdf5, 'w', complevel=9, complib='zlib') # zlib9\n",
      "#store_w = pd.HDFStore(file_hdf5, 'w', complevel=1, complib='zlib') # zlib1\n",
      "#store_w = pd.HDFStore(file_hdf5, 'w', complevel=1, complib='lzo') # lzo1\n",
      "#store_w = pd.HDFStore(file_hdf5, 'w') # NO COMPRESSION\n",
      "\n",
      "start_time = time.time()\n",
      "print \"START: Writing to HDF5 file: %s\" % file_hdf5\n",
      "store_w.put('dummy', dataframe, format='table', append=False, data_columns=True)\n",
      "store_w.close()\n",
      "elapsed_time = time.time() - start_time\n",
      "print \"END: Elapsed_time of writing file: %.3f s (%.2f min)\" % (elapsed_time, elapsed_time/60)\n",
      "file_hdf5_size = os.path.getsize(file_hdf5)\n",
      "print \"Size of HDF5 file: %s bytes (%.1f MB)\" % (file_hdf5_size, file_hdf5_size/(1024*1024.0))"
     ],
     "language": "python",
     "metadata": {},
     "outputs": [
      {
       "output_type": "stream",
       "stream": "stdout",
       "text": [
        "file is ld0.5_ORIGINAL_mod_db_blosc9.h5\n",
        "START: Writing to HDF5 file: ld0.5_ORIGINAL_mod_db_blosc9.h5\n",
        "END: Elapsed_time of writing file: 36.323 s (0.61 min)"
       ]
      },
      {
       "output_type": "stream",
       "stream": "stdout",
       "text": [
        "\n",
        "Size of HDF5 file: 187440960 bytes (178.8 MB)\n"
       ]
      }
     ],
     "prompt_number": 35
    },
    {
     "cell_type": "code",
     "collapsed": false,
     "input": [],
     "language": "python",
     "metadata": {},
     "outputs": [],
     "prompt_number": 5
    },
    {
     "cell_type": "heading",
     "level": 2,
     "metadata": {},
     "source": [
      "3. Look at the internal stats of the HDF5"
     ]
    },
    {
     "cell_type": "code",
     "collapsed": false,
     "input": [],
     "language": "python",
     "metadata": {},
     "outputs": [],
     "prompt_number": 13
    },
    {
     "cell_type": "heading",
     "level": 2,
     "metadata": {},
     "source": [
      "4. Test query time of OSX written HDF5 file"
     ]
    },
    {
     "cell_type": "code",
     "collapsed": false,
     "input": [
      "#file_db = \"ld0.5_ORIGINAL_db_no_comp.h5\"\n",
      "#file_db = \"ld0.5_ORIGINAL_db_blosc9.h5\"\n",
      "\n",
      "#file_db = \"ld0.5_ORIGINAL_mod_db_no_comp.h5\"\n",
      "file_db = \"ld0.5_ORIGINAL_mod_db_blosc9.h5\""
     ],
     "language": "python",
     "metadata": {},
     "outputs": [],
     "prompt_number": 36
    },
    {
     "cell_type": "code",
     "collapsed": false,
     "input": [
      "user_snps = [\"14:69873335\", \"9:5453460\", \"7:88660988\", \"1:201688955\", \"1:181844943\", \"18:67015865\", \"6:32592119\", \"9:133472747\", \"4:63055561\", \"11:127160664\"]*100\n",
      "store = pd.HDFStore(file_db, 'r')\n",
      "list_of_df = []\n",
      "start_time = time.time()\n",
      "for item in user_snps:\n",
      "    print \"selection for snpID: %s\" % item\n",
      "    query_freq = '(freq_bin >= 5 & freq_bin <= 10)'\n",
      "    query_gene_count = '(gene_count >= 5 & gene_count <= 30)'\n",
      "    #query_dist = '(dist_nearest_gene  >= 200 & dist_nearest_gene  <= 2000)' #for UNMODIFIED\n",
      "    query_dist = '(dist_nearest_gene_snpsnap  >= 200 & dist_nearest_gene_snpsnap  <= 2000)' #for MODIFIED\n",
      "\n",
      "    query = \"%s & %s & %s\" % (query_freq, query_gene_count, query_dist) # WITHOUT query_ld_buddy_count\n",
      "    \n",
      "    start_time = time.time()\n",
      "    #match_ID = store.select('dummy', query, columns=[]) # return no columns --> only index \n",
      "    match_ID = store.select('dummy', query) # return FULL DF\n",
      "    elapsed_time = time.time() - start_time\n",
      "    print \"found %s matching SNPs\" % len(match_ID)\n",
      "    print \"time elapsed: %s\" % elapsed_time \n",
      "store.close()\n",
      "user_snps_df = pd.concat(list_of_df)"
     ],
     "language": "python",
     "metadata": {},
     "outputs": [
      {
       "output_type": "stream",
       "stream": "stdout",
       "text": [
        "selection for snpID: 14:69873335\n",
        "found 164491 matching SNPs"
       ]
      },
      {
       "output_type": "stream",
       "stream": "stdout",
       "text": [
        "\n",
        "time elapsed: 0.816192150116\n",
        "selection for snpID: 9:5453460\n",
        "found 164491 matching SNPs"
       ]
      },
      {
       "output_type": "stream",
       "stream": "stdout",
       "text": [
        "\n",
        "time elapsed: 0.80042886734\n",
        "selection for snpID: 7:88660988\n",
        "found 164491 matching SNPs"
       ]
      },
      {
       "output_type": "stream",
       "stream": "stdout",
       "text": [
        "\n",
        "time elapsed: 0.815894842148\n",
        "selection for snpID: 1:201688955\n",
        "found 164491 matching SNPs"
       ]
      },
      {
       "output_type": "stream",
       "stream": "stdout",
       "text": [
        "\n",
        "time elapsed: 0.82090306282\n",
        "selection for snpID: 1:181844943\n",
        "found 164491 matching SNPs"
       ]
      },
      {
       "output_type": "stream",
       "stream": "stdout",
       "text": [
        "\n",
        "time elapsed: 0.809310913086\n",
        "selection for snpID: 18:67015865\n",
        "found 164491 matching SNPs"
       ]
      },
      {
       "output_type": "stream",
       "stream": "stdout",
       "text": [
        "\n",
        "time elapsed: 0.765785932541\n",
        "selection for snpID: 6:32592119\n",
        "found 164491 matching SNPs"
       ]
      },
      {
       "output_type": "stream",
       "stream": "stdout",
       "text": [
        "\n",
        "time elapsed: 0.796098947525\n",
        "selection for snpID: 9:133472747\n",
        "found 164491 matching SNPs"
       ]
      },
      {
       "output_type": "stream",
       "stream": "stdout",
       "text": [
        "\n",
        "time elapsed: 0.811746120453\n",
        "selection for snpID: 4:63055561\n",
        "found 164491 matching SNPs"
       ]
      },
      {
       "output_type": "stream",
       "stream": "stdout",
       "text": [
        "\n",
        "time elapsed: 0.792728185654\n",
        "selection for snpID: 11:127160664\n",
        "found 164491 matching SNPs"
       ]
      },
      {
       "output_type": "stream",
       "stream": "stdout",
       "text": [
        "\n",
        "time elapsed: 0.774403810501\n",
        "selection for snpID: 14:69873335\n",
        "found 164491 matching SNPs"
       ]
      },
      {
       "output_type": "stream",
       "stream": "stdout",
       "text": [
        "\n",
        "time elapsed: 0.767582178116\n",
        "selection for snpID: 9:5453460\n",
        "found 164491 matching SNPs"
       ]
      },
      {
       "output_type": "stream",
       "stream": "stdout",
       "text": [
        "\n",
        "time elapsed: 0.766935110092\n",
        "selection for snpID: 7:88660988\n",
        "found 164491 matching SNPs"
       ]
      },
      {
       "output_type": "stream",
       "stream": "stdout",
       "text": [
        "\n",
        "time elapsed: 0.773638963699\n",
        "selection for snpID: 1:201688955\n",
        "found 164491 matching SNPs"
       ]
      },
      {
       "output_type": "stream",
       "stream": "stdout",
       "text": [
        "\n",
        "time elapsed: 0.770687103271\n",
        "selection for snpID: 1:181844943\n",
        "found 164491 matching SNPs"
       ]
      },
      {
       "output_type": "stream",
       "stream": "stdout",
       "text": [
        "\n",
        "time elapsed: 0.766919136047\n",
        "selection for snpID: 18:67015865\n",
        "found 164491 matching SNPs"
       ]
      },
      {
       "output_type": "stream",
       "stream": "stdout",
       "text": [
        "\n",
        "time elapsed: 0.792622804642\n",
        "selection for snpID: 6:32592119\n",
        "found 164491 matching SNPs"
       ]
      },
      {
       "output_type": "stream",
       "stream": "stdout",
       "text": [
        "\n",
        "time elapsed: 0.772015094757\n",
        "selection for snpID: 9:133472747\n",
        "found 164491 matching SNPs"
       ]
      },
      {
       "output_type": "stream",
       "stream": "stdout",
       "text": [
        "\n",
        "time elapsed: 0.843657016754\n",
        "selection for snpID: 4:63055561\n",
        "found 164491 matching SNPs"
       ]
      },
      {
       "output_type": "stream",
       "stream": "stdout",
       "text": [
        "\n",
        "time elapsed: 0.796003103256\n",
        "selection for snpID: 11:127160664\n",
        "found 164491 matching SNPs"
       ]
      },
      {
       "output_type": "stream",
       "stream": "stdout",
       "text": [
        "\n",
        "time elapsed: 0.773069858551\n",
        "selection for snpID: 14:69873335\n",
        "found 164491 matching SNPs"
       ]
      },
      {
       "output_type": "stream",
       "stream": "stdout",
       "text": [
        "\n",
        "time elapsed: 0.780937194824\n",
        "selection for snpID: 9:5453460\n",
        "found 164491 matching SNPs"
       ]
      },
      {
       "output_type": "stream",
       "stream": "stdout",
       "text": [
        "\n",
        "time elapsed: 0.774847984314\n",
        "selection for snpID: 7:88660988\n",
        "found 164491 matching SNPs"
       ]
      },
      {
       "output_type": "stream",
       "stream": "stdout",
       "text": [
        "\n",
        "time elapsed: 0.787602901459\n",
        "selection for snpID: 1:201688955\n",
        "found 164491 matching SNPs"
       ]
      },
      {
       "output_type": "stream",
       "stream": "stdout",
       "text": [
        "\n",
        "time elapsed: 0.780591011047\n",
        "selection for snpID: 1:181844943\n",
        "found 164491 matching SNPs"
       ]
      },
      {
       "output_type": "stream",
       "stream": "stdout",
       "text": [
        "\n",
        "time elapsed: 0.791728973389\n",
        "selection for snpID: 18:67015865\n",
        "found 164491 matching SNPs"
       ]
      },
      {
       "output_type": "stream",
       "stream": "stdout",
       "text": [
        "\n",
        "time elapsed: 0.811010837555\n",
        "selection for snpID: 6:32592119\n",
        "found 164491 matching SNPs"
       ]
      },
      {
       "output_type": "stream",
       "stream": "stdout",
       "text": [
        "\n",
        "time elapsed: 0.841603040695\n",
        "selection for snpID: 9:133472747\n",
        "found 164491 matching SNPs"
       ]
      },
      {
       "output_type": "stream",
       "stream": "stdout",
       "text": [
        "\n",
        "time elapsed: 0.796272039413\n",
        "selection for snpID: 4:63055561\n",
        "found 164491 matching SNPs"
       ]
      },
      {
       "output_type": "stream",
       "stream": "stdout",
       "text": [
        "\n",
        "time elapsed: 0.779611110687\n",
        "selection for snpID: 11:127160664\n",
        "found 164491 matching SNPs"
       ]
      },
      {
       "output_type": "stream",
       "stream": "stdout",
       "text": [
        "\n",
        "time elapsed: 0.772906064987\n",
        "selection for snpID: 14:69873335\n",
        "found 164491 matching SNPs"
       ]
      },
      {
       "output_type": "stream",
       "stream": "stdout",
       "text": [
        "\n",
        "time elapsed: 0.76939702034\n",
        "selection for snpID: 9:5453460\n",
        "found 164491 matching SNPs"
       ]
      },
      {
       "output_type": "stream",
       "stream": "stdout",
       "text": [
        "\n",
        "time elapsed: 0.782006025314\n",
        "selection for snpID: 7:88660988\n",
        "found 164491 matching SNPs"
       ]
      },
      {
       "output_type": "stream",
       "stream": "stdout",
       "text": [
        "\n",
        "time elapsed: 0.788677930832\n",
        "selection for snpID: 1:201688955\n",
        "found 164491 matching SNPs"
       ]
      },
      {
       "output_type": "stream",
       "stream": "stdout",
       "text": [
        "\n",
        "time elapsed: 0.77773809433\n",
        "selection for snpID: 1:181844943\n",
        "found 164491 matching SNPs"
       ]
      },
      {
       "output_type": "stream",
       "stream": "stdout",
       "text": [
        "\n",
        "time elapsed: 0.775069952011\n",
        "selection for snpID: 18:67015865\n",
        "found 164491 matching SNPs"
       ]
      },
      {
       "output_type": "stream",
       "stream": "stdout",
       "text": [
        "\n",
        "time elapsed: 0.787249088287\n",
        "selection for snpID: 6:32592119\n",
        "found 164491 matching SNPs"
       ]
      },
      {
       "output_type": "stream",
       "stream": "stdout",
       "text": [
        "\n",
        "time elapsed: 0.846366167068\n",
        "selection for snpID: 9:133472747\n",
        "found 164491 matching SNPs"
       ]
      },
      {
       "output_type": "stream",
       "stream": "stdout",
       "text": [
        "\n",
        "time elapsed: 0.795166969299\n",
        "selection for snpID: 4:63055561\n",
        "found 164491 matching SNPs"
       ]
      },
      {
       "output_type": "stream",
       "stream": "stdout",
       "text": [
        "\n",
        "time elapsed: 0.79056596756\n",
        "selection for snpID: 11:127160664\n",
        "found 164491 matching SNPs"
       ]
      },
      {
       "output_type": "stream",
       "stream": "stdout",
       "text": [
        "\n",
        "time elapsed: 0.890499830246\n",
        "selection for snpID: 14:69873335\n",
        "found 164491 matching SNPs"
       ]
      },
      {
       "output_type": "stream",
       "stream": "stdout",
       "text": [
        "\n",
        "time elapsed: 0.897199869156\n",
        "selection for snpID: 9:5453460\n",
        "found 164491 matching SNPs"
       ]
      },
      {
       "output_type": "stream",
       "stream": "stdout",
       "text": [
        "\n",
        "time elapsed: 0.974608898163\n",
        "selection for snpID: 7:88660988\n",
        "found 164491 matching SNPs"
       ]
      },
      {
       "output_type": "stream",
       "stream": "stdout",
       "text": [
        "\n",
        "time elapsed: 0.813673973083\n",
        "selection for snpID: 1:201688955\n",
        "found 164491 matching SNPs"
       ]
      },
      {
       "output_type": "stream",
       "stream": "stdout",
       "text": [
        "\n",
        "time elapsed: 0.825735092163\n",
        "selection for snpID: 1:181844943\n",
        "found 164491 matching SNPs"
       ]
      },
      {
       "output_type": "stream",
       "stream": "stdout",
       "text": [
        "\n",
        "time elapsed: 0.80228805542\n",
        "selection for snpID: 18:67015865\n",
        "found 164491 matching SNPs"
       ]
      },
      {
       "output_type": "stream",
       "stream": "stdout",
       "text": [
        "\n",
        "time elapsed: 0.771971940994\n",
        "selection for snpID: 6:32592119\n",
        "found 164491 matching SNPs"
       ]
      },
      {
       "output_type": "stream",
       "stream": "stdout",
       "text": [
        "\n",
        "time elapsed: 0.763602018356\n",
        "selection for snpID: 9:133472747\n",
        "found 164491 matching SNPs"
       ]
      },
      {
       "output_type": "stream",
       "stream": "stdout",
       "text": [
        "\n",
        "time elapsed: 0.769568920135\n",
        "selection for snpID: 4:63055561\n",
        "found 164491 matching SNPs"
       ]
      },
      {
       "output_type": "stream",
       "stream": "stdout",
       "text": [
        "\n",
        "time elapsed: 0.771394014359\n",
        "selection for snpID: 11:127160664\n",
        "found 164491 matching SNPs"
       ]
      },
      {
       "output_type": "stream",
       "stream": "stdout",
       "text": [
        "\n",
        "time elapsed: 0.827209949493\n",
        "selection for snpID: 14:69873335\n",
        "found 164491 matching SNPs"
       ]
      },
      {
       "output_type": "stream",
       "stream": "stdout",
       "text": [
        "\n",
        "time elapsed: 0.809946060181\n",
        "selection for snpID: 9:5453460\n",
        "found 164491 matching SNPs"
       ]
      },
      {
       "output_type": "stream",
       "stream": "stdout",
       "text": [
        "\n",
        "time elapsed: 0.766568899155\n",
        "selection for snpID: 7:88660988\n",
        "found 164491 matching SNPs"
       ]
      },
      {
       "output_type": "stream",
       "stream": "stdout",
       "text": [
        "\n",
        "time elapsed: 0.780722141266\n",
        "selection for snpID: 1:201688955\n",
        "found 164491 matching SNPs"
       ]
      },
      {
       "output_type": "stream",
       "stream": "stdout",
       "text": [
        "\n",
        "time elapsed: 0.763859987259\n",
        "selection for snpID: 1:181844943\n",
        "found 164491 matching SNPs"
       ]
      },
      {
       "output_type": "stream",
       "stream": "stdout",
       "text": [
        "\n",
        "time elapsed: 0.771636009216\n",
        "selection for snpID: 18:67015865\n",
        "found 164491 matching SNPs"
       ]
      },
      {
       "output_type": "stream",
       "stream": "stdout",
       "text": [
        "\n",
        "time elapsed: 0.78292798996\n",
        "selection for snpID: 6:32592119\n",
        "found 164491 matching SNPs"
       ]
      },
      {
       "output_type": "stream",
       "stream": "stdout",
       "text": [
        "\n",
        "time elapsed: 0.774999856949\n",
        "selection for snpID: 9:133472747\n",
        "found 164491 matching SNPs"
       ]
      },
      {
       "output_type": "stream",
       "stream": "stdout",
       "text": [
        "\n",
        "time elapsed: 0.774498939514\n",
        "selection for snpID: 4:63055561\n",
        "found 164491 matching SNPs"
       ]
      },
      {
       "output_type": "stream",
       "stream": "stdout",
       "text": [
        "\n",
        "time elapsed: 0.765783071518\n",
        "selection for snpID: 11:127160664\n",
        "found 164491 matching SNPs"
       ]
      },
      {
       "output_type": "stream",
       "stream": "stdout",
       "text": [
        "\n",
        "time elapsed: 0.76220202446\n",
        "selection for snpID: 14:69873335\n",
        "found 164491 matching SNPs"
       ]
      },
      {
       "output_type": "stream",
       "stream": "stdout",
       "text": [
        "\n",
        "time elapsed: 0.789756059647\n",
        "selection for snpID: 9:5453460\n",
        "found 164491 matching SNPs"
       ]
      },
      {
       "output_type": "stream",
       "stream": "stdout",
       "text": [
        "\n",
        "time elapsed: 0.772922039032\n",
        "selection for snpID: 7:88660988\n",
        "found 164491 matching SNPs"
       ]
      },
      {
       "output_type": "stream",
       "stream": "stdout",
       "text": [
        "\n",
        "time elapsed: 0.779123067856\n",
        "selection for snpID: 1:201688955\n",
        "found 164491 matching SNPs"
       ]
      },
      {
       "output_type": "stream",
       "stream": "stdout",
       "text": [
        "\n",
        "time elapsed: 0.773320913315\n",
        "selection for snpID: 1:181844943\n",
        "found 164491 matching SNPs"
       ]
      },
      {
       "output_type": "stream",
       "stream": "stdout",
       "text": [
        "\n",
        "time elapsed: 0.76987195015\n",
        "selection for snpID: 18:67015865\n",
        "found 164491 matching SNPs"
       ]
      },
      {
       "output_type": "stream",
       "stream": "stdout",
       "text": [
        "\n",
        "time elapsed: 0.774456977844\n",
        "selection for snpID: 6:32592119\n",
        "found 164491 matching SNPs"
       ]
      },
      {
       "output_type": "stream",
       "stream": "stdout",
       "text": [
        "\n",
        "time elapsed: 0.786053180695\n",
        "selection for snpID: 9:133472747\n",
        "found 164491 matching SNPs"
       ]
      },
      {
       "output_type": "stream",
       "stream": "stdout",
       "text": [
        "\n",
        "time elapsed: 0.770640134811\n",
        "selection for snpID: 4:63055561\n",
        "found 164491 matching SNPs"
       ]
      },
      {
       "output_type": "stream",
       "stream": "stdout",
       "text": [
        "\n",
        "time elapsed: 0.767113208771\n",
        "selection for snpID: 11:127160664\n",
        "found 164491 matching SNPs"
       ]
      },
      {
       "output_type": "stream",
       "stream": "stdout",
       "text": [
        "\n",
        "time elapsed: 0.770152807236\n",
        "selection for snpID: 14:69873335\n",
        "found 164491 matching SNPs"
       ]
      },
      {
       "output_type": "stream",
       "stream": "stdout",
       "text": [
        "\n",
        "time elapsed: 0.765189170837\n",
        "selection for snpID: 9:5453460\n",
        "found 164491 matching SNPs"
       ]
      },
      {
       "output_type": "stream",
       "stream": "stdout",
       "text": [
        "\n",
        "time elapsed: 0.764116048813\n",
        "selection for snpID: 7:88660988\n",
        "found 164491 matching SNPs"
       ]
      },
      {
       "output_type": "stream",
       "stream": "stdout",
       "text": [
        "\n",
        "time elapsed: 0.772519826889\n",
        "selection for snpID: 1:201688955\n",
        "found 164491 matching SNPs"
       ]
      },
      {
       "output_type": "stream",
       "stream": "stdout",
       "text": [
        "\n",
        "time elapsed: 0.789159059525\n",
        "selection for snpID: 1:181844943\n",
        "found 164491 matching SNPs"
       ]
      },
      {
       "output_type": "stream",
       "stream": "stdout",
       "text": [
        "\n",
        "time elapsed: 0.79788184166\n",
        "selection for snpID: 18:67015865\n",
        "found 164491 matching SNPs"
       ]
      },
      {
       "output_type": "stream",
       "stream": "stdout",
       "text": [
        "\n",
        "time elapsed: 0.806629180908\n",
        "selection for snpID: 6:32592119\n",
        "found 164491 matching SNPs"
       ]
      },
      {
       "output_type": "stream",
       "stream": "stdout",
       "text": [
        "\n",
        "time elapsed: 0.787564992905\n",
        "selection for snpID: 9:133472747\n",
        "found 164491 matching SNPs"
       ]
      },
      {
       "output_type": "stream",
       "stream": "stdout",
       "text": [
        "\n",
        "time elapsed: 0.812211990356\n",
        "selection for snpID: 4:63055561\n",
        "found 164491 matching SNPs"
       ]
      },
      {
       "output_type": "stream",
       "stream": "stdout",
       "text": [
        "\n",
        "time elapsed: 0.830330848694\n",
        "selection for snpID: 11:127160664\n",
        "found 164491 matching SNPs"
       ]
      },
      {
       "output_type": "stream",
       "stream": "stdout",
       "text": [
        "\n",
        "time elapsed: 0.863269090652\n",
        "selection for snpID: 14:69873335\n",
        "found 164491 matching SNPs"
       ]
      },
      {
       "output_type": "stream",
       "stream": "stdout",
       "text": [
        "\n",
        "time elapsed: 0.830889940262\n",
        "selection for snpID: 9:5453460\n",
        "found 164491 matching SNPs"
       ]
      },
      {
       "output_type": "stream",
       "stream": "stdout",
       "text": [
        "\n",
        "time elapsed: 0.80975484848\n",
        "selection for snpID: 7:88660988\n",
        "found 164491 matching SNPs"
       ]
      },
      {
       "output_type": "stream",
       "stream": "stdout",
       "text": [
        "\n",
        "time elapsed: 0.806951999664\n",
        "selection for snpID: 1:201688955\n",
        "found 164491 matching SNPs"
       ]
      },
      {
       "output_type": "stream",
       "stream": "stdout",
       "text": [
        "\n",
        "time elapsed: 0.794493913651\n",
        "selection for snpID: 1:181844943\n",
        "found 164491 matching SNPs"
       ]
      },
      {
       "output_type": "stream",
       "stream": "stdout",
       "text": [
        "\n",
        "time elapsed: 0.79665017128\n",
        "selection for snpID: 18:67015865\n",
        "found 164491 matching SNPs"
       ]
      },
      {
       "output_type": "stream",
       "stream": "stdout",
       "text": [
        "\n",
        "time elapsed: 0.771582126617\n",
        "selection for snpID: 6:32592119\n",
        "found 164491 matching SNPs"
       ]
      },
      {
       "output_type": "stream",
       "stream": "stdout",
       "text": [
        "\n",
        "time elapsed: 0.813989162445\n",
        "selection for snpID: 9:133472747\n",
        "found 164491 matching SNPs"
       ]
      },
      {
       "output_type": "stream",
       "stream": "stdout",
       "text": [
        "\n",
        "time elapsed: 0.780175209045\n",
        "selection for snpID: 4:63055561\n",
        "found 164491 matching SNPs"
       ]
      },
      {
       "output_type": "stream",
       "stream": "stdout",
       "text": [
        "\n",
        "time elapsed: 0.859993934631\n",
        "selection for snpID: 11:127160664\n",
        "found 164491 matching SNPs"
       ]
      },
      {
       "output_type": "stream",
       "stream": "stdout",
       "text": [
        "\n",
        "time elapsed: 0.785448074341\n",
        "selection for snpID: 14:69873335\n",
        "found 164491 matching SNPs"
       ]
      },
      {
       "output_type": "stream",
       "stream": "stdout",
       "text": [
        "\n",
        "time elapsed: 0.777408123016\n",
        "selection for snpID: 9:5453460\n",
        "found 164491 matching SNPs"
       ]
      },
      {
       "output_type": "stream",
       "stream": "stdout",
       "text": [
        "\n",
        "time elapsed: 0.797147989273\n",
        "selection for snpID: 7:88660988\n",
        "found 164491 matching SNPs"
       ]
      },
      {
       "output_type": "stream",
       "stream": "stdout",
       "text": [
        "\n",
        "time elapsed: 0.789615869522\n",
        "selection for snpID: 1:201688955\n",
        "found 164491 matching SNPs"
       ]
      },
      {
       "output_type": "stream",
       "stream": "stdout",
       "text": [
        "\n",
        "time elapsed: 0.768931150436\n",
        "selection for snpID: 1:181844943\n",
        "found 164491 matching SNPs"
       ]
      },
      {
       "output_type": "stream",
       "stream": "stdout",
       "text": [
        "\n",
        "time elapsed: 0.765084981918\n",
        "selection for snpID: 18:67015865\n",
        "found 164491 matching SNPs"
       ]
      },
      {
       "output_type": "stream",
       "stream": "stdout",
       "text": [
        "\n",
        "time elapsed: 0.766697883606\n",
        "selection for snpID: 6:32592119\n",
        "found 164491 matching SNPs"
       ]
      },
      {
       "output_type": "stream",
       "stream": "stdout",
       "text": [
        "\n",
        "time elapsed: 0.779348134995\n",
        "selection for snpID: 9:133472747\n",
        "found 164491 matching SNPs"
       ]
      },
      {
       "output_type": "stream",
       "stream": "stdout",
       "text": [
        "\n",
        "time elapsed: 0.784598827362\n",
        "selection for snpID: 4:63055561\n",
        "found 164491 matching SNPs"
       ]
      },
      {
       "output_type": "stream",
       "stream": "stdout",
       "text": [
        "\n",
        "time elapsed: 0.784841775894\n",
        "selection for snpID: 11:127160664\n",
        "found 164491 matching SNPs"
       ]
      },
      {
       "output_type": "stream",
       "stream": "stdout",
       "text": [
        "\n",
        "time elapsed: 0.788084983826\n",
        "selection for snpID: 14:69873335\n",
        "found 164491 matching SNPs"
       ]
      },
      {
       "output_type": "stream",
       "stream": "stdout",
       "text": [
        "\n",
        "time elapsed: 0.792876958847\n",
        "selection for snpID: 9:5453460\n",
        "found 164491 matching SNPs"
       ]
      },
      {
       "output_type": "stream",
       "stream": "stdout",
       "text": [
        "\n",
        "time elapsed: 0.768826961517\n",
        "selection for snpID: 7:88660988\n",
        "found 164491 matching SNPs"
       ]
      },
      {
       "output_type": "stream",
       "stream": "stdout",
       "text": [
        "\n",
        "time elapsed: 0.772068977356\n",
        "selection for snpID: 1:201688955\n",
        "found 164491 matching SNPs"
       ]
      },
      {
       "output_type": "stream",
       "stream": "stdout",
       "text": [
        "\n",
        "time elapsed: 0.780968904495\n",
        "selection for snpID: 1:181844943\n",
        "found 164491 matching SNPs"
       ]
      },
      {
       "output_type": "stream",
       "stream": "stdout",
       "text": [
        "\n",
        "time elapsed: 0.782339096069\n",
        "selection for snpID: 18:67015865\n",
        "found 164491 matching SNPs"
       ]
      },
      {
       "output_type": "stream",
       "stream": "stdout",
       "text": [
        "\n",
        "time elapsed: 0.779042005539\n",
        "selection for snpID: 6:32592119\n",
        "found 164491 matching SNPs"
       ]
      },
      {
       "output_type": "stream",
       "stream": "stdout",
       "text": [
        "\n",
        "time elapsed: 0.77593588829\n",
        "selection for snpID: 9:133472747\n",
        "found 164491 matching SNPs"
       ]
      },
      {
       "output_type": "stream",
       "stream": "stdout",
       "text": [
        "\n",
        "time elapsed: 0.784135103226\n",
        "selection for snpID: 4:63055561\n",
        "found 164491 matching SNPs"
       ]
      },
      {
       "output_type": "stream",
       "stream": "stdout",
       "text": [
        "\n",
        "time elapsed: 0.779493093491\n",
        "selection for snpID: 11:127160664\n",
        "found 164491 matching SNPs"
       ]
      },
      {
       "output_type": "stream",
       "stream": "stdout",
       "text": [
        "\n",
        "time elapsed: 0.786382913589\n",
        "selection for snpID: 14:69873335\n",
        "found 164491 matching SNPs"
       ]
      },
      {
       "output_type": "stream",
       "stream": "stdout",
       "text": [
        "\n",
        "time elapsed: 0.773199081421\n",
        "selection for snpID: 9:5453460\n",
        "found 164491 matching SNPs"
       ]
      },
      {
       "output_type": "stream",
       "stream": "stdout",
       "text": [
        "\n",
        "time elapsed: 0.795818090439\n",
        "selection for snpID: 7:88660988\n",
        "found 164491 matching SNPs"
       ]
      },
      {
       "output_type": "stream",
       "stream": "stdout",
       "text": [
        "\n",
        "time elapsed: 0.789175033569\n",
        "selection for snpID: 1:201688955\n",
        "found 164491 matching SNPs"
       ]
      },
      {
       "output_type": "stream",
       "stream": "stdout",
       "text": [
        "\n",
        "time elapsed: 0.787567138672\n",
        "selection for snpID: 1:181844943\n",
        "found 164491 matching SNPs"
       ]
      },
      {
       "output_type": "stream",
       "stream": "stdout",
       "text": [
        "\n",
        "time elapsed: 0.778819084167\n",
        "selection for snpID: 18:67015865\n",
        "found 164491 matching SNPs"
       ]
      },
      {
       "output_type": "stream",
       "stream": "stdout",
       "text": [
        "\n",
        "time elapsed: 0.789265871048\n",
        "selection for snpID: 6:32592119\n",
        "found 164491 matching SNPs"
       ]
      },
      {
       "output_type": "stream",
       "stream": "stdout",
       "text": [
        "\n",
        "time elapsed: 0.798310041428\n",
        "selection for snpID: 9:133472747\n",
        "found 164491 matching SNPs"
       ]
      },
      {
       "output_type": "stream",
       "stream": "stdout",
       "text": [
        "\n",
        "time elapsed: 0.792731046677\n",
        "selection for snpID: 4:63055561\n",
        "found 164491 matching SNPs"
       ]
      },
      {
       "output_type": "stream",
       "stream": "stdout",
       "text": [
        "\n",
        "time elapsed: 0.799916982651\n",
        "selection for snpID: 11:127160664\n",
        "found 164491 matching SNPs"
       ]
      },
      {
       "output_type": "stream",
       "stream": "stdout",
       "text": [
        "\n",
        "time elapsed: 0.801462173462\n",
        "selection for snpID: 14:69873335\n",
        "found 164491 matching SNPs"
       ]
      },
      {
       "output_type": "stream",
       "stream": "stdout",
       "text": [
        "\n",
        "time elapsed: 0.779171228409\n",
        "selection for snpID: 9:5453460\n",
        "found 164491 matching SNPs"
       ]
      },
      {
       "output_type": "stream",
       "stream": "stdout",
       "text": [
        "\n",
        "time elapsed: 0.789123058319\n",
        "selection for snpID: 7:88660988\n",
        "found 164491 matching SNPs"
       ]
      },
      {
       "output_type": "stream",
       "stream": "stdout",
       "text": [
        "\n",
        "time elapsed: 0.775017976761\n",
        "selection for snpID: 1:201688955\n",
        "found 164491 matching SNPs"
       ]
      },
      {
       "output_type": "stream",
       "stream": "stdout",
       "text": [
        "\n",
        "time elapsed: 0.786211013794\n",
        "selection for snpID: 1:181844943\n",
        "found 164491 matching SNPs"
       ]
      },
      {
       "output_type": "stream",
       "stream": "stdout",
       "text": [
        "\n",
        "time elapsed: 0.788421154022\n",
        "selection for snpID: 18:67015865\n",
        "found 164491 matching SNPs"
       ]
      },
      {
       "output_type": "stream",
       "stream": "stdout",
       "text": [
        "\n",
        "time elapsed: 0.771944999695\n",
        "selection for snpID: 6:32592119\n",
        "found 164491 matching SNPs"
       ]
      },
      {
       "output_type": "stream",
       "stream": "stdout",
       "text": [
        "\n",
        "time elapsed: 0.774703979492\n",
        "selection for snpID: 9:133472747\n",
        "found 164491 matching SNPs"
       ]
      },
      {
       "output_type": "stream",
       "stream": "stdout",
       "text": [
        "\n",
        "time elapsed: 0.775764942169\n",
        "selection for snpID: 4:63055561\n",
        "found 164491 matching SNPs"
       ]
      },
      {
       "output_type": "stream",
       "stream": "stdout",
       "text": [
        "\n",
        "time elapsed: 0.778151035309\n",
        "selection for snpID: 11:127160664\n",
        "found 164491 matching SNPs"
       ]
      },
      {
       "output_type": "stream",
       "stream": "stdout",
       "text": [
        "\n",
        "time elapsed: 0.791051149368\n",
        "selection for snpID: 14:69873335\n",
        "found 164491 matching SNPs"
       ]
      },
      {
       "output_type": "stream",
       "stream": "stdout",
       "text": [
        "\n",
        "time elapsed: 0.777178049088\n",
        "selection for snpID: 9:5453460\n",
        "found 164491 matching SNPs"
       ]
      },
      {
       "output_type": "stream",
       "stream": "stdout",
       "text": [
        "\n",
        "time elapsed: 0.772192955017\n",
        "selection for snpID: 7:88660988\n",
        "found 164491 matching SNPs"
       ]
      },
      {
       "output_type": "stream",
       "stream": "stdout",
       "text": [
        "\n",
        "time elapsed: 0.798583030701\n",
        "selection for snpID: 1:201688955\n",
        "found 164491 matching SNPs"
       ]
      },
      {
       "output_type": "stream",
       "stream": "stdout",
       "text": [
        "\n",
        "time elapsed: 0.789361000061\n",
        "selection for snpID: 1:181844943\n",
        "found 164491 matching SNPs"
       ]
      },
      {
       "output_type": "stream",
       "stream": "stdout",
       "text": [
        "\n",
        "time elapsed: 0.786108016968\n",
        "selection for snpID: 18:67015865\n",
        "found 164491 matching SNPs"
       ]
      },
      {
       "output_type": "stream",
       "stream": "stdout",
       "text": [
        "\n",
        "time elapsed: 0.786995887756\n",
        "selection for snpID: 6:32592119\n",
        "found 164491 matching SNPs"
       ]
      },
      {
       "output_type": "stream",
       "stream": "stdout",
       "text": [
        "\n",
        "time elapsed: 0.850193023682\n",
        "selection for snpID: 9:133472747\n",
        "found 164491 matching SNPs"
       ]
      },
      {
       "output_type": "stream",
       "stream": "stdout",
       "text": [
        "\n",
        "time elapsed: 0.768551111221\n",
        "selection for snpID: 4:63055561\n",
        "found 164491 matching SNPs"
       ]
      },
      {
       "output_type": "stream",
       "stream": "stdout",
       "text": [
        "\n",
        "time elapsed: 0.773800134659\n",
        "selection for snpID: 11:127160664\n",
        "found 164491 matching SNPs"
       ]
      },
      {
       "output_type": "stream",
       "stream": "stdout",
       "text": [
        "\n",
        "time elapsed: 0.765525102615\n",
        "selection for snpID: 14:69873335\n",
        "found 164491 matching SNPs"
       ]
      },
      {
       "output_type": "stream",
       "stream": "stdout",
       "text": [
        "\n",
        "time elapsed: 0.781202077866\n",
        "selection for snpID: 9:5453460\n",
        "found 164491 matching SNPs"
       ]
      },
      {
       "output_type": "stream",
       "stream": "stdout",
       "text": [
        "\n",
        "time elapsed: 0.768474817276\n",
        "selection for snpID: 7:88660988\n",
        "found 164491 matching SNPs"
       ]
      },
      {
       "output_type": "stream",
       "stream": "stdout",
       "text": [
        "\n",
        "time elapsed: 0.772071838379\n",
        "selection for snpID: 1:201688955\n",
        "found 164491 matching SNPs"
       ]
      },
      {
       "output_type": "stream",
       "stream": "stdout",
       "text": [
        "\n",
        "time elapsed: 0.778595924377\n",
        "selection for snpID: 1:181844943\n",
        "found 164491 matching SNPs"
       ]
      },
      {
       "output_type": "stream",
       "stream": "stdout",
       "text": [
        "\n",
        "time elapsed: 0.789907932281\n",
        "selection for snpID: 18:67015865\n",
        "found 164491 matching SNPs"
       ]
      },
      {
       "output_type": "stream",
       "stream": "stdout",
       "text": [
        "\n",
        "time elapsed: 0.77733206749\n",
        "selection for snpID: 6:32592119\n",
        "found 164491 matching SNPs"
       ]
      },
      {
       "output_type": "stream",
       "stream": "stdout",
       "text": [
        "\n",
        "time elapsed: 0.767694950104\n",
        "selection for snpID: 9:133472747\n",
        "found 164491 matching SNPs"
       ]
      },
      {
       "output_type": "stream",
       "stream": "stdout",
       "text": [
        "\n",
        "time elapsed: 0.776384830475\n",
        "selection for snpID: 4:63055561\n",
        "found 164491 matching SNPs"
       ]
      },
      {
       "output_type": "stream",
       "stream": "stdout",
       "text": [
        "\n",
        "time elapsed: 0.777622938156\n",
        "selection for snpID: 11:127160664\n",
        "found 164491 matching SNPs"
       ]
      },
      {
       "output_type": "stream",
       "stream": "stdout",
       "text": [
        "\n",
        "time elapsed: 0.775468111038\n",
        "selection for snpID: 14:69873335\n",
        "found 164491 matching SNPs"
       ]
      },
      {
       "output_type": "stream",
       "stream": "stdout",
       "text": [
        "\n",
        "time elapsed: 0.769734859467\n",
        "selection for snpID: 9:5453460\n",
        "found 164491 matching SNPs"
       ]
      },
      {
       "output_type": "stream",
       "stream": "stdout",
       "text": [
        "\n",
        "time elapsed: 0.783252000809\n",
        "selection for snpID: 7:88660988\n",
        "found 164491 matching SNPs"
       ]
      },
      {
       "output_type": "stream",
       "stream": "stdout",
       "text": [
        "\n",
        "time elapsed: 0.78612613678\n",
        "selection for snpID: 1:201688955\n",
        "found 164491 matching SNPs"
       ]
      },
      {
       "output_type": "stream",
       "stream": "stdout",
       "text": [
        "\n",
        "time elapsed: 0.779834985733\n",
        "selection for snpID: 1:181844943\n",
        "found 164491 matching SNPs"
       ]
      },
      {
       "output_type": "stream",
       "stream": "stdout",
       "text": [
        "\n",
        "time elapsed: 0.78161907196\n",
        "selection for snpID: 18:67015865\n",
        "found 164491 matching SNPs"
       ]
      },
      {
       "output_type": "stream",
       "stream": "stdout",
       "text": [
        "\n",
        "time elapsed: 0.781894922256\n",
        "selection for snpID: 6:32592119\n",
        "found 164491 matching SNPs"
       ]
      },
      {
       "output_type": "stream",
       "stream": "stdout",
       "text": [
        "\n",
        "time elapsed: 0.779672145844\n",
        "selection for snpID: 9:133472747\n",
        "found 164491 matching SNPs"
       ]
      },
      {
       "output_type": "stream",
       "stream": "stdout",
       "text": [
        "\n",
        "time elapsed: 0.784883975983\n",
        "selection for snpID: 4:63055561\n",
        "found 164491 matching SNPs"
       ]
      },
      {
       "output_type": "stream",
       "stream": "stdout",
       "text": [
        "\n",
        "time elapsed: 0.779666900635\n",
        "selection for snpID: 11:127160664\n",
        "found 164491 matching SNPs"
       ]
      },
      {
       "output_type": "stream",
       "stream": "stdout",
       "text": [
        "\n",
        "time elapsed: 0.780329942703\n",
        "selection for snpID: 14:69873335\n",
        "found 164491 matching SNPs"
       ]
      },
      {
       "output_type": "stream",
       "stream": "stdout",
       "text": [
        "\n",
        "time elapsed: 0.780356884003\n",
        "selection for snpID: 9:5453460\n",
        "found 164491 matching SNPs"
       ]
      },
      {
       "output_type": "stream",
       "stream": "stdout",
       "text": [
        "\n",
        "time elapsed: 0.780215024948\n",
        "selection for snpID: 7:88660988\n",
        "found 164491 matching SNPs"
       ]
      },
      {
       "output_type": "stream",
       "stream": "stdout",
       "text": [
        "\n",
        "time elapsed: 0.778282165527\n",
        "selection for snpID: 1:201688955\n",
        "found 164491 matching SNPs"
       ]
      },
      {
       "output_type": "stream",
       "stream": "stdout",
       "text": [
        "\n",
        "time elapsed: 0.786704778671\n",
        "selection for snpID: 1:181844943\n",
        "found 164491 matching SNPs"
       ]
      },
      {
       "output_type": "stream",
       "stream": "stdout",
       "text": [
        "\n",
        "time elapsed: 0.788713932037\n",
        "selection for snpID: 18:67015865\n",
        "found 164491 matching SNPs"
       ]
      },
      {
       "output_type": "stream",
       "stream": "stdout",
       "text": [
        "\n",
        "time elapsed: 0.780200004578\n",
        "selection for snpID: 6:32592119\n",
        "found 164491 matching SNPs"
       ]
      },
      {
       "output_type": "stream",
       "stream": "stdout",
       "text": [
        "\n",
        "time elapsed: 0.785769939423\n",
        "selection for snpID: 9:133472747\n",
        "found 164491 matching SNPs"
       ]
      },
      {
       "output_type": "stream",
       "stream": "stdout",
       "text": [
        "\n",
        "time elapsed: 0.781955957413\n",
        "selection for snpID: 4:63055561\n",
        "found 164491 matching SNPs"
       ]
      },
      {
       "output_type": "stream",
       "stream": "stdout",
       "text": [
        "\n",
        "time elapsed: 0.792330026627\n",
        "selection for snpID: 11:127160664\n",
        "found 164491 matching SNPs"
       ]
      },
      {
       "output_type": "stream",
       "stream": "stdout",
       "text": [
        "\n",
        "time elapsed: 0.787311077118\n",
        "selection for snpID: 14:69873335\n",
        "found 164491 matching SNPs"
       ]
      },
      {
       "output_type": "stream",
       "stream": "stdout",
       "text": [
        "\n",
        "time elapsed: 0.776437997818\n",
        "selection for snpID: 9:5453460\n",
        "found 164491 matching SNPs"
       ]
      },
      {
       "output_type": "stream",
       "stream": "stdout",
       "text": [
        "\n",
        "time elapsed: 0.789037942886\n",
        "selection for snpID: 7:88660988\n",
        "found 164491 matching SNPs"
       ]
      },
      {
       "output_type": "stream",
       "stream": "stdout",
       "text": [
        "\n",
        "time elapsed: 0.771015882492\n",
        "selection for snpID: 1:201688955\n",
        "found 164491 matching SNPs"
       ]
      },
      {
       "output_type": "stream",
       "stream": "stdout",
       "text": [
        "\n",
        "time elapsed: 0.786911964417\n",
        "selection for snpID: 1:181844943\n",
        "found 164491 matching SNPs"
       ]
      },
      {
       "output_type": "stream",
       "stream": "stdout",
       "text": [
        "\n",
        "time elapsed: 0.779335021973\n",
        "selection for snpID: 18:67015865\n",
        "found 164491 matching SNPs"
       ]
      },
      {
       "output_type": "stream",
       "stream": "stdout",
       "text": [
        "\n",
        "time elapsed: 0.780043125153\n",
        "selection for snpID: 6:32592119\n",
        "found 164491 matching SNPs"
       ]
      },
      {
       "output_type": "stream",
       "stream": "stdout",
       "text": [
        "\n",
        "time elapsed: 0.785242080688\n",
        "selection for snpID: 9:133472747\n",
        "found 164491 matching SNPs"
       ]
      },
      {
       "output_type": "stream",
       "stream": "stdout",
       "text": [
        "\n",
        "time elapsed: 0.780138015747\n",
        "selection for snpID: 4:63055561\n",
        "found 164491 matching SNPs"
       ]
      },
      {
       "output_type": "stream",
       "stream": "stdout",
       "text": [
        "\n",
        "time elapsed: 0.812684774399\n",
        "selection for snpID: 11:127160664\n",
        "found 164491 matching SNPs"
       ]
      },
      {
       "output_type": "stream",
       "stream": "stdout",
       "text": [
        "\n",
        "time elapsed: 0.79567193985\n",
        "selection for snpID: 14:69873335\n",
        "found 164491 matching SNPs"
       ]
      },
      {
       "output_type": "stream",
       "stream": "stdout",
       "text": [
        "\n",
        "time elapsed: 0.810926914215\n",
        "selection for snpID: 9:5453460\n",
        "found 164491 matching SNPs"
       ]
      },
      {
       "output_type": "stream",
       "stream": "stdout",
       "text": [
        "\n",
        "time elapsed: 0.77335691452\n",
        "selection for snpID: 7:88660988\n",
        "found 164491 matching SNPs"
       ]
      },
      {
       "output_type": "stream",
       "stream": "stdout",
       "text": [
        "\n",
        "time elapsed: 0.780613183975\n",
        "selection for snpID: 1:201688955\n",
        "found 164491 matching SNPs"
       ]
      },
      {
       "output_type": "stream",
       "stream": "stdout",
       "text": [
        "\n",
        "time elapsed: 0.787204027176\n",
        "selection for snpID: 1:181844943\n",
        "found 164491 matching SNPs"
       ]
      },
      {
       "output_type": "stream",
       "stream": "stdout",
       "text": [
        "\n",
        "time elapsed: 0.870043039322\n",
        "selection for snpID: 18:67015865\n",
        "found 164491 matching SNPs"
       ]
      },
      {
       "output_type": "stream",
       "stream": "stdout",
       "text": [
        "\n",
        "time elapsed: 0.776417970657\n",
        "selection for snpID: 6:32592119\n",
        "found 164491 matching SNPs"
       ]
      },
      {
       "output_type": "stream",
       "stream": "stdout",
       "text": [
        "\n",
        "time elapsed: 0.774155139923\n",
        "selection for snpID: 9:133472747\n",
        "found 164491 matching SNPs"
       ]
      },
      {
       "output_type": "stream",
       "stream": "stdout",
       "text": [
        "\n",
        "time elapsed: 0.809787988663\n",
        "selection for snpID: 4:63055561\n",
        "found 164491 matching SNPs"
       ]
      },
      {
       "output_type": "stream",
       "stream": "stdout",
       "text": [
        "\n",
        "time elapsed: 0.778882026672\n",
        "selection for snpID: 11:127160664\n",
        "found 164491 matching SNPs"
       ]
      },
      {
       "output_type": "stream",
       "stream": "stdout",
       "text": [
        "\n",
        "time elapsed: 0.794770956039\n",
        "selection for snpID: 14:69873335\n",
        "found 164491 matching SNPs"
       ]
      },
      {
       "output_type": "stream",
       "stream": "stdout",
       "text": [
        "\n",
        "time elapsed: 0.847625017166\n",
        "selection for snpID: 9:5453460\n",
        "found 164491 matching SNPs"
       ]
      },
      {
       "output_type": "stream",
       "stream": "stdout",
       "text": [
        "\n",
        "time elapsed: 0.912728071213\n",
        "selection for snpID: 7:88660988\n",
        "found 164491 matching SNPs"
       ]
      },
      {
       "output_type": "stream",
       "stream": "stdout",
       "text": [
        "\n",
        "time elapsed: 0.880417108536\n",
        "selection for snpID: 1:201688955\n",
        "found 164491 matching SNPs"
       ]
      },
      {
       "output_type": "stream",
       "stream": "stdout",
       "text": [
        "\n",
        "time elapsed: 0.846514940262\n",
        "selection for snpID: 1:181844943\n",
        "found 164491 matching SNPs"
       ]
      },
      {
       "output_type": "stream",
       "stream": "stdout",
       "text": [
        "\n",
        "time elapsed: 0.83945608139\n",
        "selection for snpID: 18:67015865\n",
        "found 164491 matching SNPs"
       ]
      },
      {
       "output_type": "stream",
       "stream": "stdout",
       "text": [
        "\n",
        "time elapsed: 0.884169101715\n",
        "selection for snpID: 6:32592119\n",
        "found 164491 matching SNPs"
       ]
      },
      {
       "output_type": "stream",
       "stream": "stdout",
       "text": [
        "\n",
        "time elapsed: 0.863572835922\n",
        "selection for snpID: 9:133472747\n",
        "found 164491 matching SNPs"
       ]
      },
      {
       "output_type": "stream",
       "stream": "stdout",
       "text": [
        "\n",
        "time elapsed: 0.788777112961\n",
        "selection for snpID: 4:63055561\n",
        "found 164491 matching SNPs"
       ]
      },
      {
       "output_type": "stream",
       "stream": "stdout",
       "text": [
        "\n",
        "time elapsed: 0.776775121689\n",
        "selection for snpID: 11:127160664\n",
        "found 164491 matching SNPs"
       ]
      },
      {
       "output_type": "stream",
       "stream": "stdout",
       "text": [
        "\n",
        "time elapsed: 0.78678393364\n",
        "selection for snpID: 14:69873335\n",
        "found 164491 matching SNPs"
       ]
      },
      {
       "output_type": "stream",
       "stream": "stdout",
       "text": [
        "\n",
        "time elapsed: 0.775353908539\n",
        "selection for snpID: 9:5453460\n",
        "found 164491 matching SNPs"
       ]
      },
      {
       "output_type": "stream",
       "stream": "stdout",
       "text": [
        "\n",
        "time elapsed: 0.800169944763\n",
        "selection for snpID: 7:88660988\n",
        "found 164491 matching SNPs"
       ]
      },
      {
       "output_type": "stream",
       "stream": "stdout",
       "text": [
        "\n",
        "time elapsed: 0.782671928406\n",
        "selection for snpID: 1:201688955\n",
        "found 164491 matching SNPs"
       ]
      },
      {
       "output_type": "stream",
       "stream": "stdout",
       "text": [
        "\n",
        "time elapsed: 0.801542043686\n",
        "selection for snpID: 1:181844943\n",
        "found 164491 matching SNPs"
       ]
      },
      {
       "output_type": "stream",
       "stream": "stdout",
       "text": [
        "\n",
        "time elapsed: 0.796816825867\n",
        "selection for snpID: 18:67015865\n",
        "found 164491 matching SNPs"
       ]
      },
      {
       "output_type": "stream",
       "stream": "stdout",
       "text": [
        "\n",
        "time elapsed: 0.768001079559\n",
        "selection for snpID: 6:32592119\n",
        "found 164491 matching SNPs"
       ]
      },
      {
       "output_type": "stream",
       "stream": "stdout",
       "text": [
        "\n",
        "time elapsed: 0.765748023987\n",
        "selection for snpID: 9:133472747\n",
        "found 164491 matching SNPs"
       ]
      },
      {
       "output_type": "stream",
       "stream": "stdout",
       "text": [
        "\n",
        "time elapsed: 0.773133993149\n",
        "selection for snpID: 4:63055561\n",
        "found 164491 matching SNPs"
       ]
      },
      {
       "output_type": "stream",
       "stream": "stdout",
       "text": [
        "\n",
        "time elapsed: 0.83994603157\n",
        "selection for snpID: 11:127160664\n",
        "found 164491 matching SNPs"
       ]
      },
      {
       "output_type": "stream",
       "stream": "stdout",
       "text": [
        "\n",
        "time elapsed: 0.874199151993\n",
        "selection for snpID: 14:69873335\n",
        "found 164491 matching SNPs"
       ]
      },
      {
       "output_type": "stream",
       "stream": "stdout",
       "text": [
        "\n",
        "time elapsed: 0.833821058273\n",
        "selection for snpID: 9:5453460\n",
        "found 164491 matching SNPs"
       ]
      },
      {
       "output_type": "stream",
       "stream": "stdout",
       "text": [
        "\n",
        "time elapsed: 0.792811155319\n",
        "selection for snpID: 7:88660988\n",
        "found 164491 matching SNPs"
       ]
      },
      {
       "output_type": "stream",
       "stream": "stdout",
       "text": [
        "\n",
        "time elapsed: 0.811995029449\n",
        "selection for snpID: 1:201688955\n",
        "found 164491 matching SNPs"
       ]
      },
      {
       "output_type": "stream",
       "stream": "stdout",
       "text": [
        "\n",
        "time elapsed: 0.851061105728\n",
        "selection for snpID: 1:181844943\n",
        "found 164491 matching SNPs"
       ]
      },
      {
       "output_type": "stream",
       "stream": "stdout",
       "text": [
        "\n",
        "time elapsed: 0.97504401207\n",
        "selection for snpID: 18:67015865\n",
        "found 164491 matching SNPs"
       ]
      },
      {
       "output_type": "stream",
       "stream": "stdout",
       "text": [
        "\n",
        "time elapsed: 0.838052034378\n",
        "selection for snpID: 6:32592119\n",
        "found 164491 matching SNPs"
       ]
      },
      {
       "output_type": "stream",
       "stream": "stdout",
       "text": [
        "\n",
        "time elapsed: 0.789538860321\n",
        "selection for snpID: 9:133472747\n",
        "found 164491 matching SNPs"
       ]
      },
      {
       "output_type": "stream",
       "stream": "stdout",
       "text": [
        "\n",
        "time elapsed: 0.779558897018\n",
        "selection for snpID: 4:63055561\n",
        "found 164491 matching SNPs"
       ]
      },
      {
       "output_type": "stream",
       "stream": "stdout",
       "text": [
        "\n",
        "time elapsed: 0.799155950546\n",
        "selection for snpID: 11:127160664\n",
        "found 164491 matching SNPs"
       ]
      },
      {
       "output_type": "stream",
       "stream": "stdout",
       "text": [
        "\n",
        "time elapsed: 0.790803909302\n",
        "selection for snpID: 14:69873335\n",
        "found 164491 matching SNPs"
       ]
      },
      {
       "output_type": "stream",
       "stream": "stdout",
       "text": [
        "\n",
        "time elapsed: 0.799432992935\n",
        "selection for snpID: 9:5453460\n",
        "found 164491 matching SNPs"
       ]
      },
      {
       "output_type": "stream",
       "stream": "stdout",
       "text": [
        "\n",
        "time elapsed: 0.780516862869\n",
        "selection for snpID: 7:88660988\n",
        "found 164491 matching SNPs"
       ]
      },
      {
       "output_type": "stream",
       "stream": "stdout",
       "text": [
        "\n",
        "time elapsed: 0.771283149719\n",
        "selection for snpID: 1:201688955\n",
        "found 164491 matching SNPs"
       ]
      },
      {
       "output_type": "stream",
       "stream": "stdout",
       "text": [
        "\n",
        "time elapsed: 0.818048000336\n",
        "selection for snpID: 1:181844943\n",
        "found 164491 matching SNPs"
       ]
      },
      {
       "output_type": "stream",
       "stream": "stdout",
       "text": [
        "\n",
        "time elapsed: 0.802885055542\n",
        "selection for snpID: 18:67015865\n",
        "found 164491 matching SNPs"
       ]
      },
      {
       "output_type": "stream",
       "stream": "stdout",
       "text": [
        "\n",
        "time elapsed: 0.806447029114\n",
        "selection for snpID: 6:32592119\n",
        "found 164491 matching SNPs"
       ]
      },
      {
       "output_type": "stream",
       "stream": "stdout",
       "text": [
        "\n",
        "time elapsed: 0.804045915604\n",
        "selection for snpID: 9:133472747\n",
        "found 164491 matching SNPs"
       ]
      },
      {
       "output_type": "stream",
       "stream": "stdout",
       "text": [
        "\n",
        "time elapsed: 0.78849196434\n",
        "selection for snpID: 4:63055561\n",
        "found 164491 matching SNPs"
       ]
      },
      {
       "output_type": "stream",
       "stream": "stdout",
       "text": [
        "\n",
        "time elapsed: 0.795470952988\n",
        "selection for snpID: 11:127160664\n",
        "found 164491 matching SNPs"
       ]
      },
      {
       "output_type": "stream",
       "stream": "stdout",
       "text": [
        "\n",
        "time elapsed: 0.802553892136\n",
        "selection for snpID: 14:69873335\n",
        "found 164491 matching SNPs"
       ]
      },
      {
       "output_type": "stream",
       "stream": "stdout",
       "text": [
        "\n",
        "time elapsed: 0.797088861465\n",
        "selection for snpID: 9:5453460\n",
        "found 164491 matching SNPs"
       ]
      },
      {
       "output_type": "stream",
       "stream": "stdout",
       "text": [
        "\n",
        "time elapsed: 0.811434030533\n",
        "selection for snpID: 7:88660988\n",
        "found 164491 matching SNPs"
       ]
      },
      {
       "output_type": "stream",
       "stream": "stdout",
       "text": [
        "\n",
        "time elapsed: 0.870404005051\n",
        "selection for snpID: 1:201688955\n",
        "found 164491 matching SNPs"
       ]
      },
      {
       "output_type": "stream",
       "stream": "stdout",
       "text": [
        "\n",
        "time elapsed: 0.777417898178\n",
        "selection for snpID: 1:181844943\n",
        "found 164491 matching SNPs"
       ]
      },
      {
       "output_type": "stream",
       "stream": "stdout",
       "text": [
        "\n",
        "time elapsed: 0.8012778759\n",
        "selection for snpID: 18:67015865\n",
        "found 164491 matching SNPs"
       ]
      },
      {
       "output_type": "stream",
       "stream": "stdout",
       "text": [
        "\n",
        "time elapsed: 0.785856962204\n",
        "selection for snpID: 6:32592119\n",
        "found 164491 matching SNPs"
       ]
      },
      {
       "output_type": "stream",
       "stream": "stdout",
       "text": [
        "\n",
        "time elapsed: 0.8021941185\n",
        "selection for snpID: 9:133472747\n",
        "found 164491 matching SNPs"
       ]
      },
      {
       "output_type": "stream",
       "stream": "stdout",
       "text": [
        "\n",
        "time elapsed: 0.76641201973\n",
        "selection for snpID: 4:63055561\n",
        "found 164491 matching SNPs"
       ]
      },
      {
       "output_type": "stream",
       "stream": "stdout",
       "text": [
        "\n",
        "time elapsed: 0.769662857056\n",
        "selection for snpID: 11:127160664\n",
        "found 164491 matching SNPs"
       ]
      },
      {
       "output_type": "stream",
       "stream": "stdout",
       "text": [
        "\n",
        "time elapsed: 0.769463062286\n",
        "selection for snpID: 14:69873335\n",
        "found 164491 matching SNPs"
       ]
      },
      {
       "output_type": "stream",
       "stream": "stdout",
       "text": [
        "\n",
        "time elapsed: 0.780983924866\n",
        "selection for snpID: 9:5453460\n",
        "found 164491 matching SNPs"
       ]
      },
      {
       "output_type": "stream",
       "stream": "stdout",
       "text": [
        "\n",
        "time elapsed: 0.770402908325\n",
        "selection for snpID: 7:88660988\n",
        "found 164491 matching SNPs"
       ]
      },
      {
       "output_type": "stream",
       "stream": "stdout",
       "text": [
        "\n",
        "time elapsed: 0.77411198616\n",
        "selection for snpID: 1:201688955\n",
        "found 164491 matching SNPs"
       ]
      },
      {
       "output_type": "stream",
       "stream": "stdout",
       "text": [
        "\n",
        "time elapsed: 0.778841972351\n",
        "selection for snpID: 1:181844943\n",
        "found 164491 matching SNPs"
       ]
      },
      {
       "output_type": "stream",
       "stream": "stdout",
       "text": [
        "\n",
        "time elapsed: 0.802565097809\n",
        "selection for snpID: 18:67015865\n",
        "found 164491 matching SNPs"
       ]
      },
      {
       "output_type": "stream",
       "stream": "stdout",
       "text": [
        "\n",
        "time elapsed: 0.781165838242\n",
        "selection for snpID: 6:32592119\n",
        "found 164491 matching SNPs"
       ]
      },
      {
       "output_type": "stream",
       "stream": "stdout",
       "text": [
        "\n",
        "time elapsed: 0.782432079315\n",
        "selection for snpID: 9:133472747\n",
        "found 164491 matching SNPs"
       ]
      },
      {
       "output_type": "stream",
       "stream": "stdout",
       "text": [
        "\n",
        "time elapsed: 0.779692173004\n",
        "selection for snpID: 4:63055561\n",
        "found 164491 matching SNPs"
       ]
      },
      {
       "output_type": "stream",
       "stream": "stdout",
       "text": [
        "\n",
        "time elapsed: 0.789812803268\n",
        "selection for snpID: 11:127160664\n",
        "found 164491 matching SNPs"
       ]
      },
      {
       "output_type": "stream",
       "stream": "stdout",
       "text": [
        "\n",
        "time elapsed: 0.820467948914\n",
        "selection for snpID: 14:69873335\n",
        "found 164491 matching SNPs"
       ]
      },
      {
       "output_type": "stream",
       "stream": "stdout",
       "text": [
        "\n",
        "time elapsed: 0.817430973053\n",
        "selection for snpID: 9:5453460\n",
        "found 164491 matching SNPs"
       ]
      },
      {
       "output_type": "stream",
       "stream": "stdout",
       "text": [
        "\n",
        "time elapsed: 0.819567918777\n",
        "selection for snpID: 7:88660988\n",
        "found 164491 matching SNPs"
       ]
      },
      {
       "output_type": "stream",
       "stream": "stdout",
       "text": [
        "\n",
        "time elapsed: 0.775402069092\n",
        "selection for snpID: 1:201688955\n",
        "found 164491 matching SNPs"
       ]
      },
      {
       "output_type": "stream",
       "stream": "stdout",
       "text": [
        "\n",
        "time elapsed: 0.793587207794\n",
        "selection for snpID: 1:181844943\n",
        "found 164491 matching SNPs"
       ]
      },
      {
       "output_type": "stream",
       "stream": "stdout",
       "text": [
        "\n",
        "time elapsed: 0.807683944702\n",
        "selection for snpID: 18:67015865\n",
        "found 164491 matching SNPs"
       ]
      },
      {
       "output_type": "stream",
       "stream": "stdout",
       "text": [
        "\n",
        "time elapsed: 0.823955059052\n",
        "selection for snpID: 6:32592119\n",
        "found 164491 matching SNPs"
       ]
      },
      {
       "output_type": "stream",
       "stream": "stdout",
       "text": [
        "\n",
        "time elapsed: 0.820298910141\n",
        "selection for snpID: 9:133472747\n",
        "found 164491 matching SNPs"
       ]
      },
      {
       "output_type": "stream",
       "stream": "stdout",
       "text": [
        "\n",
        "time elapsed: 0.78258395195\n",
        "selection for snpID: 4:63055561\n",
        "found 164491 matching SNPs"
       ]
      },
      {
       "output_type": "stream",
       "stream": "stdout",
       "text": [
        "\n",
        "time elapsed: 0.830818891525\n",
        "selection for snpID: 11:127160664\n",
        "found 164491 matching SNPs"
       ]
      },
      {
       "output_type": "stream",
       "stream": "stdout",
       "text": [
        "\n",
        "time elapsed: 0.809316158295\n",
        "selection for snpID: 14:69873335\n",
        "found 164491 matching SNPs"
       ]
      },
      {
       "output_type": "stream",
       "stream": "stdout",
       "text": [
        "\n",
        "time elapsed: 0.817922115326\n",
        "selection for snpID: 9:5453460\n",
        "found 164491 matching SNPs"
       ]
      },
      {
       "output_type": "stream",
       "stream": "stdout",
       "text": [
        "\n",
        "time elapsed: 0.80578494072\n",
        "selection for snpID: 7:88660988\n",
        "found 164491 matching SNPs"
       ]
      },
      {
       "output_type": "stream",
       "stream": "stdout",
       "text": [
        "\n",
        "time elapsed: 0.819838047028\n",
        "selection for snpID: 1:201688955\n",
        "found 164491 matching SNPs"
       ]
      },
      {
       "output_type": "stream",
       "stream": "stdout",
       "text": [
        "\n",
        "time elapsed: 0.827371120453\n",
        "selection for snpID: 1:181844943\n",
        "found 164491 matching SNPs"
       ]
      },
      {
       "output_type": "stream",
       "stream": "stdout",
       "text": [
        "\n",
        "time elapsed: 0.787347078323\n",
        "selection for snpID: 18:67015865\n",
        "found 164491 matching SNPs"
       ]
      },
      {
       "output_type": "stream",
       "stream": "stdout",
       "text": [
        "\n",
        "time elapsed: 0.780221939087\n",
        "selection for snpID: 6:32592119\n",
        "found 164491 matching SNPs"
       ]
      },
      {
       "output_type": "stream",
       "stream": "stdout",
       "text": [
        "\n",
        "time elapsed: 0.786530017853\n",
        "selection for snpID: 9:133472747\n",
        "found 164491 matching SNPs"
       ]
      },
      {
       "output_type": "stream",
       "stream": "stdout",
       "text": [
        "\n",
        "time elapsed: 0.772412061691\n",
        "selection for snpID: 4:63055561\n",
        "found 164491 matching SNPs"
       ]
      },
      {
       "output_type": "stream",
       "stream": "stdout",
       "text": [
        "\n",
        "time elapsed: 0.835484981537\n",
        "selection for snpID: 11:127160664\n",
        "found 164491 matching SNPs"
       ]
      },
      {
       "output_type": "stream",
       "stream": "stdout",
       "text": [
        "\n",
        "time elapsed: 0.808408021927\n",
        "selection for snpID: 14:69873335\n",
        "found 164491 matching SNPs"
       ]
      },
      {
       "output_type": "stream",
       "stream": "stdout",
       "text": [
        "\n",
        "time elapsed: 0.816517114639\n",
        "selection for snpID: 9:5453460\n",
        "found 164491 matching SNPs"
       ]
      },
      {
       "output_type": "stream",
       "stream": "stdout",
       "text": [
        "\n",
        "time elapsed: 0.798202037811\n",
        "selection for snpID: 7:88660988\n",
        "found 164491 matching SNPs"
       ]
      },
      {
       "output_type": "stream",
       "stream": "stdout",
       "text": [
        "\n",
        "time elapsed: 0.83166885376\n",
        "selection for snpID: 1:201688955\n",
        "found 164491 matching SNPs"
       ]
      },
      {
       "output_type": "stream",
       "stream": "stdout",
       "text": [
        "\n",
        "time elapsed: 0.870700120926\n",
        "selection for snpID: 1:181844943\n",
        "found 164491 matching SNPs"
       ]
      },
      {
       "output_type": "stream",
       "stream": "stdout",
       "text": [
        "\n",
        "time elapsed: 0.973649978638\n",
        "selection for snpID: 18:67015865\n",
        "found 164491 matching SNPs"
       ]
      },
      {
       "output_type": "stream",
       "stream": "stdout",
       "text": [
        "\n",
        "time elapsed: 0.857699871063\n",
        "selection for snpID: 6:32592119\n",
        "found 164491 matching SNPs"
       ]
      },
      {
       "output_type": "stream",
       "stream": "stdout",
       "text": [
        "\n",
        "time elapsed: 0.805382013321\n",
        "selection for snpID: 9:133472747\n",
        "found 164491 matching SNPs"
       ]
      },
      {
       "output_type": "stream",
       "stream": "stdout",
       "text": [
        "\n",
        "time elapsed: 0.791285037994\n",
        "selection for snpID: 4:63055561\n",
        "found 164491 matching SNPs"
       ]
      },
      {
       "output_type": "stream",
       "stream": "stdout",
       "text": [
        "\n",
        "time elapsed: 0.78999209404\n",
        "selection for snpID: 11:127160664\n",
        "found 164491 matching SNPs"
       ]
      },
      {
       "output_type": "stream",
       "stream": "stdout",
       "text": [
        "\n",
        "time elapsed: 0.800360202789\n",
        "selection for snpID: 14:69873335\n",
        "found 164491 matching SNPs"
       ]
      },
      {
       "output_type": "stream",
       "stream": "stdout",
       "text": [
        "\n",
        "time elapsed: 0.874051094055\n",
        "selection for snpID: 9:5453460\n",
        "found 164491 matching SNPs"
       ]
      },
      {
       "output_type": "stream",
       "stream": "stdout",
       "text": [
        "\n",
        "time elapsed: 0.793687105179\n",
        "selection for snpID: 7:88660988\n",
        "found 164491 matching SNPs"
       ]
      },
      {
       "output_type": "stream",
       "stream": "stdout",
       "text": [
        "\n",
        "time elapsed: 0.797513961792\n",
        "selection for snpID: 1:201688955\n",
        "found 164491 matching SNPs"
       ]
      },
      {
       "output_type": "stream",
       "stream": "stdout",
       "text": [
        "\n",
        "time elapsed: 0.791118144989\n",
        "selection for snpID: 1:181844943\n",
        "found 164491 matching SNPs"
       ]
      },
      {
       "output_type": "stream",
       "stream": "stdout",
       "text": [
        "\n",
        "time elapsed: 0.789537906647\n",
        "selection for snpID: 18:67015865\n",
        "found 164491 matching SNPs"
       ]
      },
      {
       "output_type": "stream",
       "stream": "stdout",
       "text": [
        "\n",
        "time elapsed: 0.785860061646\n",
        "selection for snpID: 6:32592119\n",
        "found 164491 matching SNPs"
       ]
      },
      {
       "output_type": "stream",
       "stream": "stdout",
       "text": [
        "\n",
        "time elapsed: 0.759373188019\n",
        "selection for snpID: 9:133472747\n",
        "found 164491 matching SNPs"
       ]
      },
      {
       "output_type": "stream",
       "stream": "stdout",
       "text": [
        "\n",
        "time elapsed: 0.768730163574\n",
        "selection for snpID: 4:63055561\n",
        "found 164491 matching SNPs"
       ]
      },
      {
       "output_type": "stream",
       "stream": "stdout",
       "text": [
        "\n",
        "time elapsed: 0.768442869186\n",
        "selection for snpID: 11:127160664\n",
        "found 164491 matching SNPs"
       ]
      },
      {
       "output_type": "stream",
       "stream": "stdout",
       "text": [
        "\n",
        "time elapsed: 0.776911020279\n",
        "selection for snpID: 14:69873335\n",
        "found 164491 matching SNPs"
       ]
      },
      {
       "output_type": "stream",
       "stream": "stdout",
       "text": [
        "\n",
        "time elapsed: 0.778393030167\n",
        "selection for snpID: 9:5453460\n",
        "found 164491 matching SNPs"
       ]
      },
      {
       "output_type": "stream",
       "stream": "stdout",
       "text": [
        "\n",
        "time elapsed: 0.774235010147\n",
        "selection for snpID: 7:88660988\n",
        "found 164491 matching SNPs"
       ]
      },
      {
       "output_type": "stream",
       "stream": "stdout",
       "text": [
        "\n",
        "time elapsed: 0.787744045258\n",
        "selection for snpID: 1:201688955\n",
        "found 164491 matching SNPs"
       ]
      },
      {
       "output_type": "stream",
       "stream": "stdout",
       "text": [
        "\n",
        "time elapsed: 0.771906137466\n",
        "selection for snpID: 1:181844943\n",
        "found 164491 matching SNPs"
       ]
      },
      {
       "output_type": "stream",
       "stream": "stdout",
       "text": [
        "\n",
        "time elapsed: 0.777885198593\n",
        "selection for snpID: 18:67015865\n",
        "found 164491 matching SNPs"
       ]
      },
      {
       "output_type": "stream",
       "stream": "stdout",
       "text": [
        "\n",
        "time elapsed: 0.770799875259\n",
        "selection for snpID: 6:32592119\n",
        "found 164491 matching SNPs"
       ]
      },
      {
       "output_type": "stream",
       "stream": "stdout",
       "text": [
        "\n",
        "time elapsed: 0.784909009933\n",
        "selection for snpID: 9:133472747\n",
        "found 164491 matching SNPs"
       ]
      },
      {
       "output_type": "stream",
       "stream": "stdout",
       "text": [
        "\n",
        "time elapsed: 0.771672964096\n",
        "selection for snpID: 4:63055561\n",
        "found 164491 matching SNPs"
       ]
      },
      {
       "output_type": "stream",
       "stream": "stdout",
       "text": [
        "\n",
        "time elapsed: 0.800440073013\n",
        "selection for snpID: 11:127160664\n",
        "found 164491 matching SNPs"
       ]
      },
      {
       "output_type": "stream",
       "stream": "stdout",
       "text": [
        "\n",
        "time elapsed: 0.792788982391\n",
        "selection for snpID: 14:69873335\n",
        "found 164491 matching SNPs"
       ]
      },
      {
       "output_type": "stream",
       "stream": "stdout",
       "text": [
        "\n",
        "time elapsed: 0.770541906357\n",
        "selection for snpID: 9:5453460\n",
        "found 164491 matching SNPs"
       ]
      },
      {
       "output_type": "stream",
       "stream": "stdout",
       "text": [
        "\n",
        "time elapsed: 0.766238927841\n",
        "selection for snpID: 7:88660988\n",
        "found 164491 matching SNPs"
       ]
      },
      {
       "output_type": "stream",
       "stream": "stdout",
       "text": [
        "\n",
        "time elapsed: 0.772734880447\n",
        "selection for snpID: 1:201688955\n",
        "found 164491 matching SNPs"
       ]
      },
      {
       "output_type": "stream",
       "stream": "stdout",
       "text": [
        "\n",
        "time elapsed: 0.78188085556\n",
        "selection for snpID: 1:181844943\n",
        "found 164491 matching SNPs"
       ]
      },
      {
       "output_type": "stream",
       "stream": "stdout",
       "text": [
        "\n",
        "time elapsed: 0.784868955612\n",
        "selection for snpID: 18:67015865\n",
        "found 164491 matching SNPs"
       ]
      },
      {
       "output_type": "stream",
       "stream": "stdout",
       "text": [
        "\n",
        "time elapsed: 0.763709068298\n",
        "selection for snpID: 6:32592119\n",
        "found 164491 matching SNPs"
       ]
      },
      {
       "output_type": "stream",
       "stream": "stdout",
       "text": [
        "\n",
        "time elapsed: 0.782231092453\n",
        "selection for snpID: 9:133472747\n",
        "found 164491 matching SNPs"
       ]
      },
      {
       "output_type": "stream",
       "stream": "stdout",
       "text": [
        "\n",
        "time elapsed: 0.766189098358\n",
        "selection for snpID: 4:63055561\n",
        "found 164491 matching SNPs"
       ]
      },
      {
       "output_type": "stream",
       "stream": "stdout",
       "text": [
        "\n",
        "time elapsed: 0.779963970184\n",
        "selection for snpID: 11:127160664\n",
        "found 164491 matching SNPs"
       ]
      },
      {
       "output_type": "stream",
       "stream": "stdout",
       "text": [
        "\n",
        "time elapsed: 0.779088020325\n",
        "selection for snpID: 14:69873335\n",
        "found 164491 matching SNPs"
       ]
      },
      {
       "output_type": "stream",
       "stream": "stdout",
       "text": [
        "\n",
        "time elapsed: 0.774000883102\n",
        "selection for snpID: 9:5453460\n",
        "found 164491 matching SNPs"
       ]
      },
      {
       "output_type": "stream",
       "stream": "stdout",
       "text": [
        "\n",
        "time elapsed: 0.796376943588\n",
        "selection for snpID: 7:88660988\n",
        "found 164491 matching SNPs"
       ]
      },
      {
       "output_type": "stream",
       "stream": "stdout",
       "text": [
        "\n",
        "time elapsed: 0.783721923828\n",
        "selection for snpID: 1:201688955\n",
        "found 164491 matching SNPs"
       ]
      },
      {
       "output_type": "stream",
       "stream": "stdout",
       "text": [
        "\n",
        "time elapsed: 0.782876968384\n",
        "selection for snpID: 1:181844943\n",
        "found 164491 matching SNPs"
       ]
      },
      {
       "output_type": "stream",
       "stream": "stdout",
       "text": [
        "\n",
        "time elapsed: 0.765089035034\n",
        "selection for snpID: 18:67015865\n",
        "found 164491 matching SNPs"
       ]
      },
      {
       "output_type": "stream",
       "stream": "stdout",
       "text": [
        "\n",
        "time elapsed: 0.769909858704\n",
        "selection for snpID: 6:32592119\n",
        "found 164491 matching SNPs"
       ]
      },
      {
       "output_type": "stream",
       "stream": "stdout",
       "text": [
        "\n",
        "time elapsed: 0.774801969528\n",
        "selection for snpID: 9:133472747\n",
        "found 164491 matching SNPs"
       ]
      },
      {
       "output_type": "stream",
       "stream": "stdout",
       "text": [
        "\n",
        "time elapsed: 0.780822992325\n",
        "selection for snpID: 4:63055561\n",
        "found 164491 matching SNPs"
       ]
      },
      {
       "output_type": "stream",
       "stream": "stdout",
       "text": [
        "\n",
        "time elapsed: 0.779999017715\n",
        "selection for snpID: 11:127160664\n",
        "found 164491 matching SNPs"
       ]
      },
      {
       "output_type": "stream",
       "stream": "stdout",
       "text": [
        "\n",
        "time elapsed: 0.78342294693\n",
        "selection for snpID: 14:69873335\n",
        "found 164491 matching SNPs"
       ]
      },
      {
       "output_type": "stream",
       "stream": "stdout",
       "text": [
        "\n",
        "time elapsed: 0.780428886414\n",
        "selection for snpID: 9:5453460\n",
        "found 164491 matching SNPs"
       ]
      },
      {
       "output_type": "stream",
       "stream": "stdout",
       "text": [
        "\n",
        "time elapsed: 0.769332885742\n",
        "selection for snpID: 7:88660988\n",
        "found 164491 matching SNPs"
       ]
      },
      {
       "output_type": "stream",
       "stream": "stdout",
       "text": [
        "\n",
        "time elapsed: 0.768935918808\n",
        "selection for snpID: 1:201688955\n",
        "found 164491 matching SNPs"
       ]
      },
      {
       "output_type": "stream",
       "stream": "stdout",
       "text": [
        "\n",
        "time elapsed: 0.786133766174\n",
        "selection for snpID: 1:181844943\n",
        "found 164491 matching SNPs"
       ]
      },
      {
       "output_type": "stream",
       "stream": "stdout",
       "text": [
        "\n",
        "time elapsed: 0.785192012787\n",
        "selection for snpID: 18:67015865\n",
        "found 164491 matching SNPs"
       ]
      },
      {
       "output_type": "stream",
       "stream": "stdout",
       "text": [
        "\n",
        "time elapsed: 0.761739969254\n",
        "selection for snpID: 6:32592119\n",
        "found 164491 matching SNPs"
       ]
      },
      {
       "output_type": "stream",
       "stream": "stdout",
       "text": [
        "\n",
        "time elapsed: 0.76854801178\n",
        "selection for snpID: 9:133472747\n",
        "found 164491 matching SNPs"
       ]
      },
      {
       "output_type": "stream",
       "stream": "stdout",
       "text": [
        "\n",
        "time elapsed: 0.798861980438\n",
        "selection for snpID: 4:63055561\n",
        "found 164491 matching SNPs"
       ]
      },
      {
       "output_type": "stream",
       "stream": "stdout",
       "text": [
        "\n",
        "time elapsed: 0.852355957031\n",
        "selection for snpID: 11:127160664\n",
        "found 164491 matching SNPs"
       ]
      },
      {
       "output_type": "stream",
       "stream": "stdout",
       "text": [
        "\n",
        "time elapsed: 0.763750076294\n",
        "selection for snpID: 14:69873335\n",
        "found 164491 matching SNPs"
       ]
      },
      {
       "output_type": "stream",
       "stream": "stdout",
       "text": [
        "\n",
        "time elapsed: 0.759519100189\n",
        "selection for snpID: 9:5453460\n",
        "found 164491 matching SNPs"
       ]
      },
      {
       "output_type": "stream",
       "stream": "stdout",
       "text": [
        "\n",
        "time elapsed: 0.780158042908\n",
        "selection for snpID: 7:88660988\n",
        "found 164491 matching SNPs"
       ]
      },
      {
       "output_type": "stream",
       "stream": "stdout",
       "text": [
        "\n",
        "time elapsed: 0.831040859222\n",
        "selection for snpID: 1:201688955\n",
        "found 164491 matching SNPs"
       ]
      },
      {
       "output_type": "stream",
       "stream": "stdout",
       "text": [
        "\n",
        "time elapsed: 0.758453130722\n",
        "selection for snpID: 1:181844943\n",
        "found 164491 matching SNPs"
       ]
      },
      {
       "output_type": "stream",
       "stream": "stdout",
       "text": [
        "\n",
        "time elapsed: 0.770807027817\n",
        "selection for snpID: 18:67015865\n",
        "found 164491 matching SNPs"
       ]
      },
      {
       "output_type": "stream",
       "stream": "stdout",
       "text": [
        "\n",
        "time elapsed: 0.77028298378\n",
        "selection for snpID: 6:32592119\n",
        "found 164491 matching SNPs"
       ]
      },
      {
       "output_type": "stream",
       "stream": "stdout",
       "text": [
        "\n",
        "time elapsed: 0.755738019943\n",
        "selection for snpID: 9:133472747\n",
        "found 164491 matching SNPs"
       ]
      },
      {
       "output_type": "stream",
       "stream": "stdout",
       "text": [
        "\n",
        "time elapsed: 0.765338897705\n",
        "selection for snpID: 4:63055561\n",
        "found 164491 matching SNPs"
       ]
      },
      {
       "output_type": "stream",
       "stream": "stdout",
       "text": [
        "\n",
        "time elapsed: 0.750274896622\n",
        "selection for snpID: 11:127160664\n",
        "found 164491 matching SNPs"
       ]
      },
      {
       "output_type": "stream",
       "stream": "stdout",
       "text": [
        "\n",
        "time elapsed: 0.780249834061\n",
        "selection for snpID: 14:69873335\n",
        "found 164491 matching SNPs"
       ]
      },
      {
       "output_type": "stream",
       "stream": "stdout",
       "text": [
        "\n",
        "time elapsed: 0.771766901016\n",
        "selection for snpID: 9:5453460\n",
        "found 164491 matching SNPs"
       ]
      },
      {
       "output_type": "stream",
       "stream": "stdout",
       "text": [
        "\n",
        "time elapsed: 0.751972198486\n",
        "selection for snpID: 7:88660988\n",
        "found 164491 matching SNPs"
       ]
      },
      {
       "output_type": "stream",
       "stream": "stdout",
       "text": [
        "\n",
        "time elapsed: 0.774641990662\n",
        "selection for snpID: 1:201688955\n",
        "found 164491 matching SNPs"
       ]
      },
      {
       "output_type": "stream",
       "stream": "stdout",
       "text": [
        "\n",
        "time elapsed: 0.760684013367\n",
        "selection for snpID: 1:181844943\n",
        "found 164491 matching SNPs"
       ]
      },
      {
       "output_type": "stream",
       "stream": "stdout",
       "text": [
        "\n",
        "time elapsed: 0.76965379715\n",
        "selection for snpID: 18:67015865\n",
        "found 164491 matching SNPs"
       ]
      },
      {
       "output_type": "stream",
       "stream": "stdout",
       "text": [
        "\n",
        "time elapsed: 0.78054189682\n",
        "selection for snpID: 6:32592119\n",
        "found 164491 matching SNPs"
       ]
      },
      {
       "output_type": "stream",
       "stream": "stdout",
       "text": [
        "\n",
        "time elapsed: 0.769942998886\n",
        "selection for snpID: 9:133472747\n",
        "found 164491 matching SNPs"
       ]
      },
      {
       "output_type": "stream",
       "stream": "stdout",
       "text": [
        "\n",
        "time elapsed: 0.763157129288\n",
        "selection for snpID: 4:63055561\n",
        "found 164491 matching SNPs"
       ]
      },
      {
       "output_type": "stream",
       "stream": "stdout",
       "text": [
        "\n",
        "time elapsed: 0.769222021103\n",
        "selection for snpID: 11:127160664\n",
        "found 164491 matching SNPs"
       ]
      },
      {
       "output_type": "stream",
       "stream": "stdout",
       "text": [
        "\n",
        "time elapsed: 0.779778003693\n",
        "selection for snpID: 14:69873335\n",
        "found 164491 matching SNPs"
       ]
      },
      {
       "output_type": "stream",
       "stream": "stdout",
       "text": [
        "\n",
        "time elapsed: 0.764604091644\n",
        "selection for snpID: 9:5453460\n",
        "found 164491 matching SNPs"
       ]
      },
      {
       "output_type": "stream",
       "stream": "stdout",
       "text": [
        "\n",
        "time elapsed: 0.767014026642\n",
        "selection for snpID: 7:88660988\n",
        "found 164491 matching SNPs"
       ]
      },
      {
       "output_type": "stream",
       "stream": "stdout",
       "text": [
        "\n",
        "time elapsed: 0.780529022217\n",
        "selection for snpID: 1:201688955\n",
        "found 164491 matching SNPs"
       ]
      },
      {
       "output_type": "stream",
       "stream": "stdout",
       "text": [
        "\n",
        "time elapsed: 0.771289110184\n",
        "selection for snpID: 1:181844943\n",
        "found 164491 matching SNPs"
       ]
      },
      {
       "output_type": "stream",
       "stream": "stdout",
       "text": [
        "\n",
        "time elapsed: 0.756946086884\n",
        "selection for snpID: 18:67015865\n",
        "found 164491 matching SNPs"
       ]
      },
      {
       "output_type": "stream",
       "stream": "stdout",
       "text": [
        "\n",
        "time elapsed: 0.775349140167\n",
        "selection for snpID: 6:32592119\n",
        "found 164491 matching SNPs"
       ]
      },
      {
       "output_type": "stream",
       "stream": "stdout",
       "text": [
        "\n",
        "time elapsed: 0.774814128876\n",
        "selection for snpID: 9:133472747\n",
        "found 164491 matching SNPs"
       ]
      },
      {
       "output_type": "stream",
       "stream": "stdout",
       "text": [
        "\n",
        "time elapsed: 0.798226118088\n",
        "selection for snpID: 4:63055561\n",
        "found 164491 matching SNPs"
       ]
      },
      {
       "output_type": "stream",
       "stream": "stdout",
       "text": [
        "\n",
        "time elapsed: 0.795726060867\n",
        "selection for snpID: 11:127160664\n",
        "found 164491 matching SNPs"
       ]
      },
      {
       "output_type": "stream",
       "stream": "stdout",
       "text": [
        "\n",
        "time elapsed: 0.776208162308\n",
        "selection for snpID: 14:69873335\n",
        "found 164491 matching SNPs"
       ]
      },
      {
       "output_type": "stream",
       "stream": "stdout",
       "text": [
        "\n",
        "time elapsed: 0.782813072205\n",
        "selection for snpID: 9:5453460\n",
        "found 164491 matching SNPs"
       ]
      },
      {
       "output_type": "stream",
       "stream": "stdout",
       "text": [
        "\n",
        "time elapsed: 0.794737100601\n",
        "selection for snpID: 7:88660988\n",
        "found 164491 matching SNPs"
       ]
      },
      {
       "output_type": "stream",
       "stream": "stdout",
       "text": [
        "\n",
        "time elapsed: 0.784412145615\n",
        "selection for snpID: 1:201688955\n",
        "found 164491 matching SNPs"
       ]
      },
      {
       "output_type": "stream",
       "stream": "stdout",
       "text": [
        "\n",
        "time elapsed: 0.792355775833\n",
        "selection for snpID: 1:181844943\n",
        "found 164491 matching SNPs"
       ]
      },
      {
       "output_type": "stream",
       "stream": "stdout",
       "text": [
        "\n",
        "time elapsed: 0.799100875854\n",
        "selection for snpID: 18:67015865\n",
        "found 164491 matching SNPs"
       ]
      },
      {
       "output_type": "stream",
       "stream": "stdout",
       "text": [
        "\n",
        "time elapsed: 0.810392141342\n",
        "selection for snpID: 6:32592119\n",
        "found 164491 matching SNPs"
       ]
      },
      {
       "output_type": "stream",
       "stream": "stdout",
       "text": [
        "\n",
        "time elapsed: 0.7877202034\n",
        "selection for snpID: 9:133472747\n",
        "found 164491 matching SNPs"
       ]
      },
      {
       "output_type": "stream",
       "stream": "stdout",
       "text": [
        "\n",
        "time elapsed: 0.775745868683\n",
        "selection for snpID: 4:63055561\n",
        "found 164491 matching SNPs"
       ]
      },
      {
       "output_type": "stream",
       "stream": "stdout",
       "text": [
        "\n",
        "time elapsed: 0.788552045822\n",
        "selection for snpID: 11:127160664\n",
        "found 164491 matching SNPs"
       ]
      },
      {
       "output_type": "stream",
       "stream": "stdout",
       "text": [
        "\n",
        "time elapsed: 0.795068979263\n",
        "selection for snpID: 14:69873335\n",
        "found 164491 matching SNPs"
       ]
      },
      {
       "output_type": "stream",
       "stream": "stdout",
       "text": [
        "\n",
        "time elapsed: 0.79442191124\n",
        "selection for snpID: 9:5453460\n",
        "found 164491 matching SNPs"
       ]
      },
      {
       "output_type": "stream",
       "stream": "stdout",
       "text": [
        "\n",
        "time elapsed: 0.796144962311\n",
        "selection for snpID: 7:88660988\n",
        "found 164491 matching SNPs"
       ]
      },
      {
       "output_type": "stream",
       "stream": "stdout",
       "text": [
        "\n",
        "time elapsed: 0.790696144104\n",
        "selection for snpID: 1:201688955\n",
        "found 164491 matching SNPs"
       ]
      },
      {
       "output_type": "stream",
       "stream": "stdout",
       "text": [
        "\n",
        "time elapsed: 0.779313087463\n",
        "selection for snpID: 1:181844943\n",
        "found 164491 matching SNPs"
       ]
      },
      {
       "output_type": "stream",
       "stream": "stdout",
       "text": [
        "\n",
        "time elapsed: 0.782267808914\n",
        "selection for snpID: 18:67015865\n",
        "found 164491 matching SNPs"
       ]
      },
      {
       "output_type": "stream",
       "stream": "stdout",
       "text": [
        "\n",
        "time elapsed: 0.781288146973\n",
        "selection for snpID: 6:32592119\n",
        "found 164491 matching SNPs"
       ]
      },
      {
       "output_type": "stream",
       "stream": "stdout",
       "text": [
        "\n",
        "time elapsed: 0.777189016342\n",
        "selection for snpID: 9:133472747\n",
        "found 164491 matching SNPs"
       ]
      },
      {
       "output_type": "stream",
       "stream": "stdout",
       "text": [
        "\n",
        "time elapsed: 0.833729982376\n",
        "selection for snpID: 4:63055561\n",
        "found 164491 matching SNPs"
       ]
      },
      {
       "output_type": "stream",
       "stream": "stdout",
       "text": [
        "\n",
        "time elapsed: 0.771408081055\n",
        "selection for snpID: 11:127160664\n",
        "found 164491 matching SNPs"
       ]
      },
      {
       "output_type": "stream",
       "stream": "stdout",
       "text": [
        "\n",
        "time elapsed: 0.77099609375\n",
        "selection for snpID: 14:69873335\n",
        "found 164491 matching SNPs"
       ]
      },
      {
       "output_type": "stream",
       "stream": "stdout",
       "text": [
        "\n",
        "time elapsed: 0.785342931747\n",
        "selection for snpID: 9:5453460\n",
        "found 164491 matching SNPs"
       ]
      },
      {
       "output_type": "stream",
       "stream": "stdout",
       "text": [
        "\n",
        "time elapsed: 0.785493135452\n",
        "selection for snpID: 7:88660988\n",
        "found 164491 matching SNPs"
       ]
      },
      {
       "output_type": "stream",
       "stream": "stdout",
       "text": [
        "\n",
        "time elapsed: 0.78165102005\n",
        "selection for snpID: 1:201688955\n",
        "found 164491 matching SNPs"
       ]
      },
      {
       "output_type": "stream",
       "stream": "stdout",
       "text": [
        "\n",
        "time elapsed: 0.771112918854\n",
        "selection for snpID: 1:181844943\n",
        "found 164491 matching SNPs"
       ]
      },
      {
       "output_type": "stream",
       "stream": "stdout",
       "text": [
        "\n",
        "time elapsed: 0.829508066177\n",
        "selection for snpID: 18:67015865\n",
        "found 164491 matching SNPs"
       ]
      },
      {
       "output_type": "stream",
       "stream": "stdout",
       "text": [
        "\n",
        "time elapsed: 0.801494836807\n",
        "selection for snpID: 6:32592119\n",
        "found 164491 matching SNPs"
       ]
      },
      {
       "output_type": "stream",
       "stream": "stdout",
       "text": [
        "\n",
        "time elapsed: 0.786379098892\n",
        "selection for snpID: 9:133472747\n",
        "found 164491 matching SNPs"
       ]
      },
      {
       "output_type": "stream",
       "stream": "stdout",
       "text": [
        "\n",
        "time elapsed: 0.775835037231\n",
        "selection for snpID: 4:63055561\n",
        "found 164491 matching SNPs"
       ]
      },
      {
       "output_type": "stream",
       "stream": "stdout",
       "text": [
        "\n",
        "time elapsed: 0.792137145996\n",
        "selection for snpID: 11:127160664\n",
        "found 164491 matching SNPs"
       ]
      },
      {
       "output_type": "stream",
       "stream": "stdout",
       "text": [
        "\n",
        "time elapsed: 0.811460971832\n",
        "selection for snpID: 14:69873335\n",
        "found 164491 matching SNPs"
       ]
      },
      {
       "output_type": "stream",
       "stream": "stdout",
       "text": [
        "\n",
        "time elapsed: 0.803648948669\n",
        "selection for snpID: 9:5453460\n",
        "found 164491 matching SNPs"
       ]
      },
      {
       "output_type": "stream",
       "stream": "stdout",
       "text": [
        "\n",
        "time elapsed: 0.814142942429\n",
        "selection for snpID: 7:88660988\n",
        "found 164491 matching SNPs"
       ]
      },
      {
       "output_type": "stream",
       "stream": "stdout",
       "text": [
        "\n",
        "time elapsed: 0.80676484108\n",
        "selection for snpID: 1:201688955\n",
        "found 164491 matching SNPs"
       ]
      },
      {
       "output_type": "stream",
       "stream": "stdout",
       "text": [
        "\n",
        "time elapsed: 0.801685810089\n",
        "selection for snpID: 1:181844943\n",
        "found 164491 matching SNPs"
       ]
      },
      {
       "output_type": "stream",
       "stream": "stdout",
       "text": [
        "\n",
        "time elapsed: 0.80589389801\n",
        "selection for snpID: 18:67015865\n",
        "found 164491 matching SNPs"
       ]
      },
      {
       "output_type": "stream",
       "stream": "stdout",
       "text": [
        "\n",
        "time elapsed: 0.807446956635\n",
        "selection for snpID: 6:32592119\n",
        "found 164491 matching SNPs"
       ]
      },
      {
       "output_type": "stream",
       "stream": "stdout",
       "text": [
        "\n",
        "time elapsed: 0.816867113113\n",
        "selection for snpID: 9:133472747\n",
        "found 164491 matching SNPs"
       ]
      },
      {
       "output_type": "stream",
       "stream": "stdout",
       "text": [
        "\n",
        "time elapsed: 0.802433013916\n",
        "selection for snpID: 4:63055561\n",
        "found 164491 matching SNPs"
       ]
      },
      {
       "output_type": "stream",
       "stream": "stdout",
       "text": [
        "\n",
        "time elapsed: 0.804744958878\n",
        "selection for snpID: 11:127160664\n",
        "found 164491 matching SNPs"
       ]
      },
      {
       "output_type": "stream",
       "stream": "stdout",
       "text": [
        "\n",
        "time elapsed: 0.811573028564\n",
        "selection for snpID: 14:69873335\n",
        "found 164491 matching SNPs"
       ]
      },
      {
       "output_type": "stream",
       "stream": "stdout",
       "text": [
        "\n",
        "time elapsed: 0.804219961166\n",
        "selection for snpID: 9:5453460\n",
        "found 164491 matching SNPs"
       ]
      },
      {
       "output_type": "stream",
       "stream": "stdout",
       "text": [
        "\n",
        "time elapsed: 0.808006048203\n",
        "selection for snpID: 7:88660988\n",
        "found 164491 matching SNPs"
       ]
      },
      {
       "output_type": "stream",
       "stream": "stdout",
       "text": [
        "\n",
        "time elapsed: 0.815416812897\n",
        "selection for snpID: 1:201688955\n",
        "found 164491 matching SNPs"
       ]
      },
      {
       "output_type": "stream",
       "stream": "stdout",
       "text": [
        "\n",
        "time elapsed: 0.843015909195\n",
        "selection for snpID: 1:181844943\n",
        "found 164491 matching SNPs"
       ]
      },
      {
       "output_type": "stream",
       "stream": "stdout",
       "text": [
        "\n",
        "time elapsed: 0.838386774063\n",
        "selection for snpID: 18:67015865\n",
        "found 164491 matching SNPs"
       ]
      },
      {
       "output_type": "stream",
       "stream": "stdout",
       "text": [
        "\n",
        "time elapsed: 0.853219032288\n",
        "selection for snpID: 6:32592119\n",
        "found 164491 matching SNPs"
       ]
      },
      {
       "output_type": "stream",
       "stream": "stdout",
       "text": [
        "\n",
        "time elapsed: 0.818198204041\n",
        "selection for snpID: 9:133472747\n",
        "found 164491 matching SNPs"
       ]
      },
      {
       "output_type": "stream",
       "stream": "stdout",
       "text": [
        "\n",
        "time elapsed: 0.810450077057\n",
        "selection for snpID: 4:63055561\n",
        "found 164491 matching SNPs"
       ]
      },
      {
       "output_type": "stream",
       "stream": "stdout",
       "text": [
        "\n",
        "time elapsed: 0.816043138504\n",
        "selection for snpID: 11:127160664\n",
        "found 164491 matching SNPs"
       ]
      },
      {
       "output_type": "stream",
       "stream": "stdout",
       "text": [
        "\n",
        "time elapsed: 0.771283149719\n",
        "selection for snpID: 14:69873335\n",
        "found 164491 matching SNPs"
       ]
      },
      {
       "output_type": "stream",
       "stream": "stdout",
       "text": [
        "\n",
        "time elapsed: 0.77917599678\n",
        "selection for snpID: 9:5453460\n",
        "found 164491 matching SNPs"
       ]
      },
      {
       "output_type": "stream",
       "stream": "stdout",
       "text": [
        "\n",
        "time elapsed: 0.784389019012\n",
        "selection for snpID: 7:88660988\n",
        "found 164491 matching SNPs"
       ]
      },
      {
       "output_type": "stream",
       "stream": "stdout",
       "text": [
        "\n",
        "time elapsed: 0.80159497261\n",
        "selection for snpID: 1:201688955\n",
        "found 164491 matching SNPs"
       ]
      },
      {
       "output_type": "stream",
       "stream": "stdout",
       "text": [
        "\n",
        "time elapsed: 0.773321866989\n",
        "selection for snpID: 1:181844943\n",
        "found 164491 matching SNPs"
       ]
      },
      {
       "output_type": "stream",
       "stream": "stdout",
       "text": [
        "\n",
        "time elapsed: 0.768221855164\n",
        "selection for snpID: 18:67015865\n",
        "found 164491 matching SNPs"
       ]
      },
      {
       "output_type": "stream",
       "stream": "stdout",
       "text": [
        "\n",
        "time elapsed: 0.799571037292\n",
        "selection for snpID: 6:32592119\n",
        "found 164491 matching SNPs"
       ]
      },
      {
       "output_type": "stream",
       "stream": "stdout",
       "text": [
        "\n",
        "time elapsed: 0.795847892761\n",
        "selection for snpID: 9:133472747\n",
        "found 164491 matching SNPs"
       ]
      },
      {
       "output_type": "stream",
       "stream": "stdout",
       "text": [
        "\n",
        "time elapsed: 0.795929193497\n",
        "selection for snpID: 4:63055561\n",
        "found 164491 matching SNPs"
       ]
      },
      {
       "output_type": "stream",
       "stream": "stdout",
       "text": [
        "\n",
        "time elapsed: 0.912135124207\n",
        "selection for snpID: 11:127160664\n",
        "found 164491 matching SNPs"
       ]
      },
      {
       "output_type": "stream",
       "stream": "stdout",
       "text": [
        "\n",
        "time elapsed: 0.868990898132\n",
        "selection for snpID: 14:69873335\n",
        "found 164491 matching SNPs"
       ]
      },
      {
       "output_type": "stream",
       "stream": "stdout",
       "text": [
        "\n",
        "time elapsed: 0.815707921982\n",
        "selection for snpID: 9:5453460\n",
        "found 164491 matching SNPs"
       ]
      },
      {
       "output_type": "stream",
       "stream": "stdout",
       "text": [
        "\n",
        "time elapsed: 0.834315061569\n",
        "selection for snpID: 7:88660988\n",
        "found 164491 matching SNPs"
       ]
      },
      {
       "output_type": "stream",
       "stream": "stdout",
       "text": [
        "\n",
        "time elapsed: 0.817162036896\n",
        "selection for snpID: 1:201688955\n",
        "found 164491 matching SNPs"
       ]
      },
      {
       "output_type": "stream",
       "stream": "stdout",
       "text": [
        "\n",
        "time elapsed: 0.809303998947\n",
        "selection for snpID: 1:181844943\n",
        "found 164491 matching SNPs"
       ]
      },
      {
       "output_type": "stream",
       "stream": "stdout",
       "text": [
        "\n",
        "time elapsed: 0.799537181854\n",
        "selection for snpID: 18:67015865\n",
        "found 164491 matching SNPs"
       ]
      },
      {
       "output_type": "stream",
       "stream": "stdout",
       "text": [
        "\n",
        "time elapsed: 0.847666025162\n",
        "selection for snpID: 6:32592119\n",
        "found 164491 matching SNPs"
       ]
      },
      {
       "output_type": "stream",
       "stream": "stdout",
       "text": [
        "\n",
        "time elapsed: 0.788491010666\n",
        "selection for snpID: 9:133472747\n",
        "found 164491 matching SNPs"
       ]
      },
      {
       "output_type": "stream",
       "stream": "stdout",
       "text": [
        "\n",
        "time elapsed: 0.80476307869\n",
        "selection for snpID: 4:63055561\n",
        "found 164491 matching SNPs"
       ]
      },
      {
       "output_type": "stream",
       "stream": "stdout",
       "text": [
        "\n",
        "time elapsed: 0.780739784241\n",
        "selection for snpID: 11:127160664\n",
        "found 164491 matching SNPs"
       ]
      },
      {
       "output_type": "stream",
       "stream": "stdout",
       "text": [
        "\n",
        "time elapsed: 0.786735057831\n",
        "selection for snpID: 14:69873335\n",
        "found 164491 matching SNPs"
       ]
      },
      {
       "output_type": "stream",
       "stream": "stdout",
       "text": [
        "\n",
        "time elapsed: 0.783369064331\n",
        "selection for snpID: 9:5453460\n",
        "found 164491 matching SNPs"
       ]
      },
      {
       "output_type": "stream",
       "stream": "stdout",
       "text": [
        "\n",
        "time elapsed: 0.770811080933\n",
        "selection for snpID: 7:88660988\n",
        "found 164491 matching SNPs"
       ]
      },
      {
       "output_type": "stream",
       "stream": "stdout",
       "text": [
        "\n",
        "time elapsed: 0.780407905579\n",
        "selection for snpID: 1:201688955\n",
        "found 164491 matching SNPs"
       ]
      },
      {
       "output_type": "stream",
       "stream": "stdout",
       "text": [
        "\n",
        "time elapsed: 0.784013986588\n",
        "selection for snpID: 1:181844943\n",
        "found 164491 matching SNPs"
       ]
      },
      {
       "output_type": "stream",
       "stream": "stdout",
       "text": [
        "\n",
        "time elapsed: 0.791650056839\n",
        "selection for snpID: 18:67015865\n",
        "found 164491 matching SNPs"
       ]
      },
      {
       "output_type": "stream",
       "stream": "stdout",
       "text": [
        "\n",
        "time elapsed: 0.779732942581\n",
        "selection for snpID: 6:32592119\n",
        "found 164491 matching SNPs"
       ]
      },
      {
       "output_type": "stream",
       "stream": "stdout",
       "text": [
        "\n",
        "time elapsed: 0.787268161774\n",
        "selection for snpID: 9:133472747\n",
        "found 164491 matching SNPs"
       ]
      },
      {
       "output_type": "stream",
       "stream": "stdout",
       "text": [
        "\n",
        "time elapsed: 0.779935121536\n",
        "selection for snpID: 4:63055561\n",
        "found 164491 matching SNPs"
       ]
      },
      {
       "output_type": "stream",
       "stream": "stdout",
       "text": [
        "\n",
        "time elapsed: 0.79776597023\n",
        "selection for snpID: 11:127160664\n",
        "found 164491 matching SNPs"
       ]
      },
      {
       "output_type": "stream",
       "stream": "stdout",
       "text": [
        "\n",
        "time elapsed: 0.814656019211\n",
        "selection for snpID: 14:69873335\n",
        "found 164491 matching SNPs"
       ]
      },
      {
       "output_type": "stream",
       "stream": "stdout",
       "text": [
        "\n",
        "time elapsed: 0.781121969223\n",
        "selection for snpID: 9:5453460\n",
        "found 164491 matching SNPs"
       ]
      },
      {
       "output_type": "stream",
       "stream": "stdout",
       "text": [
        "\n",
        "time elapsed: 0.788275003433\n",
        "selection for snpID: 7:88660988\n",
        "found 164491 matching SNPs"
       ]
      },
      {
       "output_type": "stream",
       "stream": "stdout",
       "text": [
        "\n",
        "time elapsed: 0.779438972473\n",
        "selection for snpID: 1:201688955\n",
        "found 164491 matching SNPs"
       ]
      },
      {
       "output_type": "stream",
       "stream": "stdout",
       "text": [
        "\n",
        "time elapsed: 0.790436983109\n",
        "selection for snpID: 1:181844943\n",
        "found 164491 matching SNPs"
       ]
      },
      {
       "output_type": "stream",
       "stream": "stdout",
       "text": [
        "\n",
        "time elapsed: 0.793518066406\n",
        "selection for snpID: 18:67015865\n",
        "found 164491 matching SNPs"
       ]
      },
      {
       "output_type": "stream",
       "stream": "stdout",
       "text": [
        "\n",
        "time elapsed: 0.816962957382\n",
        "selection for snpID: 6:32592119\n",
        "found 164491 matching SNPs"
       ]
      },
      {
       "output_type": "stream",
       "stream": "stdout",
       "text": [
        "\n",
        "time elapsed: 0.810461997986\n",
        "selection for snpID: 9:133472747\n",
        "found 164491 matching SNPs"
       ]
      },
      {
       "output_type": "stream",
       "stream": "stdout",
       "text": [
        "\n",
        "time elapsed: 0.795822143555\n",
        "selection for snpID: 4:63055561\n",
        "found 164491 matching SNPs"
       ]
      },
      {
       "output_type": "stream",
       "stream": "stdout",
       "text": [
        "\n",
        "time elapsed: 0.79848408699\n",
        "selection for snpID: 11:127160664\n",
        "found 164491 matching SNPs"
       ]
      },
      {
       "output_type": "stream",
       "stream": "stdout",
       "text": [
        "\n",
        "time elapsed: 0.79246711731\n",
        "selection for snpID: 14:69873335\n",
        "found 164491 matching SNPs"
       ]
      },
      {
       "output_type": "stream",
       "stream": "stdout",
       "text": [
        "\n",
        "time elapsed: 0.802800178528\n",
        "selection for snpID: 9:5453460\n",
        "found 164491 matching SNPs"
       ]
      },
      {
       "output_type": "stream",
       "stream": "stdout",
       "text": [
        "\n",
        "time elapsed: 0.795147895813\n",
        "selection for snpID: 7:88660988\n",
        "found 164491 matching SNPs"
       ]
      },
      {
       "output_type": "stream",
       "stream": "stdout",
       "text": [
        "\n",
        "time elapsed: 0.814541816711\n",
        "selection for snpID: 1:201688955\n",
        "found 164491 matching SNPs"
       ]
      },
      {
       "output_type": "stream",
       "stream": "stdout",
       "text": [
        "\n",
        "time elapsed: 0.805509090424\n",
        "selection for snpID: 1:181844943\n",
        "found 164491 matching SNPs"
       ]
      },
      {
       "output_type": "stream",
       "stream": "stdout",
       "text": [
        "\n",
        "time elapsed: 0.934679031372\n",
        "selection for snpID: 18:67015865\n",
        "found 164491 matching SNPs"
       ]
      },
      {
       "output_type": "stream",
       "stream": "stdout",
       "text": [
        "\n",
        "time elapsed: 0.866996049881\n",
        "selection for snpID: 6:32592119\n",
        "found 164491 matching SNPs"
       ]
      },
      {
       "output_type": "stream",
       "stream": "stdout",
       "text": [
        "\n",
        "time elapsed: 0.810964822769\n",
        "selection for snpID: 9:133472747\n",
        "found 164491 matching SNPs"
       ]
      },
      {
       "output_type": "stream",
       "stream": "stdout",
       "text": [
        "\n",
        "time elapsed: 0.827105998993\n",
        "selection for snpID: 4:63055561\n",
        "found 164491 matching SNPs"
       ]
      },
      {
       "output_type": "stream",
       "stream": "stdout",
       "text": [
        "\n",
        "time elapsed: 0.814830064774\n",
        "selection for snpID: 11:127160664\n",
        "found 164491 matching SNPs"
       ]
      },
      {
       "output_type": "stream",
       "stream": "stdout",
       "text": [
        "\n",
        "time elapsed: 0.840409994125\n",
        "selection for snpID: 14:69873335\n",
        "found 164491 matching SNPs"
       ]
      },
      {
       "output_type": "stream",
       "stream": "stdout",
       "text": [
        "\n",
        "time elapsed: 0.798488140106\n",
        "selection for snpID: 9:5453460\n",
        "found 164491 matching SNPs"
       ]
      },
      {
       "output_type": "stream",
       "stream": "stdout",
       "text": [
        "\n",
        "time elapsed: 0.784104824066\n",
        "selection for snpID: 7:88660988\n",
        "found 164491 matching SNPs"
       ]
      },
      {
       "output_type": "stream",
       "stream": "stdout",
       "text": [
        "\n",
        "time elapsed: 0.79714512825\n",
        "selection for snpID: 1:201688955\n",
        "found 164491 matching SNPs"
       ]
      },
      {
       "output_type": "stream",
       "stream": "stdout",
       "text": [
        "\n",
        "time elapsed: 0.813605070114\n",
        "selection for snpID: 1:181844943\n",
        "found 164491 matching SNPs"
       ]
      },
      {
       "output_type": "stream",
       "stream": "stdout",
       "text": [
        "\n",
        "time elapsed: 0.841817855835\n",
        "selection for snpID: 18:67015865\n",
        "found 164491 matching SNPs"
       ]
      },
      {
       "output_type": "stream",
       "stream": "stdout",
       "text": [
        "\n",
        "time elapsed: 0.795178890228\n",
        "selection for snpID: 6:32592119\n",
        "found 164491 matching SNPs"
       ]
      },
      {
       "output_type": "stream",
       "stream": "stdout",
       "text": [
        "\n",
        "time elapsed: 0.786280870438\n",
        "selection for snpID: 9:133472747\n",
        "found 164491 matching SNPs"
       ]
      },
      {
       "output_type": "stream",
       "stream": "stdout",
       "text": [
        "\n",
        "time elapsed: 0.824121952057\n",
        "selection for snpID: 4:63055561\n",
        "found 164491 matching SNPs"
       ]
      },
      {
       "output_type": "stream",
       "stream": "stdout",
       "text": [
        "\n",
        "time elapsed: 0.817401885986\n",
        "selection for snpID: 11:127160664\n",
        "found 164491 matching SNPs"
       ]
      },
      {
       "output_type": "stream",
       "stream": "stdout",
       "text": [
        "\n",
        "time elapsed: 0.786336898804\n",
        "selection for snpID: 14:69873335\n",
        "found 164491 matching SNPs"
       ]
      },
      {
       "output_type": "stream",
       "stream": "stdout",
       "text": [
        "\n",
        "time elapsed: 0.812030076981\n",
        "selection for snpID: 9:5453460\n",
        "found 164491 matching SNPs"
       ]
      },
      {
       "output_type": "stream",
       "stream": "stdout",
       "text": [
        "\n",
        "time elapsed: 0.801728963852\n",
        "selection for snpID: 7:88660988\n",
        "found 164491 matching SNPs"
       ]
      },
      {
       "output_type": "stream",
       "stream": "stdout",
       "text": [
        "\n",
        "time elapsed: 0.822391033173\n",
        "selection for snpID: 1:201688955\n",
        "found 164491 matching SNPs"
       ]
      },
      {
       "output_type": "stream",
       "stream": "stdout",
       "text": [
        "\n",
        "time elapsed: 0.850428104401\n",
        "selection for snpID: 1:181844943\n",
        "found 164491 matching SNPs"
       ]
      },
      {
       "output_type": "stream",
       "stream": "stdout",
       "text": [
        "\n",
        "time elapsed: 0.780771970749\n",
        "selection for snpID: 18:67015865\n",
        "found 164491 matching SNPs"
       ]
      },
      {
       "output_type": "stream",
       "stream": "stdout",
       "text": [
        "\n",
        "time elapsed: 0.774861812592\n",
        "selection for snpID: 6:32592119\n",
        "found 164491 matching SNPs"
       ]
      },
      {
       "output_type": "stream",
       "stream": "stdout",
       "text": [
        "\n",
        "time elapsed: 0.778317928314\n",
        "selection for snpID: 9:133472747\n",
        "found 164491 matching SNPs"
       ]
      },
      {
       "output_type": "stream",
       "stream": "stdout",
       "text": [
        "\n",
        "time elapsed: 0.81697010994\n",
        "selection for snpID: 4:63055561\n",
        "found 164491 matching SNPs"
       ]
      },
      {
       "output_type": "stream",
       "stream": "stdout",
       "text": [
        "\n",
        "time elapsed: 0.796712875366\n",
        "selection for snpID: 11:127160664\n",
        "found 164491 matching SNPs"
       ]
      },
      {
       "output_type": "stream",
       "stream": "stdout",
       "text": [
        "\n",
        "time elapsed: 0.79501914978\n",
        "selection for snpID: 14:69873335\n",
        "found 164491 matching SNPs"
       ]
      },
      {
       "output_type": "stream",
       "stream": "stdout",
       "text": [
        "\n",
        "time elapsed: 0.77813410759\n",
        "selection for snpID: 9:5453460\n",
        "found 164491 matching SNPs"
       ]
      },
      {
       "output_type": "stream",
       "stream": "stdout",
       "text": [
        "\n",
        "time elapsed: 0.792647838593\n",
        "selection for snpID: 7:88660988\n",
        "found 164491 matching SNPs"
       ]
      },
      {
       "output_type": "stream",
       "stream": "stdout",
       "text": [
        "\n",
        "time elapsed: 0.797225952148\n",
        "selection for snpID: 1:201688955\n",
        "found 164491 matching SNPs"
       ]
      },
      {
       "output_type": "stream",
       "stream": "stdout",
       "text": [
        "\n",
        "time elapsed: 0.798674106598\n",
        "selection for snpID: 1:181844943\n",
        "found 164491 matching SNPs"
       ]
      },
      {
       "output_type": "stream",
       "stream": "stdout",
       "text": [
        "\n",
        "time elapsed: 0.781568050385\n",
        "selection for snpID: 18:67015865\n",
        "found 164491 matching SNPs"
       ]
      },
      {
       "output_type": "stream",
       "stream": "stdout",
       "text": [
        "\n",
        "time elapsed: 0.777055978775\n",
        "selection for snpID: 6:32592119\n",
        "found 164491 matching SNPs"
       ]
      },
      {
       "output_type": "stream",
       "stream": "stdout",
       "text": [
        "\n",
        "time elapsed: 0.808429002762\n",
        "selection for snpID: 9:133472747\n",
        "found 164491 matching SNPs"
       ]
      },
      {
       "output_type": "stream",
       "stream": "stdout",
       "text": [
        "\n",
        "time elapsed: 0.793798923492\n",
        "selection for snpID: 4:63055561\n",
        "found 164491 matching SNPs"
       ]
      },
      {
       "output_type": "stream",
       "stream": "stdout",
       "text": [
        "\n",
        "time elapsed: 0.777330875397\n",
        "selection for snpID: 11:127160664\n",
        "found 164491 matching SNPs"
       ]
      },
      {
       "output_type": "stream",
       "stream": "stdout",
       "text": [
        "\n",
        "time elapsed: 0.783932924271\n",
        "selection for snpID: 14:69873335\n",
        "found 164491 matching SNPs"
       ]
      },
      {
       "output_type": "stream",
       "stream": "stdout",
       "text": [
        "\n",
        "time elapsed: 0.782710075378\n",
        "selection for snpID: 9:5453460\n",
        "found 164491 matching SNPs"
       ]
      },
      {
       "output_type": "stream",
       "stream": "stdout",
       "text": [
        "\n",
        "time elapsed: 0.803848981857\n",
        "selection for snpID: 7:88660988\n",
        "found 164491 matching SNPs"
       ]
      },
      {
       "output_type": "stream",
       "stream": "stdout",
       "text": [
        "\n",
        "time elapsed: 0.779810905457\n",
        "selection for snpID: 1:201688955\n",
        "found 164491 matching SNPs"
       ]
      },
      {
       "output_type": "stream",
       "stream": "stdout",
       "text": [
        "\n",
        "time elapsed: 0.777932167053\n",
        "selection for snpID: 1:181844943\n",
        "found 164491 matching SNPs"
       ]
      },
      {
       "output_type": "stream",
       "stream": "stdout",
       "text": [
        "\n",
        "time elapsed: 0.7892370224\n",
        "selection for snpID: 18:67015865\n",
        "found 164491 matching SNPs"
       ]
      },
      {
       "output_type": "stream",
       "stream": "stdout",
       "text": [
        "\n",
        "time elapsed: 0.778985023499\n",
        "selection for snpID: 6:32592119\n",
        "found 164491 matching SNPs"
       ]
      },
      {
       "output_type": "stream",
       "stream": "stdout",
       "text": [
        "\n",
        "time elapsed: 0.782701969147\n",
        "selection for snpID: 9:133472747\n",
        "found 164491 matching SNPs"
       ]
      },
      {
       "output_type": "stream",
       "stream": "stdout",
       "text": [
        "\n",
        "time elapsed: 0.786643981934\n",
        "selection for snpID: 4:63055561\n",
        "found 164491 matching SNPs"
       ]
      },
      {
       "output_type": "stream",
       "stream": "stdout",
       "text": [
        "\n",
        "time elapsed: 0.774102926254\n",
        "selection for snpID: 11:127160664\n",
        "found 164491 matching SNPs"
       ]
      },
      {
       "output_type": "stream",
       "stream": "stdout",
       "text": [
        "\n",
        "time elapsed: 0.784595012665\n",
        "selection for snpID: 14:69873335\n",
        "found 164491 matching SNPs"
       ]
      },
      {
       "output_type": "stream",
       "stream": "stdout",
       "text": [
        "\n",
        "time elapsed: 0.786817073822\n",
        "selection for snpID: 9:5453460\n",
        "found 164491 matching SNPs"
       ]
      },
      {
       "output_type": "stream",
       "stream": "stdout",
       "text": [
        "\n",
        "time elapsed: 0.780059099197\n",
        "selection for snpID: 7:88660988\n",
        "found 164491 matching SNPs"
       ]
      },
      {
       "output_type": "stream",
       "stream": "stdout",
       "text": [
        "\n",
        "time elapsed: 0.784018993378\n",
        "selection for snpID: 1:201688955\n",
        "found 164491 matching SNPs"
       ]
      },
      {
       "output_type": "stream",
       "stream": "stdout",
       "text": [
        "\n",
        "time elapsed: 0.793874979019\n",
        "selection for snpID: 1:181844943\n",
        "found 164491 matching SNPs"
       ]
      },
      {
       "output_type": "stream",
       "stream": "stdout",
       "text": [
        "\n",
        "time elapsed: 0.789615869522\n",
        "selection for snpID: 18:67015865\n",
        "found 164491 matching SNPs"
       ]
      },
      {
       "output_type": "stream",
       "stream": "stdout",
       "text": [
        "\n",
        "time elapsed: 0.789238929749\n",
        "selection for snpID: 6:32592119\n",
        "found 164491 matching SNPs"
       ]
      },
      {
       "output_type": "stream",
       "stream": "stdout",
       "text": [
        "\n",
        "time elapsed: 0.834946870804\n",
        "selection for snpID: 9:133472747\n",
        "found 164491 matching SNPs"
       ]
      },
      {
       "output_type": "stream",
       "stream": "stdout",
       "text": [
        "\n",
        "time elapsed: 0.837197065353\n",
        "selection for snpID: 4:63055561\n",
        "found 164491 matching SNPs"
       ]
      },
      {
       "output_type": "stream",
       "stream": "stdout",
       "text": [
        "\n",
        "time elapsed: 0.826663970947\n",
        "selection for snpID: 11:127160664\n",
        "found 164491 matching SNPs"
       ]
      },
      {
       "output_type": "stream",
       "stream": "stdout",
       "text": [
        "\n",
        "time elapsed: 0.791935920715\n",
        "selection for snpID: 14:69873335\n",
        "found 164491 matching SNPs"
       ]
      },
      {
       "output_type": "stream",
       "stream": "stdout",
       "text": [
        "\n",
        "time elapsed: 0.796705007553\n",
        "selection for snpID: 9:5453460\n",
        "found 164491 matching SNPs"
       ]
      },
      {
       "output_type": "stream",
       "stream": "stdout",
       "text": [
        "\n",
        "time elapsed: 0.803912162781\n",
        "selection for snpID: 7:88660988\n",
        "found 164491 matching SNPs"
       ]
      },
      {
       "output_type": "stream",
       "stream": "stdout",
       "text": [
        "\n",
        "time elapsed: 0.797725915909\n",
        "selection for snpID: 1:201688955\n",
        "found 164491 matching SNPs"
       ]
      },
      {
       "output_type": "stream",
       "stream": "stdout",
       "text": [
        "\n",
        "time elapsed: 0.836605072021\n",
        "selection for snpID: 1:181844943\n",
        "found 164491 matching SNPs"
       ]
      },
      {
       "output_type": "stream",
       "stream": "stdout",
       "text": [
        "\n",
        "time elapsed: 0.834370851517\n",
        "selection for snpID: 18:67015865\n",
        "found 164491 matching SNPs"
       ]
      },
      {
       "output_type": "stream",
       "stream": "stdout",
       "text": [
        "\n",
        "time elapsed: 0.816231966019\n",
        "selection for snpID: 6:32592119\n",
        "found 164491 matching SNPs"
       ]
      },
      {
       "output_type": "stream",
       "stream": "stdout",
       "text": [
        "\n",
        "time elapsed: 0.810158967972\n",
        "selection for snpID: 9:133472747\n",
        "found 164491 matching SNPs"
       ]
      },
      {
       "output_type": "stream",
       "stream": "stdout",
       "text": [
        "\n",
        "time elapsed: 0.820922851562\n",
        "selection for snpID: 4:63055561\n",
        "found 164491 matching SNPs"
       ]
      },
      {
       "output_type": "stream",
       "stream": "stdout",
       "text": [
        "\n",
        "time elapsed: 0.844445943832\n",
        "selection for snpID: 11:127160664\n",
        "found 164491 matching SNPs"
       ]
      },
      {
       "output_type": "stream",
       "stream": "stdout",
       "text": [
        "\n",
        "time elapsed: 0.823426961899\n",
        "selection for snpID: 14:69873335\n",
        "found 164491 matching SNPs"
       ]
      },
      {
       "output_type": "stream",
       "stream": "stdout",
       "text": [
        "\n",
        "time elapsed: 0.819770097733\n",
        "selection for snpID: 9:5453460\n",
        "found 164491 matching SNPs"
       ]
      },
      {
       "output_type": "stream",
       "stream": "stdout",
       "text": [
        "\n",
        "time elapsed: 0.865571022034\n",
        "selection for snpID: 7:88660988\n",
        "found 164491 matching SNPs"
       ]
      },
      {
       "output_type": "stream",
       "stream": "stdout",
       "text": [
        "\n",
        "time elapsed: 0.84059214592\n",
        "selection for snpID: 1:201688955\n",
        "found 164491 matching SNPs"
       ]
      },
      {
       "output_type": "stream",
       "stream": "stdout",
       "text": [
        "\n",
        "time elapsed: 0.779487848282\n",
        "selection for snpID: 1:181844943\n",
        "found 164491 matching SNPs"
       ]
      },
      {
       "output_type": "stream",
       "stream": "stdout",
       "text": [
        "\n",
        "time elapsed: 0.783210992813\n",
        "selection for snpID: 18:67015865\n",
        "found 164491 matching SNPs"
       ]
      },
      {
       "output_type": "stream",
       "stream": "stdout",
       "text": [
        "\n",
        "time elapsed: 0.800903081894\n",
        "selection for snpID: 6:32592119\n",
        "found 164491 matching SNPs"
       ]
      },
      {
       "output_type": "stream",
       "stream": "stdout",
       "text": [
        "\n",
        "time elapsed: 0.798600912094\n",
        "selection for snpID: 9:133472747\n",
        "found 164491 matching SNPs"
       ]
      },
      {
       "output_type": "stream",
       "stream": "stdout",
       "text": [
        "\n",
        "time elapsed: 0.829531908035\n",
        "selection for snpID: 4:63055561\n",
        "found 164491 matching SNPs"
       ]
      },
      {
       "output_type": "stream",
       "stream": "stdout",
       "text": [
        "\n",
        "time elapsed: 0.77366900444\n",
        "selection for snpID: 11:127160664\n",
        "found 164491 matching SNPs"
       ]
      },
      {
       "output_type": "stream",
       "stream": "stdout",
       "text": [
        "\n",
        "time elapsed: 0.786540031433\n",
        "selection for snpID: 14:69873335\n",
        "found 164491 matching SNPs"
       ]
      },
      {
       "output_type": "stream",
       "stream": "stdout",
       "text": [
        "\n",
        "time elapsed: 0.796576976776\n",
        "selection for snpID: 9:5453460\n",
        "found 164491 matching SNPs"
       ]
      },
      {
       "output_type": "stream",
       "stream": "stdout",
       "text": [
        "\n",
        "time elapsed: 0.789453983307\n",
        "selection for snpID: 7:88660988\n",
        "found 164491 matching SNPs"
       ]
      },
      {
       "output_type": "stream",
       "stream": "stdout",
       "text": [
        "\n",
        "time elapsed: 0.770636081696\n",
        "selection for snpID: 1:201688955\n",
        "found 164491 matching SNPs"
       ]
      },
      {
       "output_type": "stream",
       "stream": "stdout",
       "text": [
        "\n",
        "time elapsed: 0.780965089798\n",
        "selection for snpID: 1:181844943\n",
        "found 164491 matching SNPs"
       ]
      },
      {
       "output_type": "stream",
       "stream": "stdout",
       "text": [
        "\n",
        "time elapsed: 0.797617197037\n",
        "selection for snpID: 18:67015865\n",
        "found 164491 matching SNPs"
       ]
      },
      {
       "output_type": "stream",
       "stream": "stdout",
       "text": [
        "\n",
        "time elapsed: 0.782091140747\n",
        "selection for snpID: 6:32592119\n",
        "found 164491 matching SNPs"
       ]
      },
      {
       "output_type": "stream",
       "stream": "stdout",
       "text": [
        "\n",
        "time elapsed: 0.832917928696\n",
        "selection for snpID: 9:133472747\n",
        "found 164491 matching SNPs"
       ]
      },
      {
       "output_type": "stream",
       "stream": "stdout",
       "text": [
        "\n",
        "time elapsed: 0.816600084305\n",
        "selection for snpID: 4:63055561\n",
        "found 164491 matching SNPs"
       ]
      },
      {
       "output_type": "stream",
       "stream": "stdout",
       "text": [
        "\n",
        "time elapsed: 0.788544893265\n",
        "selection for snpID: 11:127160664\n",
        "found 164491 matching SNPs"
       ]
      },
      {
       "output_type": "stream",
       "stream": "stdout",
       "text": [
        "\n",
        "time elapsed: 0.816566944122\n",
        "selection for snpID: 14:69873335\n",
        "found 164491 matching SNPs"
       ]
      },
      {
       "output_type": "stream",
       "stream": "stdout",
       "text": [
        "\n",
        "time elapsed: 0.786144018173\n",
        "selection for snpID: 9:5453460\n",
        "found 164491 matching SNPs"
       ]
      },
      {
       "output_type": "stream",
       "stream": "stdout",
       "text": [
        "\n",
        "time elapsed: 0.779912948608\n",
        "selection for snpID: 7:88660988\n",
        "found 164491 matching SNPs"
       ]
      },
      {
       "output_type": "stream",
       "stream": "stdout",
       "text": [
        "\n",
        "time elapsed: 0.777680873871\n",
        "selection for snpID: 1:201688955\n",
        "found 164491 matching SNPs"
       ]
      },
      {
       "output_type": "stream",
       "stream": "stdout",
       "text": [
        "\n",
        "time elapsed: 0.802797079086\n",
        "selection for snpID: 1:181844943\n",
        "found 164491 matching SNPs"
       ]
      },
      {
       "output_type": "stream",
       "stream": "stdout",
       "text": [
        "\n",
        "time elapsed: 0.783721923828\n",
        "selection for snpID: 18:67015865\n",
        "found 164491 matching SNPs"
       ]
      },
      {
       "output_type": "stream",
       "stream": "stdout",
       "text": [
        "\n",
        "time elapsed: 0.866816043854\n",
        "selection for snpID: 6:32592119\n",
        "found 164491 matching SNPs"
       ]
      },
      {
       "output_type": "stream",
       "stream": "stdout",
       "text": [
        "\n",
        "time elapsed: 0.822558164597\n",
        "selection for snpID: 9:133472747\n",
        "found 164491 matching SNPs"
       ]
      },
      {
       "output_type": "stream",
       "stream": "stdout",
       "text": [
        "\n",
        "time elapsed: 0.80654501915\n",
        "selection for snpID: 4:63055561\n",
        "found 164491 matching SNPs"
       ]
      },
      {
       "output_type": "stream",
       "stream": "stdout",
       "text": [
        "\n",
        "time elapsed: 0.807533979416\n",
        "selection for snpID: 11:127160664\n",
        "found 164491 matching SNPs"
       ]
      },
      {
       "output_type": "stream",
       "stream": "stdout",
       "text": [
        "\n",
        "time elapsed: 0.853079080582\n",
        "selection for snpID: 14:69873335\n",
        "found 164491 matching SNPs"
       ]
      },
      {
       "output_type": "stream",
       "stream": "stdout",
       "text": [
        "\n",
        "time elapsed: 0.804744958878\n",
        "selection for snpID: 9:5453460\n",
        "found 164491 matching SNPs"
       ]
      },
      {
       "output_type": "stream",
       "stream": "stdout",
       "text": [
        "\n",
        "time elapsed: 0.793740034103\n",
        "selection for snpID: 7:88660988\n",
        "found 164491 matching SNPs"
       ]
      },
      {
       "output_type": "stream",
       "stream": "stdout",
       "text": [
        "\n",
        "time elapsed: 0.794681072235\n",
        "selection for snpID: 1:201688955\n",
        "found 164491 matching SNPs"
       ]
      },
      {
       "output_type": "stream",
       "stream": "stdout",
       "text": [
        "\n",
        "time elapsed: 0.805001974106\n",
        "selection for snpID: 1:181844943\n",
        "found 164491 matching SNPs"
       ]
      },
      {
       "output_type": "stream",
       "stream": "stdout",
       "text": [
        "\n",
        "time elapsed: 0.812417030334\n",
        "selection for snpID: 18:67015865\n",
        "found 164491 matching SNPs"
       ]
      },
      {
       "output_type": "stream",
       "stream": "stdout",
       "text": [
        "\n",
        "time elapsed: 0.8034760952\n",
        "selection for snpID: 6:32592119\n",
        "found 164491 matching SNPs"
       ]
      },
      {
       "output_type": "stream",
       "stream": "stdout",
       "text": [
        "\n",
        "time elapsed: 0.80349779129\n",
        "selection for snpID: 9:133472747\n",
        "found 164491 matching SNPs"
       ]
      },
      {
       "output_type": "stream",
       "stream": "stdout",
       "text": [
        "\n",
        "time elapsed: 0.788389205933\n",
        "selection for snpID: 4:63055561\n",
        "found 164491 matching SNPs"
       ]
      },
      {
       "output_type": "stream",
       "stream": "stdout",
       "text": [
        "\n",
        "time elapsed: 0.775480031967\n",
        "selection for snpID: 11:127160664\n",
        "found 164491 matching SNPs"
       ]
      },
      {
       "output_type": "stream",
       "stream": "stdout",
       "text": [
        "\n",
        "time elapsed: 0.790856122971\n",
        "selection for snpID: 14:69873335\n",
        "found 164491 matching SNPs"
       ]
      },
      {
       "output_type": "stream",
       "stream": "stdout",
       "text": [
        "\n",
        "time elapsed: 0.787666082382\n",
        "selection for snpID: 9:5453460\n",
        "found 164491 matching SNPs"
       ]
      },
      {
       "output_type": "stream",
       "stream": "stdout",
       "text": [
        "\n",
        "time elapsed: 0.86478304863\n",
        "selection for snpID: 7:88660988\n",
        "found 164491 matching SNPs"
       ]
      },
      {
       "output_type": "stream",
       "stream": "stdout",
       "text": [
        "\n",
        "time elapsed: 0.838054895401\n",
        "selection for snpID: 1:201688955\n",
        "found 164491 matching SNPs"
       ]
      },
      {
       "output_type": "stream",
       "stream": "stdout",
       "text": [
        "\n",
        "time elapsed: 0.828606843948\n",
        "selection for snpID: 1:181844943\n",
        "found 164491 matching SNPs"
       ]
      },
      {
       "output_type": "stream",
       "stream": "stdout",
       "text": [
        "\n",
        "time elapsed: 0.788087844849\n",
        "selection for snpID: 18:67015865\n",
        "found 164491 matching SNPs"
       ]
      },
      {
       "output_type": "stream",
       "stream": "stdout",
       "text": [
        "\n",
        "time elapsed: 0.807403087616\n",
        "selection for snpID: 6:32592119\n",
        "found 164491 matching SNPs"
       ]
      },
      {
       "output_type": "stream",
       "stream": "stdout",
       "text": [
        "\n",
        "time elapsed: 0.788209915161\n",
        "selection for snpID: 9:133472747\n",
        "found 164491 matching SNPs"
       ]
      },
      {
       "output_type": "stream",
       "stream": "stdout",
       "text": [
        "\n",
        "time elapsed: 0.798148155212\n",
        "selection for snpID: 4:63055561\n",
        "found 164491 matching SNPs"
       ]
      },
      {
       "output_type": "stream",
       "stream": "stdout",
       "text": [
        "\n",
        "time elapsed: 0.790812015533\n",
        "selection for snpID: 11:127160664\n",
        "found 164491 matching SNPs"
       ]
      },
      {
       "output_type": "stream",
       "stream": "stdout",
       "text": [
        "\n",
        "time elapsed: 0.870447874069\n",
        "selection for snpID: 14:69873335\n",
        "found 164491 matching SNPs"
       ]
      },
      {
       "output_type": "stream",
       "stream": "stdout",
       "text": [
        "\n",
        "time elapsed: 0.775089979172\n",
        "selection for snpID: 9:5453460\n",
        "found 164491 matching SNPs"
       ]
      },
      {
       "output_type": "stream",
       "stream": "stdout",
       "text": [
        "\n",
        "time elapsed: 0.765954017639\n",
        "selection for snpID: 7:88660988\n",
        "found 164491 matching SNPs"
       ]
      },
      {
       "output_type": "stream",
       "stream": "stdout",
       "text": [
        "\n",
        "time elapsed: 0.77913403511\n",
        "selection for snpID: 1:201688955\n",
        "found 164491 matching SNPs"
       ]
      },
      {
       "output_type": "stream",
       "stream": "stdout",
       "text": [
        "\n",
        "time elapsed: 0.787421941757\n",
        "selection for snpID: 1:181844943\n",
        "found 164491 matching SNPs"
       ]
      },
      {
       "output_type": "stream",
       "stream": "stdout",
       "text": [
        "\n",
        "time elapsed: 0.785722017288\n",
        "selection for snpID: 18:67015865\n",
        "found 164491 matching SNPs"
       ]
      },
      {
       "output_type": "stream",
       "stream": "stdout",
       "text": [
        "\n",
        "time elapsed: 0.761813163757\n",
        "selection for snpID: 6:32592119\n",
        "found 164491 matching SNPs"
       ]
      },
      {
       "output_type": "stream",
       "stream": "stdout",
       "text": [
        "\n",
        "time elapsed: 0.783694028854\n",
        "selection for snpID: 9:133472747\n",
        "found 164491 matching SNPs"
       ]
      },
      {
       "output_type": "stream",
       "stream": "stdout",
       "text": [
        "\n",
        "time elapsed: 0.775941848755\n",
        "selection for snpID: 4:63055561\n",
        "found 164491 matching SNPs"
       ]
      },
      {
       "output_type": "stream",
       "stream": "stdout",
       "text": [
        "\n",
        "time elapsed: 0.776872158051\n",
        "selection for snpID: 11:127160664\n",
        "found 164491 matching SNPs"
       ]
      },
      {
       "output_type": "stream",
       "stream": "stdout",
       "text": [
        "\n",
        "time elapsed: 0.802083015442\n",
        "selection for snpID: 14:69873335\n",
        "found 164491 matching SNPs"
       ]
      },
      {
       "output_type": "stream",
       "stream": "stdout",
       "text": [
        "\n",
        "time elapsed: 0.789930105209\n",
        "selection for snpID: 9:5453460\n",
        "found 164491 matching SNPs"
       ]
      },
      {
       "output_type": "stream",
       "stream": "stdout",
       "text": [
        "\n",
        "time elapsed: 0.779438972473\n",
        "selection for snpID: 7:88660988\n",
        "found 164491 matching SNPs"
       ]
      },
      {
       "output_type": "stream",
       "stream": "stdout",
       "text": [
        "\n",
        "time elapsed: 0.790715932846\n",
        "selection for snpID: 1:201688955\n",
        "found 164491 matching SNPs"
       ]
      },
      {
       "output_type": "stream",
       "stream": "stdout",
       "text": [
        "\n",
        "time elapsed: 0.781456947327\n",
        "selection for snpID: 1:181844943\n",
        "found 164491 matching SNPs"
       ]
      },
      {
       "output_type": "stream",
       "stream": "stdout",
       "text": [
        "\n",
        "time elapsed: 0.794586181641\n",
        "selection for snpID: 18:67015865\n",
        "found 164491 matching SNPs"
       ]
      },
      {
       "output_type": "stream",
       "stream": "stdout",
       "text": [
        "\n",
        "time elapsed: 0.796498060226\n",
        "selection for snpID: 6:32592119\n",
        "found 164491 matching SNPs"
       ]
      },
      {
       "output_type": "stream",
       "stream": "stdout",
       "text": [
        "\n",
        "time elapsed: 0.787356853485\n",
        "selection for snpID: 9:133472747\n",
        "found 164491 matching SNPs"
       ]
      },
      {
       "output_type": "stream",
       "stream": "stdout",
       "text": [
        "\n",
        "time elapsed: 0.781960010529\n",
        "selection for snpID: 4:63055561\n",
        "found 164491 matching SNPs"
       ]
      },
      {
       "output_type": "stream",
       "stream": "stdout",
       "text": [
        "\n",
        "time elapsed: 0.79686498642\n",
        "selection for snpID: 11:127160664\n",
        "found 164491 matching SNPs"
       ]
      },
      {
       "output_type": "stream",
       "stream": "stdout",
       "text": [
        "\n",
        "time elapsed: 0.781671047211\n",
        "selection for snpID: 14:69873335\n",
        "found 164491 matching SNPs"
       ]
      },
      {
       "output_type": "stream",
       "stream": "stdout",
       "text": [
        "\n",
        "time elapsed: 0.791117191315\n",
        "selection for snpID: 9:5453460\n",
        "found 164491 matching SNPs"
       ]
      },
      {
       "output_type": "stream",
       "stream": "stdout",
       "text": [
        "\n",
        "time elapsed: 0.789826869965\n",
        "selection for snpID: 7:88660988\n",
        "found 164491 matching SNPs"
       ]
      },
      {
       "output_type": "stream",
       "stream": "stdout",
       "text": [
        "\n",
        "time elapsed: 0.784595966339\n",
        "selection for snpID: 1:201688955\n",
        "found 164491 matching SNPs"
       ]
      },
      {
       "output_type": "stream",
       "stream": "stdout",
       "text": [
        "\n",
        "time elapsed: 0.780541181564\n",
        "selection for snpID: 1:181844943\n",
        "found 164491 matching SNPs"
       ]
      },
      {
       "output_type": "stream",
       "stream": "stdout",
       "text": [
        "\n",
        "time elapsed: 0.78675699234\n",
        "selection for snpID: 18:67015865\n",
        "found 164491 matching SNPs"
       ]
      },
      {
       "output_type": "stream",
       "stream": "stdout",
       "text": [
        "\n",
        "time elapsed: 0.781933784485\n",
        "selection for snpID: 6:32592119\n",
        "found 164491 matching SNPs"
       ]
      },
      {
       "output_type": "stream",
       "stream": "stdout",
       "text": [
        "\n",
        "time elapsed: 0.819979906082\n",
        "selection for snpID: 9:133472747\n",
        "found 164491 matching SNPs"
       ]
      },
      {
       "output_type": "stream",
       "stream": "stdout",
       "text": [
        "\n",
        "time elapsed: 0.807673931122\n",
        "selection for snpID: 4:63055561\n",
        "found 164491 matching SNPs"
       ]
      },
      {
       "output_type": "stream",
       "stream": "stdout",
       "text": [
        "\n",
        "time elapsed: 0.799833059311\n",
        "selection for snpID: 11:127160664\n",
        "found 164491 matching SNPs"
       ]
      },
      {
       "output_type": "stream",
       "stream": "stdout",
       "text": [
        "\n",
        "time elapsed: 0.813446044922\n",
        "selection for snpID: 14:69873335\n",
        "found 164491 matching SNPs"
       ]
      },
      {
       "output_type": "stream",
       "stream": "stdout",
       "text": [
        "\n",
        "time elapsed: 0.808611154556\n",
        "selection for snpID: 9:5453460\n",
        "found 164491 matching SNPs"
       ]
      },
      {
       "output_type": "stream",
       "stream": "stdout",
       "text": [
        "\n",
        "time elapsed: 0.786170005798\n",
        "selection for snpID: 7:88660988\n",
        "found 164491 matching SNPs"
       ]
      },
      {
       "output_type": "stream",
       "stream": "stdout",
       "text": [
        "\n",
        "time elapsed: 0.813425064087\n",
        "selection for snpID: 1:201688955\n",
        "found 164491 matching SNPs"
       ]
      },
      {
       "output_type": "stream",
       "stream": "stdout",
       "text": [
        "\n",
        "time elapsed: 0.793323993683\n",
        "selection for snpID: 1:181844943\n",
        "found 164491 matching SNPs"
       ]
      },
      {
       "output_type": "stream",
       "stream": "stdout",
       "text": [
        "\n",
        "time elapsed: 0.780751943588\n",
        "selection for snpID: 18:67015865\n",
        "found 164491 matching SNPs"
       ]
      },
      {
       "output_type": "stream",
       "stream": "stdout",
       "text": [
        "\n",
        "time elapsed: 0.786429166794\n",
        "selection for snpID: 6:32592119\n",
        "found 164491 matching SNPs"
       ]
      },
      {
       "output_type": "stream",
       "stream": "stdout",
       "text": [
        "\n",
        "time elapsed: 0.7887570858\n",
        "selection for snpID: 9:133472747\n",
        "found 164491 matching SNPs"
       ]
      },
      {
       "output_type": "stream",
       "stream": "stdout",
       "text": [
        "\n",
        "time elapsed: 0.781887054443\n",
        "selection for snpID: 4:63055561\n",
        "found 164491 matching SNPs"
       ]
      },
      {
       "output_type": "stream",
       "stream": "stdout",
       "text": [
        "\n",
        "time elapsed: 0.832544088364\n",
        "selection for snpID: 11:127160664\n",
        "found 164491 matching SNPs"
       ]
      },
      {
       "output_type": "stream",
       "stream": "stdout",
       "text": [
        "\n",
        "time elapsed: 0.817668914795\n",
        "selection for snpID: 14:69873335\n",
        "found 164491 matching SNPs"
       ]
      },
      {
       "output_type": "stream",
       "stream": "stdout",
       "text": [
        "\n",
        "time elapsed: 0.801785945892\n",
        "selection for snpID: 9:5453460\n",
        "found 164491 matching SNPs"
       ]
      },
      {
       "output_type": "stream",
       "stream": "stdout",
       "text": [
        "\n",
        "time elapsed: 0.987658977509\n",
        "selection for snpID: 7:88660988\n",
        "found 164491 matching SNPs"
       ]
      },
      {
       "output_type": "stream",
       "stream": "stdout",
       "text": [
        "\n",
        "time elapsed: 0.986015081406\n",
        "selection for snpID: 1:201688955\n",
        "found 164491 matching SNPs"
       ]
      },
      {
       "output_type": "stream",
       "stream": "stdout",
       "text": [
        "\n",
        "time elapsed: 0.800154924393\n",
        "selection for snpID: 1:181844943\n",
        "found 164491 matching SNPs"
       ]
      },
      {
       "output_type": "stream",
       "stream": "stdout",
       "text": [
        "\n",
        "time elapsed: 0.831901788712\n",
        "selection for snpID: 18:67015865\n",
        "found 164491 matching SNPs"
       ]
      },
      {
       "output_type": "stream",
       "stream": "stdout",
       "text": [
        "\n",
        "time elapsed: 0.808779001236\n",
        "selection for snpID: 6:32592119\n",
        "found 164491 matching SNPs"
       ]
      },
      {
       "output_type": "stream",
       "stream": "stdout",
       "text": [
        "\n",
        "time elapsed: 0.836220979691\n",
        "selection for snpID: 9:133472747\n",
        "found 164491 matching SNPs"
       ]
      },
      {
       "output_type": "stream",
       "stream": "stdout",
       "text": [
        "\n",
        "time elapsed: 0.915900945663\n",
        "selection for snpID: 4:63055561\n",
        "found 164491 matching SNPs"
       ]
      },
      {
       "output_type": "stream",
       "stream": "stdout",
       "text": [
        "\n",
        "time elapsed: 0.822536945343\n",
        "selection for snpID: 11:127160664\n",
        "found 164491 matching SNPs"
       ]
      },
      {
       "output_type": "stream",
       "stream": "stdout",
       "text": [
        "\n",
        "time elapsed: 0.885400056839\n",
        "selection for snpID: 14:69873335\n",
        "found 164491 matching SNPs"
       ]
      },
      {
       "output_type": "stream",
       "stream": "stdout",
       "text": [
        "\n",
        "time elapsed: 0.837339162827\n",
        "selection for snpID: 9:5453460\n",
        "found 164491 matching SNPs"
       ]
      },
      {
       "output_type": "stream",
       "stream": "stdout",
       "text": [
        "\n",
        "time elapsed: 0.807262897491\n",
        "selection for snpID: 7:88660988\n",
        "found 164491 matching SNPs"
       ]
      },
      {
       "output_type": "stream",
       "stream": "stdout",
       "text": [
        "\n",
        "time elapsed: 0.787295103073\n",
        "selection for snpID: 1:201688955\n",
        "found 164491 matching SNPs"
       ]
      },
      {
       "output_type": "stream",
       "stream": "stdout",
       "text": [
        "\n",
        "time elapsed: 0.778872013092\n",
        "selection for snpID: 1:181844943\n",
        "found 164491 matching SNPs"
       ]
      },
      {
       "output_type": "stream",
       "stream": "stdout",
       "text": [
        "\n",
        "time elapsed: 0.782896995544\n",
        "selection for snpID: 18:67015865\n",
        "found 164491 matching SNPs"
       ]
      },
      {
       "output_type": "stream",
       "stream": "stdout",
       "text": [
        "\n",
        "time elapsed: 0.773373842239\n",
        "selection for snpID: 6:32592119\n",
        "found 164491 matching SNPs"
       ]
      },
      {
       "output_type": "stream",
       "stream": "stdout",
       "text": [
        "\n",
        "time elapsed: 0.79442691803\n",
        "selection for snpID: 9:133472747\n",
        "found 164491 matching SNPs"
       ]
      },
      {
       "output_type": "stream",
       "stream": "stdout",
       "text": [
        "\n",
        "time elapsed: 0.812883138657\n",
        "selection for snpID: 4:63055561\n",
        "found 164491 matching SNPs"
       ]
      },
      {
       "output_type": "stream",
       "stream": "stdout",
       "text": [
        "\n",
        "time elapsed: 0.877534866333\n",
        "selection for snpID: 11:127160664\n",
        "found 164491 matching SNPs"
       ]
      },
      {
       "output_type": "stream",
       "stream": "stdout",
       "text": [
        "\n",
        "time elapsed: 0.812844991684\n",
        "selection for snpID: 14:69873335\n",
        "found 164491 matching SNPs"
       ]
      },
      {
       "output_type": "stream",
       "stream": "stdout",
       "text": [
        "\n",
        "time elapsed: 0.781680107117\n",
        "selection for snpID: 9:5453460\n",
        "found 164491 matching SNPs"
       ]
      },
      {
       "output_type": "stream",
       "stream": "stdout",
       "text": [
        "\n",
        "time elapsed: 0.785672903061\n",
        "selection for snpID: 7:88660988\n",
        "found 164491 matching SNPs"
       ]
      },
      {
       "output_type": "stream",
       "stream": "stdout",
       "text": [
        "\n",
        "time elapsed: 0.811990022659\n",
        "selection for snpID: 1:201688955\n",
        "found 164491 matching SNPs"
       ]
      },
      {
       "output_type": "stream",
       "stream": "stdout",
       "text": [
        "\n",
        "time elapsed: 0.790246963501\n",
        "selection for snpID: 1:181844943\n",
        "found 164491 matching SNPs"
       ]
      },
      {
       "output_type": "stream",
       "stream": "stdout",
       "text": [
        "\n",
        "time elapsed: 0.787432909012\n",
        "selection for snpID: 18:67015865\n",
        "found 164491 matching SNPs"
       ]
      },
      {
       "output_type": "stream",
       "stream": "stdout",
       "text": [
        "\n",
        "time elapsed: 0.804957151413\n",
        "selection for snpID: 6:32592119\n",
        "found 164491 matching SNPs"
       ]
      },
      {
       "output_type": "stream",
       "stream": "stdout",
       "text": [
        "\n",
        "time elapsed: 0.827967166901\n",
        "selection for snpID: 9:133472747\n",
        "found 164491 matching SNPs"
       ]
      },
      {
       "output_type": "stream",
       "stream": "stdout",
       "text": [
        "\n",
        "time elapsed: 0.860589981079\n",
        "selection for snpID: 4:63055561\n",
        "found 164491 matching SNPs"
       ]
      },
      {
       "output_type": "stream",
       "stream": "stdout",
       "text": [
        "\n",
        "time elapsed: 0.842787981033\n",
        "selection for snpID: 11:127160664\n",
        "found 164491 matching SNPs"
       ]
      },
      {
       "output_type": "stream",
       "stream": "stdout",
       "text": [
        "\n",
        "time elapsed: 0.917267084122\n",
        "selection for snpID: 14:69873335\n",
        "found 164491 matching SNPs"
       ]
      },
      {
       "output_type": "stream",
       "stream": "stdout",
       "text": [
        "\n",
        "time elapsed: 0.833739995956\n",
        "selection for snpID: 9:5453460\n",
        "found 164491 matching SNPs"
       ]
      },
      {
       "output_type": "stream",
       "stream": "stdout",
       "text": [
        "\n",
        "time elapsed: 0.824746847153\n",
        "selection for snpID: 7:88660988\n",
        "found 164491 matching SNPs"
       ]
      },
      {
       "output_type": "stream",
       "stream": "stdout",
       "text": [
        "\n",
        "time elapsed: 0.808906078339\n",
        "selection for snpID: 1:201688955\n",
        "found 164491 matching SNPs"
       ]
      },
      {
       "output_type": "stream",
       "stream": "stdout",
       "text": [
        "\n",
        "time elapsed: 0.853643894196\n",
        "selection for snpID: 1:181844943\n",
        "found 164491 matching SNPs"
       ]
      },
      {
       "output_type": "stream",
       "stream": "stdout",
       "text": [
        "\n",
        "time elapsed: 0.881703138351\n",
        "selection for snpID: 18:67015865\n",
        "found 164491 matching SNPs"
       ]
      },
      {
       "output_type": "stream",
       "stream": "stdout",
       "text": [
        "\n",
        "time elapsed: 0.850126028061\n",
        "selection for snpID: 6:32592119\n",
        "found 164491 matching SNPs"
       ]
      },
      {
       "output_type": "stream",
       "stream": "stdout",
       "text": [
        "\n",
        "time elapsed: 0.821364164352\n",
        "selection for snpID: 9:133472747\n",
        "found 164491 matching SNPs"
       ]
      },
      {
       "output_type": "stream",
       "stream": "stdout",
       "text": [
        "\n",
        "time elapsed: 0.796280145645\n",
        "selection for snpID: 4:63055561\n",
        "found 164491 matching SNPs"
       ]
      },
      {
       "output_type": "stream",
       "stream": "stdout",
       "text": [
        "\n",
        "time elapsed: 0.840700149536\n",
        "selection for snpID: 11:127160664\n",
        "found 164491 matching SNPs"
       ]
      },
      {
       "output_type": "stream",
       "stream": "stdout",
       "text": [
        "\n",
        "time elapsed: 0.830960035324\n",
        "selection for snpID: 14:69873335\n",
        "found 164491 matching SNPs"
       ]
      },
      {
       "output_type": "stream",
       "stream": "stdout",
       "text": [
        "\n",
        "time elapsed: 0.789677143097\n",
        "selection for snpID: 9:5453460\n",
        "found 164491 matching SNPs"
       ]
      },
      {
       "output_type": "stream",
       "stream": "stdout",
       "text": [
        "\n",
        "time elapsed: 0.772681951523\n",
        "selection for snpID: 7:88660988\n",
        "found 164491 matching SNPs"
       ]
      },
      {
       "output_type": "stream",
       "stream": "stdout",
       "text": [
        "\n",
        "time elapsed: 0.782863855362\n",
        "selection for snpID: 1:201688955\n",
        "found 164491 matching SNPs"
       ]
      },
      {
       "output_type": "stream",
       "stream": "stdout",
       "text": [
        "\n",
        "time elapsed: 0.788900136948\n",
        "selection for snpID: 1:181844943\n",
        "found 164491 matching SNPs"
       ]
      },
      {
       "output_type": "stream",
       "stream": "stdout",
       "text": [
        "\n",
        "time elapsed: 0.782584905624\n",
        "selection for snpID: 18:67015865\n",
        "found 164491 matching SNPs"
       ]
      },
      {
       "output_type": "stream",
       "stream": "stdout",
       "text": [
        "\n",
        "time elapsed: 0.782308101654\n",
        "selection for snpID: 6:32592119\n",
        "found 164491 matching SNPs"
       ]
      },
      {
       "output_type": "stream",
       "stream": "stdout",
       "text": [
        "\n",
        "time elapsed: 0.803773164749\n",
        "selection for snpID: 9:133472747\n",
        "found 164491 matching SNPs"
       ]
      },
      {
       "output_type": "stream",
       "stream": "stdout",
       "text": [
        "\n",
        "time elapsed: 0.776349067688\n",
        "selection for snpID: 4:63055561\n",
        "found 164491 matching SNPs"
       ]
      },
      {
       "output_type": "stream",
       "stream": "stdout",
       "text": [
        "\n",
        "time elapsed: 0.775753974915\n",
        "selection for snpID: 11:127160664\n",
        "found 164491 matching SNPs"
       ]
      },
      {
       "output_type": "stream",
       "stream": "stdout",
       "text": [
        "\n",
        "time elapsed: 0.778704166412\n",
        "selection for snpID: 14:69873335\n",
        "found 164491 matching SNPs"
       ]
      },
      {
       "output_type": "stream",
       "stream": "stdout",
       "text": [
        "\n",
        "time elapsed: 0.796587944031\n",
        "selection for snpID: 9:5453460\n",
        "found 164491 matching SNPs"
       ]
      },
      {
       "output_type": "stream",
       "stream": "stdout",
       "text": [
        "\n",
        "time elapsed: 0.779462814331\n",
        "selection for snpID: 7:88660988\n",
        "found 164491 matching SNPs"
       ]
      },
      {
       "output_type": "stream",
       "stream": "stdout",
       "text": [
        "\n",
        "time elapsed: 0.766753911972\n",
        "selection for snpID: 1:201688955\n",
        "found 164491 matching SNPs"
       ]
      },
      {
       "output_type": "stream",
       "stream": "stdout",
       "text": [
        "\n",
        "time elapsed: 0.782496929169\n",
        "selection for snpID: 1:181844943\n",
        "found 164491 matching SNPs"
       ]
      },
      {
       "output_type": "stream",
       "stream": "stdout",
       "text": [
        "\n",
        "time elapsed: 0.781275033951\n",
        "selection for snpID: 18:67015865\n",
        "found 164491 matching SNPs"
       ]
      },
      {
       "output_type": "stream",
       "stream": "stdout",
       "text": [
        "\n",
        "time elapsed: 0.852483987808\n",
        "selection for snpID: 6:32592119\n",
        "found 164491 matching SNPs"
       ]
      },
      {
       "output_type": "stream",
       "stream": "stdout",
       "text": [
        "\n",
        "time elapsed: 0.796756029129\n",
        "selection for snpID: 9:133472747\n",
        "found 164491 matching SNPs"
       ]
      },
      {
       "output_type": "stream",
       "stream": "stdout",
       "text": [
        "\n",
        "time elapsed: 0.829679012299\n",
        "selection for snpID: 4:63055561\n",
        "found 164491 matching SNPs"
       ]
      },
      {
       "output_type": "stream",
       "stream": "stdout",
       "text": [
        "\n",
        "time elapsed: 0.781848907471\n",
        "selection for snpID: 11:127160664\n",
        "found 164491 matching SNPs"
       ]
      },
      {
       "output_type": "stream",
       "stream": "stdout",
       "text": [
        "\n",
        "time elapsed: 0.797158956528\n",
        "selection for snpID: 14:69873335\n",
        "found 164491 matching SNPs"
       ]
      },
      {
       "output_type": "stream",
       "stream": "stdout",
       "text": [
        "\n",
        "time elapsed: 0.777955055237\n",
        "selection for snpID: 9:5453460\n",
        "found 164491 matching SNPs"
       ]
      },
      {
       "output_type": "stream",
       "stream": "stdout",
       "text": [
        "\n",
        "time elapsed: 0.775321960449\n",
        "selection for snpID: 7:88660988\n",
        "found 164491 matching SNPs"
       ]
      },
      {
       "output_type": "stream",
       "stream": "stdout",
       "text": [
        "\n",
        "time elapsed: 0.768512010574\n",
        "selection for snpID: 1:201688955\n",
        "found 164491 matching SNPs"
       ]
      },
      {
       "output_type": "stream",
       "stream": "stdout",
       "text": [
        "\n",
        "time elapsed: 0.776282072067\n",
        "selection for snpID: 1:181844943\n",
        "found 164491 matching SNPs"
       ]
      },
      {
       "output_type": "stream",
       "stream": "stdout",
       "text": [
        "\n",
        "time elapsed: 0.775031089783\n",
        "selection for snpID: 18:67015865\n",
        "found 164491 matching SNPs"
       ]
      },
      {
       "output_type": "stream",
       "stream": "stdout",
       "text": [
        "\n",
        "time elapsed: 0.768661022186\n",
        "selection for snpID: 6:32592119\n",
        "found 164491 matching SNPs"
       ]
      },
      {
       "output_type": "stream",
       "stream": "stdout",
       "text": [
        "\n",
        "time elapsed: 0.764137029648\n",
        "selection for snpID: 9:133472747\n",
        "found 164491 matching SNPs"
       ]
      },
      {
       "output_type": "stream",
       "stream": "stdout",
       "text": [
        "\n",
        "time elapsed: 0.765738964081\n",
        "selection for snpID: 4:63055561\n",
        "found 164491 matching SNPs"
       ]
      },
      {
       "output_type": "stream",
       "stream": "stdout",
       "text": [
        "\n",
        "time elapsed: 0.781251907349\n",
        "selection for snpID: 11:127160664\n",
        "found 164491 matching SNPs"
       ]
      },
      {
       "output_type": "stream",
       "stream": "stdout",
       "text": [
        "\n",
        "time elapsed: 0.783849000931\n",
        "selection for snpID: 14:69873335\n",
        "found 164491 matching SNPs"
       ]
      },
      {
       "output_type": "stream",
       "stream": "stdout",
       "text": [
        "\n",
        "time elapsed: 0.771021127701\n",
        "selection for snpID: 9:5453460\n",
        "found 164491 matching SNPs"
       ]
      },
      {
       "output_type": "stream",
       "stream": "stdout",
       "text": [
        "\n",
        "time elapsed: 0.883543014526\n",
        "selection for snpID: 7:88660988\n",
        "found 164491 matching SNPs"
       ]
      },
      {
       "output_type": "stream",
       "stream": "stdout",
       "text": [
        "\n",
        "time elapsed: 0.891600131989\n",
        "selection for snpID: 1:201688955\n",
        "found 164491 matching SNPs"
       ]
      },
      {
       "output_type": "stream",
       "stream": "stdout",
       "text": [
        "\n",
        "time elapsed: 0.840708017349\n",
        "selection for snpID: 1:181844943\n",
        "found 164491 matching SNPs"
       ]
      },
      {
       "output_type": "stream",
       "stream": "stdout",
       "text": [
        "\n",
        "time elapsed: 0.806845903397\n",
        "selection for snpID: 18:67015865\n",
        "found 164491 matching SNPs"
       ]
      },
      {
       "output_type": "stream",
       "stream": "stdout",
       "text": [
        "\n",
        "time elapsed: 0.796159982681\n",
        "selection for snpID: 6:32592119\n",
        "found 164491 matching SNPs"
       ]
      },
      {
       "output_type": "stream",
       "stream": "stdout",
       "text": [
        "\n",
        "time elapsed: 0.75488114357\n",
        "selection for snpID: 9:133472747\n",
        "found 164491 matching SNPs"
       ]
      },
      {
       "output_type": "stream",
       "stream": "stdout",
       "text": [
        "\n",
        "time elapsed: 0.790230035782\n",
        "selection for snpID: 4:63055561\n",
        "found 164491 matching SNPs"
       ]
      },
      {
       "output_type": "stream",
       "stream": "stdout",
       "text": [
        "\n",
        "time elapsed: 0.770462989807\n",
        "selection for snpID: 11:127160664\n",
        "found 164491 matching SNPs"
       ]
      },
      {
       "output_type": "stream",
       "stream": "stdout",
       "text": [
        "\n",
        "time elapsed: 0.791373968124\n",
        "selection for snpID: 14:69873335\n",
        "found 164491 matching SNPs"
       ]
      },
      {
       "output_type": "stream",
       "stream": "stdout",
       "text": [
        "\n",
        "time elapsed: 0.793224096298\n",
        "selection for snpID: 9:5453460\n",
        "found 164491 matching SNPs"
       ]
      },
      {
       "output_type": "stream",
       "stream": "stdout",
       "text": [
        "\n",
        "time elapsed: 0.780375003815\n",
        "selection for snpID: 7:88660988\n",
        "found 164491 matching SNPs"
       ]
      },
      {
       "output_type": "stream",
       "stream": "stdout",
       "text": [
        "\n",
        "time elapsed: 0.813931941986\n",
        "selection for snpID: 1:201688955\n",
        "found 164491 matching SNPs"
       ]
      },
      {
       "output_type": "stream",
       "stream": "stdout",
       "text": [
        "\n",
        "time elapsed: 0.790274858475\n",
        "selection for snpID: 1:181844943\n",
        "found 164491 matching SNPs"
       ]
      },
      {
       "output_type": "stream",
       "stream": "stdout",
       "text": [
        "\n",
        "time elapsed: 0.786885976791\n",
        "selection for snpID: 18:67015865\n",
        "found 164491 matching SNPs"
       ]
      },
      {
       "output_type": "stream",
       "stream": "stdout",
       "text": [
        "\n",
        "time elapsed: 0.769000053406\n",
        "selection for snpID: 6:32592119\n",
        "found 164491 matching SNPs"
       ]
      },
      {
       "output_type": "stream",
       "stream": "stdout",
       "text": [
        "\n",
        "time elapsed: 0.824116945267\n",
        "selection for snpID: 9:133472747\n",
        "found 164491 matching SNPs"
       ]
      },
      {
       "output_type": "stream",
       "stream": "stdout",
       "text": [
        "\n",
        "time elapsed: 0.803670883179\n",
        "selection for snpID: 4:63055561\n",
        "found 164491 matching SNPs"
       ]
      },
      {
       "output_type": "stream",
       "stream": "stdout",
       "text": [
        "\n",
        "time elapsed: 0.7756690979\n",
        "selection for snpID: 11:127160664\n",
        "found 164491 matching SNPs"
       ]
      },
      {
       "output_type": "stream",
       "stream": "stdout",
       "text": [
        "\n",
        "time elapsed: 0.839318037033\n",
        "selection for snpID: 14:69873335\n",
        "found 164491 matching SNPs"
       ]
      },
      {
       "output_type": "stream",
       "stream": "stdout",
       "text": [
        "\n",
        "time elapsed: 0.869011163712\n",
        "selection for snpID: 9:5453460\n",
        "found 164491 matching SNPs"
       ]
      },
      {
       "output_type": "stream",
       "stream": "stdout",
       "text": [
        "\n",
        "time elapsed: 0.833396911621\n",
        "selection for snpID: 7:88660988\n",
        "found 164491 matching SNPs"
       ]
      },
      {
       "output_type": "stream",
       "stream": "stdout",
       "text": [
        "\n",
        "time elapsed: 0.809007883072\n",
        "selection for snpID: 1:201688955\n",
        "found 164491 matching SNPs"
       ]
      },
      {
       "output_type": "stream",
       "stream": "stdout",
       "text": [
        "\n",
        "time elapsed: 0.77668094635\n",
        "selection for snpID: 1:181844943\n",
        "found 164491 matching SNPs"
       ]
      },
      {
       "output_type": "stream",
       "stream": "stdout",
       "text": [
        "\n",
        "time elapsed: 0.767158985138\n",
        "selection for snpID: 18:67015865\n",
        "found 164491 matching SNPs"
       ]
      },
      {
       "output_type": "stream",
       "stream": "stdout",
       "text": [
        "\n",
        "time elapsed: 0.774562835693\n",
        "selection for snpID: 6:32592119\n",
        "found 164491 matching SNPs"
       ]
      },
      {
       "output_type": "stream",
       "stream": "stdout",
       "text": [
        "\n",
        "time elapsed: 0.780938863754\n",
        "selection for snpID: 9:133472747\n",
        "found 164491 matching SNPs"
       ]
      },
      {
       "output_type": "stream",
       "stream": "stdout",
       "text": [
        "\n",
        "time elapsed: 0.770740032196\n",
        "selection for snpID: 4:63055561\n",
        "found 164491 matching SNPs"
       ]
      },
      {
       "output_type": "stream",
       "stream": "stdout",
       "text": [
        "\n",
        "time elapsed: 0.775532960892\n",
        "selection for snpID: 11:127160664\n",
        "found 164491 matching SNPs"
       ]
      },
      {
       "output_type": "stream",
       "stream": "stdout",
       "text": [
        "\n",
        "time elapsed: 0.787501811981\n",
        "selection for snpID: 14:69873335\n",
        "found 164491 matching SNPs"
       ]
      },
      {
       "output_type": "stream",
       "stream": "stdout",
       "text": [
        "\n",
        "time elapsed: 0.781940937042\n",
        "selection for snpID: 9:5453460\n",
        "found 164491 matching SNPs"
       ]
      },
      {
       "output_type": "stream",
       "stream": "stdout",
       "text": [
        "\n",
        "time elapsed: 0.807969093323\n",
        "selection for snpID: 7:88660988\n",
        "found 164491 matching SNPs"
       ]
      },
      {
       "output_type": "stream",
       "stream": "stdout",
       "text": [
        "\n",
        "time elapsed: 0.806113958359\n",
        "selection for snpID: 1:201688955\n",
        "found 164491 matching SNPs"
       ]
      },
      {
       "output_type": "stream",
       "stream": "stdout",
       "text": [
        "\n",
        "time elapsed: 0.865252017975\n",
        "selection for snpID: 1:181844943\n",
        "found 164491 matching SNPs"
       ]
      },
      {
       "output_type": "stream",
       "stream": "stdout",
       "text": [
        "\n",
        "time elapsed: 0.769272089005\n",
        "selection for snpID: 18:67015865\n",
        "found 164491 matching SNPs"
       ]
      },
      {
       "output_type": "stream",
       "stream": "stdout",
       "text": [
        "\n",
        "time elapsed: 0.800931930542\n",
        "selection for snpID: 6:32592119\n",
        "found 164491 matching SNPs"
       ]
      },
      {
       "output_type": "stream",
       "stream": "stdout",
       "text": [
        "\n",
        "time elapsed: 0.906584024429\n",
        "selection for snpID: 9:133472747\n",
        "found 164491 matching SNPs"
       ]
      },
      {
       "output_type": "stream",
       "stream": "stdout",
       "text": [
        "\n",
        "time elapsed: 0.961960077286\n",
        "selection for snpID: 4:63055561\n",
        "found 164491 matching SNPs"
       ]
      },
      {
       "output_type": "stream",
       "stream": "stdout",
       "text": [
        "\n",
        "time elapsed: 0.81613612175\n",
        "selection for snpID: 11:127160664\n",
        "found 164491 matching SNPs"
       ]
      },
      {
       "output_type": "stream",
       "stream": "stdout",
       "text": [
        "\n",
        "time elapsed: 0.79457783699\n",
        "selection for snpID: 14:69873335\n",
        "found 164491 matching SNPs"
       ]
      },
      {
       "output_type": "stream",
       "stream": "stdout",
       "text": [
        "\n",
        "time elapsed: 0.830185890198\n",
        "selection for snpID: 9:5453460\n",
        "found 164491 matching SNPs"
       ]
      },
      {
       "output_type": "stream",
       "stream": "stdout",
       "text": [
        "\n",
        "time elapsed: 0.797938108444\n",
        "selection for snpID: 7:88660988\n",
        "found 164491 matching SNPs"
       ]
      },
      {
       "output_type": "stream",
       "stream": "stdout",
       "text": [
        "\n",
        "time elapsed: 0.771490097046\n",
        "selection for snpID: 1:201688955\n",
        "found 164491 matching SNPs"
       ]
      },
      {
       "output_type": "stream",
       "stream": "stdout",
       "text": [
        "\n",
        "time elapsed: 0.776305198669\n",
        "selection for snpID: 1:181844943\n",
        "found 164491 matching SNPs"
       ]
      },
      {
       "output_type": "stream",
       "stream": "stdout",
       "text": [
        "\n",
        "time elapsed: 0.776661157608\n",
        "selection for snpID: 18:67015865\n",
        "found 164491 matching SNPs"
       ]
      },
      {
       "output_type": "stream",
       "stream": "stdout",
       "text": [
        "\n",
        "time elapsed: 0.828445911407\n",
        "selection for snpID: 6:32592119\n",
        "found 164491 matching SNPs"
       ]
      },
      {
       "output_type": "stream",
       "stream": "stdout",
       "text": [
        "\n",
        "time elapsed: 0.795434951782\n",
        "selection for snpID: 9:133472747\n",
        "found 164491 matching SNPs"
       ]
      },
      {
       "output_type": "stream",
       "stream": "stdout",
       "text": [
        "\n",
        "time elapsed: 0.771679162979\n",
        "selection for snpID: 4:63055561\n",
        "found 164491 matching SNPs"
       ]
      },
      {
       "output_type": "stream",
       "stream": "stdout",
       "text": [
        "\n",
        "time elapsed: 0.790901899338\n",
        "selection for snpID: 11:127160664\n",
        "found 164491 matching SNPs"
       ]
      },
      {
       "output_type": "stream",
       "stream": "stdout",
       "text": [
        "\n",
        "time elapsed: 0.807572841644\n",
        "selection for snpID: 14:69873335\n",
        "found 164491 matching SNPs"
       ]
      },
      {
       "output_type": "stream",
       "stream": "stdout",
       "text": [
        "\n",
        "time elapsed: 0.808101892471\n",
        "selection for snpID: 9:5453460\n",
        "found 164491 matching SNPs"
       ]
      },
      {
       "output_type": "stream",
       "stream": "stdout",
       "text": [
        "\n",
        "time elapsed: 0.794646024704\n",
        "selection for snpID: 7:88660988\n",
        "found 164491 matching SNPs"
       ]
      },
      {
       "output_type": "stream",
       "stream": "stdout",
       "text": [
        "\n",
        "time elapsed: 0.817265033722\n",
        "selection for snpID: 1:201688955\n",
        "found 164491 matching SNPs"
       ]
      },
      {
       "output_type": "stream",
       "stream": "stdout",
       "text": [
        "\n",
        "time elapsed: 0.791332960129\n",
        "selection for snpID: 1:181844943\n",
        "found 164491 matching SNPs"
       ]
      },
      {
       "output_type": "stream",
       "stream": "stdout",
       "text": [
        "\n",
        "time elapsed: 0.838343143463\n",
        "selection for snpID: 18:67015865\n",
        "found 164491 matching SNPs"
       ]
      },
      {
       "output_type": "stream",
       "stream": "stdout",
       "text": [
        "\n",
        "time elapsed: 0.910254001617\n",
        "selection for snpID: 6:32592119\n",
        "found 164491 matching SNPs"
       ]
      },
      {
       "output_type": "stream",
       "stream": "stdout",
       "text": [
        "\n",
        "time elapsed: 0.852220058441\n",
        "selection for snpID: 9:133472747\n",
        "found 164491 matching SNPs"
       ]
      },
      {
       "output_type": "stream",
       "stream": "stdout",
       "text": [
        "\n",
        "time elapsed: 0.825841188431\n",
        "selection for snpID: 4:63055561\n",
        "found 164491 matching SNPs"
       ]
      },
      {
       "output_type": "stream",
       "stream": "stdout",
       "text": [
        "\n",
        "time elapsed: 0.801021099091\n",
        "selection for snpID: 11:127160664\n",
        "found 164491 matching SNPs"
       ]
      },
      {
       "output_type": "stream",
       "stream": "stdout",
       "text": [
        "\n",
        "time elapsed: 0.796331167221\n",
        "selection for snpID: 14:69873335\n",
        "found 164491 matching SNPs"
       ]
      },
      {
       "output_type": "stream",
       "stream": "stdout",
       "text": [
        "\n",
        "time elapsed: 0.792204856873\n",
        "selection for snpID: 9:5453460\n",
        "found 164491 matching SNPs"
       ]
      },
      {
       "output_type": "stream",
       "stream": "stdout",
       "text": [
        "\n",
        "time elapsed: 0.827128887177\n",
        "selection for snpID: 7:88660988\n",
        "found 164491 matching SNPs"
       ]
      },
      {
       "output_type": "stream",
       "stream": "stdout",
       "text": [
        "\n",
        "time elapsed: 0.79804110527\n",
        "selection for snpID: 1:201688955\n",
        "found 164491 matching SNPs"
       ]
      },
      {
       "output_type": "stream",
       "stream": "stdout",
       "text": [
        "\n",
        "time elapsed: 0.788209915161\n",
        "selection for snpID: 1:181844943\n",
        "found 164491 matching SNPs"
       ]
      },
      {
       "output_type": "stream",
       "stream": "stdout",
       "text": [
        "\n",
        "time elapsed: 0.793246030807\n",
        "selection for snpID: 18:67015865\n",
        "found 164491 matching SNPs"
       ]
      },
      {
       "output_type": "stream",
       "stream": "stdout",
       "text": [
        "\n",
        "time elapsed: 0.807699918747\n",
        "selection for snpID: 6:32592119\n",
        "found 164491 matching SNPs"
       ]
      },
      {
       "output_type": "stream",
       "stream": "stdout",
       "text": [
        "\n",
        "time elapsed: 0.803602218628\n",
        "selection for snpID: 9:133472747\n",
        "found 164491 matching SNPs"
       ]
      },
      {
       "output_type": "stream",
       "stream": "stdout",
       "text": [
        "\n",
        "time elapsed: 0.803910017014\n",
        "selection for snpID: 4:63055561\n",
        "found 164491 matching SNPs"
       ]
      },
      {
       "output_type": "stream",
       "stream": "stdout",
       "text": [
        "\n",
        "time elapsed: 0.803596019745\n",
        "selection for snpID: 11:127160664\n",
        "found 164491 matching SNPs"
       ]
      },
      {
       "output_type": "stream",
       "stream": "stdout",
       "text": [
        "\n",
        "time elapsed: 0.818655014038\n",
        "selection for snpID: 14:69873335\n",
        "found 164491 matching SNPs"
       ]
      },
      {
       "output_type": "stream",
       "stream": "stdout",
       "text": [
        "\n",
        "time elapsed: 0.796428918839\n",
        "selection for snpID: 9:5453460\n",
        "found 164491 matching SNPs"
       ]
      },
      {
       "output_type": "stream",
       "stream": "stdout",
       "text": [
        "\n",
        "time elapsed: 0.804826021194\n",
        "selection for snpID: 7:88660988\n",
        "found 164491 matching SNPs"
       ]
      },
      {
       "output_type": "stream",
       "stream": "stdout",
       "text": [
        "\n",
        "time elapsed: 0.822725057602\n",
        "selection for snpID: 1:201688955\n",
        "found 164491 matching SNPs"
       ]
      },
      {
       "output_type": "stream",
       "stream": "stdout",
       "text": [
        "\n",
        "time elapsed: 0.802313089371\n",
        "selection for snpID: 1:181844943\n",
        "found 164491 matching SNPs"
       ]
      },
      {
       "output_type": "stream",
       "stream": "stdout",
       "text": [
        "\n",
        "time elapsed: 0.784847021103\n",
        "selection for snpID: 18:67015865\n",
        "found 164491 matching SNPs"
       ]
      },
      {
       "output_type": "stream",
       "stream": "stdout",
       "text": [
        "\n",
        "time elapsed: 0.792883872986\n",
        "selection for snpID: 6:32592119\n",
        "found 164491 matching SNPs"
       ]
      },
      {
       "output_type": "stream",
       "stream": "stdout",
       "text": [
        "\n",
        "time elapsed: 0.801615953445\n",
        "selection for snpID: 9:133472747\n",
        "found 164491 matching SNPs"
       ]
      },
      {
       "output_type": "stream",
       "stream": "stdout",
       "text": [
        "\n",
        "time elapsed: 0.80318903923\n",
        "selection for snpID: 4:63055561\n",
        "found 164491 matching SNPs"
       ]
      },
      {
       "output_type": "stream",
       "stream": "stdout",
       "text": [
        "\n",
        "time elapsed: 0.796440839767\n",
        "selection for snpID: 11:127160664\n",
        "found 164491 matching SNPs"
       ]
      },
      {
       "output_type": "stream",
       "stream": "stdout",
       "text": [
        "\n",
        "time elapsed: 0.791756153107\n",
        "selection for snpID: 14:69873335\n",
        "found 164491 matching SNPs"
       ]
      },
      {
       "output_type": "stream",
       "stream": "stdout",
       "text": [
        "\n",
        "time elapsed: 0.801383018494\n",
        "selection for snpID: 9:5453460\n",
        "found 164491 matching SNPs"
       ]
      },
      {
       "output_type": "stream",
       "stream": "stdout",
       "text": [
        "\n",
        "time elapsed: 0.856625080109\n",
        "selection for snpID: 7:88660988\n",
        "found 164491 matching SNPs"
       ]
      },
      {
       "output_type": "stream",
       "stream": "stdout",
       "text": [
        "\n",
        "time elapsed: 0.80500292778\n",
        "selection for snpID: 1:201688955\n",
        "found 164491 matching SNPs"
       ]
      },
      {
       "output_type": "stream",
       "stream": "stdout",
       "text": [
        "\n",
        "time elapsed: 0.801893949509\n",
        "selection for snpID: 1:181844943\n",
        "found 164491 matching SNPs"
       ]
      },
      {
       "output_type": "stream",
       "stream": "stdout",
       "text": [
        "\n",
        "time elapsed: 0.787621974945\n",
        "selection for snpID: 18:67015865\n",
        "found 164491 matching SNPs"
       ]
      },
      {
       "output_type": "stream",
       "stream": "stdout",
       "text": [
        "\n",
        "time elapsed: 0.793256044388\n",
        "selection for snpID: 6:32592119\n",
        "found 164491 matching SNPs"
       ]
      },
      {
       "output_type": "stream",
       "stream": "stdout",
       "text": [
        "\n",
        "time elapsed: 0.77534198761\n",
        "selection for snpID: 9:133472747\n",
        "found 164491 matching SNPs"
       ]
      },
      {
       "output_type": "stream",
       "stream": "stdout",
       "text": [
        "\n",
        "time elapsed: 0.776664972305\n",
        "selection for snpID: 4:63055561\n",
        "found 164491 matching SNPs"
       ]
      },
      {
       "output_type": "stream",
       "stream": "stdout",
       "text": [
        "\n",
        "time elapsed: 0.764669179916\n",
        "selection for snpID: 11:127160664\n",
        "found 164491 matching SNPs"
       ]
      },
      {
       "output_type": "stream",
       "stream": "stdout",
       "text": [
        "\n",
        "time elapsed: 0.774547815323\n",
        "selection for snpID: 14:69873335\n",
        "found 164491 matching SNPs"
       ]
      },
      {
       "output_type": "stream",
       "stream": "stdout",
       "text": [
        "\n",
        "time elapsed: 0.774863004684\n",
        "selection for snpID: 9:5453460\n",
        "found 164491 matching SNPs"
       ]
      },
      {
       "output_type": "stream",
       "stream": "stdout",
       "text": [
        "\n",
        "time elapsed: 0.766246795654\n",
        "selection for snpID: 7:88660988\n",
        "found 164491 matching SNPs"
       ]
      },
      {
       "output_type": "stream",
       "stream": "stdout",
       "text": [
        "\n",
        "time elapsed: 0.790889978409\n",
        "selection for snpID: 1:201688955\n",
        "found 164491 matching SNPs"
       ]
      },
      {
       "output_type": "stream",
       "stream": "stdout",
       "text": [
        "\n",
        "time elapsed: 0.800495147705\n",
        "selection for snpID: 1:181844943\n",
        "found 164491 matching SNPs"
       ]
      },
      {
       "output_type": "stream",
       "stream": "stdout",
       "text": [
        "\n",
        "time elapsed: 0.804170131683\n",
        "selection for snpID: 18:67015865\n",
        "found 164491 matching SNPs"
       ]
      },
      {
       "output_type": "stream",
       "stream": "stdout",
       "text": [
        "\n",
        "time elapsed: 0.780960083008\n",
        "selection for snpID: 6:32592119\n",
        "found 164491 matching SNPs"
       ]
      },
      {
       "output_type": "stream",
       "stream": "stdout",
       "text": [
        "\n",
        "time elapsed: 0.804105997086\n",
        "selection for snpID: 9:133472747\n",
        "found 164491 matching SNPs"
       ]
      },
      {
       "output_type": "stream",
       "stream": "stdout",
       "text": [
        "\n",
        "time elapsed: 0.807021141052\n",
        "selection for snpID: 4:63055561\n",
        "found 164491 matching SNPs"
       ]
      },
      {
       "output_type": "stream",
       "stream": "stdout",
       "text": [
        "\n",
        "time elapsed: 0.785316944122\n",
        "selection for snpID: 11:127160664\n",
        "found 164491 matching SNPs"
       ]
      },
      {
       "output_type": "stream",
       "stream": "stdout",
       "text": [
        "\n",
        "time elapsed: 0.776293992996\n",
        "selection for snpID: 14:69873335\n",
        "found 164491 matching SNPs"
       ]
      },
      {
       "output_type": "stream",
       "stream": "stdout",
       "text": [
        "\n",
        "time elapsed: 0.797632932663\n",
        "selection for snpID: 9:5453460\n",
        "found 164491 matching SNPs"
       ]
      },
      {
       "output_type": "stream",
       "stream": "stdout",
       "text": [
        "\n",
        "time elapsed: 0.767345905304\n",
        "selection for snpID: 7:88660988\n",
        "found 164491 matching SNPs"
       ]
      },
      {
       "output_type": "stream",
       "stream": "stdout",
       "text": [
        "\n",
        "time elapsed: 0.768607139587\n",
        "selection for snpID: 1:201688955\n",
        "found 164491 matching SNPs"
       ]
      },
      {
       "output_type": "stream",
       "stream": "stdout",
       "text": [
        "\n",
        "time elapsed: 0.791906118393\n",
        "selection for snpID: 1:181844943\n",
        "found 164491 matching SNPs"
       ]
      },
      {
       "output_type": "stream",
       "stream": "stdout",
       "text": [
        "\n",
        "time elapsed: 0.790894985199\n",
        "selection for snpID: 18:67015865\n",
        "found 164491 matching SNPs"
       ]
      },
      {
       "output_type": "stream",
       "stream": "stdout",
       "text": [
        "\n",
        "time elapsed: 0.805724143982\n",
        "selection for snpID: 6:32592119\n",
        "found 164491 matching SNPs"
       ]
      },
      {
       "output_type": "stream",
       "stream": "stdout",
       "text": [
        "\n",
        "time elapsed: 0.796066999435\n",
        "selection for snpID: 9:133472747\n",
        "found 164491 matching SNPs"
       ]
      },
      {
       "output_type": "stream",
       "stream": "stdout",
       "text": [
        "\n",
        "time elapsed: 0.774219989777\n",
        "selection for snpID: 4:63055561\n",
        "found 164491 matching SNPs"
       ]
      },
      {
       "output_type": "stream",
       "stream": "stdout",
       "text": [
        "\n",
        "time elapsed: 0.804799079895\n",
        "selection for snpID: 11:127160664\n",
        "found 164491 matching SNPs"
       ]
      },
      {
       "output_type": "stream",
       "stream": "stdout",
       "text": [
        "\n",
        "time elapsed: 0.807515144348\n",
        "selection for snpID: 14:69873335\n",
        "found 164491 matching SNPs"
       ]
      },
      {
       "output_type": "stream",
       "stream": "stdout",
       "text": [
        "\n",
        "time elapsed: 0.848000049591\n",
        "selection for snpID: 9:5453460\n",
        "found 164491 matching SNPs"
       ]
      },
      {
       "output_type": "stream",
       "stream": "stdout",
       "text": [
        "\n",
        "time elapsed: 0.827219009399\n",
        "selection for snpID: 7:88660988\n",
        "found 164491 matching SNPs"
       ]
      },
      {
       "output_type": "stream",
       "stream": "stdout",
       "text": [
        "\n",
        "time elapsed: 0.81374001503\n",
        "selection for snpID: 1:201688955\n",
        "found 164491 matching SNPs"
       ]
      },
      {
       "output_type": "stream",
       "stream": "stdout",
       "text": [
        "\n",
        "time elapsed: 0.782967090607\n",
        "selection for snpID: 1:181844943\n",
        "found 164491 matching SNPs"
       ]
      },
      {
       "output_type": "stream",
       "stream": "stdout",
       "text": [
        "\n",
        "time elapsed: 0.804460048676\n",
        "selection for snpID: 18:67015865\n",
        "found 164491 matching SNPs"
       ]
      },
      {
       "output_type": "stream",
       "stream": "stdout",
       "text": [
        "\n",
        "time elapsed: 0.785212993622\n",
        "selection for snpID: 6:32592119\n",
        "found 164491 matching SNPs"
       ]
      },
      {
       "output_type": "stream",
       "stream": "stdout",
       "text": [
        "\n",
        "time elapsed: 0.795688867569\n",
        "selection for snpID: 9:133472747\n",
        "found 164491 matching SNPs"
       ]
      },
      {
       "output_type": "stream",
       "stream": "stdout",
       "text": [
        "\n",
        "time elapsed: 0.812611103058\n",
        "selection for snpID: 4:63055561\n",
        "found 164491 matching SNPs"
       ]
      },
      {
       "output_type": "stream",
       "stream": "stdout",
       "text": [
        "\n",
        "time elapsed: 0.840209007263\n",
        "selection for snpID: 11:127160664\n",
        "found 164491 matching SNPs"
       ]
      },
      {
       "output_type": "stream",
       "stream": "stdout",
       "text": [
        "\n",
        "time elapsed: 0.828728914261\n",
        "selection for snpID: 14:69873335\n",
        "found 164491 matching SNPs"
       ]
      },
      {
       "output_type": "stream",
       "stream": "stdout",
       "text": [
        "\n",
        "time elapsed: 0.810301065445\n",
        "selection for snpID: 9:5453460\n",
        "found 164491 matching SNPs"
       ]
      },
      {
       "output_type": "stream",
       "stream": "stdout",
       "text": [
        "\n",
        "time elapsed: 0.784151077271\n",
        "selection for snpID: 7:88660988\n",
        "found 164491 matching SNPs"
       ]
      },
      {
       "output_type": "stream",
       "stream": "stdout",
       "text": [
        "\n",
        "time elapsed: 0.76544380188\n",
        "selection for snpID: 1:201688955\n",
        "found 164491 matching SNPs"
       ]
      },
      {
       "output_type": "stream",
       "stream": "stdout",
       "text": [
        "\n",
        "time elapsed: 0.777141094208\n",
        "selection for snpID: 1:181844943\n",
        "found 164491 matching SNPs"
       ]
      },
      {
       "output_type": "stream",
       "stream": "stdout",
       "text": [
        "\n",
        "time elapsed: 0.808917045593\n",
        "selection for snpID: 18:67015865\n",
        "found 164491 matching SNPs"
       ]
      },
      {
       "output_type": "stream",
       "stream": "stdout",
       "text": [
        "\n",
        "time elapsed: 0.840754985809\n",
        "selection for snpID: 6:32592119\n",
        "found 164491 matching SNPs"
       ]
      },
      {
       "output_type": "stream",
       "stream": "stdout",
       "text": [
        "\n",
        "time elapsed: 0.894368171692\n",
        "selection for snpID: 9:133472747\n",
        "found 164491 matching SNPs"
       ]
      },
      {
       "output_type": "stream",
       "stream": "stdout",
       "text": [
        "\n",
        "time elapsed: 0.914718866348\n",
        "selection for snpID: 4:63055561\n",
        "found 164491 matching SNPs"
       ]
      },
      {
       "output_type": "stream",
       "stream": "stdout",
       "text": [
        "\n",
        "time elapsed: 0.993026971817\n",
        "selection for snpID: 11:127160664\n",
        "found 164491 matching SNPs"
       ]
      },
      {
       "output_type": "stream",
       "stream": "stdout",
       "text": [
        "\n",
        "time elapsed: 0.997054100037\n",
        "selection for snpID: 14:69873335\n",
        "found 164491 matching SNPs"
       ]
      },
      {
       "output_type": "stream",
       "stream": "stdout",
       "text": [
        "\n",
        "time elapsed: 0.821593999863\n",
        "selection for snpID: 9:5453460\n",
        "found 164491 matching SNPs"
       ]
      },
      {
       "output_type": "stream",
       "stream": "stdout",
       "text": [
        "\n",
        "time elapsed: 0.776463031769\n",
        "selection for snpID: 7:88660988\n",
        "found 164491 matching SNPs"
       ]
      },
      {
       "output_type": "stream",
       "stream": "stdout",
       "text": [
        "\n",
        "time elapsed: 0.770859003067\n",
        "selection for snpID: 1:201688955\n",
        "found 164491 matching SNPs"
       ]
      },
      {
       "output_type": "stream",
       "stream": "stdout",
       "text": [
        "\n",
        "time elapsed: 0.767474889755\n",
        "selection for snpID: 1:181844943\n",
        "found 164491 matching SNPs"
       ]
      },
      {
       "output_type": "stream",
       "stream": "stdout",
       "text": [
        "\n",
        "time elapsed: 0.82345199585\n",
        "selection for snpID: 18:67015865\n",
        "found 164491 matching SNPs"
       ]
      },
      {
       "output_type": "stream",
       "stream": "stdout",
       "text": [
        "\n",
        "time elapsed: 0.832509040833\n",
        "selection for snpID: 6:32592119\n",
        "found 164491 matching SNPs"
       ]
      },
      {
       "output_type": "stream",
       "stream": "stdout",
       "text": [
        "\n",
        "time elapsed: 0.960731983185\n",
        "selection for snpID: 9:133472747\n",
        "found 164491 matching SNPs"
       ]
      },
      {
       "output_type": "stream",
       "stream": "stdout",
       "text": [
        "\n",
        "time elapsed: 0.936075925827\n",
        "selection for snpID: 4:63055561\n",
        "found 164491 matching SNPs"
       ]
      },
      {
       "output_type": "stream",
       "stream": "stdout",
       "text": [
        "\n",
        "time elapsed: 0.879467964172\n",
        "selection for snpID: 11:127160664\n",
        "found 164491 matching SNPs"
       ]
      },
      {
       "output_type": "stream",
       "stream": "stdout",
       "text": [
        "\n",
        "time elapsed: 0.818758964539\n",
        "selection for snpID: 14:69873335\n",
        "found 164491 matching SNPs"
       ]
      },
      {
       "output_type": "stream",
       "stream": "stdout",
       "text": [
        "\n",
        "time elapsed: 0.784452915192\n",
        "selection for snpID: 9:5453460\n",
        "found 164491 matching SNPs"
       ]
      },
      {
       "output_type": "stream",
       "stream": "stdout",
       "text": [
        "\n",
        "time elapsed: 0.785132169724\n",
        "selection for snpID: 7:88660988\n",
        "found 164491 matching SNPs"
       ]
      },
      {
       "output_type": "stream",
       "stream": "stdout",
       "text": [
        "\n",
        "time elapsed: 0.7691218853\n",
        "selection for snpID: 1:201688955\n",
        "found 164491 matching SNPs"
       ]
      },
      {
       "output_type": "stream",
       "stream": "stdout",
       "text": [
        "\n",
        "time elapsed: 0.769916057587\n",
        "selection for snpID: 1:181844943\n",
        "found 164491 matching SNPs"
       ]
      },
      {
       "output_type": "stream",
       "stream": "stdout",
       "text": [
        "\n",
        "time elapsed: 0.761558055878\n",
        "selection for snpID: 18:67015865\n",
        "found 164491 matching SNPs"
       ]
      },
      {
       "output_type": "stream",
       "stream": "stdout",
       "text": [
        "\n",
        "time elapsed: 0.813575029373\n",
        "selection for snpID: 6:32592119\n",
        "found 164491 matching SNPs"
       ]
      },
      {
       "output_type": "stream",
       "stream": "stdout",
       "text": [
        "\n",
        "time elapsed: 0.810158014297\n",
        "selection for snpID: 9:133472747\n",
        "found 164491 matching SNPs"
       ]
      },
      {
       "output_type": "stream",
       "stream": "stdout",
       "text": [
        "\n",
        "time elapsed: 0.808077812195\n",
        "selection for snpID: 4:63055561\n",
        "found 164491 matching SNPs"
       ]
      },
      {
       "output_type": "stream",
       "stream": "stdout",
       "text": [
        "\n",
        "time elapsed: 0.787469863892\n",
        "selection for snpID: 11:127160664\n",
        "found 164491 matching SNPs"
       ]
      },
      {
       "output_type": "stream",
       "stream": "stdout",
       "text": [
        "\n",
        "time elapsed: 0.763725042343\n",
        "selection for snpID: 14:69873335\n",
        "found 164491 matching SNPs"
       ]
      },
      {
       "output_type": "stream",
       "stream": "stdout",
       "text": [
        "\n",
        "time elapsed: 0.767613172531\n",
        "selection for snpID: 9:5453460\n",
        "found 164491 matching SNPs"
       ]
      },
      {
       "output_type": "stream",
       "stream": "stdout",
       "text": [
        "\n",
        "time elapsed: 0.775532007217\n",
        "selection for snpID: 7:88660988\n",
        "found 164491 matching SNPs"
       ]
      },
      {
       "output_type": "stream",
       "stream": "stdout",
       "text": [
        "\n",
        "time elapsed: 0.777482032776\n",
        "selection for snpID: 1:201688955\n",
        "found 164491 matching SNPs"
       ]
      },
      {
       "output_type": "stream",
       "stream": "stdout",
       "text": [
        "\n",
        "time elapsed: 0.775629997253\n",
        "selection for snpID: 1:181844943\n",
        "found 164491 matching SNPs"
       ]
      },
      {
       "output_type": "stream",
       "stream": "stdout",
       "text": [
        "\n",
        "time elapsed: 0.774124145508\n",
        "selection for snpID: 18:67015865\n",
        "found 164491 matching SNPs"
       ]
      },
      {
       "output_type": "stream",
       "stream": "stdout",
       "text": [
        "\n",
        "time elapsed: 0.782305002213\n",
        "selection for snpID: 6:32592119\n",
        "found 164491 matching SNPs"
       ]
      },
      {
       "output_type": "stream",
       "stream": "stdout",
       "text": [
        "\n",
        "time elapsed: 0.914007902145\n",
        "selection for snpID: 9:133472747\n",
        "found 164491 matching SNPs"
       ]
      },
      {
       "output_type": "stream",
       "stream": "stdout",
       "text": [
        "\n",
        "time elapsed: 0.81278014183\n",
        "selection for snpID: 4:63055561\n",
        "found 164491 matching SNPs"
       ]
      },
      {
       "output_type": "stream",
       "stream": "stdout",
       "text": [
        "\n",
        "time elapsed: 0.795311927795\n",
        "selection for snpID: 11:127160664\n",
        "found 164491 matching SNPs"
       ]
      },
      {
       "output_type": "stream",
       "stream": "stdout",
       "text": [
        "\n",
        "time elapsed: 0.871649026871\n",
        "selection for snpID: 14:69873335\n",
        "found 164491 matching SNPs"
       ]
      },
      {
       "output_type": "stream",
       "stream": "stdout",
       "text": [
        "\n",
        "time elapsed: 0.799960851669\n",
        "selection for snpID: 9:5453460\n",
        "found 164491 matching SNPs"
       ]
      },
      {
       "output_type": "stream",
       "stream": "stdout",
       "text": [
        "\n",
        "time elapsed: 0.780873060226\n",
        "selection for snpID: 7:88660988\n",
        "found 164491 matching SNPs"
       ]
      },
      {
       "output_type": "stream",
       "stream": "stdout",
       "text": [
        "\n",
        "time elapsed: 0.780614852905\n",
        "selection for snpID: 1:201688955\n",
        "found 164491 matching SNPs"
       ]
      },
      {
       "output_type": "stream",
       "stream": "stdout",
       "text": [
        "\n",
        "time elapsed: 0.797599077225\n",
        "selection for snpID: 1:181844943\n",
        "found 164491 matching SNPs"
       ]
      },
      {
       "output_type": "stream",
       "stream": "stdout",
       "text": [
        "\n",
        "time elapsed: 0.797856092453\n",
        "selection for snpID: 18:67015865\n",
        "found 164491 matching SNPs"
       ]
      },
      {
       "output_type": "stream",
       "stream": "stdout",
       "text": [
        "\n",
        "time elapsed: 0.779583930969\n",
        "selection for snpID: 6:32592119\n",
        "found 164491 matching SNPs"
       ]
      },
      {
       "output_type": "stream",
       "stream": "stdout",
       "text": [
        "\n",
        "time elapsed: 0.768694877625\n",
        "selection for snpID: 9:133472747\n",
        "found 164491 matching SNPs"
       ]
      },
      {
       "output_type": "stream",
       "stream": "stdout",
       "text": [
        "\n",
        "time elapsed: 0.821443080902\n",
        "selection for snpID: 4:63055561\n",
        "found 164491 matching SNPs"
       ]
      },
      {
       "output_type": "stream",
       "stream": "stdout",
       "text": [
        "\n",
        "time elapsed: 0.788609981537\n",
        "selection for snpID: 11:127160664\n",
        "found 164491 matching SNPs"
       ]
      },
      {
       "output_type": "stream",
       "stream": "stdout",
       "text": [
        "\n",
        "time elapsed: 0.79163980484\n",
        "selection for snpID: 14:69873335\n",
        "found 164491 matching SNPs"
       ]
      },
      {
       "output_type": "stream",
       "stream": "stdout",
       "text": [
        "\n",
        "time elapsed: 0.769459009171\n",
        "selection for snpID: 9:5453460\n",
        "found 164491 matching SNPs"
       ]
      },
      {
       "output_type": "stream",
       "stream": "stdout",
       "text": [
        "\n",
        "time elapsed: 0.788651943207\n",
        "selection for snpID: 7:88660988\n",
        "found 164491 matching SNPs"
       ]
      },
      {
       "output_type": "stream",
       "stream": "stdout",
       "text": [
        "\n",
        "time elapsed: 0.789196014404\n",
        "selection for snpID: 1:201688955\n",
        "found 164491 matching SNPs"
       ]
      },
      {
       "output_type": "stream",
       "stream": "stdout",
       "text": [
        "\n",
        "time elapsed: 0.786104917526\n",
        "selection for snpID: 1:181844943\n",
        "found 164491 matching SNPs"
       ]
      },
      {
       "output_type": "stream",
       "stream": "stdout",
       "text": [
        "\n",
        "time elapsed: 0.780186891556\n",
        "selection for snpID: 18:67015865\n",
        "found 164491 matching SNPs"
       ]
      },
      {
       "output_type": "stream",
       "stream": "stdout",
       "text": [
        "\n",
        "time elapsed: 0.798081874847\n",
        "selection for snpID: 6:32592119\n",
        "found 164491 matching SNPs"
       ]
      },
      {
       "output_type": "stream",
       "stream": "stdout",
       "text": [
        "\n",
        "time elapsed: 0.773977994919\n",
        "selection for snpID: 9:133472747\n",
        "found 164491 matching SNPs"
       ]
      },
      {
       "output_type": "stream",
       "stream": "stdout",
       "text": [
        "\n",
        "time elapsed: 0.853811979294\n",
        "selection for snpID: 4:63055561\n",
        "found 164491 matching SNPs"
       ]
      },
      {
       "output_type": "stream",
       "stream": "stdout",
       "text": [
        "\n",
        "time elapsed: 0.782551050186\n",
        "selection for snpID: 11:127160664\n",
        "found 164491 matching SNPs"
       ]
      },
      {
       "output_type": "stream",
       "stream": "stdout",
       "text": [
        "\n",
        "time elapsed: 0.782509803772\n",
        "selection for snpID: 14:69873335\n",
        "found 164491 matching SNPs"
       ]
      },
      {
       "output_type": "stream",
       "stream": "stdout",
       "text": [
        "\n",
        "time elapsed: 0.791286945343\n",
        "selection for snpID: 9:5453460\n",
        "found 164491 matching SNPs"
       ]
      },
      {
       "output_type": "stream",
       "stream": "stdout",
       "text": [
        "\n",
        "time elapsed: 0.827143907547\n",
        "selection for snpID: 7:88660988\n",
        "found 164491 matching SNPs"
       ]
      },
      {
       "output_type": "stream",
       "stream": "stdout",
       "text": [
        "\n",
        "time elapsed: 0.796901941299\n",
        "selection for snpID: 1:201688955\n",
        "found 164491 matching SNPs"
       ]
      },
      {
       "output_type": "stream",
       "stream": "stdout",
       "text": [
        "\n",
        "time elapsed: 0.800493955612\n",
        "selection for snpID: 1:181844943\n",
        "found 164491 matching SNPs"
       ]
      },
      {
       "output_type": "stream",
       "stream": "stdout",
       "text": [
        "\n",
        "time elapsed: 0.815626859665\n",
        "selection for snpID: 18:67015865\n",
        "found 164491 matching SNPs"
       ]
      },
      {
       "output_type": "stream",
       "stream": "stdout",
       "text": [
        "\n",
        "time elapsed: 0.78767490387\n",
        "selection for snpID: 6:32592119\n",
        "found 164491 matching SNPs"
       ]
      },
      {
       "output_type": "stream",
       "stream": "stdout",
       "text": [
        "\n",
        "time elapsed: 0.793366909027\n",
        "selection for snpID: 9:133472747\n",
        "found 164491 matching SNPs"
       ]
      },
      {
       "output_type": "stream",
       "stream": "stdout",
       "text": [
        "\n",
        "time elapsed: 0.788280010223\n",
        "selection for snpID: 4:63055561\n",
        "found 164491 matching SNPs"
       ]
      },
      {
       "output_type": "stream",
       "stream": "stdout",
       "text": [
        "\n",
        "time elapsed: 0.792835950851\n",
        "selection for snpID: 11:127160664\n",
        "found 164491 matching SNPs"
       ]
      },
      {
       "output_type": "stream",
       "stream": "stdout",
       "text": [
        "\n",
        "time elapsed: 0.781332015991\n",
        "selection for snpID: 14:69873335\n",
        "found 164491 matching SNPs"
       ]
      },
      {
       "output_type": "stream",
       "stream": "stdout",
       "text": [
        "\n",
        "time elapsed: 0.798842906952\n",
        "selection for snpID: 9:5453460\n",
        "found 164491 matching SNPs"
       ]
      },
      {
       "output_type": "stream",
       "stream": "stdout",
       "text": [
        "\n",
        "time elapsed: 0.791646957397\n",
        "selection for snpID: 7:88660988\n",
        "found 164491 matching SNPs"
       ]
      },
      {
       "output_type": "stream",
       "stream": "stdout",
       "text": [
        "\n",
        "time elapsed: 0.787739038467\n",
        "selection for snpID: 1:201688955\n",
        "found 164491 matching SNPs"
       ]
      },
      {
       "output_type": "stream",
       "stream": "stdout",
       "text": [
        "\n",
        "time elapsed: 0.785470962524\n",
        "selection for snpID: 1:181844943\n",
        "found 164491 matching SNPs"
       ]
      },
      {
       "output_type": "stream",
       "stream": "stdout",
       "text": [
        "\n",
        "time elapsed: 0.784461021423\n",
        "selection for snpID: 18:67015865\n",
        "found 164491 matching SNPs"
       ]
      },
      {
       "output_type": "stream",
       "stream": "stdout",
       "text": [
        "\n",
        "time elapsed: 0.808338165283\n",
        "selection for snpID: 6:32592119\n",
        "found 164491 matching SNPs"
       ]
      },
      {
       "output_type": "stream",
       "stream": "stdout",
       "text": [
        "\n",
        "time elapsed: 0.808822870255\n",
        "selection for snpID: 9:133472747\n",
        "found 164491 matching SNPs"
       ]
      },
      {
       "output_type": "stream",
       "stream": "stdout",
       "text": [
        "\n",
        "time elapsed: 0.807211875916\n",
        "selection for snpID: 4:63055561\n",
        "found 164491 matching SNPs"
       ]
      },
      {
       "output_type": "stream",
       "stream": "stdout",
       "text": [
        "\n",
        "time elapsed: 0.819540977478\n",
        "selection for snpID: 11:127160664\n",
        "found 164491 matching SNPs"
       ]
      },
      {
       "output_type": "stream",
       "stream": "stdout",
       "text": [
        "\n",
        "time elapsed: 1.0312731266\n",
        "selection for snpID: 14:69873335\n",
        "found 164491 matching SNPs"
       ]
      },
      {
       "output_type": "stream",
       "stream": "stdout",
       "text": [
        "\n",
        "time elapsed: 0.893733978271\n",
        "selection for snpID: 9:5453460\n",
        "found 164491 matching SNPs"
       ]
      },
      {
       "output_type": "stream",
       "stream": "stdout",
       "text": [
        "\n",
        "time elapsed: 0.881325960159\n",
        "selection for snpID: 7:88660988\n",
        "found 164491 matching SNPs"
       ]
      },
      {
       "output_type": "stream",
       "stream": "stdout",
       "text": [
        "\n",
        "time elapsed: 0.907847881317\n",
        "selection for snpID: 1:201688955\n",
        "found 164491 matching SNPs"
       ]
      },
      {
       "output_type": "stream",
       "stream": "stdout",
       "text": [
        "\n",
        "time elapsed: 0.804687023163\n",
        "selection for snpID: 1:181844943\n",
        "found 164491 matching SNPs"
       ]
      },
      {
       "output_type": "stream",
       "stream": "stdout",
       "text": [
        "\n",
        "time elapsed: 0.815847873688\n",
        "selection for snpID: 18:67015865\n",
        "found 164491 matching SNPs"
       ]
      },
      {
       "output_type": "stream",
       "stream": "stdout",
       "text": [
        "\n",
        "time elapsed: 0.813731908798\n",
        "selection for snpID: 6:32592119\n",
        "found 164491 matching SNPs"
       ]
      },
      {
       "output_type": "stream",
       "stream": "stdout",
       "text": [
        "\n",
        "time elapsed: 0.805131912231\n",
        "selection for snpID: 9:133472747\n",
        "found 164491 matching SNPs"
       ]
      },
      {
       "output_type": "stream",
       "stream": "stdout",
       "text": [
        "\n",
        "time elapsed: 0.806288957596\n",
        "selection for snpID: 4:63055561\n",
        "found 164491 matching SNPs"
       ]
      },
      {
       "output_type": "stream",
       "stream": "stdout",
       "text": [
        "\n",
        "time elapsed: 0.783599853516\n",
        "selection for snpID: 11:127160664\n",
        "found 164491 matching SNPs"
       ]
      },
      {
       "output_type": "stream",
       "stream": "stdout",
       "text": [
        "\n",
        "time elapsed: 0.806046009064\n",
        "selection for snpID: 14:69873335\n",
        "found 164491 matching SNPs"
       ]
      },
      {
       "output_type": "stream",
       "stream": "stdout",
       "text": [
        "\n",
        "time elapsed: 0.798070907593\n",
        "selection for snpID: 9:5453460\n",
        "found 164491 matching SNPs"
       ]
      },
      {
       "output_type": "stream",
       "stream": "stdout",
       "text": [
        "\n",
        "time elapsed: 0.79266500473\n",
        "selection for snpID: 7:88660988\n",
        "found 164491 matching SNPs"
       ]
      },
      {
       "output_type": "stream",
       "stream": "stdout",
       "text": [
        "\n",
        "time elapsed: 0.786875963211\n",
        "selection for snpID: 1:201688955\n",
        "found 164491 matching SNPs"
       ]
      },
      {
       "output_type": "stream",
       "stream": "stdout",
       "text": [
        "\n",
        "time elapsed: 0.806325912476\n",
        "selection for snpID: 1:181844943\n",
        "found 164491 matching SNPs"
       ]
      },
      {
       "output_type": "stream",
       "stream": "stdout",
       "text": [
        "\n",
        "time elapsed: 0.809834003448\n",
        "selection for snpID: 18:67015865\n",
        "found 164491 matching SNPs"
       ]
      },
      {
       "output_type": "stream",
       "stream": "stdout",
       "text": [
        "\n",
        "time elapsed: 0.795029878616\n",
        "selection for snpID: 6:32592119\n",
        "found 164491 matching SNPs"
       ]
      },
      {
       "output_type": "stream",
       "stream": "stdout",
       "text": [
        "\n",
        "time elapsed: 0.81637096405\n",
        "selection for snpID: 9:133472747\n",
        "found 164491 matching SNPs"
       ]
      },
      {
       "output_type": "stream",
       "stream": "stdout",
       "text": [
        "\n",
        "time elapsed: 0.795655965805\n",
        "selection for snpID: 4:63055561\n",
        "found 164491 matching SNPs"
       ]
      },
      {
       "output_type": "stream",
       "stream": "stdout",
       "text": [
        "\n",
        "time elapsed: 0.792967796326\n",
        "selection for snpID: 11:127160664\n",
        "found 164491 matching SNPs"
       ]
      },
      {
       "output_type": "stream",
       "stream": "stdout",
       "text": [
        "\n",
        "time elapsed: 0.791959047318\n",
        "selection for snpID: 14:69873335\n",
        "found 164491 matching SNPs"
       ]
      },
      {
       "output_type": "stream",
       "stream": "stdout",
       "text": [
        "\n",
        "time elapsed: 0.799645900726\n",
        "selection for snpID: 9:5453460\n",
        "found 164491 matching SNPs"
       ]
      },
      {
       "output_type": "stream",
       "stream": "stdout",
       "text": [
        "\n",
        "time elapsed: 0.801907062531\n",
        "selection for snpID: 7:88660988\n",
        "found 164491 matching SNPs"
       ]
      },
      {
       "output_type": "stream",
       "stream": "stdout",
       "text": [
        "\n",
        "time elapsed: 0.785196065903\n",
        "selection for snpID: 1:201688955\n",
        "found 164491 matching SNPs"
       ]
      },
      {
       "output_type": "stream",
       "stream": "stdout",
       "text": [
        "\n",
        "time elapsed: 0.868384838104\n",
        "selection for snpID: 1:181844943\n",
        "found 164491 matching SNPs"
       ]
      },
      {
       "output_type": "stream",
       "stream": "stdout",
       "text": [
        "\n",
        "time elapsed: 0.813971996307\n",
        "selection for snpID: 18:67015865\n",
        "found 164491 matching SNPs"
       ]
      },
      {
       "output_type": "stream",
       "stream": "stdout",
       "text": [
        "\n",
        "time elapsed: 0.86252617836\n",
        "selection for snpID: 6:32592119\n",
        "found 164491 matching SNPs"
       ]
      },
      {
       "output_type": "stream",
       "stream": "stdout",
       "text": [
        "\n",
        "time elapsed: 0.817737102509\n",
        "selection for snpID: 9:133472747\n",
        "found 164491 matching SNPs"
       ]
      },
      {
       "output_type": "stream",
       "stream": "stdout",
       "text": [
        "\n",
        "time elapsed: 0.77134013176\n",
        "selection for snpID: 4:63055561\n",
        "found 164491 matching SNPs"
       ]
      },
      {
       "output_type": "stream",
       "stream": "stdout",
       "text": [
        "\n",
        "time elapsed: 0.799016952515\n",
        "selection for snpID: 11:127160664\n",
        "found 164491 matching SNPs"
       ]
      },
      {
       "output_type": "stream",
       "stream": "stdout",
       "text": [
        "\n",
        "time elapsed: 0.795975923538\n",
        "selection for snpID: 14:69873335\n",
        "found 164491 matching SNPs"
       ]
      },
      {
       "output_type": "stream",
       "stream": "stdout",
       "text": [
        "\n",
        "time elapsed: 0.773372173309\n",
        "selection for snpID: 9:5453460\n",
        "found 164491 matching SNPs"
       ]
      },
      {
       "output_type": "stream",
       "stream": "stdout",
       "text": [
        "\n",
        "time elapsed: 0.781041145325\n",
        "selection for snpID: 7:88660988\n",
        "found 164491 matching SNPs"
       ]
      },
      {
       "output_type": "stream",
       "stream": "stdout",
       "text": [
        "\n",
        "time elapsed: 0.77455997467\n",
        "selection for snpID: 1:201688955\n",
        "found 164491 matching SNPs"
       ]
      },
      {
       "output_type": "stream",
       "stream": "stdout",
       "text": [
        "\n",
        "time elapsed: 0.778231859207\n",
        "selection for snpID: 1:181844943\n",
        "found 164491 matching SNPs"
       ]
      },
      {
       "output_type": "stream",
       "stream": "stdout",
       "text": [
        "\n",
        "time elapsed: 0.772990226746\n",
        "selection for snpID: 18:67015865\n",
        "found 164491 matching SNPs"
       ]
      },
      {
       "output_type": "stream",
       "stream": "stdout",
       "text": [
        "\n",
        "time elapsed: 0.765472888947\n",
        "selection for snpID: 6:32592119\n",
        "found 164491 matching SNPs"
       ]
      },
      {
       "output_type": "stream",
       "stream": "stdout",
       "text": [
        "\n",
        "time elapsed: 0.782576084137\n",
        "selection for snpID: 9:133472747\n",
        "found 164491 matching SNPs"
       ]
      },
      {
       "output_type": "stream",
       "stream": "stdout",
       "text": [
        "\n",
        "time elapsed: 0.765965938568\n",
        "selection for snpID: 4:63055561\n",
        "found 164491 matching SNPs"
       ]
      },
      {
       "output_type": "stream",
       "stream": "stdout",
       "text": [
        "\n",
        "time elapsed: 0.769106149673\n",
        "selection for snpID: 11:127160664\n",
        "found 164491 matching SNPs"
       ]
      },
      {
       "output_type": "stream",
       "stream": "stdout",
       "text": [
        "\n",
        "time elapsed: 0.763294935226\n",
        "selection for snpID: 14:69873335\n",
        "found 164491 matching SNPs"
       ]
      },
      {
       "output_type": "stream",
       "stream": "stdout",
       "text": [
        "\n",
        "time elapsed: 0.762965917587\n",
        "selection for snpID: 9:5453460\n",
        "found 164491 matching SNPs"
       ]
      },
      {
       "output_type": "stream",
       "stream": "stdout",
       "text": [
        "\n",
        "time elapsed: 0.768942117691\n",
        "selection for snpID: 7:88660988\n",
        "found 164491 matching SNPs"
       ]
      },
      {
       "output_type": "stream",
       "stream": "stdout",
       "text": [
        "\n",
        "time elapsed: 0.777408123016\n",
        "selection for snpID: 1:201688955\n",
        "found 164491 matching SNPs"
       ]
      },
      {
       "output_type": "stream",
       "stream": "stdout",
       "text": [
        "\n",
        "time elapsed: 0.784377813339\n",
        "selection for snpID: 1:181844943\n",
        "found 164491 matching SNPs"
       ]
      },
      {
       "output_type": "stream",
       "stream": "stdout",
       "text": [
        "\n",
        "time elapsed: 0.785177946091\n",
        "selection for snpID: 18:67015865\n",
        "found 164491 matching SNPs"
       ]
      },
      {
       "output_type": "stream",
       "stream": "stdout",
       "text": [
        "\n",
        "time elapsed: 0.794203996658\n",
        "selection for snpID: 6:32592119\n",
        "found 164491 matching SNPs"
       ]
      },
      {
       "output_type": "stream",
       "stream": "stdout",
       "text": [
        "\n",
        "time elapsed: 0.793082952499\n",
        "selection for snpID: 9:133472747\n",
        "found 164491 matching SNPs"
       ]
      },
      {
       "output_type": "stream",
       "stream": "stdout",
       "text": [
        "\n",
        "time elapsed: 0.804019212723\n",
        "selection for snpID: 4:63055561\n",
        "found 164491 matching SNPs"
       ]
      },
      {
       "output_type": "stream",
       "stream": "stdout",
       "text": [
        "\n",
        "time elapsed: 0.836629152298\n",
        "selection for snpID: 11:127160664\n",
        "found 164491 matching SNPs"
       ]
      },
      {
       "output_type": "stream",
       "stream": "stdout",
       "text": [
        "\n",
        "time elapsed: 0.847618103027\n",
        "selection for snpID: 14:69873335\n",
        "found 164491 matching SNPs"
       ]
      },
      {
       "output_type": "stream",
       "stream": "stdout",
       "text": [
        "\n",
        "time elapsed: 0.867341041565\n",
        "selection for snpID: 9:5453460\n",
        "found 164491 matching SNPs"
       ]
      },
      {
       "output_type": "stream",
       "stream": "stdout",
       "text": [
        "\n",
        "time elapsed: 0.822906970978\n",
        "selection for snpID: 7:88660988\n",
        "found 164491 matching SNPs"
       ]
      },
      {
       "output_type": "stream",
       "stream": "stdout",
       "text": [
        "\n",
        "time elapsed: 0.791072130203\n",
        "selection for snpID: 1:201688955\n",
        "found 164491 matching SNPs"
       ]
      },
      {
       "output_type": "stream",
       "stream": "stdout",
       "text": [
        "\n",
        "time elapsed: 0.799251079559\n",
        "selection for snpID: 1:181844943\n",
        "found 164491 matching SNPs"
       ]
      },
      {
       "output_type": "stream",
       "stream": "stdout",
       "text": [
        "\n",
        "time elapsed: 0.77779507637\n",
        "selection for snpID: 18:67015865\n",
        "found 164491 matching SNPs"
       ]
      },
      {
       "output_type": "stream",
       "stream": "stdout",
       "text": [
        "\n",
        "time elapsed: 0.778492927551\n",
        "selection for snpID: 6:32592119\n",
        "found 164491 matching SNPs"
       ]
      },
      {
       "output_type": "stream",
       "stream": "stdout",
       "text": [
        "\n",
        "time elapsed: 0.778660058975\n",
        "selection for snpID: 9:133472747\n",
        "found 164491 matching SNPs"
       ]
      },
      {
       "output_type": "stream",
       "stream": "stdout",
       "text": [
        "\n",
        "time elapsed: 0.769900083542\n",
        "selection for snpID: 4:63055561\n",
        "found 164491 matching SNPs"
       ]
      },
      {
       "output_type": "stream",
       "stream": "stdout",
       "text": [
        "\n",
        "time elapsed: 0.766926050186\n",
        "selection for snpID: 11:127160664\n",
        "found 164491 matching SNPs"
       ]
      },
      {
       "output_type": "stream",
       "stream": "stdout",
       "text": [
        "\n",
        "time elapsed: 0.778091907501\n",
        "selection for snpID: 14:69873335\n",
        "found 164491 matching SNPs"
       ]
      },
      {
       "output_type": "stream",
       "stream": "stdout",
       "text": [
        "\n",
        "time elapsed: 0.770672082901\n",
        "selection for snpID: 9:5453460\n",
        "found 164491 matching SNPs"
       ]
      },
      {
       "output_type": "stream",
       "stream": "stdout",
       "text": [
        "\n",
        "time elapsed: 0.773751974106\n",
        "selection for snpID: 7:88660988\n",
        "found 164491 matching SNPs"
       ]
      },
      {
       "output_type": "stream",
       "stream": "stdout",
       "text": [
        "\n",
        "time elapsed: 0.771492004395\n",
        "selection for snpID: 1:201688955\n",
        "found 164491 matching SNPs"
       ]
      },
      {
       "output_type": "stream",
       "stream": "stdout",
       "text": [
        "\n",
        "time elapsed: 0.77533197403\n",
        "selection for snpID: 1:181844943\n",
        "found 164491 matching SNPs"
       ]
      },
      {
       "output_type": "stream",
       "stream": "stdout",
       "text": [
        "\n",
        "time elapsed: 0.778808116913\n",
        "selection for snpID: 18:67015865\n",
        "found 164491 matching SNPs"
       ]
      },
      {
       "output_type": "stream",
       "stream": "stdout",
       "text": [
        "\n",
        "time elapsed: 0.772498130798\n",
        "selection for snpID: 6:32592119\n",
        "found 164491 matching SNPs"
       ]
      },
      {
       "output_type": "stream",
       "stream": "stdout",
       "text": [
        "\n",
        "time elapsed: 0.768868923187\n",
        "selection for snpID: 9:133472747\n",
        "found 164491 matching SNPs"
       ]
      },
      {
       "output_type": "stream",
       "stream": "stdout",
       "text": [
        "\n",
        "time elapsed: 0.831415891647\n",
        "selection for snpID: 4:63055561\n",
        "found 164491 matching SNPs"
       ]
      },
      {
       "output_type": "stream",
       "stream": "stdout",
       "text": [
        "\n",
        "time elapsed: 0.790389060974\n",
        "selection for snpID: 11:127160664\n",
        "found 164491 matching SNPs"
       ]
      },
      {
       "output_type": "stream",
       "stream": "stdout",
       "text": [
        "\n",
        "time elapsed: 0.773010969162\n",
        "selection for snpID: 14:69873335\n",
        "found 164491 matching SNPs"
       ]
      },
      {
       "output_type": "stream",
       "stream": "stdout",
       "text": [
        "\n",
        "time elapsed: 0.764246940613\n",
        "selection for snpID: 9:5453460\n",
        "found 164491 matching SNPs"
       ]
      },
      {
       "output_type": "stream",
       "stream": "stdout",
       "text": [
        "\n",
        "time elapsed: 0.784554004669\n",
        "selection for snpID: 7:88660988\n",
        "found 164491 matching SNPs"
       ]
      },
      {
       "output_type": "stream",
       "stream": "stdout",
       "text": [
        "\n",
        "time elapsed: 0.777428865433\n",
        "selection for snpID: 1:201688955\n",
        "found 164491 matching SNPs"
       ]
      },
      {
       "output_type": "stream",
       "stream": "stdout",
       "text": [
        "\n",
        "time elapsed: 0.827409029007\n",
        "selection for snpID: 1:181844943\n",
        "found 164491 matching SNPs"
       ]
      },
      {
       "output_type": "stream",
       "stream": "stdout",
       "text": [
        "\n",
        "time elapsed: 0.77012181282\n",
        "selection for snpID: 18:67015865\n",
        "found 164491 matching SNPs"
       ]
      },
      {
       "output_type": "stream",
       "stream": "stdout",
       "text": [
        "\n",
        "time elapsed: 0.770994901657\n",
        "selection for snpID: 6:32592119\n",
        "found 164491 matching SNPs"
       ]
      },
      {
       "output_type": "stream",
       "stream": "stdout",
       "text": [
        "\n",
        "time elapsed: 0.771673202515\n",
        "selection for snpID: 9:133472747\n",
        "found 164491 matching SNPs"
       ]
      },
      {
       "output_type": "stream",
       "stream": "stdout",
       "text": [
        "\n",
        "time elapsed: 0.777593135834\n",
        "selection for snpID: 4:63055561\n",
        "found 164491 matching SNPs"
       ]
      },
      {
       "output_type": "stream",
       "stream": "stdout",
       "text": [
        "\n",
        "time elapsed: 0.77446103096\n",
        "selection for snpID: 11:127160664\n",
        "found 164491 matching SNPs"
       ]
      },
      {
       "output_type": "stream",
       "stream": "stdout",
       "text": [
        "\n",
        "time elapsed: 0.767878055573\n",
        "selection for snpID: 14:69873335\n",
        "found 164491 matching SNPs"
       ]
      },
      {
       "output_type": "stream",
       "stream": "stdout",
       "text": [
        "\n",
        "time elapsed: 0.769025087357\n",
        "selection for snpID: 9:5453460\n",
        "found 164491 matching SNPs"
       ]
      },
      {
       "output_type": "stream",
       "stream": "stdout",
       "text": [
        "\n",
        "time elapsed: 0.787640094757\n",
        "selection for snpID: 7:88660988\n",
        "found 164491 matching SNPs"
       ]
      },
      {
       "output_type": "stream",
       "stream": "stdout",
       "text": [
        "\n",
        "time elapsed: 0.766994953156\n",
        "selection for snpID: 1:201688955\n",
        "found 164491 matching SNPs"
       ]
      },
      {
       "output_type": "stream",
       "stream": "stdout",
       "text": [
        "\n",
        "time elapsed: 0.802039146423\n",
        "selection for snpID: 1:181844943\n",
        "found 164491 matching SNPs"
       ]
      },
      {
       "output_type": "stream",
       "stream": "stdout",
       "text": [
        "\n",
        "time elapsed: 0.775570869446\n",
        "selection for snpID: 18:67015865\n",
        "found 164491 matching SNPs"
       ]
      },
      {
       "output_type": "stream",
       "stream": "stdout",
       "text": [
        "\n",
        "time elapsed: 0.806315898895\n",
        "selection for snpID: 6:32592119\n",
        "found 164491 matching SNPs"
       ]
      },
      {
       "output_type": "stream",
       "stream": "stdout",
       "text": [
        "\n",
        "time elapsed: 0.839102983475\n",
        "selection for snpID: 9:133472747\n",
        "found 164491 matching SNPs"
       ]
      },
      {
       "output_type": "stream",
       "stream": "stdout",
       "text": [
        "\n",
        "time elapsed: 0.795191049576\n",
        "selection for snpID: 4:63055561\n",
        "found 164491 matching SNPs"
       ]
      },
      {
       "output_type": "stream",
       "stream": "stdout",
       "text": [
        "\n",
        "time elapsed: 0.780381917953\n",
        "selection for snpID: 11:127160664\n",
        "found 164491 matching SNPs"
       ]
      },
      {
       "output_type": "stream",
       "stream": "stdout",
       "text": [
        "\n",
        "time elapsed: 0.80826997757\n",
        "selection for snpID: 14:69873335\n",
        "found 164491 matching SNPs"
       ]
      },
      {
       "output_type": "stream",
       "stream": "stdout",
       "text": [
        "\n",
        "time elapsed: 0.787518978119\n",
        "selection for snpID: 9:5453460\n",
        "found 164491 matching SNPs"
       ]
      },
      {
       "output_type": "stream",
       "stream": "stdout",
       "text": [
        "\n",
        "time elapsed: 0.799213886261\n",
        "selection for snpID: 7:88660988\n",
        "found 164491 matching SNPs"
       ]
      },
      {
       "output_type": "stream",
       "stream": "stdout",
       "text": [
        "\n",
        "time elapsed: 0.799654960632\n",
        "selection for snpID: 1:201688955\n",
        "found 164491 matching SNPs"
       ]
      },
      {
       "output_type": "stream",
       "stream": "stdout",
       "text": [
        "\n",
        "time elapsed: 0.778220891953\n",
        "selection for snpID: 1:181844943\n",
        "found 164491 matching SNPs"
       ]
      },
      {
       "output_type": "stream",
       "stream": "stdout",
       "text": [
        "\n",
        "time elapsed: 0.775985002518\n",
        "selection for snpID: 18:67015865\n",
        "found 164491 matching SNPs"
       ]
      },
      {
       "output_type": "stream",
       "stream": "stdout",
       "text": [
        "\n",
        "time elapsed: 0.799874067307\n",
        "selection for snpID: 6:32592119\n",
        "found 164491 matching SNPs"
       ]
      },
      {
       "output_type": "stream",
       "stream": "stdout",
       "text": [
        "\n",
        "time elapsed: 0.805583953857\n",
        "selection for snpID: 9:133472747\n",
        "found 164491 matching SNPs"
       ]
      },
      {
       "output_type": "stream",
       "stream": "stdout",
       "text": [
        "\n",
        "time elapsed: 0.802801847458\n",
        "selection for snpID: 4:63055561\n",
        "found 164491 matching SNPs"
       ]
      },
      {
       "output_type": "stream",
       "stream": "stdout",
       "text": [
        "\n",
        "time elapsed: 0.800761938095\n",
        "selection for snpID: 11:127160664\n",
        "found 164491 matching SNPs"
       ]
      },
      {
       "output_type": "stream",
       "stream": "stdout",
       "text": [
        "\n",
        "time elapsed: 0.796438932419\n",
        "selection for snpID: 14:69873335\n",
        "found 164491 matching SNPs"
       ]
      },
      {
       "output_type": "stream",
       "stream": "stdout",
       "text": [
        "\n",
        "time elapsed: 0.793177127838\n",
        "selection for snpID: 9:5453460\n",
        "found 164491 matching SNPs"
       ]
      },
      {
       "output_type": "stream",
       "stream": "stdout",
       "text": [
        "\n",
        "time elapsed: 0.823623895645\n",
        "selection for snpID: 7:88660988\n",
        "found 164491 matching SNPs"
       ]
      },
      {
       "output_type": "stream",
       "stream": "stdout",
       "text": [
        "\n",
        "time elapsed: 0.820503950119\n",
        "selection for snpID: 1:201688955\n",
        "found 164491 matching SNPs"
       ]
      },
      {
       "output_type": "stream",
       "stream": "stdout",
       "text": [
        "\n",
        "time elapsed: 0.799824953079\n",
        "selection for snpID: 1:181844943\n",
        "found 164491 matching SNPs"
       ]
      },
      {
       "output_type": "stream",
       "stream": "stdout",
       "text": [
        "\n",
        "time elapsed: 0.771587848663\n",
        "selection for snpID: 18:67015865\n",
        "found 164491 matching SNPs"
       ]
      },
      {
       "output_type": "stream",
       "stream": "stdout",
       "text": [
        "\n",
        "time elapsed: 0.776965856552\n",
        "selection for snpID: 6:32592119\n",
        "found 164491 matching SNPs"
       ]
      },
      {
       "output_type": "stream",
       "stream": "stdout",
       "text": [
        "\n",
        "time elapsed: 0.77093911171\n",
        "selection for snpID: 9:133472747\n",
        "found 164491 matching SNPs"
       ]
      },
      {
       "output_type": "stream",
       "stream": "stdout",
       "text": [
        "\n",
        "time elapsed: 0.765044927597\n",
        "selection for snpID: 4:63055561\n",
        "found 164491 matching SNPs"
       ]
      },
      {
       "output_type": "stream",
       "stream": "stdout",
       "text": [
        "\n",
        "time elapsed: 0.770432949066\n",
        "selection for snpID: 11:127160664\n",
        "found 164491 matching SNPs"
       ]
      },
      {
       "output_type": "stream",
       "stream": "stdout",
       "text": [
        "\n",
        "time elapsed: 0.785547018051\n",
        "selection for snpID: 14:69873335\n",
        "found 164491 matching SNPs"
       ]
      },
      {
       "output_type": "stream",
       "stream": "stdout",
       "text": [
        "\n",
        "time elapsed: 0.776845932007\n",
        "selection for snpID: 9:5453460\n",
        "found 164491 matching SNPs"
       ]
      },
      {
       "output_type": "stream",
       "stream": "stdout",
       "text": [
        "\n",
        "time elapsed: 0.793126106262\n",
        "selection for snpID: 7:88660988\n",
        "found 164491 matching SNPs"
       ]
      },
      {
       "output_type": "stream",
       "stream": "stdout",
       "text": [
        "\n",
        "time elapsed: 0.79109787941\n",
        "selection for snpID: 1:201688955\n",
        "found 164491 matching SNPs"
       ]
      },
      {
       "output_type": "stream",
       "stream": "stdout",
       "text": [
        "\n",
        "time elapsed: 0.784415006638\n",
        "selection for snpID: 1:181844943\n",
        "found 164491 matching SNPs"
       ]
      },
      {
       "output_type": "stream",
       "stream": "stdout",
       "text": [
        "\n",
        "time elapsed: 0.764419078827\n",
        "selection for snpID: 18:67015865\n",
        "found 164491 matching SNPs"
       ]
      },
      {
       "output_type": "stream",
       "stream": "stdout",
       "text": [
        "\n",
        "time elapsed: 0.779751062393\n",
        "selection for snpID: 6:32592119\n",
        "found 164491 matching SNPs"
       ]
      },
      {
       "output_type": "stream",
       "stream": "stdout",
       "text": [
        "\n",
        "time elapsed: 0.777472019196\n",
        "selection for snpID: 9:133472747\n",
        "found 164491 matching SNPs"
       ]
      },
      {
       "output_type": "stream",
       "stream": "stdout",
       "text": [
        "\n",
        "time elapsed: 0.777593135834\n",
        "selection for snpID: 4:63055561\n",
        "found 164491 matching SNPs"
       ]
      },
      {
       "output_type": "stream",
       "stream": "stdout",
       "text": [
        "\n",
        "time elapsed: 0.798250198364\n",
        "selection for snpID: 11:127160664\n",
        "found 164491 matching SNPs"
       ]
      },
      {
       "output_type": "stream",
       "stream": "stdout",
       "text": [
        "\n",
        "time elapsed: 0.82052397728\n"
       ]
      },
      {
       "ename": "Exception",
       "evalue": "All objects passed were None",
       "output_type": "pyerr",
       "traceback": [
        "\u001b[0;31m---------------------------------------------------------------------------\u001b[0m\n\u001b[0;31mException\u001b[0m                                 Traceback (most recent call last)",
        "\u001b[0;32m<ipython-input-38-7da078d316e1>\u001b[0m in \u001b[0;36m<module>\u001b[0;34m()\u001b[0m\n\u001b[1;32m     19\u001b[0m     \u001b[0;32mprint\u001b[0m \u001b[0;34m\"time elapsed: %s\"\u001b[0m \u001b[0;34m%\u001b[0m \u001b[0melapsed_time\u001b[0m\u001b[0;34m\u001b[0m\u001b[0m\n\u001b[1;32m     20\u001b[0m \u001b[0mstore\u001b[0m\u001b[0;34m.\u001b[0m\u001b[0mclose\u001b[0m\u001b[0;34m(\u001b[0m\u001b[0;34m)\u001b[0m\u001b[0;34m\u001b[0m\u001b[0m\n\u001b[0;32m---> 21\u001b[0;31m \u001b[0muser_snps_df\u001b[0m \u001b[0;34m=\u001b[0m \u001b[0mpd\u001b[0m\u001b[0;34m.\u001b[0m\u001b[0mconcat\u001b[0m\u001b[0;34m(\u001b[0m\u001b[0mlist_of_df\u001b[0m\u001b[0;34m)\u001b[0m\u001b[0;34m\u001b[0m\u001b[0m\n\u001b[0m",
        "\u001b[0;32m/usr/local/lib/python2.7/site-packages/pandas/tools/merge.pyc\u001b[0m in \u001b[0;36mconcat\u001b[0;34m(objs, axis, join, join_axes, ignore_index, keys, levels, names, verify_integrity)\u001b[0m\n\u001b[1;32m    927\u001b[0m                        \u001b[0mignore_index\u001b[0m\u001b[0;34m=\u001b[0m\u001b[0mignore_index\u001b[0m\u001b[0;34m,\u001b[0m \u001b[0mjoin\u001b[0m\u001b[0;34m=\u001b[0m\u001b[0mjoin\u001b[0m\u001b[0;34m,\u001b[0m\u001b[0;34m\u001b[0m\u001b[0m\n\u001b[1;32m    928\u001b[0m                        \u001b[0mkeys\u001b[0m\u001b[0;34m=\u001b[0m\u001b[0mkeys\u001b[0m\u001b[0;34m,\u001b[0m \u001b[0mlevels\u001b[0m\u001b[0;34m=\u001b[0m\u001b[0mlevels\u001b[0m\u001b[0;34m,\u001b[0m \u001b[0mnames\u001b[0m\u001b[0;34m=\u001b[0m\u001b[0mnames\u001b[0m\u001b[0;34m,\u001b[0m\u001b[0;34m\u001b[0m\u001b[0m\n\u001b[0;32m--> 929\u001b[0;31m                        verify_integrity=verify_integrity)\n\u001b[0m\u001b[1;32m    930\u001b[0m     \u001b[0;32mreturn\u001b[0m \u001b[0mop\u001b[0m\u001b[0;34m.\u001b[0m\u001b[0mget_result\u001b[0m\u001b[0;34m(\u001b[0m\u001b[0;34m)\u001b[0m\u001b[0;34m\u001b[0m\u001b[0m\n\u001b[1;32m    931\u001b[0m \u001b[0;34m\u001b[0m\u001b[0m\n",
        "\u001b[0;32m/usr/local/lib/python2.7/site-packages/pandas/tools/merge.pyc\u001b[0m in \u001b[0;36m__init__\u001b[0;34m(self, objs, axis, join, join_axes, keys, levels, names, ignore_index, verify_integrity)\u001b[0m\n\u001b[1;32m    972\u001b[0m \u001b[0;34m\u001b[0m\u001b[0m\n\u001b[1;32m    973\u001b[0m         \u001b[0;32mif\u001b[0m \u001b[0mlen\u001b[0m\u001b[0;34m(\u001b[0m\u001b[0mobjs\u001b[0m\u001b[0;34m)\u001b[0m \u001b[0;34m==\u001b[0m \u001b[0;36m0\u001b[0m\u001b[0;34m:\u001b[0m\u001b[0;34m\u001b[0m\u001b[0m\n\u001b[0;32m--> 974\u001b[0;31m             \u001b[0;32mraise\u001b[0m \u001b[0mException\u001b[0m\u001b[0;34m(\u001b[0m\u001b[0;34m'All objects passed were None'\u001b[0m\u001b[0;34m)\u001b[0m\u001b[0;34m\u001b[0m\u001b[0m\n\u001b[0m\u001b[1;32m    975\u001b[0m \u001b[0;34m\u001b[0m\u001b[0m\n\u001b[1;32m    976\u001b[0m         \u001b[0;31m# consolidate data\u001b[0m\u001b[0;34m\u001b[0m\u001b[0;34m\u001b[0m\u001b[0m\n",
        "\u001b[0;31mException\u001b[0m: All objects passed were None"
       ]
      }
     ],
     "prompt_number": 38
    },
    {
     "cell_type": "code",
     "collapsed": false,
     "input": [],
     "language": "python",
     "metadata": {},
     "outputs": []
    }
   ],
   "metadata": {}
  }
 ]
}