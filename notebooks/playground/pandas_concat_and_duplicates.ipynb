{
 "metadata": {
  "name": "",
  "signature": "sha256:3a54aa74979c1bdc657c1997ccd5c70413db5fe4df5f769e69a536b630690be2"
 },
 "nbformat": 3,
 "nbformat_minor": 0,
 "worksheets": [
  {
   "cells": [
    {
     "cell_type": "code",
     "collapsed": false,
     "input": [
      "import os\n",
      "import sys\n",
      "import glob\n",
      "import collections\n",
      "\n",
      "import pandas as pd\n",
      "import numpy as np\n",
      "\n",
      "import ipdb"
     ],
     "language": "python",
     "metadata": {},
     "outputs": [],
     "prompt_number": 30
    },
    {
     "cell_type": "code",
     "collapsed": false,
     "input": [
      "#df = pd.DataFrame(np.random.randn(4, 10), index=['C', 'A', 'A', 'C'])\n",
      "df = pd.DataFrame(np.random.randn(4, 10), index=[2, 1, 1, 3])\n",
      "df"
     ],
     "language": "python",
     "metadata": {},
     "outputs": [
      {
       "html": [
        "<div style=\"max-height:1000px;max-width:1500px;overflow:auto;\">\n",
        "<table border=\"1\" class=\"dataframe\">\n",
        "  <thead>\n",
        "    <tr style=\"text-align: right;\">\n",
        "      <th></th>\n",
        "      <th>0</th>\n",
        "      <th>1</th>\n",
        "      <th>2</th>\n",
        "      <th>3</th>\n",
        "      <th>4</th>\n",
        "      <th>5</th>\n",
        "      <th>6</th>\n",
        "      <th>7</th>\n",
        "      <th>8</th>\n",
        "      <th>9</th>\n",
        "    </tr>\n",
        "  </thead>\n",
        "  <tbody>\n",
        "    <tr>\n",
        "      <th>2</th>\n",
        "      <td>-0.899416</td>\n",
        "      <td>-0.967418</td>\n",
        "      <td> 0.616209</td>\n",
        "      <td> 0.507113</td>\n",
        "      <td>-2.071320</td>\n",
        "      <td>-1.717652</td>\n",
        "      <td> 0.630093</td>\n",
        "      <td>-2.569886</td>\n",
        "      <td>-0.189203</td>\n",
        "      <td>-1.431093</td>\n",
        "    </tr>\n",
        "    <tr>\n",
        "      <th>1</th>\n",
        "      <td>-0.402756</td>\n",
        "      <td> 0.595171</td>\n",
        "      <td> 0.582378</td>\n",
        "      <td>-0.045828</td>\n",
        "      <td>-0.974702</td>\n",
        "      <td> 0.004395</td>\n",
        "      <td> 1.384193</td>\n",
        "      <td>-0.010752</td>\n",
        "      <td>-0.633629</td>\n",
        "      <td> 0.582071</td>\n",
        "    </tr>\n",
        "    <tr>\n",
        "      <th>1</th>\n",
        "      <td> 0.771430</td>\n",
        "      <td>-0.118968</td>\n",
        "      <td>-0.916562</td>\n",
        "      <td> 0.343890</td>\n",
        "      <td> 0.768002</td>\n",
        "      <td>-0.589818</td>\n",
        "      <td> 0.666990</td>\n",
        "      <td> 0.560732</td>\n",
        "      <td>-1.140651</td>\n",
        "      <td>-0.925896</td>\n",
        "    </tr>\n",
        "    <tr>\n",
        "      <th>3</th>\n",
        "      <td> 0.381314</td>\n",
        "      <td> 0.211028</td>\n",
        "      <td>-1.191731</td>\n",
        "      <td>-0.605883</td>\n",
        "      <td>-0.631701</td>\n",
        "      <td>-0.187376</td>\n",
        "      <td>-0.056655</td>\n",
        "      <td>-0.533192</td>\n",
        "      <td> 0.232188</td>\n",
        "      <td>-0.494869</td>\n",
        "    </tr>\n",
        "  </tbody>\n",
        "</table>\n",
        "</div>"
       ],
       "metadata": {},
       "output_type": "pyout",
       "prompt_number": 31,
       "text": [
        "          0         1         2         3         4         5         6  \\\n",
        "2 -0.899416 -0.967418  0.616209  0.507113 -2.071320 -1.717652  0.630093   \n",
        "1 -0.402756  0.595171  0.582378 -0.045828 -0.974702  0.004395  1.384193   \n",
        "1  0.771430 -0.118968 -0.916562  0.343890  0.768002 -0.589818  0.666990   \n",
        "3  0.381314  0.211028 -1.191731 -0.605883 -0.631701 -0.187376 -0.056655   \n",
        "\n",
        "          7         8         9  \n",
        "2 -2.569886 -0.189203 -1.431093  \n",
        "1 -0.010752 -0.633629  0.582071  \n",
        "1  0.560732 -1.140651 -0.925896  \n",
        "3 -0.533192  0.232188 -0.494869  "
       ]
      }
     ],
     "prompt_number": 31
    },
    {
     "cell_type": "heading",
     "level": 1,
     "metadata": {},
     "source": [
      "pd.concat(..., verify_integrity=True)"
     ]
    },
    {
     "cell_type": "code",
     "collapsed": false,
     "input": [
      "pieces = [df[:2], df[2:4]]"
     ],
     "language": "python",
     "metadata": {},
     "outputs": [],
     "prompt_number": 32
    },
    {
     "cell_type": "code",
     "collapsed": false,
     "input": [
      "#concatenated = pd.concat(pieces, verify_integrity=True) \n",
      "    #RESULT: verify_integrity raises exception --> ValueError: Indexes have overlapping values: [1]\n",
      "#concatenated"
     ],
     "language": "python",
     "metadata": {},
     "outputs": [],
     "prompt_number": 33
    },
    {
     "cell_type": "heading",
     "level": 1,
     "metadata": {},
     "source": [
      "drop.duplicates()"
     ]
    },
    {
     "cell_type": "code",
     "collapsed": false,
     "input": [
      "df3 = df.copy() # IMPORTANT to copy\n",
      "df3[\"index_tmp_col\"] = df3.index\n",
      "df3.drop_duplicates(subset='index_tmp_col', take_last=True, inplace=True)\n",
      "del df3[\"index_tmp_col\"]"
     ],
     "language": "python",
     "metadata": {},
     "outputs": [],
     "prompt_number": 34
    },
    {
     "cell_type": "code",
     "collapsed": false,
     "input": [
      "df3"
     ],
     "language": "python",
     "metadata": {},
     "outputs": [
      {
       "html": [
        "<div style=\"max-height:1000px;max-width:1500px;overflow:auto;\">\n",
        "<table border=\"1\" class=\"dataframe\">\n",
        "  <thead>\n",
        "    <tr style=\"text-align: right;\">\n",
        "      <th></th>\n",
        "      <th>0</th>\n",
        "      <th>1</th>\n",
        "      <th>2</th>\n",
        "      <th>3</th>\n",
        "      <th>4</th>\n",
        "      <th>5</th>\n",
        "      <th>6</th>\n",
        "      <th>7</th>\n",
        "      <th>8</th>\n",
        "      <th>9</th>\n",
        "    </tr>\n",
        "  </thead>\n",
        "  <tbody>\n",
        "    <tr>\n",
        "      <th>2</th>\n",
        "      <td>-0.899416</td>\n",
        "      <td>-0.967418</td>\n",
        "      <td> 0.616209</td>\n",
        "      <td> 0.507113</td>\n",
        "      <td>-2.071320</td>\n",
        "      <td>-1.717652</td>\n",
        "      <td> 0.630093</td>\n",
        "      <td>-2.569886</td>\n",
        "      <td>-0.189203</td>\n",
        "      <td>-1.431093</td>\n",
        "    </tr>\n",
        "    <tr>\n",
        "      <th>1</th>\n",
        "      <td> 0.771430</td>\n",
        "      <td>-0.118968</td>\n",
        "      <td>-0.916562</td>\n",
        "      <td> 0.343890</td>\n",
        "      <td> 0.768002</td>\n",
        "      <td>-0.589818</td>\n",
        "      <td> 0.666990</td>\n",
        "      <td> 0.560732</td>\n",
        "      <td>-1.140651</td>\n",
        "      <td>-0.925896</td>\n",
        "    </tr>\n",
        "    <tr>\n",
        "      <th>3</th>\n",
        "      <td> 0.381314</td>\n",
        "      <td> 0.211028</td>\n",
        "      <td>-1.191731</td>\n",
        "      <td>-0.605883</td>\n",
        "      <td>-0.631701</td>\n",
        "      <td>-0.187376</td>\n",
        "      <td>-0.056655</td>\n",
        "      <td>-0.533192</td>\n",
        "      <td> 0.232188</td>\n",
        "      <td>-0.494869</td>\n",
        "    </tr>\n",
        "  </tbody>\n",
        "</table>\n",
        "</div>"
       ],
       "metadata": {},
       "output_type": "pyout",
       "prompt_number": 35,
       "text": [
        "          0         1         2         3         4         5         6  \\\n",
        "2 -0.899416 -0.967418  0.616209  0.507113 -2.071320 -1.717652  0.630093   \n",
        "1  0.771430 -0.118968 -0.916562  0.343890  0.768002 -0.589818  0.666990   \n",
        "3  0.381314  0.211028 -1.191731 -0.605883 -0.631701 -0.187376 -0.056655   \n",
        "\n",
        "          7         8         9  \n",
        "2 -2.569886 -0.189203 -1.431093  \n",
        "1  0.560732 -1.140651 -0.925896  \n",
        "3 -0.533192  0.232188 -0.494869  "
       ]
      }
     ],
     "prompt_number": 35
    },
    {
     "cell_type": "code",
     "collapsed": false,
     "input": [],
     "language": "python",
     "metadata": {},
     "outputs": [],
     "prompt_number": 35
    },
    {
     "cell_type": "heading",
     "level": 1,
     "metadata": {},
     "source": [
      "Find duplicates"
     ]
    },
    {
     "cell_type": "code",
     "collapsed": false,
     "input": [
      "df_dup = pd.DataFrame(np.array([[1, 1, 1], [2, 2, 2], [2, 2, 2], [8, 8, 8]]), index=[2, 1, 4, 3], columns=[\"x\",\"y\",\"z\"])\n",
      "df_dup"
     ],
     "language": "python",
     "metadata": {},
     "outputs": [
      {
       "html": [
        "<div style=\"max-height:1000px;max-width:1500px;overflow:auto;\">\n",
        "<table border=\"1\" class=\"dataframe\">\n",
        "  <thead>\n",
        "    <tr style=\"text-align: right;\">\n",
        "      <th></th>\n",
        "      <th>x</th>\n",
        "      <th>y</th>\n",
        "      <th>z</th>\n",
        "    </tr>\n",
        "  </thead>\n",
        "  <tbody>\n",
        "    <tr>\n",
        "      <th>2</th>\n",
        "      <td> 1</td>\n",
        "      <td> 1</td>\n",
        "      <td> 1</td>\n",
        "    </tr>\n",
        "    <tr>\n",
        "      <th>1</th>\n",
        "      <td> 2</td>\n",
        "      <td> 2</td>\n",
        "      <td> 2</td>\n",
        "    </tr>\n",
        "    <tr>\n",
        "      <th>4</th>\n",
        "      <td> 2</td>\n",
        "      <td> 2</td>\n",
        "      <td> 2</td>\n",
        "    </tr>\n",
        "    <tr>\n",
        "      <th>3</th>\n",
        "      <td> 8</td>\n",
        "      <td> 8</td>\n",
        "      <td> 8</td>\n",
        "    </tr>\n",
        "  </tbody>\n",
        "</table>\n",
        "</div>"
       ],
       "metadata": {},
       "output_type": "pyout",
       "prompt_number": 94,
       "text": [
        "   x  y  z\n",
        "2  1  1  1\n",
        "1  2  2  2\n",
        "4  2  2  2\n",
        "3  8  8  8"
       ]
      }
     ],
     "prompt_number": 94
    },
    {
     "cell_type": "code",
     "collapsed": false,
     "input": [
      "df_non_dup = pd.DataFrame(data=np.random.rand(4,3), index=[2,1,4,3], columns=[\"x\",\"y\",\"z\"])\n",
      "df_non_dup"
     ],
     "language": "python",
     "metadata": {},
     "outputs": [
      {
       "html": [
        "<div style=\"max-height:1000px;max-width:1500px;overflow:auto;\">\n",
        "<table border=\"1\" class=\"dataframe\">\n",
        "  <thead>\n",
        "    <tr style=\"text-align: right;\">\n",
        "      <th></th>\n",
        "      <th>x</th>\n",
        "      <th>y</th>\n",
        "      <th>z</th>\n",
        "    </tr>\n",
        "  </thead>\n",
        "  <tbody>\n",
        "    <tr>\n",
        "      <th>2</th>\n",
        "      <td> 0.819425</td>\n",
        "      <td> 0.654084</td>\n",
        "      <td> 0.245284</td>\n",
        "    </tr>\n",
        "    <tr>\n",
        "      <th>1</th>\n",
        "      <td> 0.411429</td>\n",
        "      <td> 0.421150</td>\n",
        "      <td> 0.537119</td>\n",
        "    </tr>\n",
        "    <tr>\n",
        "      <th>4</th>\n",
        "      <td> 0.342789</td>\n",
        "      <td> 0.121969</td>\n",
        "      <td> 0.524964</td>\n",
        "    </tr>\n",
        "    <tr>\n",
        "      <th>3</th>\n",
        "      <td> 0.789540</td>\n",
        "      <td> 0.864781</td>\n",
        "      <td> 0.570669</td>\n",
        "    </tr>\n",
        "  </tbody>\n",
        "</table>\n",
        "</div>"
       ],
       "metadata": {},
       "output_type": "pyout",
       "prompt_number": 95,
       "text": [
        "          x         y         z\n",
        "2  0.819425  0.654084  0.245284\n",
        "1  0.411429  0.421150  0.537119\n",
        "4  0.342789  0.121969  0.524964\n",
        "3  0.789540  0.864781  0.570669"
       ]
      }
     ],
     "prompt_number": 95
    },
    {
     "cell_type": "code",
     "collapsed": false,
     "input": [
      "df_dup.duplicated()"
     ],
     "language": "python",
     "metadata": {},
     "outputs": [
      {
       "metadata": {},
       "output_type": "pyout",
       "prompt_number": 96,
       "text": [
        "2    False\n",
        "1    False\n",
        "4     True\n",
        "3    False\n",
        "dtype: bool"
       ]
      }
     ],
     "prompt_number": 96
    },
    {
     "cell_type": "code",
     "collapsed": false,
     "input": [
      "df_non_dup.duplicated()"
     ],
     "language": "python",
     "metadata": {},
     "outputs": [
      {
       "metadata": {},
       "output_type": "pyout",
       "prompt_number": 97,
       "text": [
        "2    False\n",
        "1    False\n",
        "4    False\n",
        "3    False\n",
        "dtype: bool"
       ]
      }
     ],
     "prompt_number": 97
    },
    {
     "cell_type": "code",
     "collapsed": false,
     "input": [
      "## test of .any()\n",
      "print df_dup.duplicated().any()\n",
      "print df_non_dup.duplicated().any()"
     ],
     "language": "python",
     "metadata": {},
     "outputs": [
      {
       "output_type": "stream",
       "stream": "stdout",
       "text": [
        "True\n",
        "False\n"
       ]
      }
     ],
     "prompt_number": 98
    },
    {
     "cell_type": "code",
     "collapsed": false,
     "input": [
      "df_dup.ix[df_dup.duplicated(), [\"x\", \"z\"]]"
     ],
     "language": "python",
     "metadata": {},
     "outputs": [
      {
       "html": [
        "<div style=\"max-height:1000px;max-width:1500px;overflow:auto;\">\n",
        "<table border=\"1\" class=\"dataframe\">\n",
        "  <thead>\n",
        "    <tr style=\"text-align: right;\">\n",
        "      <th></th>\n",
        "      <th>x</th>\n",
        "      <th>z</th>\n",
        "    </tr>\n",
        "  </thead>\n",
        "  <tbody>\n",
        "    <tr>\n",
        "      <th>4</th>\n",
        "      <td> 2</td>\n",
        "      <td> 2</td>\n",
        "    </tr>\n",
        "  </tbody>\n",
        "</table>\n",
        "</div>"
       ],
       "metadata": {},
       "output_type": "pyout",
       "prompt_number": 100,
       "text": [
        "   x  z\n",
        "4  2  2"
       ]
      }
     ],
     "prompt_number": 100
    },
    {
     "cell_type": "code",
     "collapsed": false,
     "input": [
      "df_dup.drop_duplicates()"
     ],
     "language": "python",
     "metadata": {},
     "outputs": [
      {
       "html": [
        "<div style=\"max-height:1000px;max-width:1500px;overflow:auto;\">\n",
        "<table border=\"1\" class=\"dataframe\">\n",
        "  <thead>\n",
        "    <tr style=\"text-align: right;\">\n",
        "      <th></th>\n",
        "      <th>x</th>\n",
        "      <th>y</th>\n",
        "      <th>z</th>\n",
        "    </tr>\n",
        "  </thead>\n",
        "  <tbody>\n",
        "    <tr>\n",
        "      <th>2</th>\n",
        "      <td> 1</td>\n",
        "      <td> 1</td>\n",
        "      <td> 1</td>\n",
        "    </tr>\n",
        "    <tr>\n",
        "      <th>1</th>\n",
        "      <td> 2</td>\n",
        "      <td> 2</td>\n",
        "      <td> 2</td>\n",
        "    </tr>\n",
        "    <tr>\n",
        "      <th>3</th>\n",
        "      <td> 8</td>\n",
        "      <td> 8</td>\n",
        "      <td> 8</td>\n",
        "    </tr>\n",
        "  </tbody>\n",
        "</table>\n",
        "</div>"
       ],
       "metadata": {},
       "output_type": "pyout",
       "prompt_number": 82,
       "text": [
        "   x  y  z\n",
        "2  1  1  1\n",
        "1  2  2  2\n",
        "3  8  8  8"
       ]
      }
     ],
     "prompt_number": 82
    },
    {
     "cell_type": "code",
     "collapsed": false,
     "input": [],
     "language": "python",
     "metadata": {},
     "outputs": []
    }
   ],
   "metadata": {}
  }
 ]
}