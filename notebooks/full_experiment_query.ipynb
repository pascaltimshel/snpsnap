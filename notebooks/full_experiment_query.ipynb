{
 "metadata": {
  "name": "",
  "signature": "sha256:29a3f7c399d4a84fa717f7db14e80d372d8805d77822f7d9c639234ca92547b2"
 },
 "nbformat": 3,
 "nbformat_minor": 0,
 "worksheets": [
  {
   "cells": [
    {
     "cell_type": "code",
     "collapsed": false,
     "input": [
      "import os\n",
      "import sys\n",
      "import pandas as pd\n",
      "import numpy as np\n",
      "os.getcwd()"
     ],
     "language": "python",
     "metadata": {},
     "outputs": [
      {
       "metadata": {},
       "output_type": "pyout",
       "prompt_number": 1,
       "text": [
        "'/Users/pascaltimshel/git/snpsnap/notebooks'"
       ]
      }
     ],
     "prompt_number": 1
    },
    {
     "cell_type": "code",
     "collapsed": false,
     "input": [
      "store_path = '/Users/pascaltimshel/snpsnap/data/step3/ld0.5_db.h5'"
     ],
     "language": "python",
     "metadata": {},
     "outputs": [],
     "prompt_number": 2
    },
    {
     "cell_type": "code",
     "collapsed": false,
     "input": [
      "store = pd.HDFStore(store_path, 'r') #"
     ],
     "language": "python",
     "metadata": {},
     "outputs": [],
     "prompt_number": 3
    },
    {
     "cell_type": "code",
     "collapsed": false,
     "input": [
      "df = store.get('dummy') # OK!"
     ],
     "language": "python",
     "metadata": {},
     "outputs": [],
     "prompt_number": 4
    },
    {
     "cell_type": "code",
     "collapsed": false,
     "input": [
      "print df.head()"
     ],
     "language": "python",
     "metadata": {},
     "outputs": [
      {
       "output_type": "stream",
       "stream": "stdout",
       "text": [
        "                    rsID  freq_bin  gene_count  dist_nearest_gene\n",
        "snpID                                                            \n",
        "7:152288872  rs116944133         1           5               1146\n",
        "8:141975135  rs145218714         1           2              24474\n",
        "2:193432576   rs56039804         1           6              62069\n",
        "4:137049380  rs116089565         1           1               2316\n",
        "20:40585062  rs148676411         1           0              34718\n",
        "\n",
        "[5 rows x 4 columns]\n"
       ]
      }
     ],
     "prompt_number": 5
    },
    {
     "cell_type": "code",
     "collapsed": false,
     "input": [
      "matche"
     ],
     "language": "python",
     "metadata": {},
     "outputs": [
      {
       "ename": "NameError",
       "evalue": "name 'matche' is not defined",
       "output_type": "pyerr",
       "traceback": [
        "\u001b[0;31m---------------------------------------------------------------------------\u001b[0m\n\u001b[0;31mNameError\u001b[0m                                 Traceback (most recent call last)",
        "\u001b[0;32m<ipython-input-6-8eaf706b8479>\u001b[0m in \u001b[0;36m<module>\u001b[0;34m()\u001b[0m\n\u001b[0;32m----> 1\u001b[0;31m \u001b[0mmatche\u001b[0m\u001b[0;34m\u001b[0m\u001b[0m\n\u001b[0m",
        "\u001b[0;31mNameError\u001b[0m: name 'matche' is not defined"
       ]
      }
     ],
     "prompt_number": 6
    },
    {
     "cell_type": "code",
     "collapsed": false,
     "input": [],
     "language": "python",
     "metadata": {},
     "outputs": [],
     "prompt_number": 1
    },
    {
     "cell_type": "code",
     "collapsed": false,
     "input": [
      "#%%timeit\n",
      "(max_freq_deviation, max_distance_deviation, max_genes_count_deviation) = (2,30,30)# (2,5,5) #max 16\n",
      "\n",
      "i = 12345 # random snp index\n",
      "#i = 145 # random snp index\n",
      "N_sample_sets = 1000\n",
      "\n",
      "store = pd.HDFStore(store_path, 'r') #\n",
      "freq = df.ix[i,'freq_bin']\n",
      "gene_count = df.ix[i,'gene_count']\n",
      "dist = df.ix[i,'dist_nearest_gene']\n",
      "\n",
      "\n",
      "print zip( ('max_freq_deviation', 'max_distance_deviation', 'max_genes_count_deviation'), (max_freq_deviation, max_distance_deviation, max_genes_count_deviation) )\n",
      "\n",
      "n_attempts = 5\n",
      "### Setting delta space ####\n",
      "delta_freq = np.rint(np.linspace(0,max_freq_deviation, n_attempts)).astype(int) # rounds to nearest integer and convert to int\n",
      "# OBS: delta_gene_count and delta_dist are in the range of [-1;1]\n",
      "delta_gene_count = np.linspace(0,max_genes_count_deviation, n_attempts)/float(100)\n",
      "if max_distance_deviation < 1:\n",
      "    print \"Warning: max_distance_deviation set to %s. Lowest possible max_distance_deviation is 1.\" % max_distance_deviation\n",
      "    max_distance_deviation = 1\n",
      "delta_dist = np.linspace(1,max_distance_deviation, n_attempts)/float(100) # OBS distance deviation starts at 1 %\n",
      "\n",
      "### Calculating low/high boundaries\n",
      "freq_low = np.repeat(freq, n_attempts) - delta_freq # ABSOLUTE DEVIATION\n",
      "freq_high = np.repeat(freq, n_attempts) + delta_freq # ABSOLUTE DEVIATION\n",
      "gene_count_low = np.repeat(gene_count, n_attempts)*(1-delta_gene_count)\n",
      "gene_count_high = np.repeat(gene_count, n_attempts)*(1+delta_gene_count)\n",
      "dist_low = np.repeat(dist, n_attempts)*(1-delta_dist)\n",
      "dist_high = np.repeat(dist, n_attempts)*(1+delta_dist)\n",
      "\n",
      "print (freq_low, freq_high)\n",
      "print (gene_count_low, gene_count_high)\n",
      "print (dist_low, dist_high)\n",
      "\n",
      "match_ID_old = None\n",
      "match_ID = None\n",
      "for i in xrange(n_attempts):\n",
      "    query_freq = '(freq_bin >= %s & freq_bin <= %s)' % (freq_low[i], freq_high[i])\n",
      "    query_gene_count = '(gene_count >= %s & gene_count <= %s)' % (gene_count_low[i], gene_count_high[i])\n",
      "    query_dist = '(dist_nearest_gene  >= %s & dist_nearest_gene  <= %s)' % (dist_low[i], dist_high[i])\n",
      "    \n",
      "    query = \"%s & %s & %s\" % (query_freq, query_gene_count, query_dist)\n",
      "    match_ID = store.select('dummy', query, columns=[]).index.values # return no columns --> only index\n",
      "    #df_matches = store.select('dummy', query)\n",
      "    \n",
      "    print \"SNP: {%s} query #%d: found %d hits\" % (\"placeholder\", i, len(match_ID))\n",
      "    if len(match_ID) < N_sample_sets:\n",
      "        match_ID_old = match_ID\n",
      "    else: #we have enough matches\n",
      "        break\n",
      "\n",
      "#df_matches.head(20)\n",
      "print len(match_ID_old)\n",
      "print len(match_ID)\n",
      "#print match_ID\n",
      "#print match_ID_old\n",
      "\n"
     ],
     "language": "python",
     "metadata": {},
     "outputs": [
      {
       "output_type": "stream",
       "stream": "stdout",
       "text": [
        "[('max_freq_deviation', 2), ('max_distance_deviation', 30), ('max_genes_count_deviation', 30)]\n",
        "(array([ 1,  1,  0, -1, -1]), array([1, 1, 2, 3, 3]))\n",
        "(array([ 38.  ,  35.15,  32.3 ,  29.45,  26.6 ]), array([ 38.  ,  40.85,  43.7 ,  46.55,  49.4 ]))\n",
        "(array([ 1600.83  ,  1483.5975,  1366.365 ,  1249.1325,  1131.9   ]), array([ 1633.17  ,  1750.4025,  1867.635 ,  1984.8675,  2102.1   ]))\n",
        "SNP: {placeholder} query #0: found 2 hits"
       ]
      },
      {
       "output_type": "stream",
       "stream": "stdout",
       "text": [
        "\n",
        "SNP: {placeholder} query #1: found 47 hits"
       ]
      },
      {
       "output_type": "stream",
       "stream": "stdout",
       "text": [
        "\n",
        "SNP: {placeholder} query #2: found 470 hits"
       ]
      },
      {
       "output_type": "stream",
       "stream": "stdout",
       "text": [
        "\n",
        "SNP: {placeholder} query #3: found 1349 hits"
       ]
      },
      {
       "output_type": "stream",
       "stream": "stdout",
       "text": [
        "\n",
        "470\n",
        "1349\n"
       ]
      }
     ],
     "prompt_number": 13
    },
    {
     "cell_type": "code",
     "collapsed": false,
     "input": [
      "np.random.seed(1)\n",
      "###type(df.index.values) #==>numpy.ndarray\n",
      "\n",
      "#print \"\\n\".join(df_rand_samp.index.values)\n",
      "#df_rand_samp.head(n_sample)\n",
      "\n",
      "#df_matches.index.values\n",
      "\n",
      "#np().toList\n",
      "match_ID_uniq_new = np.setdiff1d(match_ID, match_ID_old, assume_unique=True) #Return the sorted, unique values in ar1 that are not in ar2\n",
      "print len(match_ID_uniq_new)# validated: gives same result as print len(match_ID) - len(match_ID_old)\n",
      "\n",
      "n_elements_to_fill = N_sample_sets - len(match_ID_old)\n",
      "print n_elements_to_fill\n",
      "match_ID_uniq_new_sample = np.random.choice(match_ID_uniq_new, size=n_elements_to_fill, replace=False, p=None) # sample uniformly from NEW matches\n",
      "#print match_ID_uniq_new_sample\n",
      "match_ID_final = np.concatenate((match_ID_old, match_ID_uniq_new_sample))\n",
      "print len(match_ID_final)\n",
      "\n",
      "#with open(outfile+'.x.betas','a') as f_handle:\n",
      "#    np.savetxt(f_handle,dataPoint)\n",
      "#np.insert(x, 0, 5)"
     ],
     "language": "python",
     "metadata": {},
     "outputs": [
      {
       "output_type": "stream",
       "stream": "stdout",
       "text": [
        "879\n",
        "530\n",
        "1000\n"
       ]
      }
     ],
     "prompt_number": 26
    },
    {
     "cell_type": "code",
     "collapsed": false,
     "input": [
      "\n",
      "    (freq_low, freq_high) = (freq-delta_freq[i], freq+delta_freq[i])\n",
      "    # Frequency bins only goes from 0-49\n",
      "    # However bin 0 (i.e. 0-1) is empty due to data processeing\n",
      "    #if freq_low < 0:\n",
      "    #    freq_low = 0\n",
      "    #elif freq_high > 49:\n",
      "    #    freq_high = 49\n",
      "    print (freq_low, freq_high)\n",
      "    (gene_count_low, gene_count_high) = ( gene_count*(100-delta_gene_count[i]), gene_count*(100+delta_gene_count[i]) )\n",
      "    print (gene_count_low, gene_count_high)\n",
      "    (dist_low, dist_high) = ( dist*(100-delta_dist[i]), dist*(100+delta_dist[i]) )\n",
      "    print (dist_low, dist_high)\n",
      "\n",
      "query_prim_freq = '(freq_bin = %s)' % pfreq\n",
      "query_prim_density = '(gene_count = %s)' % pdensity\n",
      "query_prim_dist = '(dist_nearest_gene = %s)' % pdist\n",
      "\n",
      "query_prim = \"%s & %s & %s\" % (query_prim_freq, query_prim_density, query_prim_dist)\n",
      "#df_retrive = store.select('dummy', query_prim, columns=[]).index # return no columns --> only index\n",
      "df_retrive = store.select('dummy', query_prim)\n",
      "print df_retrive\n",
      "print df_retrive.values"
     ],
     "language": "python",
     "metadata": {},
     "outputs": [],
     "prompt_number": 1
    },
    {
     "cell_type": "code",
     "collapsed": false,
     "input": [
      "\n",
      "store = pd.HDFStore(store_path, 'r') #\n",
      "query = '(dist_nearest_gene  >= %s & dist_nearest_gene  <= %s)' % (450.5, 458.99)\n",
      "df_retrive = store.select('dummy', query)\n",
      "df_retrive.head()"
     ],
     "language": "python",
     "metadata": {},
     "outputs": [
      {
       "html": [
        "<div style=\"max-height:1000px;max-width:1500px;overflow:auto;\">\n",
        "<table border=\"1\" class=\"dataframe\">\n",
        "  <thead>\n",
        "    <tr style=\"text-align: right;\">\n",
        "      <th></th>\n",
        "      <th>rsID</th>\n",
        "      <th>freq_bin</th>\n",
        "      <th>gene_count</th>\n",
        "      <th>dist_nearest_gene</th>\n",
        "    </tr>\n",
        "    <tr>\n",
        "      <th>snpID</th>\n",
        "      <th></th>\n",
        "      <th></th>\n",
        "      <th></th>\n",
        "      <th></th>\n",
        "    </tr>\n",
        "  </thead>\n",
        "  <tbody>\n",
        "    <tr>\n",
        "      <th>1:108875833</th>\n",
        "      <td> rs140743593</td>\n",
        "      <td> 1</td>\n",
        "      <td> 11</td>\n",
        "      <td> 450</td>\n",
        "    </tr>\n",
        "    <tr>\n",
        "      <th>22:21356949</th>\n",
        "      <td>  rs61743040</td>\n",
        "      <td> 1</td>\n",
        "      <td>  5</td>\n",
        "      <td> 452</td>\n",
        "    </tr>\n",
        "    <tr>\n",
        "      <th>7:55640410</th>\n",
        "      <td>  rs67772217</td>\n",
        "      <td> 1</td>\n",
        "      <td>  2</td>\n",
        "      <td> 454</td>\n",
        "    </tr>\n",
        "    <tr>\n",
        "      <th>4:17063953</th>\n",
        "      <td> rs115357380</td>\n",
        "      <td> 1</td>\n",
        "      <td>  2</td>\n",
        "      <td> 452</td>\n",
        "    </tr>\n",
        "    <tr>\n",
        "      <th>4:115025544</th>\n",
        "      <td> rs148750750</td>\n",
        "      <td> 1</td>\n",
        "      <td>  1</td>\n",
        "      <td> 450</td>\n",
        "    </tr>\n",
        "  </tbody>\n",
        "</table>\n",
        "<p>5 rows \u00d7 4 columns</p>\n",
        "</div>"
       ],
       "metadata": {},
       "output_type": "pyout",
       "prompt_number": 39,
       "text": [
        "                    rsID  freq_bin  gene_count  dist_nearest_gene\n",
        "snpID                                                            \n",
        "1:108875833  rs140743593         1          11                450\n",
        "22:21356949   rs61743040         1           5                452\n",
        "7:55640410    rs67772217         1           2                454\n",
        "4:17063953   rs115357380         1           2                452\n",
        "4:115025544  rs148750750         1           1                450\n",
        "\n",
        "[5 rows x 4 columns]"
       ]
      }
     ],
     "prompt_number": 39
    },
    {
     "cell_type": "code",
     "collapsed": false,
     "input": [],
     "language": "python",
     "metadata": {},
     "outputs": [],
     "prompt_number": 33
    },
    {
     "cell_type": "code",
     "collapsed": false,
     "input": [
      "df = pd.DataFrame(np.random.randn(10, 4))\n",
      "pieces = [df[:3], df[3:7], df[7:]]"
     ],
     "language": "python",
     "metadata": {},
     "outputs": [],
     "prompt_number": 53
    },
    {
     "cell_type": "code",
     "collapsed": false,
     "input": [
      "type(pieces)"
     ],
     "language": "python",
     "metadata": {},
     "outputs": [
      {
       "metadata": {},
       "output_type": "pyout",
       "prompt_number": 54,
       "text": [
        "list"
       ]
      }
     ],
     "prompt_number": 54
    },
    {
     "cell_type": "code",
     "collapsed": false,
     "input": [
      "#%%timeit\n",
      "(max_freq_deviation, max_distance_deviation, max_genes_count_deviation) = (3,1,5)# (2,5,5) #max 16\n",
      "\n",
      "i = 12345\n",
      "N_sample_sets = 1000\n",
      "\n",
      "store = pd.HDFStore(store_path, 'r') #\n",
      "freq = df.ix[i,'freq_bin']\n",
      "gene_count = df.ix[i,'gene_count']\n",
      "dist = df.ix[i,'dist_nearest_gene']\n",
      "\n",
      "\n",
      "print zip( ('max_freq_deviation', 'max_distance_deviation', 'max_genes_count_deviation'), (max_freq_deviation, max_distance_deviation, max_genes_count_deviation) )\n",
      "\n",
      "n_attempts = 5\n",
      "delta_freq = np.rint(np.linspace(0,max_freq_deviation, n_attempts)).astype(int) # rounds to nearest integer and convert to int\n",
      "# delta_gene_count and delta_dist are in the range of [-1;1]\n",
      "delta_gene_count = np.linspace(0,max_genes_count_deviation, n_attempts)/float(100)\n",
      "if max_distance_deviation < 1:\n",
      "    print \"Warning: max_distance_deviation set to %s. Lowest possible max_distance_deviation is 1.\" % max_distance_deviation\n",
      "    max_distance_deviation = 1\n",
      "delta_dist = np.linspace(1,max_distance_deviation, n_attempts)/float(100) # OBS distance deviation starts at 1 %\n",
      "\n",
      "freq_low = np.repeat(freq, n_attempts) - delta_freq # ABSOLUTE DEVIATION\n",
      "freq_high = np.repeat(freq, n_attempts) + delta_freq # ABSOLUTE DEVIATION\n",
      "gene_count_low = np.repeat(gene_count, n_attempts)*(1-delta_gene_count)\n",
      "gene_count_high = np.repeat(gene_count, n_attempts)*(1+delta_gene_count)\n",
      "dist_low = np.repeat(dist, n_attempts)*(1-delta_dist)\n",
      "dist_high = np.repeat(dist, n_attempts)*(1+delta_dist)\n",
      "\n",
      "\n",
      "#for i in xrange(n_attempts):\n",
      "#print freq\n",
      "#print delta_freq\n",
      "#print freq_low\n",
      "#print freq_high\n",
      "print gene_count\n",
      "print gene_count_low\n",
      "print gene_count_high"
     ],
     "language": "python",
     "metadata": {},
     "outputs": [
      {
       "output_type": "stream",
       "stream": "stdout",
       "text": [
        "[('max_freq_deviation', 3), ('max_distance_deviation', 1), ('max_genes_count_deviation', 5)]\n",
        "38\n",
        "[ 38.     37.525  37.05   36.575  36.1  ]\n",
        "[ 38.     38.475  38.95   39.425  39.9  ]\n"
       ]
      }
     ],
     "prompt_number": 39
    },
    {
     "cell_type": "code",
     "collapsed": false,
     "input": [
      "np.repeat(freq, 5) - 0.5"
     ],
     "language": "python",
     "metadata": {},
     "outputs": [
      {
       "metadata": {},
       "output_type": "pyout",
       "prompt_number": 14,
       "text": [
        "array([ 0.5,  0.5,  0.5,  0.5,  0.5])"
       ]
      }
     ],
     "prompt_number": 14
    },
    {
     "cell_type": "code",
     "collapsed": false,
     "input": [],
     "language": "python",
     "metadata": {},
     "outputs": [],
     "prompt_number": 41
    },
    {
     "cell_type": "code",
     "collapsed": false,
     "input": [
      "a = np.linspace(0,2,5)\n",
      "print a\n",
      "b = np.rint(a)\n",
      "print b\n",
      "c = np.rint(np.linspace(0,2,5))\n",
      "print c"
     ],
     "language": "python",
     "metadata": {},
     "outputs": [
      {
       "output_type": "stream",
       "stream": "stdout",
       "text": [
        "[ 0.   0.5  1.   1.5  2. ]\n",
        "[ 0.  0.  1.  2.  2.]\n",
        "[ 0.  0.  1.  2.  2.]\n"
       ]
      }
     ],
     "prompt_number": 28
    },
    {
     "cell_type": "code",
     "collapsed": false,
     "input": [
      "(max_freq_deviation, max_distance_deviation, max_genes_count_deviation) = (2,5,5)\n"
     ],
     "language": "python",
     "metadata": {},
     "outputs": [],
     "prompt_number": 19
    },
    {
     "cell_type": "code",
     "collapsed": false,
     "input": [
      "#numpy.insert(arr, obj, values, axis=None)\n",
      "#Insert values along the given axis before the given indices.\n",
      "x = np.linspace(0,100,100)\n",
      "np.insert(x, 0, 5)"
     ],
     "language": "python",
     "metadata": {},
     "outputs": [
      {
       "metadata": {},
       "output_type": "pyout",
       "prompt_number": 32,
       "text": [
        "array([   5.        ,    0.        ,    1.01010101,    2.02020202,\n",
        "          3.03030303,    4.04040404,    5.05050505,    6.06060606,\n",
        "          7.07070707,    8.08080808,    9.09090909,   10.1010101 ,\n",
        "         11.11111111,   12.12121212,   13.13131313,   14.14141414,\n",
        "         15.15151515,   16.16161616,   17.17171717,   18.18181818,\n",
        "         19.19191919,   20.2020202 ,   21.21212121,   22.22222222,\n",
        "         23.23232323,   24.24242424,   25.25252525,   26.26262626,\n",
        "         27.27272727,   28.28282828,   29.29292929,   30.3030303 ,\n",
        "         31.31313131,   32.32323232,   33.33333333,   34.34343434,\n",
        "         35.35353535,   36.36363636,   37.37373737,   38.38383838,\n",
        "         39.39393939,   40.4040404 ,   41.41414141,   42.42424242,\n",
        "         43.43434343,   44.44444444,   45.45454545,   46.46464646,\n",
        "         47.47474747,   48.48484848,   49.49494949,   50.50505051,\n",
        "         51.51515152,   52.52525253,   53.53535354,   54.54545455,\n",
        "         55.55555556,   56.56565657,   57.57575758,   58.58585859,\n",
        "         59.5959596 ,   60.60606061,   61.61616162,   62.62626263,\n",
        "         63.63636364,   64.64646465,   65.65656566,   66.66666667,\n",
        "         67.67676768,   68.68686869,   69.6969697 ,   70.70707071,\n",
        "         71.71717172,   72.72727273,   73.73737374,   74.74747475,\n",
        "         75.75757576,   76.76767677,   77.77777778,   78.78787879,\n",
        "         79.7979798 ,   80.80808081,   81.81818182,   82.82828283,\n",
        "         83.83838384,   84.84848485,   85.85858586,   86.86868687,\n",
        "         87.87878788,   88.88888889,   89.8989899 ,   90.90909091,\n",
        "         91.91919192,   92.92929293,   93.93939394,   94.94949495,\n",
        "         95.95959596,   96.96969697,   97.97979798,   98.98989899,  100.        ])"
       ]
      }
     ],
     "prompt_number": 32
    },
    {
     "cell_type": "code",
     "collapsed": false,
     "input": [],
     "language": "python",
     "metadata": {},
     "outputs": [],
     "prompt_number": 1
    },
    {
     "cell_type": "code",
     "collapsed": false,
     "input": [],
     "language": "python",
     "metadata": {},
     "outputs": [],
     "prompt_number": 1
    },
    {
     "cell_type": "code",
     "collapsed": false,
     "input": [],
     "language": "python",
     "metadata": {},
     "outputs": [],
     "prompt_number": 1
    },
    {
     "cell_type": "code",
     "collapsed": false,
     "input": [],
     "language": "python",
     "metadata": {},
     "outputs": [],
     "prompt_number": 1
    },
    {
     "cell_type": "code",
     "collapsed": false,
     "input": [],
     "language": "python",
     "metadata": {},
     "outputs": [],
     "prompt_number": 1
    },
    {
     "cell_type": "code",
     "collapsed": false,
     "input": [],
     "language": "python",
     "metadata": {},
     "outputs": [],
     "prompt_number": 1
    },
    {
     "cell_type": "code",
     "collapsed": false,
     "input": [],
     "language": "python",
     "metadata": {},
     "outputs": [],
     "prompt_number": 1
    },
    {
     "cell_type": "code",
     "collapsed": false,
     "input": [],
     "language": "python",
     "metadata": {},
     "outputs": []
    }
   ],
   "metadata": {}
  }
 ]
}