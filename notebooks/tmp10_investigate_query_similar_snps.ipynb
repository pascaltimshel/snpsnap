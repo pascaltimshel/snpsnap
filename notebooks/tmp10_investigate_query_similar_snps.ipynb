{
 "metadata": {
  "name": "",
  "signature": "sha256:5f3acd596cc354df4ca5299815e9ba6b60f4339460c192fb7a33cf0f48f7c0c4"
 },
 "nbformat": 3,
 "nbformat_minor": 0,
 "worksheets": [
  {
   "cells": [
    {
     "cell_type": "code",
     "collapsed": false,
     "input": [
      "import os\n",
      "import sys\n",
      "import pandas as pd\n",
      "import numpy as np\n",
      "import time\n",
      "os.getcwd()"
     ],
     "language": "python",
     "metadata": {},
     "outputs": [
      {
       "metadata": {},
       "output_type": "pyout",
       "prompt_number": 1,
       "text": [
        "'/Users/pascaltimshel/git/snpsnap/notebooks'"
       ]
      }
     ],
     "prompt_number": 1
    },
    {
     "cell_type": "code",
     "collapsed": false,
     "input": [
      "n_attempts=5"
     ],
     "language": "python",
     "metadata": {},
     "outputs": [],
     "prompt_number": 2
    },
    {
     "cell_type": "code",
     "collapsed": false,
     "input": [
      "max_freq_deviation=5\n",
      "max_genes_count_deviation=50\n",
      "max_distance_deviation=50\n",
      "max_ld_buddy_count_deviation=50"
     ],
     "language": "python",
     "metadata": {},
     "outputs": [],
     "prompt_number": 3
    },
    {
     "cell_type": "code",
     "collapsed": false,
     "input": [
      "### Setting delta space ####\n",
      "delta_freq = np.rint(np.linspace(0,max_freq_deviation, n_attempts)).astype(int) # rounds to nearest integer and convert to int\n",
      "# OBS: delta_gene_count and delta_dist are in the range of [-1;1]\n",
      "delta_gene_count = np.linspace(0,max_genes_count_deviation, n_attempts)/float(100)\n",
      "if max_distance_deviation < 1:\n",
      "    logger.error( \"max_distance_deviation set to %s. Lowest possible max_distance_deviation is 1.\" % max_distance_deviation )\n",
      "    max_distance_deviation = 1\n",
      "delta_dist = np.linspace(1,max_distance_deviation, n_attempts)/float(100) # OBS distance deviation starts at 1 %\n",
      "delta_ld_buddy_count = np.linspace(0,max_ld_buddy_count_deviation, n_attempts)/float(100) # NEW\n",
      "\n",
      "print delta_freq\n",
      "print delta_gene_count\n",
      "print delta_dist\n",
      "print delta_ld_buddy_count\n"
     ],
     "language": "python",
     "metadata": {},
     "outputs": [
      {
       "output_type": "stream",
       "stream": "stdout",
       "text": [
        "[0 1 2 4 5]\n",
        "[ 0.     0.125  0.25   0.375  0.5  ]\n",
        "[ 0.01    0.1325  0.255   0.3775  0.5   ]\n",
        "[ 0.     0.125  0.25   0.375  0.5  ]\n"
       ]
      }
     ],
     "prompt_number": 14
    },
    {
     "cell_type": "code",
     "collapsed": false,
     "input": [
      "######### example INPUT SNP #########\n",
      "\n",
      "# TAKEN FROM: first SNP in SNPsnap_rand500_Match2_10_10_10_n500_excludeInputHLA\n",
      "#snpID\trsID\tfreq_bin\tgene_count\tdist_nearest_gene_snpsnap\tfriends_ld05\n",
      "#14:69873335\trs10131464\t1\t1\t8603\t0\n",
      "\n",
      "# TAKEN FROM: first SNP in SNPsnap_rand500_defaultMatchCrit_n500_excludeInputHLA\n",
      "freq = 1\n",
      "gene_count = 1\n",
      "dist = 8603\n",
      "ld_buddy_count = 0\n",
      "\n",
      "### SELF MADE\n",
      "freq = 1\n",
      "gene_count = 45\n",
      "dist = 8603\n",
      "ld_buddy_count = 0"
     ],
     "language": "python",
     "metadata": {},
     "outputs": [],
     "prompt_number": 23
    },
    {
     "cell_type": "code",
     "collapsed": false,
     "input": [
      "### Calculating low/high boundaries\n",
      "freq_low = np.repeat(freq, n_attempts) - delta_freq # ABSOLUTE DEVIATION\n",
      "freq_high = np.repeat(freq, n_attempts) + delta_freq # ABSOLUTE DEVIATION\n",
      "gene_count_low = np.repeat(gene_count, n_attempts)*(1-delta_gene_count)\n",
      "gene_count_high = np.repeat(gene_count, n_attempts)*(1+delta_gene_count)\n",
      "dist_low = np.repeat(dist, n_attempts)*(1-delta_dist)\n",
      "dist_high = np.repeat(dist, n_attempts)*(1+delta_dist)\n",
      "ld_buddy_count_low = np.repeat(ld_buddy_count, n_attempts)*(1-delta_ld_buddy_count)\n",
      "ld_buddy_count_high = np.repeat(ld_buddy_count, n_attempts)*(1+delta_ld_buddy_count)"
     ],
     "language": "python",
     "metadata": {},
     "outputs": [],
     "prompt_number": 24
    },
    {
     "cell_type": "code",
     "collapsed": false,
     "input": [
      "print gene_count_low\n",
      "print gene_count_high"
     ],
     "language": "python",
     "metadata": {},
     "outputs": [
      {
       "output_type": "stream",
       "stream": "stdout",
       "text": [
        "[ 45.     39.375  33.75   28.125  22.5  ]\n",
        "[ 45.     50.625  56.25   61.875  67.5  ]\n"
       ]
      }
     ],
     "prompt_number": 25
    },
    {
     "cell_type": "code",
     "collapsed": false,
     "input": [],
     "language": "python",
     "metadata": {},
     "outputs": [],
     "prompt_number": 0
    },
    {
     "cell_type": "heading",
     "level": 1,
     "metadata": {},
     "source": [
      "NEW CODE"
     ]
    },
    {
     "cell_type": "code",
     "collapsed": false,
     "input": [
      "x = np.rint(np.linspace(0,50, 5))\n",
      "type(x[1])"
     ],
     "language": "python",
     "metadata": {},
     "outputs": [
      {
       "metadata": {},
       "output_type": "pyout",
       "prompt_number": 28,
       "text": [
        "numpy.float64"
       ]
      }
     ],
     "prompt_number": 28
    },
    {
     "cell_type": "code",
     "collapsed": false,
     "input": [
      "x = np.rint(np.linspace(0,50, 5)).astype(int)\n",
      "type(x[1])\n",
      "x"
     ],
     "language": "python",
     "metadata": {},
     "outputs": [
      {
       "metadata": {},
       "output_type": "pyout",
       "prompt_number": 31,
       "text": [
        "array([ 0, 12, 25, 38, 50])"
       ]
      }
     ],
     "prompt_number": 31
    },
    {
     "cell_type": "code",
     "collapsed": false,
     "input": [],
     "language": "python",
     "metadata": {},
     "outputs": []
    },
    {
     "cell_type": "code",
     "collapsed": false,
     "input": [
      "### Setting delta space ####\n",
      "delta_freq = np.rint(np.linspace(0,max_freq_deviation, n_attempts)).astype(int) # rounds to nearest integer and convert to int\n",
      "# OBS: delta_gene_count and delta_dist are in the range of [-1;1]\n",
      "delta_gene_count = np.linspace(0,max_genes_count_deviation, n_attempts)/float(100)\n",
      "if max_distance_deviation < 1:\n",
      "    logger.error( \"max_distance_deviation set to %s. Lowest possible max_distance_deviation is 1.\" % max_distance_deviation )\n",
      "    max_distance_deviation = 1\n",
      "delta_dist = np.linspace(1,max_distance_deviation, n_attempts)/float(100) # OBS distance deviation starts at 1 %\n",
      "delta_ld_buddy_count = np.linspace(0,max_ld_buddy_count_deviation, n_attempts)/float(100) # NEW\n",
      "\n",
      "print delta_freq\n",
      "print delta_gene_count\n",
      "print delta_dist\n",
      "print delta_ld_buddy_count\n"
     ],
     "language": "python",
     "metadata": {},
     "outputs": [
      {
       "output_type": "stream",
       "stream": "stdout",
       "text": [
        "[0 1 2 4 5]\n",
        "[ 0.     0.125  0.25   0.375  0.5  ]\n",
        "[ 0.01    0.1325  0.255   0.3775  0.5   ]\n",
        "[ 0.     0.125  0.25   0.375  0.5  ]\n"
       ]
      }
     ],
     "prompt_number": 37
    },
    {
     "cell_type": "code",
     "collapsed": false,
     "input": [
      "### Calculating low/high boundaries\n",
      "freq_low = np.repeat(freq, n_attempts) - delta_freq # ABSOLUTE DEVIATION\n",
      "freq_high = np.repeat(freq, n_attempts) + delta_freq # ABSOLUTE DEVIATION\n",
      "gene_count_low = np.rint(np.repeat(gene_count, n_attempts)*(1-delta_gene_count))\n",
      "gene_count_high = np.rint(np.repeat(gene_count, n_attempts)*(1+delta_gene_count))\n",
      "dist_low = np.repeat(dist, n_attempts)*(1-delta_dist)\n",
      "dist_high = np.repeat(dist, n_attempts)*(1+delta_dist)\n",
      "ld_buddy_count_low = np.repeat(ld_buddy_count, n_attempts)*(1-delta_ld_buddy_count)\n",
      "ld_buddy_count_high = np.repeat(ld_buddy_count, n_attempts)*(1+delta_ld_buddy_count)"
     ],
     "language": "python",
     "metadata": {},
     "outputs": [],
     "prompt_number": 40
    },
    {
     "cell_type": "code",
     "collapsed": false,
     "input": [
      "print gene_count_low\n",
      "print gene_count_high"
     ],
     "language": "python",
     "metadata": {},
     "outputs": [
      {
       "output_type": "stream",
       "stream": "stdout",
       "text": [
        "[ 45.  39.  34.  28.  22.]\n",
        "[ 45.  51.  56.  62.  68.]\n"
       ]
      }
     ],
     "prompt_number": 41
    },
    {
     "cell_type": "code",
     "collapsed": false,
     "input": [],
     "language": "python",
     "metadata": {},
     "outputs": []
    }
   ],
   "metadata": {}
  }
 ]
}