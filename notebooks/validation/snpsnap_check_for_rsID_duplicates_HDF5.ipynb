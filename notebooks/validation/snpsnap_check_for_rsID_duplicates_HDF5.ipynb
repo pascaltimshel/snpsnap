{
 "metadata": {
  "name": "",
  "signature": "sha256:1f48a4e467dc41ab8e0535e6316cde88acfecc48f9d00dd453cd87bc6febc1bc"
 },
 "nbformat": 3,
 "nbformat_minor": 0,
 "worksheets": [
  {
   "cells": [
    {
     "cell_type": "code",
     "collapsed": false,
     "input": [
      "import os\n",
      "import sys\n",
      "import glob\n",
      "import collections\n",
      "\n",
      "import pandas as pd\n",
      "import numpy as np\n",
      "\n",
      "import ipdb"
     ],
     "language": "python",
     "metadata": {},
     "outputs": [],
     "prompt_number": 2
    },
    {
     "cell_type": "code",
     "collapsed": false,
     "input": [],
     "language": "python",
     "metadata": {},
     "outputs": [],
     "prompt_number": 2
    },
    {
     "cell_type": "code",
     "collapsed": false,
     "input": [
      "file_db = \"/Users/pascaltimshel/p_snpsnap/data/step3/1KG_snpsnap_production_v1_uncompressed_incl_rsID/ld0.5/ld0.5_db.h5\""
     ],
     "language": "python",
     "metadata": {},
     "outputs": [],
     "prompt_number": 3
    },
    {
     "cell_type": "code",
     "collapsed": false,
     "input": [
      "store = pd.HDFStore(file_db, 'r')\n",
      "df = store.get('dummy')\n",
      "store.close()"
     ],
     "language": "python",
     "metadata": {},
     "outputs": [],
     "prompt_number": 4
    },
    {
     "cell_type": "code",
     "collapsed": false,
     "input": [
      "df.head()"
     ],
     "language": "python",
     "metadata": {},
     "outputs": [
      {
       "html": [
        "<div style=\"max-height:1000px;max-width:1500px;overflow:auto;\">\n",
        "<table border=\"1\" class=\"dataframe\">\n",
        "  <thead>\n",
        "    <tr style=\"text-align: right;\">\n",
        "      <th></th>\n",
        "      <th>rsID</th>\n",
        "      <th>freq_bin</th>\n",
        "      <th>gene_count</th>\n",
        "      <th>dist_nearest_gene_snpsnap</th>\n",
        "      <th>friends_ld01</th>\n",
        "      <th>friends_ld02</th>\n",
        "      <th>friends_ld03</th>\n",
        "      <th>friends_ld04</th>\n",
        "      <th>friends_ld05</th>\n",
        "      <th>friends_ld06</th>\n",
        "      <th>friends_ld07</th>\n",
        "      <th>friends_ld08</th>\n",
        "      <th>friends_ld09</th>\n",
        "    </tr>\n",
        "    <tr>\n",
        "      <th>snpID</th>\n",
        "      <th></th>\n",
        "      <th></th>\n",
        "      <th></th>\n",
        "      <th></th>\n",
        "      <th></th>\n",
        "      <th></th>\n",
        "      <th></th>\n",
        "      <th></th>\n",
        "      <th></th>\n",
        "      <th></th>\n",
        "      <th></th>\n",
        "      <th></th>\n",
        "      <th></th>\n",
        "    </tr>\n",
        "  </thead>\n",
        "  <tbody>\n",
        "    <tr>\n",
        "      <th>10:100115849</th>\n",
        "      <td> 10:100115849</td>\n",
        "      <td> 20</td>\n",
        "      <td> 0</td>\n",
        "      <td>  39215</td>\n",
        "      <td>  39</td>\n",
        "      <td>  12</td>\n",
        "      <td>   8</td>\n",
        "      <td>   7</td>\n",
        "      <td>   0</td>\n",
        "      <td>  0</td>\n",
        "      <td>  0</td>\n",
        "      <td>  0</td>\n",
        "      <td>  0</td>\n",
        "    </tr>\n",
        "    <tr>\n",
        "      <th>10:100146083</th>\n",
        "      <td> 10:100146083</td>\n",
        "      <td>  3</td>\n",
        "      <td> 1</td>\n",
        "      <td>  28858</td>\n",
        "      <td>  39</td>\n",
        "      <td>   0</td>\n",
        "      <td>   0</td>\n",
        "      <td>   0</td>\n",
        "      <td>   0</td>\n",
        "      <td>  0</td>\n",
        "      <td>  0</td>\n",
        "      <td>  0</td>\n",
        "      <td>  0</td>\n",
        "    </tr>\n",
        "    <tr>\n",
        "      <th>10:100183037</th>\n",
        "      <td> 10:100183037</td>\n",
        "      <td> 20</td>\n",
        "      <td> 3</td>\n",
        "      <td>  23672</td>\n",
        "      <td> 230</td>\n",
        "      <td> 175</td>\n",
        "      <td> 157</td>\n",
        "      <td> 149</td>\n",
        "      <td>  98</td>\n",
        "      <td> 83</td>\n",
        "      <td> 73</td>\n",
        "      <td> 59</td>\n",
        "      <td>  0</td>\n",
        "    </tr>\n",
        "    <tr>\n",
        "      <th>10:100276950</th>\n",
        "      <td> 10:100276950</td>\n",
        "      <td> 33</td>\n",
        "      <td> 1</td>\n",
        "      <td> 718669</td>\n",
        "      <td> 189</td>\n",
        "      <td> 157</td>\n",
        "      <td> 146</td>\n",
        "      <td> 123</td>\n",
        "      <td>  74</td>\n",
        "      <td> 72</td>\n",
        "      <td> 51</td>\n",
        "      <td> 42</td>\n",
        "      <td> 10</td>\n",
        "    </tr>\n",
        "    <tr>\n",
        "      <th>10:100294726</th>\n",
        "      <td> 10:100294726</td>\n",
        "      <td> 47</td>\n",
        "      <td> 1</td>\n",
        "      <td> 700893</td>\n",
        "      <td> 308</td>\n",
        "      <td> 183</td>\n",
        "      <td> 176</td>\n",
        "      <td> 143</td>\n",
        "      <td> 100</td>\n",
        "      <td> 72</td>\n",
        "      <td> 20</td>\n",
        "      <td>  5</td>\n",
        "      <td>  3</td>\n",
        "    </tr>\n",
        "  </tbody>\n",
        "</table>\n",
        "</div>"
       ],
       "metadata": {},
       "output_type": "pyout",
       "prompt_number": 5,
       "text": [
        "                      rsID  freq_bin  gene_count  dist_nearest_gene_snpsnap  \\\n",
        "snpID                                                                         \n",
        "10:100115849  10:100115849        20           0                      39215   \n",
        "10:100146083  10:100146083         3           1                      28858   \n",
        "10:100183037  10:100183037        20           3                      23672   \n",
        "10:100276950  10:100276950        33           1                     718669   \n",
        "10:100294726  10:100294726        47           1                     700893   \n",
        "\n",
        "              friends_ld01  friends_ld02  friends_ld03  friends_ld04  \\\n",
        "snpID                                                                  \n",
        "10:100115849            39            12             8             7   \n",
        "10:100146083            39             0             0             0   \n",
        "10:100183037           230           175           157           149   \n",
        "10:100276950           189           157           146           123   \n",
        "10:100294726           308           183           176           143   \n",
        "\n",
        "              friends_ld05  friends_ld06  friends_ld07  friends_ld08  \\\n",
        "snpID                                                                  \n",
        "10:100115849             0             0             0             0   \n",
        "10:100146083             0             0             0             0   \n",
        "10:100183037            98            83            73            59   \n",
        "10:100276950            74            72            51            42   \n",
        "10:100294726           100            72            20             5   \n",
        "\n",
        "              friends_ld09  \n",
        "snpID                       \n",
        "10:100115849             0  \n",
        "10:100146083             0  \n",
        "10:100183037             0  \n",
        "10:100276950            10  \n",
        "10:100294726             3  "
       ]
      }
     ],
     "prompt_number": 5
    },
    {
     "cell_type": "code",
     "collapsed": false,
     "input": [
      "dup_rsID = df.duplicated(subset=\"rsID\")"
     ],
     "language": "python",
     "metadata": {},
     "outputs": [],
     "prompt_number": 6
    },
    {
     "cell_type": "code",
     "collapsed": false,
     "input": [
      "print \"df\", len(df)\n",
      "print \"dup\", len(dup_rsID)\n",
      "print \"true\", len(dup_rsID[dup_rsID==True])\n",
      "print \"false\", len(dup_rsID[dup_rsID==False])"
     ],
     "language": "python",
     "metadata": {},
     "outputs": [
      {
       "output_type": "stream",
       "stream": "stdout",
       "text": [
        "df 9239613\n",
        "dup 9239613\n",
        "true "
       ]
      },
      {
       "output_type": "stream",
       "stream": "stdout",
       "text": [
        "0\n",
        "false "
       ]
      },
      {
       "output_type": "stream",
       "stream": "stdout",
       "text": [
        "9239613\n"
       ]
      }
     ],
     "prompt_number": 20
    },
    {
     "cell_type": "code",
     "collapsed": false,
     "input": [
      "dup_gene_count = df.duplicated(subset=\"gene_count\")"
     ],
     "language": "python",
     "metadata": {},
     "outputs": [],
     "prompt_number": 22
    },
    {
     "cell_type": "code",
     "collapsed": false,
     "input": [
      "print \"true\", len(dup_gene_count[dup_gene_count==True])\n",
      "print \"false\", len(dup_gene_count[dup_gene_count==False])"
     ],
     "language": "python",
     "metadata": {},
     "outputs": [
      {
       "output_type": "stream",
       "stream": "stdout",
       "text": [
        "true "
       ]
      },
      {
       "output_type": "stream",
       "stream": "stdout",
       "text": [
        "9239438\n",
        "false "
       ]
      },
      {
       "output_type": "stream",
       "stream": "stdout",
       "text": [
        "175\n"
       ]
      }
     ],
     "prompt_number": 24
    },
    {
     "cell_type": "code",
     "collapsed": false,
     "input": [],
     "language": "python",
     "metadata": {},
     "outputs": [],
     "prompt_number": 14
    },
    {
     "cell_type": "code",
     "collapsed": false,
     "input": [],
     "language": "python",
     "metadata": {},
     "outputs": []
    }
   ],
   "metadata": {}
  }
 ]
}