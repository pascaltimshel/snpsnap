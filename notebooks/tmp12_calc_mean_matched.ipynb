{
 "metadata": {
  "name": "",
  "signature": "sha256:d74dc82e8f82bc2a141bd03ff738ab8e4eb57a6b87c278218a54b0e9ee192d8d"
 },
 "nbformat": 3,
 "nbformat_minor": 0,
 "worksheets": [
  {
   "cells": [
    {
     "cell_type": "code",
     "collapsed": false,
     "input": [
      "import os\n",
      "import sys\n",
      "import pandas as pd\n",
      "import numpy as np\n",
      "import time\n",
      "os.getcwd()"
     ],
     "language": "python",
     "metadata": {},
     "outputs": [
      {
       "metadata": {},
       "output_type": "pyout",
       "prompt_number": 3,
       "text": [
        "'/Users/pascaltimshel/git/snpsnap/notebooks'"
       ]
      }
     ],
     "prompt_number": 3
    },
    {
     "cell_type": "heading",
     "level": 2,
     "metadata": {},
     "source": [
      "Read store"
     ]
    },
    {
     "cell_type": "code",
     "collapsed": false,
     "input": [
      "file_db = \"/Users/pascaltimshel/snpsnap/data/step3/1KG_snpsnap_production_v1/ld0.5/ld0.5_db.h5\"\n",
      "start_time = time.time()\n",
      "store = pd.HDFStore(file_db, 'r')\n",
      "df = store.select('dummy') # read data frame\n",
      "store.close()\n",
      "elapsed_time = time.time()-start_time\n",
      "print \"time taken: %s\" % elapsed_time\n",
      "print \"len(df): %s\" % len(df)"
     ],
     "language": "python",
     "metadata": {},
     "outputs": [
      {
       "output_type": "stream",
       "stream": "stdout",
       "text": [
        "time taken: 6.02186799049\n"
       ]
      }
     ],
     "prompt_number": 5
    },
    {
     "cell_type": "heading",
     "level": 2,
     "metadata": {},
     "source": [
      "Subset data"
     ]
    },
    {
     "cell_type": "code",
     "collapsed": false,
     "input": [
      "#df_test = df.ix[:,['freq_bin']] # this works - OBS: column must be in a list to retrive a data frame and not a Series\n",
      "#df_test = df[['freq_bin']] # this works\n",
      "cols2calc=['freq_bin', 'gene_count', 'dist_nearest_gene_snpsnap', 'friends_ld05']\n",
      "df_input = df.ix[:200,cols2calc]\n",
      "df_matched = df.ix[1000:1200,cols2calc]\n",
      "print \"len(df_input): %s\" % len(df_input)\n",
      "print \"len(df_matched): %s\" % len(df_matched)\n",
      "df_input.head()"
     ],
     "language": "python",
     "metadata": {},
     "outputs": [
      {
       "output_type": "stream",
       "stream": "stdout",
       "text": [
        "len(df_input): 200\n",
        "len(df_matched): 200\n"
       ]
      },
      {
       "html": [
        "<div style=\"max-height:1000px;max-width:1500px;overflow:auto;\">\n",
        "<table border=\"1\" class=\"dataframe\">\n",
        "  <thead>\n",
        "    <tr style=\"text-align: right;\">\n",
        "      <th></th>\n",
        "      <th>freq_bin</th>\n",
        "      <th>gene_count</th>\n",
        "      <th>dist_nearest_gene_snpsnap</th>\n",
        "      <th>friends_ld05</th>\n",
        "    </tr>\n",
        "    <tr>\n",
        "      <th>snpID</th>\n",
        "      <th></th>\n",
        "      <th></th>\n",
        "      <th></th>\n",
        "      <th></th>\n",
        "    </tr>\n",
        "  </thead>\n",
        "  <tbody>\n",
        "    <tr>\n",
        "      <th>10:100115849</th>\n",
        "      <td> 20</td>\n",
        "      <td> 0</td>\n",
        "      <td>  39215</td>\n",
        "      <td>   0</td>\n",
        "    </tr>\n",
        "    <tr>\n",
        "      <th>10:100146083</th>\n",
        "      <td>  3</td>\n",
        "      <td> 1</td>\n",
        "      <td>  28858</td>\n",
        "      <td>   0</td>\n",
        "    </tr>\n",
        "    <tr>\n",
        "      <th>10:100183037</th>\n",
        "      <td> 20</td>\n",
        "      <td> 3</td>\n",
        "      <td>  23672</td>\n",
        "      <td>  98</td>\n",
        "    </tr>\n",
        "    <tr>\n",
        "      <th>10:100276950</th>\n",
        "      <td> 33</td>\n",
        "      <td> 1</td>\n",
        "      <td> 718669</td>\n",
        "      <td>  74</td>\n",
        "    </tr>\n",
        "    <tr>\n",
        "      <th>10:100294726</th>\n",
        "      <td> 47</td>\n",
        "      <td> 1</td>\n",
        "      <td> 700893</td>\n",
        "      <td> 100</td>\n",
        "    </tr>\n",
        "  </tbody>\n",
        "</table>\n",
        "<p>5 rows \u00d7 4 columns</p>\n",
        "</div>"
       ],
       "metadata": {},
       "output_type": "pyout",
       "prompt_number": 41,
       "text": [
        "              freq_bin  gene_count  dist_nearest_gene_snpsnap  friends_ld05\n",
        "snpID                                                                      \n",
        "10:100115849        20           0                      39215             0\n",
        "10:100146083         3           1                      28858             0\n",
        "10:100183037        20           3                      23672            98\n",
        "10:100276950        33           1                     718669            74\n",
        "10:100294726        47           1                     700893           100\n",
        "\n",
        "[5 rows x 4 columns]"
       ]
      }
     ],
     "prompt_number": 41
    },
    {
     "cell_type": "code",
     "collapsed": false,
     "input": [
      "input_mean = df_input.mean(axis=0) # <class 'pandas.core.series.Series'>\n",
      "matched_mean = df_matched.mean(axis=0) #<class 'pandas.core.series.Series'>\n",
      "print type(input_matched)\n",
      "ratio = input_mean/matched_mean*100 # see also: Series.divide(other, level=None, fill_value=None, axis=0)\n",
      "print ratio"
     ],
     "language": "python",
     "metadata": {},
     "outputs": [
      {
       "output_type": "stream",
       "stream": "stdout",
       "text": [
        "<class 'pandas.core.series.Series'>\n",
        "freq_bin                     123.390805\n",
        "gene_count                    57.762777\n",
        "dist_nearest_gene_snpsnap    162.598875\n",
        "friends_ld05                  53.720547\n",
        "dtype: float64\n"
       ]
      }
     ],
     "prompt_number": 42
    },
    {
     "cell_type": "code",
     "collapsed": false,
     "input": [
      "#### converting Series to Dict\n",
      "report_news = ratio.to_dict()\n",
      "print report_news\n"
     ],
     "language": "python",
     "metadata": {},
     "outputs": [
      {
       "output_type": "stream",
       "stream": "stdout",
       "text": [
        "{'dist_nearest_gene_snpsnap': 162.59887515819352, 'freq_bin': 123.39080459770115, 'gene_count': 57.762777242044358, 'friends_ld05': 53.720546554422775}\n"
       ]
      }
     ],
     "prompt_number": 45
    },
    {
     "cell_type": "code",
     "collapsed": false,
     "input": [
      "### renaming keys:\n",
      "for key in report_news.keys():\n",
      "    report_news['ratio_'+key] = report_news.pop(key)\n",
      "print report_news\n",
      "\n"
     ],
     "language": "python",
     "metadata": {},
     "outputs": [
      {
       "output_type": "stream",
       "stream": "stdout",
       "text": [
        "{'ratio_gene_count': 57.762777242044358, 'ratio_friends_ld05': 53.720546554422775, 'ratio_dist_nearest_gene_snpsnap': 162.59887515819352, 'ratio_freq_bin': 123.39080459770115}\n"
       ]
      }
     ],
     "prompt_number": 46
    },
    {
     "cell_type": "code",
     "collapsed": false,
     "input": [
      "### test what happens if input_matched contains elements with the value zero\n",
      "input_mean = df_input.mean(axis=0)\n",
      "#input_matched = pd.Series()\n",
      "matched_mean = [0]*len(input_mean)\n",
      "print input_mean/matched_mean\n",
      "\n",
      "####### CONCLUSION: values will contain 'inf' values"
     ],
     "language": "python",
     "metadata": {},
     "outputs": [
      {
       "output_type": "stream",
       "stream": "stdout",
       "text": [
        "freq_bin                     inf\n",
        "gene_count                   inf\n",
        "dist_nearest_gene_snpsnap    inf\n",
        "friends_ld05                 inf\n",
        "dtype: float64\n"
       ]
      }
     ],
     "prompt_number": 38
    },
    {
     "cell_type": "code",
     "collapsed": false,
     "input": [],
     "language": "python",
     "metadata": {},
     "outputs": [
      {
       "metadata": {},
       "output_type": "pyout",
       "prompt_number": 34,
       "text": [
        "[1, 1, 1, 1]"
       ]
      }
     ],
     "prompt_number": 34
    },
    {
     "cell_type": "code",
     "collapsed": false,
     "input": [],
     "language": "python",
     "metadata": {},
     "outputs": []
    }
   ],
   "metadata": {}
  }
 ]
}