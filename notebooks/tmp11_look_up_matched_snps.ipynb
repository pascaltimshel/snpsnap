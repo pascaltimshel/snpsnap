{
 "metadata": {
  "name": "",
  "signature": "sha256:0bf0793af08daade4b75a9f676018c07238c79693b02d2182d633d73b08e7ac0"
 },
 "nbformat": 3,
 "nbformat_minor": 0,
 "worksheets": [
  {
   "cells": [
    {
     "cell_type": "code",
     "collapsed": false,
     "input": [
      "import os\n",
      "import sys\n",
      "import pandas as pd\n",
      "import numpy as np\n",
      "import time\n",
      "import gzip\n",
      "import zlib\n",
      "os.getcwd()"
     ],
     "language": "python",
     "metadata": {},
     "outputs": [
      {
       "metadata": {},
       "output_type": "pyout",
       "prompt_number": 1,
       "text": [
        "'/Users/pascaltimshel/git/snpsnap/notebooks'"
       ]
      }
     ],
     "prompt_number": 1
    },
    {
     "cell_type": "heading",
     "level": 2,
     "metadata": {},
     "source": [
      "Test look-up duplicate SNPs"
     ]
    },
    {
     "cell_type": "code",
     "collapsed": false,
     "input": [
      "store = pd.HDFStore(file_db, 'r')\n",
      "start_time = time.time()\n",
      "for item in user_snps:\n",
      "    df = store.select('dummy', \"index=['14:69873335', '9:5453460', '7:88660988', '18:67015865', '18:67015865']\") # Remember to quote the string!\n",
      "store.close()\n",
      "print time.time()-start_time\n",
      "\n",
      "#2-->3.74039387703\n",
      "#5-->"
     ],
     "language": "python",
     "metadata": {},
     "outputs": [
      {
       "output_type": "stream",
       "stream": "stdout",
       "text": [
        "3.85183095932\n"
       ]
      }
     ],
     "prompt_number": 9
    },
    {
     "cell_type": "code",
     "collapsed": false,
     "input": [
      "df"
     ],
     "language": "python",
     "metadata": {},
     "outputs": [
      {
       "html": [
        "<div style=\"max-height:1000px;max-width:1500px;overflow:auto;\">\n",
        "<table border=\"1\" class=\"dataframe\">\n",
        "  <thead>\n",
        "    <tr style=\"text-align: right;\">\n",
        "      <th></th>\n",
        "      <th>freq_bin</th>\n",
        "      <th>gene_count</th>\n",
        "      <th>dist_nearest_gene_snpsnap</th>\n",
        "      <th>friends_ld01</th>\n",
        "      <th>friends_ld02</th>\n",
        "      <th>friends_ld03</th>\n",
        "      <th>friends_ld04</th>\n",
        "      <th>friends_ld05</th>\n",
        "      <th>friends_ld06</th>\n",
        "      <th>friends_ld07</th>\n",
        "      <th>friends_ld08</th>\n",
        "      <th>friends_ld09</th>\n",
        "    </tr>\n",
        "    <tr>\n",
        "      <th>snpID</th>\n",
        "      <th></th>\n",
        "      <th></th>\n",
        "      <th></th>\n",
        "      <th></th>\n",
        "      <th></th>\n",
        "      <th></th>\n",
        "      <th></th>\n",
        "      <th></th>\n",
        "      <th></th>\n",
        "      <th></th>\n",
        "      <th></th>\n",
        "      <th></th>\n",
        "    </tr>\n",
        "  </thead>\n",
        "  <tbody>\n",
        "    <tr>\n",
        "      <th>14:69873335</th>\n",
        "      <td>  1</td>\n",
        "      <td> 1</td>\n",
        "      <td>   8603</td>\n",
        "      <td>  13</td>\n",
        "      <td>   0</td>\n",
        "      <td>   0</td>\n",
        "      <td>   0</td>\n",
        "      <td>   0</td>\n",
        "      <td>   0</td>\n",
        "      <td>  0</td>\n",
        "      <td>  0</td>\n",
        "      <td>  0</td>\n",
        "    </tr>\n",
        "    <tr>\n",
        "      <th>18:67015865</th>\n",
        "      <td> 12</td>\n",
        "      <td> 0</td>\n",
        "      <td>  52419</td>\n",
        "      <td> 307</td>\n",
        "      <td> 173</td>\n",
        "      <td> 111</td>\n",
        "      <td> 106</td>\n",
        "      <td> 104</td>\n",
        "      <td> 101</td>\n",
        "      <td> 80</td>\n",
        "      <td> 76</td>\n",
        "      <td> 40</td>\n",
        "    </tr>\n",
        "    <tr>\n",
        "      <th>7:88660988</th>\n",
        "      <td>  6</td>\n",
        "      <td> 1</td>\n",
        "      <td> 272306</td>\n",
        "      <td>  98</td>\n",
        "      <td>  61</td>\n",
        "      <td>  38</td>\n",
        "      <td>  32</td>\n",
        "      <td>  17</td>\n",
        "      <td>  16</td>\n",
        "      <td> 16</td>\n",
        "      <td> 15</td>\n",
        "      <td>  0</td>\n",
        "    </tr>\n",
        "    <tr>\n",
        "      <th>9:5453460</th>\n",
        "      <td>  3</td>\n",
        "      <td> 1</td>\n",
        "      <td>   2957</td>\n",
        "      <td>  32</td>\n",
        "      <td>  20</td>\n",
        "      <td>  18</td>\n",
        "      <td>  17</td>\n",
        "      <td>  14</td>\n",
        "      <td>  13</td>\n",
        "      <td> 11</td>\n",
        "      <td>  0</td>\n",
        "      <td>  0</td>\n",
        "    </tr>\n",
        "  </tbody>\n",
        "</table>\n",
        "<p>4 rows \u00d7 12 columns</p>\n",
        "</div>"
       ],
       "metadata": {},
       "output_type": "pyout",
       "prompt_number": 8,
       "text": [
        "             freq_bin  gene_count  dist_nearest_gene_snpsnap  friends_ld01  \\\n",
        "snpID                                                                        \n",
        "14:69873335         1           1                       8603            13   \n",
        "18:67015865        12           0                      52419           307   \n",
        "7:88660988          6           1                     272306            98   \n",
        "9:5453460           3           1                       2957            32   \n",
        "\n",
        "             friends_ld02  friends_ld03  friends_ld04  friends_ld05  \\\n",
        "snpID                                                                 \n",
        "14:69873335             0             0             0             0   \n",
        "18:67015865           173           111           106           104   \n",
        "7:88660988             61            38            32            17   \n",
        "9:5453460              20            18            17            14   \n",
        "\n",
        "             friends_ld06  friends_ld07  friends_ld08  friends_ld09  \n",
        "snpID                                                                \n",
        "14:69873335             0             0             0             0  \n",
        "18:67015865           101            80            76            40  \n",
        "7:88660988             16            16            15             0  \n",
        "9:5453460              13            11             0             0  \n",
        "\n",
        "[4 rows x 12 columns]"
       ]
      }
     ],
     "prompt_number": 8
    },
    {
     "cell_type": "code",
     "collapsed": false,
     "input": [
      "### CONCLUSION\n",
      "### Data frame return by HDF5 query does not contain duplicated values. THIS IS A PROBLEM\n",
      "### ---> solution: read in whole file as data frame"
     ],
     "language": "python",
     "metadata": {},
     "outputs": []
    },
    {
     "cell_type": "code",
     "collapsed": false,
     "input": [
      "### CODE NOT USED\n",
      "#store = pd.HDFStore(file_db, 'r')\n",
      "#quoted_list = (', '.join(\"'\" + item + \"'\" for item in user_snps.keys() ))\n",
      "#query = \"index=[%s]\" % quoted_list\n",
      "#user_snps_df = store.select('dummy', query)\n",
      "#store.close()"
     ],
     "language": "python",
     "metadata": {},
     "outputs": []
    },
    {
     "cell_type": "heading",
     "level": 2,
     "metadata": {},
     "source": [
      "Look-up many SNPs"
     ]
    },
    {
     "cell_type": "code",
     "collapsed": false,
     "input": [
      "user_snps = [\"14:69873335\", \"9:5453460\", \"7:88660988\", \"1:201688955\", \"1:181844943\", \"18:67015865\", \"6:32592119\", \"9:133472747\", \"4:63055561\", \"11:127160664\"]*100\n",
      "file_db = \"/Users/pascaltimshel/snpsnap/data/step3/1KG_snpsnap_production_v1/ld0.5/ld0.5_db.h5\""
     ],
     "language": "python",
     "metadata": {},
     "outputs": [],
     "prompt_number": 2
    },
    {
     "cell_type": "code",
     "collapsed": false,
     "input": [
      "#%%timeit\n",
      "store = pd.HDFStore(file_db, 'r')\n",
      "list_of_df = []\n",
      "start_time = time.time()\n",
      "for item in user_snps:\n",
      "    df = store.select('dummy', \"index=['%s']\" % item) # Remember to quote the string!\n",
      "    #print time.time()-start_time\n",
      "    list_of_df.append(df)\n",
      "store.close()\n",
      "user_snps_df = pd.concat(list_of_df)\n",
      "#print time.time()-start_time\n",
      "#print user_snps_df.head()\n",
      "#print user_snps_df.dtypes"
     ],
     "language": "python",
     "metadata": {},
     "outputs": [
      {
       "output_type": "stream",
       "stream": "stdout",
       "text": [
        "1 loops, best of 3: 3.62 s per loop\n"
       ]
      }
     ],
     "prompt_number": 5
    },
    {
     "cell_type": "code",
     "collapsed": false,
     "input": [],
     "language": "python",
     "metadata": {},
     "outputs": [],
     "prompt_number": 3
    },
    {
     "cell_type": "code",
     "collapsed": false,
     "input": [],
     "language": "python",
     "metadata": {},
     "outputs": [],
     "prompt_number": 3
    },
    {
     "cell_type": "code",
     "collapsed": false,
     "input": [],
     "language": "python",
     "metadata": {},
     "outputs": [],
     "prompt_number": 3
    },
    {
     "cell_type": "code",
     "collapsed": false,
     "input": [],
     "language": "python",
     "metadata": {},
     "outputs": [],
     "prompt_number": 3
    },
    {
     "cell_type": "code",
     "collapsed": false,
     "input": [],
     "language": "python",
     "metadata": {},
     "outputs": [],
     "prompt_number": 3
    },
    {
     "cell_type": "code",
     "collapsed": false,
     "input": [],
     "language": "python",
     "metadata": {},
     "outputs": []
    }
   ],
   "metadata": {}
  }
 ]
}