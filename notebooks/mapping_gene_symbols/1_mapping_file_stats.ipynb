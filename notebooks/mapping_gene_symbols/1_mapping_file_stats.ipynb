{
 "metadata": {
  "name": "",
  "signature": "sha256:c95a2fc6ac5f0e1999e2d9a5b0c566eb84ce1a097f5a4cda5737c07869b01204"
 },
 "nbformat": 3,
 "nbformat_minor": 0,
 "worksheets": [
  {
   "cells": [
    {
     "cell_type": "code",
     "collapsed": false,
     "input": [
      "import os\n",
      "import sys\n",
      "import glob\n",
      "import collections\n",
      "import pandas\n",
      "\n",
      "import ipdb"
     ],
     "language": "python",
     "metadata": {},
     "outputs": [],
     "prompt_number": 1
    },
    {
     "cell_type": "code",
     "collapsed": false,
     "input": [
      "map_dir = \"/Users/pascaltimshel/p_snpsnap/gene_symbol_mapping/mapping_files\"\n",
      "map_files = glob.glob(map_dir+\"/*.txt\")\n",
      "map_files"
     ],
     "language": "python",
     "metadata": {},
     "outputs": [
      {
       "metadata": {},
       "output_type": "pyout",
       "prompt_number": 2,
       "text": [
        "['/Users/pascaltimshel/p_snpsnap/gene_symbol_mapping/mapping_files/Ensembl_64_Sep_2011_GRCh37.p5_54345Genes_unique_only.txt',\n",
        " '/Users/pascaltimshel/p_snpsnap/gene_symbol_mapping/mapping_files/Ensembl_76_Aug_2014_GRCh38_63292Genes_unique_only.txt',\n",
        " '/Users/pascaltimshel/p_snpsnap/gene_symbol_mapping/mapping_files/HGNC_w_withdrawn_2014-09-09.txt',\n",
        " '/Users/pascaltimshel/p_snpsnap/gene_symbol_mapping/mapping_files/HGNC_wo_withdrawn_2014-09-09.txt']"
       ]
      }
     ],
     "prompt_number": 2
    },
    {
     "cell_type": "code",
     "collapsed": false,
     "input": [
      "### ** print if duplicate\n",
      "mapping_stat_file = \"mapping_file_stats.txt\"\n",
      "os.remove(mapping_stat_file)\n",
      "\n",
      "#map_file_stats = collections.defaultdict(dict)\n",
      "map_file_stats = {}\n",
      "for file in map_files:\n",
      "    f = open(file, 'r')\n",
      "    filename = os.path.basename(file)\n",
      "    map_file_stats[filename] = {}\n",
      "    map_file_stats[filename][\"n_prim_key\"] = 0\n",
      "    map_file_stats[filename][\"n_sec_key\"] = 0\n",
      "    map_file_stats[filename][\"prim_duplicates\"] = {}\n",
      "    map_file_stats[filename][\"sec_duplicates\"] = {}\n",
      "    prim_key_seen = set()\n",
      "    sec_key_seen = set()\n",
      "    lines = f.readlines()[1:]\n",
      "    for line in lines:\n",
      "        fields = line.strip('\\n').split(\"\\t\")\n",
      "        assert len(fields) == 2 #### ASSERTING ONLY TWO FIELDS!\n",
      "        prim_key = fields[0]\n",
      "        sec_key = fields[1]\n",
      "        map_file_stats[filename][\"n_prim_key\"] += 1\n",
      "        if sec_key: # sec_key is true\n",
      "            #if map_file_stats[filename][\"n_sec_key\"] < 500: print sec_key\n",
      "            map_file_stats[filename][\"n_sec_key\"] += 1\n",
      "        \n",
      "        if prim_key not in prim_key_seen:\n",
      "            prim_key_seen.add(prim_key)\n",
      "        else:\n",
      "            map_file_stats[filename][\"prim_duplicates\"][prim_key] = 1\n",
      "        if sec_key not in sec_key_seen:\n",
      "            sec_key_seen.add(sec_key)\n",
      "        else:\n",
      "            if sec_key != \"\": map_file_stats[filename][\"sec_duplicates\"][sec_key] = 1\n",
      "    f.close()\n",
      "    print filename, \"n_prim_key\", map_file_stats[filename][\"n_prim_key\"]\n",
      "    print filename, \"n_sec_key\", map_file_stats[filename][\"n_sec_key\"]\n",
      "    print filename, \"n_prim_unique\", len(prim_key_seen)\n",
      "    print filename, \"n_sec_unique\", len(sec_key_seen)\n",
      "    print filename, \"prim_duplicates\", len(map_file_stats[filename][\"prim_duplicates\"])\n",
      "    print filename, \"sec_duplicates\", len(map_file_stats[filename][\"sec_duplicates\"])\n",
      "    \n",
      "    with open(mapping_stat_file, 'a') as f_stat:\n",
      "        tmp_prim = filename+\"\\t\"+\"prim_duplicates:\"+\"\\t\"+ \";\".join( map_file_stats[filename][\"prim_duplicates\"].keys() )\n",
      "        tmp_sec = filename+\"\\t\"+\"sec_duplicates:\"+\"\\t\"+ \";\".join( map_file_stats[filename][\"sec_duplicates\"].keys() )\n",
      "        f_stat.write(tmp_prim+\"\\n\")\n",
      "        f_stat.write(tmp_sec+\"\\n\")\n",
      "        \n",
      "    #for elem in sec_key_seen:\n",
      "    #    print elem\n",
      "    #break\n",
      "    "
     ],
     "language": "python",
     "metadata": {},
     "outputs": [
      {
       "output_type": "stream",
       "stream": "stdout",
       "text": [
        "Ensembl_64_Sep_2011_GRCh37.p5_54345Genes_unique_only.txt n_prim_key 54316\n",
        "Ensembl_64_Sep_2011_GRCh37.p5_54345Genes_unique_only.txt n_sec_key 27331\n",
        "Ensembl_64_Sep_2011_GRCh37.p5_54345Genes_unique_only.txt n_prim_unique 54304\n",
        "Ensembl_64_Sep_2011_GRCh37.p5_54345Genes_unique_only.txt n_sec_unique 25515\n",
        "Ensembl_64_Sep_2011_GRCh37.p5_54345Genes_unique_only.txt prim_duplicates 10\n",
        "Ensembl_64_Sep_2011_GRCh37.p5_54345Genes_unique_only.txt sec_duplicates 461\n",
        "Ensembl_76_Aug_2014_GRCh38_63292Genes_unique_only.txt"
       ]
      },
      {
       "output_type": "stream",
       "stream": "stdout",
       "text": [
        " n_prim_key 63725\n",
        "Ensembl_76_Aug_2014_GRCh38_63292Genes_unique_only.txt n_sec_key 37550\n",
        "Ensembl_76_Aug_2014_GRCh38_63292Genes_unique_only.txt n_prim_unique 63263\n",
        "Ensembl_76_Aug_2014_GRCh38_63292Genes_unique_only.txt n_sec_unique 34184\n",
        "Ensembl_76_Aug_2014_GRCh38_63292Genes_unique_only.txt prim_duplicates 415\n",
        "Ensembl_76_Aug_2014_GRCh38_63292Genes_unique_only.txt sec_duplicates 1443\n",
        "HGNC_w_withdrawn_2014-09-09.txt"
       ]
      },
      {
       "output_type": "stream",
       "stream": "stdout",
       "text": [
        " n_prim_key 43187\n",
        "HGNC_w_withdrawn_2014-09-09.txt n_sec_key 33709\n",
        "HGNC_w_withdrawn_2014-09-09.txt n_prim_unique 43187\n",
        "HGNC_w_withdrawn_2014-09-09.txt n_sec_unique 33678\n",
        "HGNC_w_withdrawn_2014-09-09.txt prim_duplicates 0\n",
        "HGNC_w_withdrawn_2014-09-09.txt sec_duplicates 32\n",
        "HGNC_wo_withdrawn_2014-09-09.txt"
       ]
      },
      {
       "output_type": "stream",
       "stream": "stdout",
       "text": [
        " n_prim_key 39196\n",
        "HGNC_wo_withdrawn_2014-09-09.txt n_sec_key 33709\n",
        "HGNC_wo_withdrawn_2014-09-09.txt n_prim_unique 39196\n",
        "HGNC_wo_withdrawn_2014-09-09.txt n_sec_unique 33678\n",
        "HGNC_wo_withdrawn_2014-09-09.txt prim_duplicates 0\n",
        "HGNC_wo_withdrawn_2014-09-09.txt sec_duplicates 32\n"
       ]
      }
     ],
     "prompt_number": 19
    },
    {
     "cell_type": "code",
     "collapsed": false,
     "input": [],
     "language": "python",
     "metadata": {},
     "outputs": [
      {
       "metadata": {},
       "output_type": "pyout",
       "prompt_number": 8,
       "text": [
        "file"
       ]
      }
     ],
     "prompt_number": 8
    },
    {
     "cell_type": "code",
     "collapsed": false,
     "input": [],
     "language": "python",
     "metadata": {},
     "outputs": [],
     "prompt_number": 1
    },
    {
     "cell_type": "code",
     "collapsed": false,
     "input": [],
     "language": "python",
     "metadata": {},
     "outputs": [],
     "prompt_number": 1
    },
    {
     "cell_type": "code",
     "collapsed": false,
     "input": [],
     "language": "python",
     "metadata": {},
     "outputs": [],
     "prompt_number": 1
    },
    {
     "cell_type": "code",
     "collapsed": false,
     "input": [],
     "language": "python",
     "metadata": {},
     "outputs": [],
     "prompt_number": 1
    },
    {
     "cell_type": "code",
     "collapsed": false,
     "input": [],
     "language": "python",
     "metadata": {},
     "outputs": [],
     "prompt_number": 1
    },
    {
     "cell_type": "code",
     "collapsed": false,
     "input": [],
     "language": "python",
     "metadata": {},
     "outputs": []
    }
   ],
   "metadata": {}
  }
 ]
}