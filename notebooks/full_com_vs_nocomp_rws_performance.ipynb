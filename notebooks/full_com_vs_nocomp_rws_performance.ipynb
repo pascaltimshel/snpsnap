{
 "metadata": {
  "name": "",
  "signature": "sha256:57987e8a937bca87873caf9212f608c4c0fb098b803e3d2ce584d8006f40681a"
 },
 "nbformat": 3,
 "nbformat_minor": 0,
 "worksheets": [
  {
   "cells": [
    {
     "cell_type": "code",
     "collapsed": false,
     "input": [
      "import os\n",
      "import sys\n",
      "import pandas as pd\n",
      "import numpy as np\n",
      "os.getcwd()"
     ],
     "language": "python",
     "metadata": {},
     "outputs": [
      {
       "metadata": {},
       "output_type": "pyout",
       "prompt_number": 1,
       "text": [
        "'/Users/pascaltimshel/git/snpsnap/notebooks'"
       ]
      }
     ],
     "prompt_number": 1
    },
    {
     "cell_type": "code",
     "collapsed": false,
     "input": [
      "store_path_no_comp = '/Users/pascaltimshel/snpsnap/data/step3/ld0.5_db_no_compression.h5'\n",
      "store_path_comp = '/Users/pascaltimshel/snpsnap/data/step3/ld0.5_db.h5'"
     ],
     "language": "python",
     "metadata": {},
     "outputs": [],
     "prompt_number": 2
    },
    {
     "cell_type": "heading",
     "level": 1,
     "metadata": {},
     "source": [
      "NO compression"
     ]
    },
    {
     "cell_type": "code",
     "collapsed": false,
     "input": [
      "# Open NO compression store\n",
      "store_no_comp = pd.HDFStore(store_path_no_comp, 'r') #\n",
      "store_no_comp.get_storer('dummy').table # or store.root.dummy.table"
     ],
     "language": "python",
     "metadata": {},
     "outputs": [
      {
       "metadata": {},
       "output_type": "pyout",
       "prompt_number": 3,
       "text": [
        "/dummy/table (Table(9258511,)) ''\n",
        "  description := {\n",
        "  \"index\": StringCol(itemsize=12, shape=(), dflt='', pos=0),\n",
        "  \"rsID\": StringCol(itemsize=12, shape=(), dflt='', pos=1),\n",
        "  \"freq_bin\": Int64Col(shape=(), dflt=0, pos=2),\n",
        "  \"gene_count\": Int64Col(shape=(), dflt=0, pos=3),\n",
        "  \"dist_nearest_gene\": Int64Col(shape=(), dflt=0, pos=4)}\n",
        "  byteorder := 'little'\n",
        "  chunkshape := (5461,)\n",
        "  autoindex := True\n",
        "  colindexes := {\n",
        "    \"index\": Index(6, medium, shuffle, zlib(1)).is_csi=False,\n",
        "    \"rsID\": Index(6, medium, shuffle, zlib(1)).is_csi=False,\n",
        "    \"dist_nearest_gene\": Index(6, medium, shuffle, zlib(1)).is_csi=False,\n",
        "    \"gene_count\": Index(6, medium, shuffle, zlib(1)).is_csi=False,\n",
        "    \"freq_bin\": Index(6, medium, shuffle, zlib(1)).is_csi=False}"
       ]
      }
     ],
     "prompt_number": 3
    },
    {
     "cell_type": "code",
     "collapsed": false,
     "input": [
      "#%%timeit\n",
      "# read \n",
      "df_no_comp = store_no_comp.get('dummy') # OK!\n",
      "#1 loops, best of 3: 4.77 s per loop\n",
      "#1 loops, best of 3: 4.06 s per loop"
     ],
     "language": "python",
     "metadata": {},
     "outputs": [],
     "prompt_number": 4
    },
    {
     "cell_type": "heading",
     "level": 1,
     "metadata": {},
     "source": [
      "Compression"
     ]
    },
    {
     "cell_type": "code",
     "collapsed": false,
     "input": [
      "# Open COMPRESSION store\n",
      "store_comp = pd.HDFStore(store_path_comp, 'r') #\n",
      "store_comp.get_storer('dummy').table # or store.root.dummy.table"
     ],
     "language": "python",
     "metadata": {},
     "outputs": [
      {
       "metadata": {},
       "output_type": "pyout",
       "prompt_number": 25,
       "text": [
        "/dummy/table (Table(9258511,), shuffle, blosc(9)) ''\n",
        "  description := {\n",
        "  \"index\": StringCol(itemsize=12, shape=(), dflt='', pos=0),\n",
        "  \"rsID\": StringCol(itemsize=12, shape=(), dflt='', pos=1),\n",
        "  \"freq_bin\": Int64Col(shape=(), dflt=0, pos=2),\n",
        "  \"gene_count\": Int64Col(shape=(), dflt=0, pos=3),\n",
        "  \"dist_nearest_gene\": Int64Col(shape=(), dflt=0, pos=4)}\n",
        "  byteorder := 'little'\n",
        "  chunkshape := (5461,)\n",
        "  autoindex := True\n",
        "  colindexes := {\n",
        "    \"index\": Index(6, medium, shuffle, zlib(1)).is_csi=False,\n",
        "    \"rsID\": Index(6, medium, shuffle, zlib(1)).is_csi=False,\n",
        "    \"dist_nearest_gene\": Index(6, medium, shuffle, zlib(1)).is_csi=False,\n",
        "    \"gene_count\": Index(6, medium, shuffle, zlib(1)).is_csi=False,\n",
        "    \"freq_bin\": Index(6, medium, shuffle, zlib(1)).is_csi=False}"
       ]
      }
     ],
     "prompt_number": 25
    },
    {
     "cell_type": "code",
     "collapsed": false,
     "input": [
      "#%%timeit\n",
      "# read \n",
      "df_comp = store_comp.get('dummy') # OK!\n",
      "# 1 loops, best of 3: 4.76 s per loop\n",
      "# 1 loops, best of 3: 4.42 s per loop"
     ],
     "language": "python",
     "metadata": {},
     "outputs": [],
     "prompt_number": 6
    },
    {
     "cell_type": "code",
     "collapsed": false,
     "input": [],
     "language": "python",
     "metadata": {},
     "outputs": []
    },
    {
     "cell_type": "code",
     "collapsed": false,
     "input": [
      "print df_comp.head()\n",
      "print df_no_comp.head()"
     ],
     "language": "python",
     "metadata": {},
     "outputs": [
      {
       "output_type": "stream",
       "stream": "stdout",
       "text": [
        "                    rsID  freq_bin  gene_count  dist_nearest_gene\n",
        "snpID                                                            \n",
        "7:152288872  rs116944133         1           5               1146\n",
        "8:141975135  rs145218714         1           2              24474\n",
        "2:193432576   rs56039804         1           6              62069\n",
        "4:137049380  rs116089565         1           1               2316\n",
        "20:40585062  rs148676411         1           0              34718\n",
        "\n",
        "[5 rows x 4 columns]\n",
        "                    rsID  freq_bin  gene_count  dist_nearest_gene\n",
        "snpID                                                            \n",
        "7:152288872  rs116944133         1           5               1146\n",
        "8:141975135  rs145218714         1           2              24474\n",
        "2:193432576   rs56039804         1           6              62069\n",
        "4:137049380  rs116089565         1           1               2316\n",
        "20:40585062  rs148676411         1           0              34718\n",
        "\n",
        "[5 rows x 4 columns]\n"
       ]
      }
     ],
     "prompt_number": 10
    },
    {
     "cell_type": "heading",
     "level": 1,
     "metadata": {},
     "source": [
      "Testing query speed - comp vs no_comp"
     ]
    },
    {
     "cell_type": "code",
     "collapsed": false,
     "input": [
      "%%timeit\n",
      "i = 12345\n",
      "df = df_no_comp #abitrary\n",
      "#store_no_comp = pd.HDFStore(store_path_no_comp, 'r') #\n",
      "store_comp = pd.HDFStore(store_path_comp, 'r') #\n",
      "pfreq = df.ix[i,'freq_bin']\n",
      "pdensity = df.ix[i,'gene_count']\n",
      "pdist = df.ix[i,'dist_nearest_gene']\n",
      "\n",
      "query_prim_freq = '(freq_bin = %s)' % pfreq\n",
      "query_prim_density = '(gene_count = %s)' % pdensity\n",
      "query_prim_dist = '(dist_nearest_gene = %s)' % pdist\n",
      "\n",
      "query_prim = \"%s & %s & %s\" % (query_prim_freq, query_prim_density, query_prim_dist)\n",
      "#df_retrive = store_comp.select('dummy', query_prim, columns=[]).index # return no columns --> only index\n",
      "df_retrive = store_comp.select('dummy', query_prim)\n",
      "#df_retrive = store_comp.select('dummy', query_prim, columns=[]) # return no columns --> only index\n",
      "#df_retrive.head()\n",
      "print df_retrive\n",
      "print df_retrive.values"
     ],
     "language": "python",
     "metadata": {},
     "outputs": [
      {
       "output_type": "stream",
       "stream": "stdout",
       "text": [
        "                    rsID  freq_bin  gene_count  dist_nearest_gene\n",
        "snpID                                                            \n",
        "11:58979709  rs142542166         1          38               1617\n",
        "\n",
        "[1 rows x 4 columns]\n",
        "[['rs142542166' 1 38 1617]]\n",
        "                    rsID  freq_bin  gene_count  dist_nearest_gene\n",
        "snpID                                                            \n",
        "11:58979709  rs142542166         1          38               1617\n",
        "\n",
        "[1 rows x 4 columns]"
       ]
      },
      {
       "output_type": "stream",
       "stream": "stdout",
       "text": [
        "\n",
        "[['rs142542166' 1 38 1617]]\n",
        "                    rsID  freq_bin  gene_count  dist_nearest_gene\n",
        "snpID                                                            \n",
        "11:58979709  rs142542166         1          38               1617\n",
        "\n",
        "[1 rows x 4 columns]"
       ]
      },
      {
       "output_type": "stream",
       "stream": "stdout",
       "text": [
        "\n",
        "[['rs142542166' 1 38 1617]]\n",
        "                    rsID  freq_bin  gene_count  dist_nearest_gene\n",
        "snpID                                                            \n",
        "11:58979709  rs142542166         1          38               1617\n",
        "\n",
        "[1 rows x 4 columns]"
       ]
      },
      {
       "output_type": "stream",
       "stream": "stdout",
       "text": [
        "\n",
        "[['rs142542166' 1 38 1617]]\n",
        "1 loops, best of 3: 1.06 s per loop\n"
       ]
      }
     ],
     "prompt_number": 24
    },
    {
     "cell_type": "code",
     "collapsed": false,
     "input": [
      "i = 12345\n",
      "store_no_comp = pd.HDFStore(store_path_no_comp, 'r') #\n",
      "#store_comp = pd.HDFStore(store_path_comp, 'r') #\n",
      "pfreq = df.ix[i,'freq_bin']\n",
      "pdensity = df.ix[i,'gene_count']\n",
      "pdist = df.ix[i,'dist_nearest_gene']\n",
      "\n",
      "query_prim_freq = '(freq_bin = %s)' % pfreq\n",
      "query_prim_density = '(gene_count = %s)' % pdensity\n",
      "query_prim_dist = '(dist_nearest_gene = %s)' % pdist\n",
      "\n",
      "df_retrive = store_no_comp.select('dummy', '(dist_nearest_gene = %s)' % pdist) # return no columns --> only index\n",
      "#df_retrive = store_comp.select('dummy', query_prim, columns=[]) # return no columns --> only index\n",
      "df_retrive.head()"
     ],
     "language": "python",
     "metadata": {},
     "outputs": [
      {
       "html": [
        "<div style=\"max-height:1000px;max-width:1500px;overflow:auto;\">\n",
        "<table border=\"1\" class=\"dataframe\">\n",
        "  <thead>\n",
        "    <tr style=\"text-align: right;\">\n",
        "      <th></th>\n",
        "      <th>rsID</th>\n",
        "      <th>freq_bin</th>\n",
        "      <th>gene_count</th>\n",
        "      <th>dist_nearest_gene</th>\n",
        "    </tr>\n",
        "    <tr>\n",
        "      <th>snpID</th>\n",
        "      <th></th>\n",
        "      <th></th>\n",
        "      <th></th>\n",
        "      <th></th>\n",
        "    </tr>\n",
        "  </thead>\n",
        "  <tbody>\n",
        "    <tr>\n",
        "      <th>5:140085119</th>\n",
        "      <td>  rs73273325</td>\n",
        "      <td> 1</td>\n",
        "      <td> 20</td>\n",
        "      <td> 1617</td>\n",
        "    </tr>\n",
        "    <tr>\n",
        "      <th>6:157788639</th>\n",
        "      <td> rs146560934</td>\n",
        "      <td> 1</td>\n",
        "      <td>  3</td>\n",
        "      <td> 1617</td>\n",
        "    </tr>\n",
        "    <tr>\n",
        "      <th>11:58979709</th>\n",
        "      <td> rs142542166</td>\n",
        "      <td> 1</td>\n",
        "      <td> 38</td>\n",
        "      <td> 1617</td>\n",
        "    </tr>\n",
        "    <tr>\n",
        "      <th>8:14734949</th>\n",
        "      <td> rs117985497</td>\n",
        "      <td> 1</td>\n",
        "      <td>  0</td>\n",
        "      <td> 1617</td>\n",
        "    </tr>\n",
        "    <tr>\n",
        "      <th>7:6729477</th>\n",
        "      <td> rs113208188</td>\n",
        "      <td> 1</td>\n",
        "      <td>  3</td>\n",
        "      <td> 1617</td>\n",
        "    </tr>\n",
        "  </tbody>\n",
        "</table>\n",
        "<p>5 rows \u00d7 4 columns</p>\n",
        "</div>"
       ],
       "metadata": {},
       "output_type": "pyout",
       "prompt_number": 9,
       "text": [
        "                    rsID  freq_bin  gene_count  dist_nearest_gene\n",
        "snpID                                                            \n",
        "5:140085119   rs73273325         1          20               1617\n",
        "6:157788639  rs146560934         1           3               1617\n",
        "11:58979709  rs142542166         1          38               1617\n",
        "8:14734949   rs117985497         1           0               1617\n",
        "7:6729477    rs113208188         1           3               1617\n",
        "\n",
        "[5 rows x 4 columns]"
       ]
      }
     ],
     "prompt_number": 9
    },
    {
     "cell_type": "code",
     "collapsed": false,
     "input": [],
     "language": "python",
     "metadata": {},
     "outputs": [],
     "prompt_number": 1
    },
    {
     "cell_type": "code",
     "collapsed": false,
     "input": [],
     "language": "python",
     "metadata": {},
     "outputs": [],
     "prompt_number": 1
    },
    {
     "cell_type": "code",
     "collapsed": false,
     "input": [],
     "language": "python",
     "metadata": {},
     "outputs": [],
     "prompt_number": 1
    },
    {
     "cell_type": "code",
     "collapsed": false,
     "input": [],
     "language": "python",
     "metadata": {},
     "outputs": [],
     "prompt_number": 1
    },
    {
     "cell_type": "code",
     "collapsed": false,
     "input": [],
     "language": "python",
     "metadata": {},
     "outputs": [],
     "prompt_number": 1
    },
    {
     "cell_type": "code",
     "collapsed": false,
     "input": [],
     "language": "python",
     "metadata": {},
     "outputs": [],
     "prompt_number": 1
    },
    {
     "cell_type": "code",
     "collapsed": false,
     "input": [],
     "language": "python",
     "metadata": {},
     "outputs": [],
     "prompt_number": 1
    },
    {
     "cell_type": "code",
     "collapsed": false,
     "input": [],
     "language": "python",
     "metadata": {},
     "outputs": []
    }
   ],
   "metadata": {}
  }
 ]
}