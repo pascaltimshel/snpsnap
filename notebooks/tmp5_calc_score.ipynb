{
 "metadata": {
  "name": "",
  "signature": "sha256:e66d32db79c6ce6a5a7f408085946b86fbf570fe871062a5b27c558f1e83ba40"
 },
 "nbformat": 3,
 "nbformat_minor": 0,
 "worksheets": [
  {
   "cells": [
    {
     "cell_type": "code",
     "collapsed": false,
     "input": [
      "import os\n",
      "import sys\n",
      "import pandas as pd\n",
      "import numpy as np\n",
      "import time\n",
      "import gzip\n",
      "os.getcwd()"
     ],
     "language": "python",
     "metadata": {},
     "outputs": [
      {
       "metadata": {},
       "output_type": "pyout",
       "prompt_number": 1,
       "text": [
        "'/Users/pascaltimshel/git/snpsnap/notebooks'"
       ]
      }
     ],
     "prompt_number": 1
    },
    {
     "cell_type": "code",
     "collapsed": false,
     "input": [
      "file_h2 = \"/Users/pascaltimshel/snpsnap/data/query/height2/snps_few_matches.tab\""
     ],
     "language": "python",
     "metadata": {},
     "outputs": [],
     "prompt_number": 2
    },
    {
     "cell_type": "code",
     "collapsed": false,
     "input": [
      "df = pd.read_csv(file_h2, index_col=0, header=0, delim_whitespace=True)\n",
      "df.head()"
     ],
     "language": "python",
     "metadata": {},
     "outputs": [
      {
       "html": [
        "<div style=\"max-height:1000px;max-width:1500px;overflow:auto;\">\n",
        "<table border=\"1\" class=\"dataframe\">\n",
        "  <thead>\n",
        "    <tr style=\"text-align: right;\">\n",
        "      <th></th>\n",
        "      <th>rsID</th>\n",
        "      <th>freq_bin</th>\n",
        "      <th>gene_count</th>\n",
        "      <th>dist_nearest_gene</th>\n",
        "      <th>n_matches</th>\n",
        "    </tr>\n",
        "    <tr>\n",
        "      <th>snpID</th>\n",
        "      <th></th>\n",
        "      <th></th>\n",
        "      <th></th>\n",
        "      <th></th>\n",
        "      <th></th>\n",
        "    </tr>\n",
        "  </thead>\n",
        "  <tbody>\n",
        "    <tr>\n",
        "      <th>3:51192126</th>\n",
        "      <td>  rs4256170</td>\n",
        "      <td>  1</td>\n",
        "      <td> 55</td>\n",
        "      <td> 182181</td>\n",
        "      <td> 216</td>\n",
        "    </tr>\n",
        "    <tr>\n",
        "      <th>3:52831701</th>\n",
        "      <td>  rs2240919</td>\n",
        "      <td> 33</td>\n",
        "      <td> 40</td>\n",
        "      <td>   2917</td>\n",
        "      <td> 324</td>\n",
        "    </tr>\n",
        "    <tr>\n",
        "      <th>4:5016883</th>\n",
        "      <td> rs11722554</td>\n",
        "      <td>  4</td>\n",
        "      <td>  1</td>\n",
        "      <td>     12</td>\n",
        "      <td> 299</td>\n",
        "    </tr>\n",
        "    <tr>\n",
        "      <th>4:7055253</th>\n",
        "      <td>   rs868489</td>\n",
        "      <td> 23</td>\n",
        "      <td>  7</td>\n",
        "      <td>    173</td>\n",
        "      <td> 563</td>\n",
        "    </tr>\n",
        "    <tr>\n",
        "      <th>5:131585958</th>\n",
        "      <td>  rs7701414</td>\n",
        "      <td> 43</td>\n",
        "      <td> 26</td>\n",
        "      <td>  20707</td>\n",
        "      <td> 758</td>\n",
        "    </tr>\n",
        "  </tbody>\n",
        "</table>\n",
        "<p>5 rows \u00d7 5 columns</p>\n",
        "</div>"
       ],
       "metadata": {},
       "output_type": "pyout",
       "prompt_number": 6,
       "text": [
        "                   rsID  freq_bin  gene_count  dist_nearest_gene  n_matches\n",
        "snpID                                                                      \n",
        "3:51192126    rs4256170         1          55             182181        216\n",
        "3:52831701    rs2240919        33          40               2917        324\n",
        "4:5016883    rs11722554         4           1                 12        299\n",
        "4:7055253      rs868489        23           7                173        563\n",
        "5:131585958   rs7701414        43          26              20707        758\n",
        "\n",
        "[5 rows x 5 columns]"
       ]
      }
     ],
     "prompt_number": 6
    },
    {
     "cell_type": "code",
     "collapsed": false,
     "input": [
      "df.describe()"
     ],
     "language": "python",
     "metadata": {},
     "outputs": [
      {
       "html": [
        "<div style=\"max-height:1000px;max-width:1500px;overflow:auto;\">\n",
        "<table border=\"1\" class=\"dataframe\">\n",
        "  <thead>\n",
        "    <tr style=\"text-align: right;\">\n",
        "      <th></th>\n",
        "      <th>freq_bin</th>\n",
        "      <th>gene_count</th>\n",
        "      <th>dist_nearest_gene</th>\n",
        "      <th>n_matches</th>\n",
        "    </tr>\n",
        "  </thead>\n",
        "  <tbody>\n",
        "    <tr>\n",
        "      <th>count</th>\n",
        "      <td> 22.000000</td>\n",
        "      <td>  22.000000</td>\n",
        "      <td>     22.000000</td>\n",
        "      <td>  22.000000</td>\n",
        "    </tr>\n",
        "    <tr>\n",
        "      <th>mean</th>\n",
        "      <td> 20.909091</td>\n",
        "      <td>  24.590909</td>\n",
        "      <td>  11243.272727</td>\n",
        "      <td> 405.136364</td>\n",
        "    </tr>\n",
        "    <tr>\n",
        "      <th>std</th>\n",
        "      <td> 14.192248</td>\n",
        "      <td>  24.031050</td>\n",
        "      <td>  39003.874157</td>\n",
        "      <td> 248.308045</td>\n",
        "    </tr>\n",
        "    <tr>\n",
        "      <th>min</th>\n",
        "      <td>  1.000000</td>\n",
        "      <td>   1.000000</td>\n",
        "      <td>     12.000000</td>\n",
        "      <td>  43.000000</td>\n",
        "    </tr>\n",
        "    <tr>\n",
        "      <th>25%</th>\n",
        "      <td> 10.250000</td>\n",
        "      <td>   6.250000</td>\n",
        "      <td>     84.750000</td>\n",
        "      <td> 213.750000</td>\n",
        "    </tr>\n",
        "    <tr>\n",
        "      <th>50%</th>\n",
        "      <td> 18.500000</td>\n",
        "      <td>  17.500000</td>\n",
        "      <td>    321.000000</td>\n",
        "      <td> 324.000000</td>\n",
        "    </tr>\n",
        "    <tr>\n",
        "      <th>75%</th>\n",
        "      <td> 31.750000</td>\n",
        "      <td>  36.500000</td>\n",
        "      <td>   1280.000000</td>\n",
        "      <td> 594.500000</td>\n",
        "    </tr>\n",
        "    <tr>\n",
        "      <th>max</th>\n",
        "      <td> 48.000000</td>\n",
        "      <td> 104.000000</td>\n",
        "      <td> 182181.000000</td>\n",
        "      <td> 837.000000</td>\n",
        "    </tr>\n",
        "  </tbody>\n",
        "</table>\n",
        "<p>8 rows \u00d7 4 columns</p>\n",
        "</div>"
       ],
       "metadata": {},
       "output_type": "pyout",
       "prompt_number": 7,
       "text": [
        "        freq_bin  gene_count  dist_nearest_gene   n_matches\n",
        "count  22.000000   22.000000          22.000000   22.000000\n",
        "mean   20.909091   24.590909       11243.272727  405.136364\n",
        "std    14.192248   24.031050       39003.874157  248.308045\n",
        "min     1.000000    1.000000          12.000000   43.000000\n",
        "25%    10.250000    6.250000          84.750000  213.750000\n",
        "50%    18.500000   17.500000         321.000000  324.000000\n",
        "75%    31.750000   36.500000        1280.000000  594.500000\n",
        "max    48.000000  104.000000      182181.000000  837.000000\n",
        "\n",
        "[8 rows x 4 columns]"
       ]
      }
     ],
     "prompt_number": 7
    },
    {
     "cell_type": "code",
     "collapsed": false,
     "input": [
      "df.describe().ix['50%']['n_matches']"
     ],
     "language": "python",
     "metadata": {},
     "outputs": [
      {
       "metadata": {},
       "output_type": "pyout",
       "prompt_number": 11,
       "text": [
        "324.0"
       ]
      }
     ],
     "prompt_number": 11
    },
    {
     "cell_type": "code",
     "collapsed": false,
     "input": [
      "print len(df)\n",
      "print df.ix[:,'n_matches'].median()"
     ],
     "language": "python",
     "metadata": {},
     "outputs": [
      {
       "output_type": "stream",
       "stream": "stdout",
       "text": [
        "22\n",
        "324.0\n"
       ]
      }
     ],
     "prompt_number": 15
    },
    {
     "cell_type": "code",
     "collapsed": false,
     "input": [],
     "language": "python",
     "metadata": {},
     "outputs": [],
     "prompt_number": 2
    },
    {
     "cell_type": "code",
     "collapsed": false,
     "input": [],
     "language": "python",
     "metadata": {},
     "outputs": [],
     "prompt_number": 2
    },
    {
     "cell_type": "code",
     "collapsed": false,
     "input": [],
     "language": "python",
     "metadata": {},
     "outputs": [],
     "prompt_number": 2
    },
    {
     "cell_type": "code",
     "collapsed": false,
     "input": [],
     "language": "python",
     "metadata": {},
     "outputs": [],
     "prompt_number": 2
    },
    {
     "cell_type": "code",
     "collapsed": false,
     "input": [],
     "language": "python",
     "metadata": {},
     "outputs": [],
     "prompt_number": 2
    },
    {
     "cell_type": "code",
     "collapsed": false,
     "input": [],
     "language": "python",
     "metadata": {},
     "outputs": [],
     "prompt_number": 2
    },
    {
     "cell_type": "code",
     "collapsed": false,
     "input": [],
     "language": "python",
     "metadata": {},
     "outputs": [],
     "prompt_number": 2
    },
    {
     "cell_type": "code",
     "collapsed": false,
     "input": [],
     "language": "python",
     "metadata": {},
     "outputs": [],
     "prompt_number": 2
    },
    {
     "cell_type": "code",
     "collapsed": false,
     "input": [],
     "language": "python",
     "metadata": {},
     "outputs": [],
     "prompt_number": 2
    },
    {
     "cell_type": "code",
     "collapsed": false,
     "input": [],
     "language": "python",
     "metadata": {},
     "outputs": [],
     "prompt_number": 2
    },
    {
     "cell_type": "code",
     "collapsed": false,
     "input": [],
     "language": "python",
     "metadata": {},
     "outputs": []
    }
   ],
   "metadata": {}
  }
 ]
}