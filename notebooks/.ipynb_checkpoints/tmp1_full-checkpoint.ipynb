{
 "metadata": {
  "name": "",
  "signature": "sha256:f70b6103fffe2fbe8fae9448b4d3282ae2b93a24eae7ef4a91f7f43f14500cbd"
 },
 "nbformat": 3,
 "nbformat_minor": 0,
 "worksheets": []
}