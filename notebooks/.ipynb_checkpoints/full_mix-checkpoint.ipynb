{
 "metadata": {
  "name": "",
  "signature": "sha256:11fcbe6aceafc2bfd7fb30e718f490844e5600e6954b65f7802979a821c71c32"
 },
 "nbformat": 3,
 "nbformat_minor": 0,
 "worksheets": [
  {
   "cells": [
    {
     "cell_type": "code",
     "collapsed": false,
     "input": [
      "import os\n",
      "import sys\n",
      "import pandas as pd\n",
      "import numpy as np\n",
      "os.getcwd()"
     ],
     "language": "python",
     "metadata": {},
     "outputs": [
      {
       "metadata": {},
       "output_type": "pyout",
       "prompt_number": 1,
       "text": [
        "'/Users/pascaltimshel/git/snpsnap/notebooks'"
       ]
      }
     ],
     "prompt_number": 1
    },
    {
     "cell_type": "code",
     "collapsed": false,
     "input": [
      "store_path = '/Users/pascaltimshel/snpsnap/data/step3/1KGsnp_matrix_ld0.5.h5'"
     ],
     "language": "python",
     "metadata": {},
     "outputs": [],
     "prompt_number": 2
    },
    {
     "cell_type": "code",
     "collapsed": false,
     "input": [
      "store = pd.HDFStore(store_path, 'r') #\n",
      "#store.keys()\n",
      "store.get_storer('dummy').table # or store.root.dummy.table\n",
      "#store.get_node\n"
     ],
     "language": "python",
     "metadata": {},
     "outputs": [
      {
       "metadata": {},
       "output_type": "pyout",
       "prompt_number": 3,
       "text": [
        "/dummy/table (Table(9258511,)) ''\n",
        "  description := {\n",
        "  \"index\": StringCol(itemsize=12, shape=(), dflt='', pos=0),\n",
        "  \"values_block_0\": Int64Col(shape=(1,), dflt=0, pos=1),\n",
        "  \"values_block_1\": StringCol(itemsize=15, shape=(2,), dflt='', pos=2),\n",
        "  \"freq_bin\": Int64Col(shape=(), dflt=0, pos=3),\n",
        "  \"gene_count\": Int64Col(shape=(), dflt=0, pos=4)}\n",
        "  byteorder := 'little'\n",
        "  chunkshape := (3971,)\n",
        "  autoindex := True\n",
        "  colindexes := {\n",
        "    \"index\": Index(6, medium, shuffle, zlib(1)).is_csi=False,\n",
        "    \"freq_bin\": Index(6, medium, shuffle, zlib(1)).is_csi=False,\n",
        "    \"gene_count\": Index(6, medium, shuffle, zlib(1)).is_csi=False}"
       ]
      }
     ],
     "prompt_number": 3
    },
    {
     "cell_type": "code",
     "collapsed": false,
     "input": [
      "#store.close()\n",
      "#df = pd.read_hdf(store_path, 'dummy') # OK! but be opens store in append mode\n",
      "df = store.get('dummy') # OK!"
     ],
     "language": "python",
     "metadata": {},
     "outputs": [],
     "prompt_number": 4
    },
    {
     "cell_type": "code",
     "collapsed": false,
     "input": [
      "print df.get_dtype_counts()\n",
      "df.head()"
     ],
     "language": "python",
     "metadata": {},
     "outputs": [
      {
       "output_type": "stream",
       "stream": "stdout",
       "text": [
        "int64     3\n",
        "object    2\n",
        "dtype: int64\n"
       ]
      },
      {
       "html": [
        "<div style=\"max-height:1000px;max-width:1500px;overflow:auto;\">\n",
        "<table border=\"1\" class=\"dataframe\">\n",
        "  <thead>\n",
        "    <tr style=\"text-align: right;\">\n",
        "      <th></th>\n",
        "      <th>rsID</th>\n",
        "      <th>freq_bin</th>\n",
        "      <th>gene_count</th>\n",
        "      <th>dist_nearest_gene</th>\n",
        "      <th>ID_nearest_gene</th>\n",
        "    </tr>\n",
        "    <tr>\n",
        "      <th>snpID</th>\n",
        "      <th></th>\n",
        "      <th></th>\n",
        "      <th></th>\n",
        "      <th></th>\n",
        "      <th></th>\n",
        "    </tr>\n",
        "  </thead>\n",
        "  <tbody>\n",
        "    <tr>\n",
        "      <th>7:152288872</th>\n",
        "      <td> rs116944133</td>\n",
        "      <td> 1</td>\n",
        "      <td> 5</td>\n",
        "      <td>  1146</td>\n",
        "      <td> ENSG00000231139</td>\n",
        "    </tr>\n",
        "    <tr>\n",
        "      <th>8:141975135</th>\n",
        "      <td> rs145218714</td>\n",
        "      <td> 1</td>\n",
        "      <td> 2</td>\n",
        "      <td> 24474</td>\n",
        "      <td> ENSG00000252864</td>\n",
        "    </tr>\n",
        "    <tr>\n",
        "      <th>2:193432576</th>\n",
        "      <td>  rs56039804</td>\n",
        "      <td> 1</td>\n",
        "      <td> 6</td>\n",
        "      <td> 62069</td>\n",
        "      <td> ENSG00000229395</td>\n",
        "    </tr>\n",
        "    <tr>\n",
        "      <th>4:137049380</th>\n",
        "      <td> rs116089565</td>\n",
        "      <td> 1</td>\n",
        "      <td> 1</td>\n",
        "      <td>  2316</td>\n",
        "      <td> ENSG00000250665</td>\n",
        "    </tr>\n",
        "    <tr>\n",
        "      <th>20:40585062</th>\n",
        "      <td> rs148676411</td>\n",
        "      <td> 1</td>\n",
        "      <td> 0</td>\n",
        "      <td> 34718</td>\n",
        "      <td> ENSG00000225458</td>\n",
        "    </tr>\n",
        "  </tbody>\n",
        "</table>\n",
        "<p>5 rows \u00d7 5 columns</p>\n",
        "</div>"
       ],
       "metadata": {},
       "output_type": "pyout",
       "prompt_number": 5,
       "text": [
        "                    rsID  freq_bin  gene_count  dist_nearest_gene  \\\n",
        "snpID                                                               \n",
        "7:152288872  rs116944133         1           5               1146   \n",
        "8:141975135  rs145218714         1           2              24474   \n",
        "2:193432576   rs56039804         1           6              62069   \n",
        "4:137049380  rs116089565         1           1               2316   \n",
        "20:40585062  rs148676411         1           0              34718   \n",
        "\n",
        "             ID_nearest_gene  \n",
        "snpID                         \n",
        "7:152288872  ENSG00000231139  \n",
        "8:141975135  ENSG00000252864  \n",
        "2:193432576  ENSG00000229395  \n",
        "4:137049380  ENSG00000250665  \n",
        "20:40585062  ENSG00000225458  \n",
        "\n",
        "[5 rows x 5 columns]"
       ]
      }
     ],
     "prompt_number": 5
    },
    {
     "cell_type": "code",
     "collapsed": false,
     "input": [
      "df.columns\n",
      "#df.ix[:,'ID_nearest_gene']\n",
      "df_new = df.ix[:, ['dist_nearest_gene', 'ID_nearest_gene']]"
     ],
     "language": "python",
     "metadata": {},
     "outputs": [],
     "prompt_number": 6
    },
    {
     "cell_type": "code",
     "collapsed": false,
     "input": [
      "df_new.head()"
     ],
     "language": "python",
     "metadata": {},
     "outputs": [
      {
       "html": [
        "<div style=\"max-height:1000px;max-width:1500px;overflow:auto;\">\n",
        "<table border=\"1\" class=\"dataframe\">\n",
        "  <thead>\n",
        "    <tr style=\"text-align: right;\">\n",
        "      <th></th>\n",
        "      <th>dist_nearest_gene</th>\n",
        "      <th>ID_nearest_gene</th>\n",
        "    </tr>\n",
        "    <tr>\n",
        "      <th>snpID</th>\n",
        "      <th></th>\n",
        "      <th></th>\n",
        "    </tr>\n",
        "  </thead>\n",
        "  <tbody>\n",
        "    <tr>\n",
        "      <th>7:152288872</th>\n",
        "      <td>  1146</td>\n",
        "      <td> ENSG00000231139</td>\n",
        "    </tr>\n",
        "    <tr>\n",
        "      <th>8:141975135</th>\n",
        "      <td> 24474</td>\n",
        "      <td> ENSG00000252864</td>\n",
        "    </tr>\n",
        "    <tr>\n",
        "      <th>2:193432576</th>\n",
        "      <td> 62069</td>\n",
        "      <td> ENSG00000229395</td>\n",
        "    </tr>\n",
        "    <tr>\n",
        "      <th>4:137049380</th>\n",
        "      <td>  2316</td>\n",
        "      <td> ENSG00000250665</td>\n",
        "    </tr>\n",
        "    <tr>\n",
        "      <th>20:40585062</th>\n",
        "      <td> 34718</td>\n",
        "      <td> ENSG00000225458</td>\n",
        "    </tr>\n",
        "  </tbody>\n",
        "</table>\n",
        "<p>5 rows \u00d7 2 columns</p>\n",
        "</div>"
       ],
       "metadata": {},
       "output_type": "pyout",
       "prompt_number": 7,
       "text": [
        "             dist_nearest_gene  ID_nearest_gene\n",
        "snpID                                          \n",
        "7:152288872               1146  ENSG00000231139\n",
        "8:141975135              24474  ENSG00000252864\n",
        "2:193432576              62069  ENSG00000229395\n",
        "4:137049380               2316  ENSG00000250665\n",
        "20:40585062              34718  ENSG00000225458\n",
        "\n",
        "[5 rows x 2 columns]"
       ]
      }
     ],
     "prompt_number": 7
    },
    {
     "cell_type": "code",
     "collapsed": false,
     "input": [
      "df.drop(['ID_nearest_gene'], axis=1, inplace=True)"
     ],
     "language": "python",
     "metadata": {},
     "outputs": [],
     "prompt_number": 8
    },
    {
     "cell_type": "code",
     "collapsed": false,
     "input": [
      "df.head()\n",
      "df_new.head()"
     ],
     "language": "python",
     "metadata": {},
     "outputs": [
      {
       "html": [
        "<div style=\"max-height:1000px;max-width:1500px;overflow:auto;\">\n",
        "<table border=\"1\" class=\"dataframe\">\n",
        "  <thead>\n",
        "    <tr style=\"text-align: right;\">\n",
        "      <th></th>\n",
        "      <th>dist_nearest_gene</th>\n",
        "      <th>ID_nearest_gene</th>\n",
        "    </tr>\n",
        "    <tr>\n",
        "      <th>snpID</th>\n",
        "      <th></th>\n",
        "      <th></th>\n",
        "    </tr>\n",
        "  </thead>\n",
        "  <tbody>\n",
        "    <tr>\n",
        "      <th>7:152288872</th>\n",
        "      <td>  1146</td>\n",
        "      <td> ENSG00000231139</td>\n",
        "    </tr>\n",
        "    <tr>\n",
        "      <th>8:141975135</th>\n",
        "      <td> 24474</td>\n",
        "      <td> ENSG00000252864</td>\n",
        "    </tr>\n",
        "    <tr>\n",
        "      <th>2:193432576</th>\n",
        "      <td> 62069</td>\n",
        "      <td> ENSG00000229395</td>\n",
        "    </tr>\n",
        "    <tr>\n",
        "      <th>4:137049380</th>\n",
        "      <td>  2316</td>\n",
        "      <td> ENSG00000250665</td>\n",
        "    </tr>\n",
        "    <tr>\n",
        "      <th>20:40585062</th>\n",
        "      <td> 34718</td>\n",
        "      <td> ENSG00000225458</td>\n",
        "    </tr>\n",
        "  </tbody>\n",
        "</table>\n",
        "<p>5 rows \u00d7 2 columns</p>\n",
        "</div>"
       ],
       "metadata": {},
       "output_type": "pyout",
       "prompt_number": 9,
       "text": [
        "             dist_nearest_gene  ID_nearest_gene\n",
        "snpID                                          \n",
        "7:152288872               1146  ENSG00000231139\n",
        "8:141975135              24474  ENSG00000252864\n",
        "2:193432576              62069  ENSG00000229395\n",
        "4:137049380               2316  ENSG00000250665\n",
        "20:40585062              34718  ENSG00000225458\n",
        "\n",
        "[5 rows x 2 columns]"
       ]
      }
     ],
     "prompt_number": 9
    },
    {
     "cell_type": "code",
     "collapsed": false,
     "input": [],
     "language": "python",
     "metadata": {},
     "outputs": []
    },
    {
     "cell_type": "code",
     "collapsed": false,
     "input": [
      "#df.keys() #columns for DataFrame\n",
      "\n",
      "#http://pandas.pydata.org/pandas-docs/stable/basics.html#boolean-reductions\n",
      "(df.index == \"7:152288872\").any()\n",
      "(df.index == \"20:40585062\").any()\n"
     ],
     "language": "python",
     "metadata": {},
     "outputs": [
      {
       "metadata": {},
       "output_type": "pyout",
       "prompt_number": 18,
       "text": [
        "True"
       ]
      }
     ],
     "prompt_number": 18
    },
    {
     "cell_type": "code",
     "collapsed": false,
     "input": [],
     "language": "python",
     "metadata": {},
     "outputs": []
    },
    {
     "cell_type": "code",
     "collapsed": false,
     "input": [
      "query_margin_freq = '(freq_bin >= %s & freq_bin <= %s)' % (1, 30)\n",
      "query_margin_density = '(gene_count >= %s & gene_count <= %s)' % (2,5)\n",
      "query_margin_dist = '(dist_nearest_gene  >= %s & dist_nearest_gene  <= %s)' % (450, 500)\n",
      "\n",
      "query_margin = \"%s & %s & %s\" % (query_marging_dist, query_marging_freq, query_marging_density)\n",
      "#selB=store.select('ld05', '(matched_dist_to_nearest_gene <= 500 & matched_dist_to_nearest_gene >= 499)')\n",
      "selB=store.select('dummy', query_margin)\n",
      "\n",
      "selB.head(200)"
     ],
     "language": "python",
     "metadata": {},
     "outputs": [],
     "prompt_number": 1
    },
    {
     "cell_type": "code",
     "collapsed": false,
     "input": [
      "store.close()"
     ],
     "language": "python",
     "metadata": {},
     "outputs": [],
     "prompt_number": 1
    },
    {
     "cell_type": "code",
     "collapsed": false,
     "input": [
      "##1 len(df.index) ==> fastest\n",
      "##len(df)\n",
      "##df.shape[0]\n",
      "for i in xrange(len()):\n",
      "    print df.index[i]"
     ],
     "language": "python",
     "metadata": {},
     "outputs": [
      {
       "output_type": "stream",
       "stream": "stdout",
       "text": [
        "0\n",
        "1\n",
        "2\n",
        "3\n",
        "4\n",
        "5\n",
        "6\n",
        "7\n",
        "8\n",
        "9\n"
       ]
      }
     ],
     "prompt_number": 19
    },
    {
     "cell_type": "code",
     "collapsed": false,
     "input": [
      "len(df)"
     ],
     "language": "python",
     "metadata": {},
     "outputs": [
      {
       "metadata": {},
       "output_type": "pyout",
       "prompt_number": 21,
       "text": [
        "9258511"
       ]
      }
     ],
     "prompt_number": 21
    },
    {
     "cell_type": "code",
     "collapsed": false,
     "input": [],
     "language": "python",
     "metadata": {},
     "outputs": [],
     "prompt_number": 1
    },
    {
     "cell_type": "code",
     "collapsed": false,
     "input": [],
     "language": "python",
     "metadata": {},
     "outputs": []
    }
   ],
   "metadata": {}
  }
 ]
}