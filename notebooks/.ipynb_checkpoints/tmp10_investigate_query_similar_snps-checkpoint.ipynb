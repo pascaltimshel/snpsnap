{
 "metadata": {
  "name": "",
  "signature": "sha256:8795e694d56b3e5ce8e438d4f6e8e651a0bf587fa170046fcf058beb63061b56"
 },
 "nbformat": 3,
 "nbformat_minor": 0,
 "worksheets": [
  {
   "cells": [
    {
     "cell_type": "code",
     "collapsed": false,
     "input": [
      "import os\n",
      "import sys\n",
      "import pandas as pd\n",
      "import numpy as np\n",
      "import time\n",
      "os.getcwd()"
     ],
     "language": "python",
     "metadata": {},
     "outputs": [
      {
       "metadata": {},
       "output_type": "pyout",
       "prompt_number": 1,
       "text": [
        "'/Users/pascaltimshel/git/snpsnap/notebooks'"
       ]
      }
     ],
     "prompt_number": 1
    },
    {
     "cell_type": "code",
     "collapsed": false,
     "input": [
      "n_attempts=5"
     ],
     "language": "python",
     "metadata": {},
     "outputs": [],
     "prompt_number": 2
    },
    {
     "cell_type": "code",
     "collapsed": false,
     "input": [
      "max_freq_deviation=5\n",
      "max_genes_count_deviation=50\n",
      "max_distance_deviation=50\n",
      "max_ld_buddy_count_deviation=50"
     ],
     "language": "python",
     "metadata": {},
     "outputs": [],
     "prompt_number": 3
    },
    {
     "cell_type": "code",
     "collapsed": false,
     "input": [
      "######### example INPUT SNP #########\n",
      "\n",
      "# TAKEN FROM: first SNP in SNPsnap_rand500_Match2_10_10_10_n500_excludeInputHLA\n",
      "#snpID\trsID\tfreq_bin\tgene_count\tdist_nearest_gene_snpsnap\tfriends_ld05\n",
      "#1\t14:69873335\trs10131464\t1\t1\t8603\t0\n",
      "\n",
      "# TAKEN FROM: first SNP in SNPsnap_rand500_defaultMatchCrit_n500_excludeInputHLA\n",
      "#snpID\trsID\tfreq_bin\tgene_count\tdist_nearest_gene_snpsnap\tfriends_ld05\n",
      "#1\t14:69873335\trs10131464\t1\t1\t8603\t0\n",
      "freq_bin =\n",
      "gene_count =\n",
      "dist_nearest_gene_snpsnap = \n",
      "friends_ld05 ="
     ],
     "language": "python",
     "metadata": {},
     "outputs": []
    },
    {
     "cell_type": "code",
     "collapsed": false,
     "input": [
      "### Setting delta space ####\n",
      "delta_freq = np.rint(np.linspace(0,max_freq_deviation, n_attempts)).astype(int) # rounds to nearest integer and convert to int\n",
      "# OBS: delta_gene_count and delta_dist are in the range of [-1;1]\n",
      "delta_gene_count = np.linspace(0,max_genes_count_deviation, n_attempts)/float(100)\n",
      "if max_distance_deviation < 1:\n",
      "    logger.error( \"max_distance_deviation set to %s. Lowest possible max_distance_deviation is 1.\" % max_distance_deviation )\n",
      "    max_distance_deviation = 1\n",
      "delta_dist = np.linspace(1,max_distance_deviation, n_attempts)/float(100) # OBS distance deviation starts at 1 %\n",
      "delta_ld_buddy_count = np.linspace(0,max_ld_buddy_count_deviation, n_attempts)/float(100) # NEW\n",
      "\n",
      "print delta_freq\n",
      "print delta_gene_count\n",
      "print delta_dist\n",
      "print delta_ld_buddy_count\n"
     ],
     "language": "python",
     "metadata": {},
     "outputs": [
      {
       "output_type": "stream",
       "stream": "stdout",
       "text": [
        "[0 1 2 4 5]\n",
        "[ 0.     0.125  0.25   0.375  0.5  ]\n",
        "[ 0.01    0.1325  0.255   0.3775  0.5   ]\n",
        "[ 0.     0.125  0.25   0.375  0.5  ]\n"
       ]
      }
     ],
     "prompt_number": 8
    },
    {
     "cell_type": "code",
     "collapsed": false,
     "input": [
      "### Calculating low/high boundaries\n",
      "freq_low = np.repeat(freq, n_attempts) - delta_freq # ABSOLUTE DEVIATION\n",
      "freq_high = np.repeat(freq, n_attempts) + delta_freq # ABSOLUTE DEVIATION\n",
      "gene_count_low = np.repeat(gene_count, n_attempts)*(1-delta_gene_count)\n",
      "gene_count_high = np.repeat(gene_count, n_attempts)*(1+delta_gene_count)\n",
      "dist_low = np.repeat(dist, n_attempts)*(1-delta_dist)\n",
      "dist_high = np.repeat(dist, n_attempts)*(1+delta_dist)\n",
      "ld_buddy_count_low = np.repeat(ld_buddy_count, n_attempts)*(1-delta_ld_buddy_count)\n",
      "ld_buddy_count_high = np.repeat(ld_buddy_count, n_attempts)*(1+delta_ld_buddy_count)"
     ],
     "language": "python",
     "metadata": {},
     "outputs": [
      {
       "ename": "NameError",
       "evalue": "name 'freq' is not defined",
       "output_type": "pyerr",
       "traceback": [
        "\u001b[0;31m---------------------------------------------------------------------------\u001b[0m\n\u001b[0;31mNameError\u001b[0m                                 Traceback (most recent call last)",
        "\u001b[0;32m<ipython-input-9-0c0c22d375fe>\u001b[0m in \u001b[0;36m<module>\u001b[0;34m()\u001b[0m\n\u001b[1;32m      1\u001b[0m \u001b[0;31m### Calculating low/high boundaries\u001b[0m\u001b[0;34m\u001b[0m\u001b[0;34m\u001b[0m\u001b[0m\n\u001b[0;32m----> 2\u001b[0;31m \u001b[0mfreq_low\u001b[0m \u001b[0;34m=\u001b[0m \u001b[0mnp\u001b[0m\u001b[0;34m.\u001b[0m\u001b[0mrepeat\u001b[0m\u001b[0;34m(\u001b[0m\u001b[0mfreq\u001b[0m\u001b[0;34m,\u001b[0m \u001b[0mn_attempts\u001b[0m\u001b[0;34m)\u001b[0m \u001b[0;34m-\u001b[0m \u001b[0mdelta_freq\u001b[0m \u001b[0;31m# ABSOLUTE DEVIATION\u001b[0m\u001b[0;34m\u001b[0m\u001b[0m\n\u001b[0m\u001b[1;32m      3\u001b[0m \u001b[0mfreq_high\u001b[0m \u001b[0;34m=\u001b[0m \u001b[0mnp\u001b[0m\u001b[0;34m.\u001b[0m\u001b[0mrepeat\u001b[0m\u001b[0;34m(\u001b[0m\u001b[0mfreq\u001b[0m\u001b[0;34m,\u001b[0m \u001b[0mn_attempts\u001b[0m\u001b[0;34m)\u001b[0m \u001b[0;34m+\u001b[0m \u001b[0mdelta_freq\u001b[0m \u001b[0;31m# ABSOLUTE DEVIATION\u001b[0m\u001b[0;34m\u001b[0m\u001b[0m\n\u001b[1;32m      4\u001b[0m \u001b[0mgene_count_low\u001b[0m \u001b[0;34m=\u001b[0m \u001b[0mnp\u001b[0m\u001b[0;34m.\u001b[0m\u001b[0mrepeat\u001b[0m\u001b[0;34m(\u001b[0m\u001b[0mgene_count\u001b[0m\u001b[0;34m,\u001b[0m \u001b[0mn_attempts\u001b[0m\u001b[0;34m)\u001b[0m\u001b[0;34m*\u001b[0m\u001b[0;34m(\u001b[0m\u001b[0;36m1\u001b[0m\u001b[0;34m-\u001b[0m\u001b[0mdelta_gene_count\u001b[0m\u001b[0;34m)\u001b[0m\u001b[0;34m\u001b[0m\u001b[0m\n\u001b[1;32m      5\u001b[0m \u001b[0mgene_count_high\u001b[0m \u001b[0;34m=\u001b[0m \u001b[0mnp\u001b[0m\u001b[0;34m.\u001b[0m\u001b[0mrepeat\u001b[0m\u001b[0;34m(\u001b[0m\u001b[0mgene_count\u001b[0m\u001b[0;34m,\u001b[0m \u001b[0mn_attempts\u001b[0m\u001b[0;34m)\u001b[0m\u001b[0;34m*\u001b[0m\u001b[0;34m(\u001b[0m\u001b[0;36m1\u001b[0m\u001b[0;34m+\u001b[0m\u001b[0mdelta_gene_count\u001b[0m\u001b[0;34m)\u001b[0m\u001b[0;34m\u001b[0m\u001b[0m\n",
        "\u001b[0;31mNameError\u001b[0m: name 'freq' is not defined"
       ]
      }
     ],
     "prompt_number": 9
    },
    {
     "cell_type": "code",
     "collapsed": false,
     "input": [],
     "language": "python",
     "metadata": {},
     "outputs": [],
     "prompt_number": 0
    },
    {
     "cell_type": "code",
     "collapsed": false,
     "input": [],
     "language": "python",
     "metadata": {},
     "outputs": [],
     "prompt_number": 0
    },
    {
     "cell_type": "code",
     "collapsed": false,
     "input": [],
     "language": "python",
     "metadata": {},
     "outputs": [],
     "prompt_number": 0
    },
    {
     "cell_type": "code",
     "collapsed": false,
     "input": [],
     "language": "python",
     "metadata": {},
     "outputs": [],
     "prompt_number": 0
    },
    {
     "cell_type": "code",
     "collapsed": false,
     "input": [],
     "language": "python",
     "metadata": {},
     "outputs": []
    }
   ],
   "metadata": {}
  }
 ]
}