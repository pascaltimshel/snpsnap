{
 "metadata": {
  "name": "",
  "signature": "sha256:a1a935c57714da56210d3810266a1e4a10c3a483f029bea1bccc7b1149094ffb"
 },
 "nbformat": 3,
 "nbformat_minor": 0,
 "worksheets": [
  {
   "cells": [
    {
     "cell_type": "code",
     "collapsed": false,
     "input": [
      "import os\n",
      "import sys\n",
      "import pandas as pd\n",
      "import numpy as np\n",
      "import time\n",
      "import gzip\n",
      "os.getcwd()"
     ],
     "language": "python",
     "metadata": {},
     "outputs": [
      {
       "metadata": {},
       "output_type": "pyout",
       "prompt_number": 1,
       "text": [
        "'/Users/pascaltimshel/git/snpsnap/notebooks'"
       ]
      }
     ],
     "prompt_number": 1
    },
    {
     "cell_type": "code",
     "collapsed": false,
     "input": [],
     "language": "python",
     "metadata": {},
     "outputs": [],
     "prompt_number": 4
    },
    {
     "cell_type": "code",
     "collapsed": false,
     "input": [],
     "language": "python",
     "metadata": {},
     "outputs": [],
     "prompt_number": 4
    },
    {
     "cell_type": "code",
     "collapsed": false,
     "input": [],
     "language": "python",
     "metadata": {},
     "outputs": []
    },
    {
     "cell_type": "code",
     "collapsed": false,
     "input": [
      "#%%timeit\n",
      "start_time = time.time()\n",
      "file_tab = '/Users/pascaltimshel/snpsnap/data/step3/ld0.5_collection.tab.tar.bz2'\n",
      "df_prim_bz2 = pd.read_csv(file_tab, index_col=0, header=0, delim_whitespace=True, compression='bz2') #\n",
      "print time.time()-start_time"
     ],
     "language": "python",
     "metadata": {},
     "outputs": [
      {
       "output_type": "stream",
       "stream": "stdout",
       "text": [
        "71.4884700775\n"
       ]
      }
     ],
     "prompt_number": 19
    },
    {
     "cell_type": "code",
     "collapsed": false,
     "input": [
      "df_prim_bz2.head()"
     ],
     "language": "python",
     "metadata": {},
     "outputs": [
      {
       "html": [
        "<div style=\"max-height:1000px;max-width:1500px;overflow:auto;\">\n",
        "<table border=\"1\" class=\"dataframe\">\n",
        "  <thead>\n",
        "    <tr style=\"text-align: right;\">\n",
        "      <th></th>\n",
        "      <th>000765</th>\n",
        "      <th>000024</th>\n",
        "      <th>07675467705</th>\n",
        "      <th>12332262152</th>\n",
        "      <th>016651 0</th>\n",
        "      <th>000000</th>\n",
        "      <th>Unnamed: 7</th>\n",
        "      <th>rsID</th>\n",
        "      <th>freq_bin</th>\n",
        "      <th>gene_count</th>\n",
        "      <th>dist_nearest_gene</th>\n",
        "      <th>loci_upstream</th>\n",
        "      <th>loci_downstream</th>\n",
        "      <th>ID_nearest_gene</th>\n",
        "      <th>ID_genes_in_matched_locus</th>\n",
        "    </tr>\n",
        "    <tr>\n",
        "      <th>ld0.5_collection.tab</th>\n",
        "      <th></th>\n",
        "      <th></th>\n",
        "      <th></th>\n",
        "      <th></th>\n",
        "      <th></th>\n",
        "      <th></th>\n",
        "      <th></th>\n",
        "      <th></th>\n",
        "      <th></th>\n",
        "      <th></th>\n",
        "      <th></th>\n",
        "      <th></th>\n",
        "      <th></th>\n",
        "      <th></th>\n",
        "      <th></th>\n",
        "    </tr>\n",
        "  </thead>\n",
        "  <tbody>\n",
        "    <tr>\n",
        "      <th>7:152288872</th>\n",
        "      <td> rs116944133</td>\n",
        "      <td> 1</td>\n",
        "      <td> 5</td>\n",
        "      <td>  1146</td>\n",
        "      <td> 152278891</td>\n",
        "      <td> 152311029</td>\n",
        "      <td> ENSG00000231139</td>\n",
        "      <td> ENSG00000238557;ENSG00000199404;ENSG0000022541...</td>\n",
        "      <td>NaN</td>\n",
        "      <td>NaN</td>\n",
        "      <td>NaN</td>\n",
        "      <td>NaN</td>\n",
        "      <td>NaN</td>\n",
        "      <td>NaN</td>\n",
        "      <td>NaN</td>\n",
        "    </tr>\n",
        "    <tr>\n",
        "      <th>8:141975135</th>\n",
        "      <td> rs145218714</td>\n",
        "      <td> 1</td>\n",
        "      <td> 2</td>\n",
        "      <td> 24474</td>\n",
        "      <td> 141744806</td>\n",
        "      <td> 141975135</td>\n",
        "      <td> ENSG00000252864</td>\n",
        "      <td>                   ENSG00000169398;ENSG00000252864</td>\n",
        "      <td>NaN</td>\n",
        "      <td>NaN</td>\n",
        "      <td>NaN</td>\n",
        "      <td>NaN</td>\n",
        "      <td>NaN</td>\n",
        "      <td>NaN</td>\n",
        "      <td>NaN</td>\n",
        "    </tr>\n",
        "    <tr>\n",
        "      <th>2:193432576</th>\n",
        "      <td>  rs56039804</td>\n",
        "      <td> 1</td>\n",
        "      <td> 6</td>\n",
        "      <td> 62069</td>\n",
        "      <td> 193091144</td>\n",
        "      <td> 194418899</td>\n",
        "      <td> ENSG00000229395</td>\n",
        "      <td> ENSG00000226242;ENSG00000229395;ENSG0000023222...</td>\n",
        "      <td>NaN</td>\n",
        "      <td>NaN</td>\n",
        "      <td>NaN</td>\n",
        "      <td>NaN</td>\n",
        "      <td>NaN</td>\n",
        "      <td>NaN</td>\n",
        "      <td>NaN</td>\n",
        "    </tr>\n",
        "    <tr>\n",
        "      <th>4:137049380</th>\n",
        "      <td> rs116089565</td>\n",
        "      <td> 1</td>\n",
        "      <td> 1</td>\n",
        "      <td>  2316</td>\n",
        "      <td> 137048131</td>\n",
        "      <td> 137081024</td>\n",
        "      <td> ENSG00000250665</td>\n",
        "      <td>                                   ENSG00000250665</td>\n",
        "      <td>NaN</td>\n",
        "      <td>NaN</td>\n",
        "      <td>NaN</td>\n",
        "      <td>NaN</td>\n",
        "      <td>NaN</td>\n",
        "      <td>NaN</td>\n",
        "      <td>NaN</td>\n",
        "    </tr>\n",
        "    <tr>\n",
        "      <th>20:40585062</th>\n",
        "      <td> rs148676411</td>\n",
        "      <td> 1</td>\n",
        "      <td> 0</td>\n",
        "      <td> 34718</td>\n",
        "      <td>  40585062</td>\n",
        "      <td>  40585062</td>\n",
        "      <td> ENSG00000225458</td>\n",
        "      <td>                                               NaN</td>\n",
        "      <td>NaN</td>\n",
        "      <td>NaN</td>\n",
        "      <td>NaN</td>\n",
        "      <td>NaN</td>\n",
        "      <td>NaN</td>\n",
        "      <td>NaN</td>\n",
        "      <td>NaN</td>\n",
        "    </tr>\n",
        "  </tbody>\n",
        "</table>\n",
        "<p>5 rows \u00d7 15 columns</p>\n",
        "</div>"
       ],
       "metadata": {},
       "output_type": "pyout",
       "prompt_number": 20,
       "text": [
        "                           000765  000024  07675467705  12332262152  \\\n",
        "ld0.5_collection.tab                                                  \n",
        "7:152288872           rs116944133       1            5         1146   \n",
        "8:141975135           rs145218714       1            2        24474   \n",
        "2:193432576            rs56039804       1            6        62069   \n",
        "4:137049380           rs116089565       1            1         2316   \n",
        "20:40585062           rs148676411       1            0        34718   \n",
        "\n",
        "                       016651 0     000000       Unnamed: 7  \\\n",
        "ld0.5_collection.tab                                          \n",
        "7:152288872           152278891  152311029  ENSG00000231139   \n",
        "8:141975135           141744806  141975135  ENSG00000252864   \n",
        "2:193432576           193091144  194418899  ENSG00000229395   \n",
        "4:137049380           137048131  137081024  ENSG00000250665   \n",
        "20:40585062            40585062   40585062  ENSG00000225458   \n",
        "\n",
        "                                                                   rsID  \\\n",
        "ld0.5_collection.tab                                                      \n",
        "7:152288872           ENSG00000238557;ENSG00000199404;ENSG0000022541...   \n",
        "8:141975135                             ENSG00000169398;ENSG00000252864   \n",
        "2:193432576           ENSG00000226242;ENSG00000229395;ENSG0000023222...   \n",
        "4:137049380                                             ENSG00000250665   \n",
        "20:40585062                                                         NaN   \n",
        "\n",
        "                      freq_bin  gene_count  dist_nearest_gene  loci_upstream  \\\n",
        "ld0.5_collection.tab                                                           \n",
        "7:152288872                NaN         NaN                NaN            NaN   \n",
        "8:141975135                NaN         NaN                NaN            NaN   \n",
        "2:193432576                NaN         NaN                NaN            NaN   \n",
        "4:137049380                NaN         NaN                NaN            NaN   \n",
        "20:40585062                NaN         NaN                NaN            NaN   \n",
        "\n",
        "                      loci_downstream  ID_nearest_gene  \\\n",
        "ld0.5_collection.tab                                     \n",
        "7:152288872                       NaN              NaN   \n",
        "8:141975135                       NaN              NaN   \n",
        "2:193432576                       NaN              NaN   \n",
        "4:137049380                       NaN              NaN   \n",
        "20:40585062                       NaN              NaN   \n",
        "\n",
        "                      ID_genes_in_matched_locus  \n",
        "ld0.5_collection.tab                             \n",
        "7:152288872                                 NaN  \n",
        "8:141975135                                 NaN  \n",
        "2:193432576                                 NaN  \n",
        "4:137049380                                 NaN  \n",
        "20:40585062                                 NaN  \n",
        "\n",
        "[5 rows x 15 columns]"
       ]
      }
     ],
     "prompt_number": 20
    },
    {
     "cell_type": "code",
     "collapsed": false,
     "input": [
      "%%timeit\n",
      "file_tab = '/Users/pascaltimshel/snpsnap/data/step3/ld0.5_collection.tab'\n",
      "df_prim = pd.read_csv(file_tab, index_col=0, header=0, delim_whitespace=True)"
     ],
     "language": "python",
     "metadata": {},
     "outputs": [
      {
       "output_type": "stream",
       "stream": "stdout",
       "text": [
        "1 loops, best of 3: 24.6 s per loop\n"
       ]
      }
     ],
     "prompt_number": 13
    },
    {
     "cell_type": "code",
     "collapsed": false,
     "input": [
      "df_prim.head()"
     ],
     "language": "python",
     "metadata": {},
     "outputs": [
      {
       "html": [
        "<div style=\"max-height:1000px;max-width:1500px;overflow:auto;\">\n",
        "<table border=\"1\" class=\"dataframe\">\n",
        "  <thead>\n",
        "    <tr style=\"text-align: right;\">\n",
        "      <th></th>\n",
        "      <th>rsID</th>\n",
        "      <th>freq_bin</th>\n",
        "      <th>gene_count</th>\n",
        "      <th>dist_nearest_gene</th>\n",
        "    </tr>\n",
        "    <tr>\n",
        "      <th>snpID</th>\n",
        "      <th></th>\n",
        "      <th></th>\n",
        "      <th></th>\n",
        "      <th></th>\n",
        "    </tr>\n",
        "  </thead>\n",
        "  <tbody>\n",
        "    <tr>\n",
        "      <th>7:152288872</th>\n",
        "      <td> rs116944133</td>\n",
        "      <td> 1</td>\n",
        "      <td> 5</td>\n",
        "      <td>  1146</td>\n",
        "    </tr>\n",
        "    <tr>\n",
        "      <th>8:141975135</th>\n",
        "      <td> rs145218714</td>\n",
        "      <td> 1</td>\n",
        "      <td> 2</td>\n",
        "      <td> 24474</td>\n",
        "    </tr>\n",
        "    <tr>\n",
        "      <th>2:193432576</th>\n",
        "      <td>  rs56039804</td>\n",
        "      <td> 1</td>\n",
        "      <td> 6</td>\n",
        "      <td> 62069</td>\n",
        "    </tr>\n",
        "    <tr>\n",
        "      <th>4:137049380</th>\n",
        "      <td> rs116089565</td>\n",
        "      <td> 1</td>\n",
        "      <td> 1</td>\n",
        "      <td>  2316</td>\n",
        "    </tr>\n",
        "    <tr>\n",
        "      <th>20:40585062</th>\n",
        "      <td> rs148676411</td>\n",
        "      <td> 1</td>\n",
        "      <td> 0</td>\n",
        "      <td> 34718</td>\n",
        "    </tr>\n",
        "  </tbody>\n",
        "</table>\n",
        "<p>5 rows \u00d7 4 columns</p>\n",
        "</div>"
       ],
       "metadata": {},
       "output_type": "pyout",
       "prompt_number": 8,
       "text": [
        "                    rsID  freq_bin  gene_count  dist_nearest_gene\n",
        "snpID                                                            \n",
        "7:152288872  rs116944133         1           5               1146\n",
        "8:141975135  rs145218714         1           2              24474\n",
        "2:193432576   rs56039804         1           6              62069\n",
        "4:137049380  rs116089565         1           1               2316\n",
        "20:40585062  rs148676411         1           0              34718\n",
        "\n",
        "[5 rows x 4 columns]"
       ]
      }
     ],
     "prompt_number": 8
    },
    {
     "cell_type": "code",
     "collapsed": false,
     "input": [
      "file_tab = '/Users/pascaltimshel/snpsnap/data/step3/ld0.5_collection.tab.gz'\n",
      "f = gzip.open(file_tab, 'rb')\n",
      "print f"
     ],
     "language": "python",
     "metadata": {},
     "outputs": [
      {
       "output_type": "stream",
       "stream": "stdout",
       "text": [
        "<gzip open file '/Users/pascaltimshel/snpsnap/data/step3/ld0.5_collection.tab.gz', mode 'rb' at 0x110e539c0 0x110eb8f50>\n"
       ]
      }
     ],
     "prompt_number": 6
    },
    {
     "cell_type": "code",
     "collapsed": false,
     "input": [
      "df_prim_gz = pd.read_csv(f, index_col=0, header=0, delim_whitespace=True) #usecols=[0, 1, 2, 3, 4]\n",
      "f.close()"
     ],
     "language": "python",
     "metadata": {},
     "outputs": []
    },
    {
     "cell_type": "code",
     "collapsed": false,
     "input": [
      "df_prim_gz.head()"
     ],
     "language": "python",
     "metadata": {},
     "outputs": [
      {
       "ename": "NameError",
       "evalue": "name 'df_prim_gz' is not defined",
       "output_type": "pyerr",
       "traceback": [
        "\u001b[0;31m---------------------------------------------------------------------------\u001b[0m\n\u001b[0;31mNameError\u001b[0m                                 Traceback (most recent call last)",
        "\u001b[0;32m<ipython-input-3-7f8b48d162e6>\u001b[0m in \u001b[0;36m<module>\u001b[0;34m()\u001b[0m\n\u001b[0;32m----> 1\u001b[0;31m \u001b[0mdf_prim_gz\u001b[0m\u001b[0;34m.\u001b[0m\u001b[0mhead\u001b[0m\u001b[0;34m(\u001b[0m\u001b[0;34m)\u001b[0m\u001b[0;34m\u001b[0m\u001b[0m\n\u001b[0m",
        "\u001b[0;31mNameError\u001b[0m: name 'df_prim_gz' is not defined"
       ]
      }
     ],
     "prompt_number": 3
    },
    {
     "cell_type": "code",
     "collapsed": false,
     "input": [],
     "language": "python",
     "metadata": {},
     "outputs": [],
     "prompt_number": 0
    },
    {
     "cell_type": "code",
     "collapsed": false,
     "input": [],
     "language": "python",
     "metadata": {},
     "outputs": [],
     "prompt_number": 0
    },
    {
     "cell_type": "code",
     "collapsed": false,
     "input": [],
     "language": "python",
     "metadata": {},
     "outputs": []
    }
   ],
   "metadata": {}
  }
 ]
}