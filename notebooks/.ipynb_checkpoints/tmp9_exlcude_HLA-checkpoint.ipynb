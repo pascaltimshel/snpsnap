{
 "metadata": {
  "name": "",
  "signature": "sha256:49462601fe60b65963000699585ea98c9ad53c11c915b564ef1a72d2068e2b1b"
 },
 "nbformat": 3,
 "nbformat_minor": 0,
 "worksheets": [
  {
   "cells": [
    {
     "cell_type": "code",
     "collapsed": false,
     "input": [
      "import os\n",
      "import sys\n",
      "import pandas as pd\n",
      "import numpy as np\n",
      "import time\n",
      "import gzip\n",
      "import zlib\n",
      "os.getcwd()"
     ],
     "language": "python",
     "metadata": {},
     "outputs": [
      {
       "metadata": {},
       "output_type": "pyout",
       "prompt_number": 1,
       "text": [
        "'/Users/pascaltimshel/git/snpsnap/notebooks'"
       ]
      }
     ],
     "prompt_number": 1
    },
    {
     "cell_type": "code",
     "collapsed": false,
     "input": [
      "file_db = \"/Users/pascaltimshel/snpsnap/data/step3/1KG_snpsnap_production_v1_no_ld/ld0.5/ld0.5_db.h5\"\n",
      "store = pd.HDFStore(file_db, 'r')\n",
      "#store.root.dummy.table\n",
      "#df = store.select('dummy').ix[:100,]\n",
      "df = store.select('dummy')\n",
      "store.close()"
     ],
     "language": "python",
     "metadata": {},
     "outputs": [],
     "prompt_number": 5
    },
    {
     "cell_type": "code",
     "collapsed": false,
     "input": [],
     "language": "python",
     "metadata": {},
     "outputs": [],
     "prompt_number": 4
    },
    {
     "cell_type": "code",
     "collapsed": false,
     "input": [
      "#%%timeit\n",
      "c = 0\n",
      "for i in range(len(df)):\n",
      "#for i in range(1000):\n",
      "    snpID = df.index[i] # <type 'str'>\n",
      "    #print type(snpID)\n",
      "    split_list = snpID.split(\":\")\n",
      "    (snp_chr, snp_position) = ( int(split_list[0]), int(split_list[1]) ) # OBS: remember to convert to int!\n",
      "    #print \"type(snp_chr)=%s | type(snp_postion)=%s\" % ( type(snp_chr), type(snp_position) )\n",
      "    # exclude SNPs in the HLA region 6:25000000-6:35000000\n",
      "    if snp_chr == 6:\n",
      "        if 25000000 <= snp_position <= 35000000:\n",
      "            #print \"%s: found SNP to be excluded\" % snpID\n",
      "            print snpID\n",
      "            c += 1\n",
      "    if c==10: break\n",
      "\n",
      "## WITH SPLIT + IF --> 100 loops, best of 3: 3.68 ms per loop  \n",
      "## NO SPLIT --> 100 loops, best of 3: 2.15 ms per loop"
     ],
     "language": "python",
     "metadata": {},
     "outputs": [
      {
       "output_type": "stream",
       "stream": "stdout",
       "text": [
        "6:25040363\n",
        "6:25103079\n",
        "6:25167019\n",
        "6:25267678\n",
        "6:25267690\n",
        "6:25302188\n",
        "6:25313142\n",
        "6:25338491\n",
        "6:25357208\n",
        "6:25433135\n"
       ]
      }
     ],
     "prompt_number": 6
    },
    {
     "cell_type": "code",
     "collapsed": false,
     "input": [],
     "language": "python",
     "metadata": {},
     "outputs": [],
     "prompt_number": 0
    },
    {
     "cell_type": "code",
     "collapsed": false,
     "input": [],
     "language": "python",
     "metadata": {},
     "outputs": [],
     "prompt_number": 0
    },
    {
     "cell_type": "code",
     "collapsed": false,
     "input": [],
     "language": "python",
     "metadata": {},
     "outputs": [],
     "prompt_number": 0
    },
    {
     "cell_type": "code",
     "collapsed": false,
     "input": [],
     "language": "python",
     "metadata": {},
     "outputs": [],
     "prompt_number": 0
    },
    {
     "cell_type": "code",
     "collapsed": false,
     "input": [],
     "language": "python",
     "metadata": {},
     "outputs": [],
     "prompt_number": 0
    },
    {
     "cell_type": "code",
     "collapsed": false,
     "input": [],
     "language": "python",
     "metadata": {},
     "outputs": [],
     "prompt_number": 0
    },
    {
     "cell_type": "code",
     "collapsed": false,
     "input": [],
     "language": "python",
     "metadata": {},
     "outputs": [],
     "prompt_number": 0
    },
    {
     "cell_type": "code",
     "collapsed": false,
     "input": [],
     "language": "python",
     "metadata": {},
     "outputs": []
    }
   ],
   "metadata": {}
  }
 ]
}