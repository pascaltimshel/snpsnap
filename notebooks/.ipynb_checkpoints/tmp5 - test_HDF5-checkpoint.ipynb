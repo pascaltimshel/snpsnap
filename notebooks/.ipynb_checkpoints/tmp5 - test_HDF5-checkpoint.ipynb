{
 "metadata": {
  "name": "",
  "signature": "sha256:269e9874fb3bbe9f768607f0617bc13d0f6b1646edf415362b7377e35a9d2b5a"
 },
 "nbformat": 3,
 "nbformat_minor": 0,
 "worksheets": [
  {
   "cells": [
    {
     "cell_type": "code",
     "collapsed": false,
     "input": [
      "import os\n",
      "import sys\n",
      "import pandas as pd\n",
      "import numpy as np\n",
      "import time\n",
      "import gzip\n",
      "import zlib\n",
      "os.getcwd()"
     ],
     "language": "python",
     "metadata": {},
     "outputs": [
      {
       "metadata": {},
       "output_type": "pyout",
       "prompt_number": 6,
       "text": [
        "'/Users/pascaltimshel/git/snpsnap/notebooks'"
       ]
      }
     ],
     "prompt_number": 6
    },
    {
     "cell_type": "code",
     "collapsed": false,
     "input": [
      "file_tab = '/Users/pascaltimshel/snpsnap/data/step3/ld0.5/ld0.5_collection.tab'\n",
      "file_tab = '/Users/pascaltimshel/snpsnap/data/step3/ld0.5/test_col9_clean.tab'\n",
      "\n",
      "file_tab = '/Users/pascaltimshel/snpsnap/data/step3/ld0.5/test_col4_9.tab'"
     ],
     "language": "python",
     "metadata": {},
     "outputs": [],
     "prompt_number": 7
    },
    {
     "cell_type": "code",
     "collapsed": false,
     "input": [],
     "language": "python",
     "metadata": {},
     "outputs": [],
     "prompt_number": 5
    },
    {
     "cell_type": "code",
     "collapsed": false,
     "input": [],
     "language": "python",
     "metadata": {},
     "outputs": [],
     "prompt_number": 5
    },
    {
     "cell_type": "code",
     "collapsed": false,
     "input": [
      "#%%timeit\n",
      "start_time = time.time()\n",
      "df = pd.read_csv(file_tab, header=0, delim_whitespace=True) #usecols=[0, 1, 2, 3, 4]\n",
      "print time.time()-start_time"
     ],
     "language": "python",
     "metadata": {},
     "outputs": [
      {
       "output_type": "stream",
       "stream": "stdout",
       "text": [
        "5.0960381031\n"
       ]
      }
     ],
     "prompt_number": 8
    },
    {
     "cell_type": "code",
     "collapsed": false,
     "input": [
      "print len(df)\n",
      "df.head()"
     ],
     "language": "python",
     "metadata": {},
     "outputs": [
      {
       "output_type": "stream",
       "stream": "stdout",
       "text": [
        "9239613\n"
       ]
      },
      {
       "html": [
        "<div style=\"max-height:1000px;max-width:1500px;overflow:auto;\">\n",
        "<table border=\"1\" class=\"dataframe\">\n",
        "  <thead>\n",
        "    <tr style=\"text-align: right;\">\n",
        "      <th></th>\n",
        "      <th>gene_count</th>\n",
        "      <th>ID_genes_in_matched_locus</th>\n",
        "    </tr>\n",
        "  </thead>\n",
        "  <tbody>\n",
        "    <tr>\n",
        "      <th>0</th>\n",
        "      <td> 5</td>\n",
        "      <td> ENSG00000238557;ENSG00000199404;ENSG0000022541...</td>\n",
        "    </tr>\n",
        "    <tr>\n",
        "      <th>1</th>\n",
        "      <td> 2</td>\n",
        "      <td>                   ENSG00000169398;ENSG00000252864</td>\n",
        "    </tr>\n",
        "    <tr>\n",
        "      <th>2</th>\n",
        "      <td> 6</td>\n",
        "      <td> ENSG00000226242;ENSG00000229395;ENSG0000023222...</td>\n",
        "    </tr>\n",
        "    <tr>\n",
        "      <th>3</th>\n",
        "      <td> 1</td>\n",
        "      <td>                                   ENSG00000250665</td>\n",
        "    </tr>\n",
        "    <tr>\n",
        "      <th>4</th>\n",
        "      <td> 0</td>\n",
        "      <td>                                               NaN</td>\n",
        "    </tr>\n",
        "  </tbody>\n",
        "</table>\n",
        "<p>5 rows \u00d7 2 columns</p>\n",
        "</div>"
       ],
       "metadata": {},
       "output_type": "pyout",
       "prompt_number": 9,
       "text": [
        "   gene_count                          ID_genes_in_matched_locus\n",
        "0           5  ENSG00000238557;ENSG00000199404;ENSG0000022541...\n",
        "1           2                    ENSG00000169398;ENSG00000252864\n",
        "2           6  ENSG00000226242;ENSG00000229395;ENSG0000023222...\n",
        "3           1                                    ENSG00000250665\n",
        "4           0                                                NaN\n",
        "\n",
        "[5 rows x 2 columns]"
       ]
      }
     ],
     "prompt_number": 9
    },
    {
     "cell_type": "code",
     "collapsed": false,
     "input": [
      "def comp(elem):\n",
      "    return zlib.compress(str(elem))\n",
      "    "
     ],
     "language": "python",
     "metadata": {},
     "outputs": [],
     "prompt_number": 11
    },
    {
     "cell_type": "code",
     "collapsed": false,
     "input": [
      "start_time = time.time()\n",
      "\n",
      "df_work = df.ix[0:1000]\n",
      "#df_work = df\n",
      "\n",
      "df_work.ID_genes_in_matched_locus = df_work.ix[:,'ID_genes_in_matched_locus'].map(comp)\n",
      "df_work.head()\n",
      "\n",
      "print time.time()-start_time"
     ],
     "language": "python",
     "metadata": {},
     "outputs": [
      {
       "output_type": "stream",
       "stream": "stdout",
       "text": [
        "0.00900197029114\n"
       ]
      }
     ],
     "prompt_number": 12
    },
    {
     "cell_type": "code",
     "collapsed": false,
     "input": [
      "store = pd.HDFStore('store_test.h5', 'w') # 'w' is optional"
     ],
     "language": "python",
     "metadata": {},
     "outputs": [],
     "prompt_number": 13
    },
    {
     "cell_type": "code",
     "collapsed": false,
     "input": [
      "#store.put('dummy', df_work, format='table', data_columns=True, min_itemsize={'ID_genes_in_matched_locus':10}) #expectedrows=dataframe.shape[0], \n",
      "\n",
      "store.put('dummy', df_work, format='table')"
     ],
     "language": "python",
     "metadata": {},
     "outputs": [],
     "prompt_number": 14
    },
    {
     "cell_type": "code",
     "collapsed": false,
     "input": [
      "#df = store.get('dummy') # OK!"
     ],
     "language": "python",
     "metadata": {},
     "outputs": [],
     "prompt_number": 9
    },
    {
     "cell_type": "code",
     "collapsed": false,
     "input": [
      "#store.root.dummy.table\n",
      "store.get_storer('dummy').table"
     ],
     "language": "python",
     "metadata": {},
     "outputs": [
      {
       "metadata": {},
       "output_type": "pyout",
       "prompt_number": 15,
       "text": [
        "/dummy/table (Table(1001,)) ''\n",
        "  description := {\n",
        "  \"index\": Int64Col(shape=(), dflt=0, pos=0),\n",
        "  \"values_block_0\": Int64Col(shape=(1,), dflt=0, pos=1),\n",
        "  \"values_block_1\": StringCol(itemsize=433, shape=(1,), dflt='', pos=2)}\n",
        "  byteorder := 'little'\n",
        "  chunkshape := (145,)\n",
        "  autoindex := True\n",
        "  colindexes := {\n",
        "    \"index\": Index(6, medium, shuffle, zlib(1)).is_csi=False}"
       ]
      }
     ],
     "prompt_number": 15
    },
    {
     "cell_type": "code",
     "collapsed": false,
     "input": [
      "store.close()"
     ],
     "language": "python",
     "metadata": {},
     "outputs": [],
     "prompt_number": 16
    },
    {
     "cell_type": "code",
     "collapsed": false,
     "input": [
      "df.ix[0:i,'gene_count'].max() ### 174\n",
      "id_max = df.ix[0:i,'gene_count'].idxmax() ### 93026 \n",
      "df.ix[id_max]\n",
      "print len(df.ix[id_max].ID_genes_in_matched_locus)\n"
     ],
     "language": "python",
     "metadata": {},
     "outputs": [
      {
       "output_type": "stream",
       "stream": "stdout",
       "text": [
        "2495\n"
       ]
      }
     ],
     "prompt_number": 33
    },
    {
     "cell_type": "code",
     "collapsed": false,
     "input": [],
     "language": "python",
     "metadata": {},
     "outputs": []
    },
    {
     "cell_type": "code",
     "collapsed": false,
     "input": [],
     "language": "python",
     "metadata": {},
     "outputs": [],
     "prompt_number": 68
    },
    {
     "cell_type": "heading",
     "level": 1,
     "metadata": {},
     "source": [
      "Reading store"
     ]
    },
    {
     "cell_type": "code",
     "collapsed": false,
     "input": [
      "path_store = 'store_test_full_comp_complete.h5' ## does not uncompress!\n",
      "#path_store = 'store_test_100k.h5'\n",
      "#path_store = 'store_test_1k_comp.h5'"
     ],
     "language": "python",
     "metadata": {},
     "outputs": [],
     "prompt_number": 23
    },
    {
     "cell_type": "code",
     "collapsed": false,
     "input": [
      "store = pd.HDFStore(path_store, 'r')"
     ],
     "language": "python",
     "metadata": {},
     "outputs": [],
     "prompt_number": 24
    },
    {
     "cell_type": "code",
     "collapsed": false,
     "input": [
      "df_read = store.get('dummy')"
     ],
     "language": "python",
     "metadata": {},
     "outputs": [],
     "prompt_number": 25
    },
    {
     "cell_type": "code",
     "collapsed": false,
     "input": [
      "df_read.head()"
     ],
     "language": "python",
     "metadata": {},
     "outputs": [
      {
       "html": [
        "<div style=\"max-height:1000px;max-width:1500px;overflow:auto;\">\n",
        "<table border=\"1\" class=\"dataframe\">\n",
        "  <thead>\n",
        "    <tr style=\"text-align: right;\">\n",
        "      <th></th>\n",
        "      <th>gene_count</th>\n",
        "      <th>ID_genes_in_matched_locus</th>\n",
        "    </tr>\n",
        "  </thead>\n",
        "  <tbody>\n",
        "    <tr>\n",
        "      <th>0</th>\n",
        "      <td> 5</td>\n",
        "      <td> x\ufffd\u0001G\u0000\ufffd\ufffdx\ufffd\u0001&lt;\u0000\ufffd\ufffdx\ufffd\ufffd\ufffdS\ufffd\ufffd\ufffd\u031c\ufffdQ9\ufffd;8\ufffd8;\\\ufffd\ufffd\ufffdK\ufffd\ufffd\u001c",
        "`9hndd...</td>\n",
        "    </tr>\n",
        "    <tr>\n",
        "      <th>1</th>\n",
        "      <td> 2</td>\n",
        "      <td> x\ufffd\u00012\u0000\ufffd\ufffdx\ufffd\u0001'\u0000\ufffd\ufffdx\ufffd\ufffd\ufffdS\ufffd\ufffd\ufffd\u031c\ufffd\ufffd\ufffd\ufffd;\u065b;;\\\ufffd\ufffd\ufffd+'\u000e\ufffdaa(\u0016f\ufffd\\...</td>\n",
        "    </tr>\n",
        "    <tr>\n",
        "      <th>2</th>\n",
        "      <td> 6</td>\n",
        "      <td> x\ufffd\u0001H\u0000\ufffd\ufffdx\ufffd\u0001=\u0000\ufffd\ufffdx\ufffd\ufffd\ufffdS\ufffd\ufffd\ufffd\u031c\ufffdQY\ufffdXYX9;\ufffd\ufffd\ufffd\ufffd\u001b\ufffdD:\ufffdsRRR\ufffd...</td>\n",
        "    </tr>\n",
        "    <tr>\n",
        "      <th>3</th>\n",
        "      <td> 1</td>\n",
        "      <td>     x\ufffd\u0001%\u0000\ufffd\ufffdx\ufffd\ufffd\ufffd\ufffdzF\ud83e\ude7b\ufffd\ufffdi\f",
        "\ufffd\ufffdq\ufffd\ufffd\f",
        "\ufffd4\ufffdb\\t\u0006\ufffd`\ufffd&lt;\u0000\ufffdJ\f",
        "\ufffdc\u0013\u0006</td>\n",
        "    </tr>\n",
        "    <tr>\n",
        "      <th>4</th>\n",
        "      <td> 0</td>\n",
        "      <td>             x\ufffd\ufffd\ufffd\ufffdz\ufffd\ufffd*\ufffd\ufffdk\ufffd\ufffd\u001c",
        ";spWw\ufffdd\u0296\ufffd\ufffd\f",
        "\f",
        "aV\ufffd*\u0000\ufffdr\\r}</td>\n",
        "    </tr>\n",
        "  </tbody>\n",
        "</table>\n",
        "<p>5 rows \u00d7 2 columns</p>\n",
        "</div>"
       ],
       "metadata": {},
       "output_type": "pyout",
       "prompt_number": 26,
       "text": [
        "   gene_count                          ID_genes_in_matched_locus\n",
        "0           5  x\ufffd\u0001G\u0000\ufffd\ufffdx\ufffd\u0001<\u0000\ufffd\ufffdx\ufffd\ufffd\ufffdS\ufffd\ufffd\ufffd\u031c\ufffdQ9\ufffd;8\ufffd8;\\\ufffd\ufffd\ufffdK\ufffd\ufffd\u001c",
        "`9hndd...\n",
        "1           2  x\ufffd\u00012\u0000\ufffd\ufffdx\ufffd\u0001'\u0000\ufffd\ufffdx\ufffd\ufffd\ufffdS\ufffd\ufffd\ufffd\u031c\ufffd\ufffd\ufffd\ufffd;\u065b;;\\\ufffd\ufffd\ufffd+'\u000e\ufffdaa(\u0016f\ufffd\\...\n",
        "2           6  x\ufffd\u0001H\u0000\ufffd\ufffdx\ufffd\u0001=\u0000\ufffd\ufffdx\ufffd\ufffd\ufffdS\ufffd\ufffd\ufffd\u031c\ufffdQY\ufffdXYX9;\ufffd\ufffd\ufffd\ufffd\u001b\ufffdD:\ufffdsRRR\ufffd...\n",
        "3           1      x\ufffd\u0001%\u0000\ufffd\ufffdx\ufffd\ufffd\ufffd\ufffdzF\ud83e\ude7b\ufffd\ufffdi\f",
        "\ufffd\ufffdq\ufffd\ufffd\f",
        "\ufffd4\ufffdb\\t\u0006\ufffd`\ufffd<\u0000\ufffdJ\f",
        "\ufffdc\u0013\u0006\n",
        "4           0              x\ufffd\ufffd\ufffd\ufffdz\ufffd\ufffd*\ufffd\ufffdk\ufffd\ufffd\u001c",
        ";spWw\ufffdd\u0296\ufffd\ufffd\f",
        "\f",
        "aV\ufffd*\u0000\ufffdr\\r}\n",
        "\n",
        "[5 rows x 2 columns]"
       ]
      }
     ],
     "prompt_number": 26
    },
    {
     "cell_type": "code",
     "collapsed": false,
     "input": [
      "df_read_convert = df_read"
     ],
     "language": "python",
     "metadata": {},
     "outputs": [],
     "prompt_number": 75
    },
    {
     "cell_type": "code",
     "collapsed": false,
     "input": [
      "def uncomp(elem):\n",
      "    return zlib.decompress(elem)"
     ],
     "language": "python",
     "metadata": {},
     "outputs": [],
     "prompt_number": 27
    },
    {
     "cell_type": "code",
     "collapsed": false,
     "input": [
      "df_read[1:100].ID_genes_in_matched_locus.map(uncomp)"
     ],
     "language": "python",
     "metadata": {},
     "outputs": [
      {
       "metadata": {},
       "output_type": "pyout",
       "prompt_number": 28,
       "text": [
        "1       x\ufffd\u0001'\u0000\ufffd\ufffdx\ufffd\ufffd\ufffdS\ufffd\ufffd\ufffd\u031c\ufffd\ufffd\ufffd\ufffd;\u065b;;\\\ufffd\ufffd\ufffd+'\u000e\ufffdaa(\u0016f\ufffd\\n\u0000\ufffd1\u000b",
        "\u0e20\u0013\ufffd\n",
        "2     x\ufffd\u0001=\u0000\ufffd\ufffdx\ufffd\ufffd\ufffdS\ufffd\ufffd\ufffd\u031c\ufffdQY\ufffdXYX9;\ufffd\ufffd\ufffd\ufffd\u001b\ufffdD:\ufffdsRRR\ufffd\u0398\ufffd\u001amq\b\ufffd...\n",
        "3                   x\ufffd\ufffd\ufffd\ufffdzF\ud83e\ude7b\ufffd\ufffdi\f",
        "\ufffd\ufffdq\ufffd\ufffd\f",
        "\ufffd4\ufffdb\\t\u0006\ufffd`\ufffd<\u0000\ufffdJ\f",
        "\ufffd\n",
        "4                           x\ufffd\ufffd\ufffd\ufffdzF\ufffd\ufffd<\ufffd\ufffd\ufffd\ufffd\ufffde\u0019d\ufffd\ufffdw\u0000\u0000V:\u0007$\n",
        "5                      x\ufffd\ufffd\ufffd\ufffdzF\ud83e\ude7b\ufffd\ufffdi\f",
        "\ufffd\ufffd\ufffd\ufffd\u0011=\ufffd1\u0370\u0604\ufffd\u054d\ufffd\u0017\u0000\ufffd|\f",
        "a\n",
        "6                           x\ufffd\ufffd\ufffd\ufffdzF\ufffd\ufffd<\ufffd\ufffd\ufffd\ufffd\ufffde\u0019d\ufffd\ufffdw\u0000\u0000V:\u0007$\n",
        "7                           x\ufffd\ufffd\ufffd\ufffdzF\ufffd\ufffd<\ufffd\ufffd\ufffd\ufffd\ufffde\u0019d\ufffd\ufffdw\u0000\u0000V:\u0007$\n",
        "8                           x\ufffd\ufffd\ufffd\ufffdzF\ufffd\ufffd<\ufffd\ufffd\ufffd\ufffd\ufffde\u0019d\ufffd\ufffdw\u0000\u0000V:\u0007$\n",
        "9                 x\ufffd\u0001\u001c",
        "\u0000\ufffd\ufffdx\ufffd\ufffd\ufffdS\ufffd\ufffd\ufffd\u031c\ufffd\ufffd\ufffd\ufffd\u0619Y\ufffdAf6s0\u0000D\ufffd\u0005]\ufffd\ufffd\u000e\ufffd\n",
        "10    x\ufffd\u0001-\u0000\ufffd\ufffdx\ufffd\ufffd\ufffdS\ufffd\ufffd\ufffd\u031c\ufffdQ\ufffdY8\ufffd\ufffd9;\\\ufffd\ufffd\ufffd\u000b",
        "\u0007\ufffdf\ufffd$\ufffd%\ufffd00\ufffd\ufffd\ufffd\u0001\u0000\ufffd...\n",
        "11    x\ufffd\u0001P\u0000\ufffd\ufffdx\ufffd\u0001E\u0000\ufffd\ufffdx\ufffd]\ufffd;\u0012\ufffd \f",
        "D\ufffd\u0014\ufffd<\u0002c\ufffd\ufffd\ufffdx\ufffd\ufffd\ufffd\ufffdd\ufffd\ufffd\ufffdo^\ufffdi...\n",
        "12    x\ufffd\u00013\u0000\ufffd\ufffdx\ufffd\ufffd\ufffdS\ufffd\ufffd\ufffd\u031c\ufffdQY\u061b\ufffd\ufffd8;\ufffd\ufffd\ufffd\ufffd\u000378:\ufffd3\ufffd\u00122\u0012\ufffdt\ufffd3r\u0012\u0018\u0018...\n",
        "13    x\ufffd\u0001G\u0000\ufffd\ufffdx\ufffd\u0001<\u0000\ufffd\ufffdx\ufffds\ufffd\u000b",
        "v7\u0000\u0001#\u0003Ss3skW\u0018\ufffd\ufffd\ufffd\ufffd\ufffd\ufffd\u0000\ufffd72\ufffd\ufffd41...\n",
        "14    x\ufffd\u0001O\u0000\ufffd\ufffdx\ufffd\u0001D\u0000\ufffd\ufffdx\ufffds\ufffd\u000b",
        "v7\u0000\u0001#\u0010\ufffd\ufffdv\ufffd\ufffd-,\ufffd-\u0010|CsKC3d\ufffd\ufffd\ufffd\ufffd...\n",
        "15                          x\ufffd\ufffd\ufffd\ufffdzF\ufffd\ufffd<\ufffd\ufffd\ufffd\ufffd\ufffde\u0019d\ufffd\ufffdw\u0000\u0000V:\u0007$\n",
        "...\n",
        "85                          x\ufffd\ufffd\ufffd\ufffdzF\ufffd\ufffd<\ufffd\ufffd\ufffd\ufffd\ufffde\u0019d\ufffd\ufffdw\u0000\u0000V:\u0007$\n",
        "86    x\ufffd\u0001a\u0000\ufffd\ufffdx\ufffd\u0001V\u0000\ufffd\ufffdx\ufffdU\ufffd\ufffd\\r\ufffd0\f",
        "\u0003W\ufffd/\\n\ufffd\ufffdti\ufffd\ufffd.A*\ufffd\ufffd\u000eG\ufffdZ\ufffd...\n",
        "87                          x\ufffd\ufffd\ufffd\ufffdzF\ufffd\ufffd<\ufffd\ufffd\ufffd\ufffd\ufffde\u0019d\ufffd\ufffdw\u0000\u0000V:\u0007$\n",
        "88                          x\ufffd\ufffd\ufffd\ufffdzF\ufffd\ufffd<\ufffd\ufffd\ufffd\ufffd\ufffde\u0019d\ufffd\ufffdw\u0000\u0000V:\u0007$\n",
        "89                          x\ufffd\ufffd\ufffd\ufffdzF\ufffd\ufffd<\ufffd\ufffd\ufffd\ufffd\ufffde\u0019d\ufffd\ufffdw\u0000\u0000V:\u0007$\n",
        "90    x\ufffd\u0001`\u0000\ufffd\ufffdx\ufffd\u0001U\u0000\ufffd\ufffdx\ufffd]\ufffd\ufffd\\r\ufffd@\f",
        "\u0003W\ufffd\u001d",
        "\ufffdID\ufffd\ufffd\ufffda\ufffd]\u0010\u0005\"\ufffd\ufffd\u04dd<\ufffd\ufffd...\n",
        "91                 x\ufffd\u0001\u001c",
        "\u0000\ufffd\ufffdx\ufffd\ufffd\ufffdS\ufffd\ufffd\ufffd\u031c\ufffd\u0459;\ufffd\u0679\ufffdA\ufffd\ufffd9\u0018\u0000G\ufffd\u0005\ufffd\ufffdF\u000fv\n",
        "92                          x\ufffd\ufffd\ufffd\ufffdzF\ufffd\ufffd<\ufffd\ufffd\ufffd\ufffd\ufffde\u0019d\ufffd\ufffdw\u0000\u0000V:\u0007$\n",
        "93                          x\ufffd\ufffd\ufffd\ufffdzF\ufffd\ufffd<\ufffd\ufffd\ufffd\ufffd\ufffde\u0019d\ufffd\ufffdw\u0000\u0000V:\u0007$\n",
        "94                          x\ufffd\ufffd\ufffd\ufffdzF\ufffd\ufffd<\ufffd\ufffd\ufffd\ufffd\ufffde\u0019d\ufffd\ufffdw\u0000\u0000V:\u0007$\n",
        "95                          x\ufffd\ufffd\ufffd\ufffdzF\ufffd\ufffd<\ufffd\ufffd\ufffd\ufffd\ufffde\u0019d\ufffd\ufffdw\u0000\u0000V:\u0007$\n",
        "96                          x\ufffd\ufffd\ufffd\ufffdzF\ufffd\ufffd<\ufffd\ufffd\ufffd\ufffd\ufffde\u0019d\ufffd\ufffdw\u0000\u0000V:\u0007$\n",
        "97    x\ufffd\u0001'\u0000\ufffd\ufffdx\ufffd\ufffd\ufffdS\ufffd\ufffd\ufffd\u031c\ufffdQ\ufffdYY\ufffdY8;\\\ufffd\ufffd\ufffd#\ufffdn\ufffd\ufffd`(\ufffdc\ufffd\u0006\u0000\ufffd\ufffd\u000b",
        ":\ufffd\ufffd\u0013D\n",
        "98    x\ufffd\u0001/\u0000\ufffd\ufffdx\ufffd\ufffd\ufffdS\ufffd\ufffd\ufffd\u031c\ufffdQ\ufffd98X\ufffd;;\\\ufffd\ufffd\ufffd3w\u000e\\b:hn\ufffd}\u00c6-\f",
        "\f",
        "\ufffd9\\...\n",
        "99                          x\ufffd\ufffd\ufffd\ufffdzF\ufffd\ufffd<\ufffd\ufffd\ufffd\ufffd\ufffde\u0019d\ufffd\ufffdw\u0000\u0000V:\u0007$\n",
        "Name: ID_genes_in_matched_locus, Length: 99, dtype: object"
       ]
      }
     ],
     "prompt_number": 28
    },
    {
     "cell_type": "code",
     "collapsed": false,
     "input": [],
     "language": "python",
     "metadata": {},
     "outputs": [],
     "prompt_number": 68
    },
    {
     "cell_type": "code",
     "collapsed": false,
     "input": [],
     "language": "python",
     "metadata": {},
     "outputs": [],
     "prompt_number": 68
    },
    {
     "cell_type": "code",
     "collapsed": false,
     "input": [],
     "language": "python",
     "metadata": {},
     "outputs": [],
     "prompt_number": 68
    },
    {
     "cell_type": "code",
     "collapsed": false,
     "input": [],
     "language": "python",
     "metadata": {},
     "outputs": [],
     "prompt_number": 68
    },
    {
     "cell_type": "code",
     "collapsed": false,
     "input": [],
     "language": "python",
     "metadata": {},
     "outputs": [],
     "prompt_number": 68
    },
    {
     "cell_type": "code",
     "collapsed": false,
     "input": [],
     "language": "python",
     "metadata": {},
     "outputs": [],
     "prompt_number": 68
    },
    {
     "cell_type": "code",
     "collapsed": false,
     "input": [],
     "language": "python",
     "metadata": {},
     "outputs": [],
     "prompt_number": 68
    },
    {
     "cell_type": "code",
     "collapsed": false,
     "input": [],
     "language": "python",
     "metadata": {},
     "outputs": [],
     "prompt_number": 68
    },
    {
     "cell_type": "code",
     "collapsed": false,
     "input": [],
     "language": "python",
     "metadata": {},
     "outputs": [],
     "prompt_number": 68
    },
    {
     "cell_type": "code",
     "collapsed": false,
     "input": [],
     "language": "python",
     "metadata": {},
     "outputs": [],
     "prompt_number": 68
    },
    {
     "cell_type": "code",
     "collapsed": false,
     "input": [],
     "language": "python",
     "metadata": {},
     "outputs": [],
     "prompt_number": 68
    },
    {
     "cell_type": "code",
     "collapsed": false,
     "input": [],
     "language": "python",
     "metadata": {},
     "outputs": []
    },
    {
     "cell_type": "heading",
     "level": 1,
     "metadata": {},
     "source": [
      "0:1,000,000 - "
     ]
    },
    {
     "cell_type": "code",
     "collapsed": false,
     "input": [
      "store.root.dummy.table"
     ],
     "language": "python",
     "metadata": {},
     "outputs": [
      {
       "metadata": {},
       "output_type": "pyout",
       "prompt_number": 19,
       "text": [
        "/dummy/table (Table(1000001,)) ''\n",
        "  description := {\n",
        "  \"index\": Int64Col(shape=(), dflt=0, pos=0),\n",
        "  \"ID_genes_in_matched_locus\": StringCol(itemsize=2495, shape=(), dflt='', pos=1)}\n",
        "  byteorder := 'little'\n",
        "  chunkshape := (209,)\n",
        "  autoindex := True\n",
        "  colindexes := {\n",
        "    \"index\": Index(6, medium, shuffle, zlib(1)).is_csi=False,\n",
        "    \"ID_genes_in_matched_locus\": Index(6, medium, shuffle, zlib(1)).is_csi=False}"
       ]
      }
     ],
     "prompt_number": 19
    },
    {
     "cell_type": "code",
     "collapsed": false,
     "input": [],
     "language": "python",
     "metadata": {},
     "outputs": [],
     "prompt_number": 68
    },
    {
     "cell_type": "code",
     "collapsed": false,
     "input": [],
     "language": "python",
     "metadata": {},
     "outputs": [],
     "prompt_number": 68
    },
    {
     "cell_type": "code",
     "collapsed": false,
     "input": [],
     "language": "python",
     "metadata": {},
     "outputs": [],
     "prompt_number": 68
    },
    {
     "cell_type": "code",
     "collapsed": false,
     "input": [],
     "language": "python",
     "metadata": {},
     "outputs": [],
     "prompt_number": 68
    },
    {
     "cell_type": "code",
     "collapsed": false,
     "input": [],
     "language": "python",
     "metadata": {},
     "outputs": [],
     "prompt_number": 68
    },
    {
     "cell_type": "code",
     "collapsed": false,
     "input": [],
     "language": "python",
     "metadata": {},
     "outputs": [],
     "prompt_number": 68
    },
    {
     "cell_type": "code",
     "collapsed": false,
     "input": [],
     "language": "python",
     "metadata": {},
     "outputs": [],
     "prompt_number": 68
    },
    {
     "cell_type": "code",
     "collapsed": false,
     "input": [],
     "language": "python",
     "metadata": {},
     "outputs": [],
     "prompt_number": 68
    },
    {
     "cell_type": "code",
     "collapsed": false,
     "input": [],
     "language": "python",
     "metadata": {},
     "outputs": [],
     "prompt_number": 68
    },
    {
     "cell_type": "code",
     "collapsed": false,
     "input": [],
     "language": "python",
     "metadata": {},
     "outputs": [],
     "prompt_number": 68
    },
    {
     "cell_type": "code",
     "collapsed": false,
     "input": [],
     "language": "python",
     "metadata": {},
     "outputs": [],
     "prompt_number": 68
    },
    {
     "cell_type": "code",
     "collapsed": false,
     "input": [],
     "language": "python",
     "metadata": {},
     "outputs": [],
     "prompt_number": 68
    },
    {
     "cell_type": "code",
     "collapsed": false,
     "input": [],
     "language": "python",
     "metadata": {},
     "outputs": [],
     "prompt_number": 68
    },
    {
     "cell_type": "code",
     "collapsed": false,
     "input": [],
     "language": "python",
     "metadata": {},
     "outputs": [],
     "prompt_number": 68
    },
    {
     "cell_type": "code",
     "collapsed": false,
     "input": [],
     "language": "python",
     "metadata": {},
     "outputs": [],
     "prompt_number": 68
    },
    {
     "cell_type": "code",
     "collapsed": false,
     "input": [],
     "language": "python",
     "metadata": {},
     "outputs": []
    }
   ],
   "metadata": {}
  }
 ]
}