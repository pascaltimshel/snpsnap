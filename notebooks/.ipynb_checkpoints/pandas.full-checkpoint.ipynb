{
 "metadata": {
  "name": "",
  "signature": "sha256:be8a03d51f12e7eeeb3af9278372b48c2d62814987044482a0502cbdaeac90af"
 },
 "nbformat": 3,
 "nbformat_minor": 0,
 "worksheets": [
  {
   "cells": [
    {
     "cell_type": "code",
     "collapsed": false,
     "input": [
      "import os\n",
      "import pandas as pd\n",
      "\n",
      "os.getcwd()"
     ],
     "language": "python",
     "metadata": {},
     "outputs": [
      {
       "metadata": {},
       "output_type": "pyout",
       "prompt_number": 11,
       "text": [
        "'/Users/pascaltimshel/git/snpsnap/notebooks'"
       ]
      }
     ],
     "prompt_number": 11
    },
    {
     "cell_type": "code",
     "collapsed": false,
     "input": [
      "#%%timeit\n",
      "# reading data\n",
      "\n",
      "store = pd.HDFStore('store_full.h5')\n",
      "matchedsnps = '/Users/pascaltimshel/snpsnap/data/step2/1KG_full_duprm_nolim/ld0.5/matchedsnps.tab'\n",
      "header_str = \"matched_rsID freq_bin snp_chr snp_position matched_gene_count matched_dist_to_nearest_gene matched_nearest_gene genes_in_matched_locus\"\n",
      "colnames=header_str.split()\n",
      "df_rdn_snps = pd.read_csv(matchedsnps, index_col=0, names=colnames, delim_whitespace=True)\n",
      "\n"
     ],
     "language": "python",
     "metadata": {},
     "outputs": [],
     "prompt_number": 10
    },
    {
     "cell_type": "code",
     "collapsed": false,
     "input": [
      "# reindexing\n",
      "\n",
      "\n"
     ],
     "language": "python",
     "metadata": {},
     "outputs": []
    },
    {
     "cell_type": "code",
     "collapsed": false,
     "input": [
      "#%%timeit\n",
      "# writing to HDF5\n",
      "store.put('ld05', df_rdn_snps, format='fixed')  #Writing to a HDF5 Store\n",
      "store.close()"
     ],
     "language": "python",
     "metadata": {},
     "outputs": []
    },
    {
     "cell_type": "code",
     "collapsed": false,
     "input": [
      "#%%timeit\n",
      "# reading HDF5\n",
      "df_rdn_snps = pd.read_hdf('/Users/pascaltimshel/git/snpsnap/notebooks/store_full.h5', 'ld05') #'fixed'"
     ],
     "language": "python",
     "metadata": {},
     "outputs": [],
     "prompt_number": 13
    },
    {
     "cell_type": "code",
     "collapsed": false,
     "input": [
      "\n",
      "df_rdn_snps.dtypes\n",
      "\n",
      "df_rdn_snps['freq_bin']"
     ],
     "language": "python",
     "metadata": {},
     "outputs": [
      {
       "metadata": {},
       "output_type": "pyout",
       "prompt_number": 23,
       "text": [
        "matched_rsID\n",
        "rs116944133     1-2\n",
        "rs145218714     1-2\n",
        "rs56039804      1-2\n",
        "rs116089565     1-2\n",
        "rs148676411     1-2\n",
        "rs139226933     1-2\n",
        "rs78954622      1-2\n",
        "rs12564934      1-2\n",
        "6:3072638       1-2\n",
        "rs143968194     1-2\n",
        "rs143844580     1-2\n",
        "rs78489097      1-2\n",
        "rs199514538     1-2\n",
        "rs138304083     1-2\n",
        "rs187388792     1-2\n",
        "...\n",
        "rs201662265     9-10\n",
        "rs199721096     9-10\n",
        "rs66531867      9-10\n",
        "rs970488        9-10\n",
        "rs11749057      9-10\n",
        "rs75686122      9-10\n",
        "rs7812783       9-10\n",
        "rs10984449      9-10\n",
        "rs12056052      9-10\n",
        "rs17164062      9-10\n",
        "rs56354404      9-10\n",
        "rs59382496      9-10\n",
        "rs6900131       9-10\n",
        "rs117602741     9-10\n",
        "rs200312860     9-10\n",
        "Name: freq_bin, Length: 9258511, dtype: object"
       ]
      }
     ],
     "prompt_number": 23
    },
    {
     "cell_type": "code",
     "collapsed": false,
     "input": [],
     "language": "python",
     "metadata": {},
     "outputs": []
    }
   ],
   "metadata": {}
  }
 ]
}