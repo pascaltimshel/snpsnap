{
 "metadata": {
  "name": "",
  "signature": "sha256:50acb14743652f0b3fa3fe55ab8eb5d02d06b3fa8a0d32400f5c6769f7c1919d"
 },
 "nbformat": 3,
 "nbformat_minor": 0,
 "worksheets": [
  {
   "cells": [
    {
     "cell_type": "code",
     "collapsed": false,
     "input": [
      "import os\n",
      "import pandas as pd\n",
      "\n",
      "os.getcwd()"
     ],
     "language": "python",
     "metadata": {},
     "outputs": [
      {
       "metadata": {},
       "output_type": "pyout",
       "prompt_number": 2,
       "text": [
        "'/Users/pascaltimshel/git/snpsnap/notebooks'"
       ]
      }
     ],
     "prompt_number": 2
    },
    {
     "cell_type": "code",
     "collapsed": false,
     "input": [
      "#%%timeit\n",
      "# reading data\n",
      "\n",
      "#store = pd.HDFStore('store_full.h5')\n",
      "matchedsnps = '/Users/pascaltimshel/snpsnap/data/step2/1KG_full_duprm_nolim/ld0.5/matchedsnps.tab'\n",
      "header_str = \"matched_rsID freq_bin snp_chr snp_position matched_gene_count matched_dist_to_nearest_gene matched_nearest_gene genes_in_matched_locus\"\n",
      "colnames=header_str.split()\n",
      "df_rdn_snps = pd.read_csv(matchedsnps, index_col=0, names=colnames, delim_whitespace=True)\n"
     ],
     "language": "python",
     "metadata": {},
     "outputs": [],
     "prompt_number": 3
    },
    {
     "cell_type": "code",
     "collapsed": false,
     "input": [
      "## FINDING longest \n",
      "#df_rdn_snps.ix[:,'genes_in_matched_locus']\n",
      "\n",
      "#df_rdn_snps.ix[:,'matched_gene_count'].max() ### 174\n",
      "#df_rdn_snps.ix[:,'matched_gene_count'].idxmax() ### rs151160477 \n",
      "#print len(df_rdn_snps.ix['rs151160477'].genes_in_matched_locus) #===>2783 \n",
      "df_rdn_snps.ix['rs151160477'].genes_in_matched_locus"
     ],
     "language": "python",
     "metadata": {},
     "outputs": [
      {
       "output_type": "stream",
       "stream": "stdout",
       "text": [
        "2783\n"
       ]
      },
      {
       "metadata": {},
       "output_type": "pyout",
       "prompt_number": 5,
       "text": [
        "'ENSG00000236405,ENSG00000233627,ENSG00000137310,ENSG00000254729,ENSG00000137312,ENSG00000254870,ENSG00000216101,ENSG00000204592,ENSG00000237080,ENSG00000206337,ENSG00000204427,ENSG00000237775,ENSG00000223702,ENSG00000137404,ENSG00000204516,ENSG00000200816,ENSG00000146112,ENSG00000204599,ENSG00000231852,ENSG00000224936,ENSG00000225059,ENSG00000201207,ENSG00000230622,ENSG00000224389,ENSG00000252743,ENSG00000204590,ENSG00000137411,ENSG00000213760,ENSG00000204560,ENSG00000250641,ENSG00000204564,ENSG00000204444,ENSG00000204569,ENSG00000204568,ENSG00000228727,ENSG00000214894,ENSG00000204338,ENSG00000231226,ENSG00000234392,ENSG00000256166,ENSG00000234745,ENSG00000227507,ENSG00000234006,ENSG00000230174,ENSG00000244255,ENSG00000201754,ENSG00000232810,ENSG00000231074,ENSG00000235663,ENSG00000227198,ENSG00000225851,ENSG00000204574,ENSG00000201658,ENSG00000204576,ENSG00000219797,ENSG00000204472,ENSG00000204475,ENSG00000199332,ENSG00000204344,ENSG00000232703,ENSG00000204348,ENSG00000228432,ENSG00000237923,ENSG00000204614,ENSG00000204616,ENSG00000204610,ENSG00000201823,ENSG00000204544,ENSG00000228022,ENSG00000252761,ENSG00000228789,ENSG00000204540,ENSG00000233892,ENSG00000204619,ENSG00000204463,ENSG00000236475,ENSG00000204511,ENSG00000213719,ENSG00000196260,ENSG00000204469,ENSG00000204351,ENSG00000213780,ENSG00000227939,ENSG00000255899,ENSG00000137337,ENSG00000137331,ENSG00000204618,ENSG00000204498,ENSG00000204613,ENSG00000248167,ENSG00000240053,ENSG00000255726,ENSG00000225499,ENSG00000236603,ENSG00000204420,ENSG00000204410,ENSG00000243753,ENSG00000244731,ENSG00000224486,ENSG00000204366,ENSG00000224372,ENSG00000202241,ENSG00000248290,ENSG00000226568,ENSG00000229068,ENSG00000204542,ENSG00000228415,ENSG00000168477,ENSG00000226979,ENSG00000243649,ENSG00000204482,ENSG00000201988,ENSG00000137343,ENSG00000201680,ENSG00000201785,ENSG00000206344,ENSG00000213722,ENSG00000250535,ENSG00000252228,ENSG00000229776,ENSG00000252901,ENSG00000204528,ENSG00000204525,ENSG00000204371,ENSG00000204520,ENSG00000198563,ENSG00000226577,ENSG00000222895,ENSG00000222894,ENSG00000214892,ENSG00000233902,ENSG00000229836,ENSG00000238211,ENSG00000244355,ENSG00000234127,ENSG00000204439,ENSG00000204438,ENSG00000231402,ENSG00000204435,ENSG00000255152,ENSG00000204387,ENSG00000204386,ENSG00000204385,ENSG00000204538,ENSG00000196230,ENSG00000204536,ENSG00000204531,ENSG00000204389,ENSG00000204388,ENSG00000221267,ENSG00000201555,ENSG00000168631,ENSG00000204356,ENSG00000166278,ENSG00000233529,ENSG00000066379,ENSG00000241370,ENSG00000204580,ENSG00000204428,ENSG00000204422,ENSG00000256851,ENSG00000242996,ENSG00000204421,ENSG00000235781,ENSG00000204424,ENSG00000204539,ENSG00000204394,ENSG00000230994,ENSG00000204396,ENSG00000204390,ENSG00000204392,ENSG00000230449,ENSG00000224328,ENSG00000255552'"
       ]
      }
     ],
     "prompt_number": 5
    },
    {
     "cell_type": "code",
     "collapsed": false,
     "input": [
      "#%%timeit\n",
      "# writing to HDF5\n",
      "store.put('ld05', df_rdn_snps, format='fixed')  #Writing to a HDF5 Store\n",
      "store.close()"
     ],
     "language": "python",
     "metadata": {},
     "outputs": []
    },
    {
     "cell_type": "code",
     "collapsed": false,
     "input": [],
     "language": "python",
     "metadata": {},
     "outputs": []
    },
    {
     "cell_type": "code",
     "collapsed": false,
     "input": [
      "#%%timeit\n",
      "# reading HDF5\n",
      "df_rdn_snps = pd.read_hdf('/Users/pascaltimshel/git/snpsnap/notebooks/store_full.h5', 'ld05') #'fixed'"
     ],
     "language": "python",
     "metadata": {},
     "outputs": [],
     "prompt_number": 13
    },
    {
     "cell_type": "code",
     "collapsed": false,
     "input": [
      "\n",
      "df_rdn_snps.dtypes\n",
      "\n",
      "df_rdn_snps['freq_bin']"
     ],
     "language": "python",
     "metadata": {},
     "outputs": [
      {
       "metadata": {},
       "output_type": "pyout",
       "prompt_number": 23,
       "text": [
        "matched_rsID\n",
        "rs116944133     1-2\n",
        "rs145218714     1-2\n",
        "rs56039804      1-2\n",
        "rs116089565     1-2\n",
        "rs148676411     1-2\n",
        "rs139226933     1-2\n",
        "rs78954622      1-2\n",
        "rs12564934      1-2\n",
        "6:3072638       1-2\n",
        "rs143968194     1-2\n",
        "rs143844580     1-2\n",
        "rs78489097      1-2\n",
        "rs199514538     1-2\n",
        "rs138304083     1-2\n",
        "rs187388792     1-2\n",
        "...\n",
        "rs201662265     9-10\n",
        "rs199721096     9-10\n",
        "rs66531867      9-10\n",
        "rs970488        9-10\n",
        "rs11749057      9-10\n",
        "rs75686122      9-10\n",
        "rs7812783       9-10\n",
        "rs10984449      9-10\n",
        "rs12056052      9-10\n",
        "rs17164062      9-10\n",
        "rs56354404      9-10\n",
        "rs59382496      9-10\n",
        "rs6900131       9-10\n",
        "rs117602741     9-10\n",
        "rs200312860     9-10\n",
        "Name: freq_bin, Length: 9258511, dtype: object"
       ]
      }
     ],
     "prompt_number": 23
    },
    {
     "cell_type": "code",
     "collapsed": false,
     "input": [],
     "language": "python",
     "metadata": {},
     "outputs": []
    }
   ],
   "metadata": {}
  }
 ]
}