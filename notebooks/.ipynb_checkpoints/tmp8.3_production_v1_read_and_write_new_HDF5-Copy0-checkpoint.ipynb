{
 "metadata": {
  "name": "",
  "signature": "sha256:450f428cba40e42e3300974a4ed70802ace07cec25499a796f6d0bc6ef882a3f"
 },
 "nbformat": 3,
 "nbformat_minor": 0,
 "worksheets": [
  {
   "cells": [
    {
     "cell_type": "code",
     "collapsed": false,
     "input": [
      "import os\n",
      "import sys\n",
      "import pandas as pd\n",
      "import numpy as np\n",
      "import time\n",
      "import gzip\n",
      "import zlib\n",
      "os.getcwd()"
     ],
     "language": "python",
     "metadata": {},
     "outputs": [
      {
       "metadata": {},
       "output_type": "pyout",
       "prompt_number": 1,
       "text": [
        "'/Users/pascaltimshel/git/snpsnap/notebooks'"
       ]
      }
     ],
     "prompt_number": 1
    },
    {
     "cell_type": "heading",
     "level": 1,
     "metadata": {},
     "source": [
      "Original HDF5"
     ]
    },
    {
     "cell_type": "heading",
     "level": 2,
     "metadata": {},
     "source": [
      "2. Writing DF to store"
     ]
    },
    {
     "cell_type": "code",
     "collapsed": false,
     "input": [],
     "language": "python",
     "metadata": {},
     "outputs": []
    },
    {
     "cell_type": "code",
     "collapsed": false,
     "input": [
      "# will write to CWD\n",
      "file_hdf5_no_comp = \"ld0.5_db_no_comp.h5\"\n",
      "file_hdf5_blosc9 = \"ld0.5_db_blosc9.h5\"\n",
      "file_hdf5_zlib9 = \"ld0.5_db_zlib9.h5\"\n",
      "file_hdf5_zlib1 = \"ld0.5_db_zlib1.h5\"\n",
      "file_hdf5_lzo1 = \"ld0.5_db_lzo1.h5\" # did not work"
     ],
     "language": "python",
     "metadata": {},
     "outputs": [],
     "prompt_number": 28
    },
    {
     "cell_type": "code",
     "collapsed": false,
     "input": [
      "file_hdf5 = file_hdf5_lzo1 # SWITCH\n",
      "print \"file is %s\" % file_hdf5\n",
      "\n",
      "#store_w = pd.HDFStore(file_hdf5, 'w', complevel=9, complib='blosc') # blosc9\n",
      "#store_w = pd.HDFStore(file_hdf5, 'w', complevel=9, complib='zlib') # zlib9\n",
      "#store_w = pd.HDFStore(file_hdf5, 'w', complevel=1, complib='zlib') # zlib1\n",
      "store_w = pd.HDFStore(file_hdf5, 'w', complevel=1, complib='lzo') # lzo1\n",
      "\n",
      "#store_w = pd.HDFStore(file_hdf5, 'w') # NO COMPRESSION\n",
      "\n",
      "start_time = time.time()\n",
      "print \"START: Writing to HDF5 file: %s\" % file_hdf5\n",
      "store_w.put('dummy', dataframe, format='table', append=False, data_columns=True)\n",
      "store_w.close()\n",
      "elapsed_time = time.time() - start_time\n",
      "print \"END: Elapsed_time of writing file: %.3f s (%.2f min)\" % (elapsed_time, elapsed_time/60)\n",
      "file_hdf5_size = os.path.getsize(file_hdf5)\n",
      "print \"Size of HDF5 file: %s bytes (%.1f MB)\" % (file_hdf5_size, file_hdf5_size/(1024*1024.0))"
     ],
     "language": "python",
     "metadata": {},
     "outputs": [
      {
       "output_type": "stream",
       "stream": "stdout",
       "text": [
        "file is ld0.5_db_lzo1.h5\n",
        "START: Writing to HDF5 file: ld0.5_db_lzo1.h5\n",
        "END: Elapsed_time of writing file: 155.472 s (2.59 min)"
       ]
      },
      {
       "output_type": "stream",
       "stream": "stdout",
       "text": [
        "\n",
        "Size of HDF5 file: 367310027 bytes (350.3 MB)\n"
       ]
      },
      {
       "output_type": "stream",
       "stream": "stderr",
       "text": [
        "/usr/local/lib/python2.7/site-packages/tables/filters.py:292: FiltersWarning: compression library ``lzo`` is not available; using ``zlib`` instead\n",
        "  % (complib, default_complib), FiltersWarning)\n"
       ]
      }
     ],
     "prompt_number": 29
    },
    {
     "cell_type": "code",
     "collapsed": false,
     "input": [],
     "language": "python",
     "metadata": {},
     "outputs": [],
     "prompt_number": 5
    },
    {
     "cell_type": "heading",
     "level": 2,
     "metadata": {},
     "source": [
      "3. Look at the internal stats of the HDF5"
     ]
    },
    {
     "cell_type": "code",
     "collapsed": false,
     "input": [
      "file_db = \"ld0.5_db_no_comp.h5\"\n",
      "store = pd.HDFStore(file_db, 'r')\n",
      "store.root.dummy.table\n",
      "#store.close()"
     ],
     "language": "python",
     "metadata": {},
     "outputs": [
      {
       "metadata": {},
       "output_type": "pyout",
       "prompt_number": 18,
       "text": [
        "/dummy/table (Table(9239613,)) ''\n",
        "  description := {\n",
        "  \"index\": StringCol(itemsize=12, shape=(), dflt='', pos=0),\n",
        "  \"freq_bin\": Int64Col(shape=(), dflt=0, pos=1),\n",
        "  \"gene_count\": Int64Col(shape=(), dflt=0, pos=2),\n",
        "  \"dist_nearest_gene_snpsnap\": Int64Col(shape=(), dflt=0, pos=3),\n",
        "  \"friends_ld01\": Int64Col(shape=(), dflt=0, pos=4),\n",
        "  \"friends_ld02\": Int64Col(shape=(), dflt=0, pos=5),\n",
        "  \"friends_ld03\": Int64Col(shape=(), dflt=0, pos=6),\n",
        "  \"friends_ld04\": Int64Col(shape=(), dflt=0, pos=7),\n",
        "  \"friends_ld05\": Int64Col(shape=(), dflt=0, pos=8),\n",
        "  \"friends_ld06\": Int64Col(shape=(), dflt=0, pos=9),\n",
        "  \"friends_ld07\": Int64Col(shape=(), dflt=0, pos=10),\n",
        "  \"friends_ld08\": Int64Col(shape=(), dflt=0, pos=11),\n",
        "  \"friends_ld09\": Int64Col(shape=(), dflt=0, pos=12)}\n",
        "  byteorder := 'little'\n",
        "  chunkshape := (2427,)\n",
        "  autoindex := True\n",
        "  colindexes := {\n",
        "    \"index\": Index(6, medium, shuffle, zlib(1)).is_csi=False,\n",
        "    \"friends_ld08\": Index(6, medium, shuffle, zlib(1)).is_csi=False,\n",
        "    \"friends_ld09\": Index(6, medium, shuffle, zlib(1)).is_csi=False,\n",
        "    \"friends_ld02\": Index(6, medium, shuffle, zlib(1)).is_csi=False,\n",
        "    \"freq_bin\": Index(6, medium, shuffle, zlib(1)).is_csi=False,\n",
        "    \"friends_ld01\": Index(6, medium, shuffle, zlib(1)).is_csi=False,\n",
        "    \"friends_ld06\": Index(6, medium, shuffle, zlib(1)).is_csi=False,\n",
        "    \"friends_ld07\": Index(6, medium, shuffle, zlib(1)).is_csi=False,\n",
        "    \"friends_ld04\": Index(6, medium, shuffle, zlib(1)).is_csi=False,\n",
        "    \"gene_count\": Index(6, medium, shuffle, zlib(1)).is_csi=False,\n",
        "    \"friends_ld03\": Index(6, medium, shuffle, zlib(1)).is_csi=False,\n",
        "    \"dist_nearest_gene_snpsnap\": Index(6, medium, shuffle, zlib(1)).is_csi=False,\n",
        "    \"friends_ld05\": Index(6, medium, shuffle, zlib(1)).is_csi=False}"
       ]
      }
     ],
     "prompt_number": 18
    },
    {
     "cell_type": "code",
     "collapsed": false,
     "input": [
      "file_db = \"ld0.5_db_blosc9.h5\"\n",
      "store = pd.HDFStore(file_db, 'r')\n",
      "store.root.dummy.table\n",
      "#store.close()"
     ],
     "language": "python",
     "metadata": {},
     "outputs": [
      {
       "metadata": {},
       "output_type": "pyout",
       "prompt_number": 19,
       "text": [
        "/dummy/table (Table(9239613,), shuffle, blosc(9)) ''\n",
        "  description := {\n",
        "  \"index\": StringCol(itemsize=12, shape=(), dflt='', pos=0),\n",
        "  \"freq_bin\": Int64Col(shape=(), dflt=0, pos=1),\n",
        "  \"gene_count\": Int64Col(shape=(), dflt=0, pos=2),\n",
        "  \"dist_nearest_gene_snpsnap\": Int64Col(shape=(), dflt=0, pos=3),\n",
        "  \"friends_ld01\": Int64Col(shape=(), dflt=0, pos=4),\n",
        "  \"friends_ld02\": Int64Col(shape=(), dflt=0, pos=5),\n",
        "  \"friends_ld03\": Int64Col(shape=(), dflt=0, pos=6),\n",
        "  \"friends_ld04\": Int64Col(shape=(), dflt=0, pos=7),\n",
        "  \"friends_ld05\": Int64Col(shape=(), dflt=0, pos=8),\n",
        "  \"friends_ld06\": Int64Col(shape=(), dflt=0, pos=9),\n",
        "  \"friends_ld07\": Int64Col(shape=(), dflt=0, pos=10),\n",
        "  \"friends_ld08\": Int64Col(shape=(), dflt=0, pos=11),\n",
        "  \"friends_ld09\": Int64Col(shape=(), dflt=0, pos=12)}\n",
        "  byteorder := 'little'\n",
        "  chunkshape := (2427,)\n",
        "  autoindex := True\n",
        "  colindexes := {\n",
        "    \"index\": Index(6, medium, shuffle, zlib(1)).is_csi=False,\n",
        "    \"friends_ld08\": Index(6, medium, shuffle, zlib(1)).is_csi=False,\n",
        "    \"friends_ld09\": Index(6, medium, shuffle, zlib(1)).is_csi=False,\n",
        "    \"friends_ld02\": Index(6, medium, shuffle, zlib(1)).is_csi=False,\n",
        "    \"freq_bin\": Index(6, medium, shuffle, zlib(1)).is_csi=False,\n",
        "    \"friends_ld01\": Index(6, medium, shuffle, zlib(1)).is_csi=False,\n",
        "    \"friends_ld06\": Index(6, medium, shuffle, zlib(1)).is_csi=False,\n",
        "    \"friends_ld07\": Index(6, medium, shuffle, zlib(1)).is_csi=False,\n",
        "    \"friends_ld04\": Index(6, medium, shuffle, zlib(1)).is_csi=False,\n",
        "    \"gene_count\": Index(6, medium, shuffle, zlib(1)).is_csi=False,\n",
        "    \"friends_ld03\": Index(6, medium, shuffle, zlib(1)).is_csi=False,\n",
        "    \"dist_nearest_gene_snpsnap\": Index(6, medium, shuffle, zlib(1)).is_csi=False,\n",
        "    \"friends_ld05\": Index(6, medium, shuffle, zlib(1)).is_csi=False}"
       ]
      }
     ],
     "prompt_number": 19
    },
    {
     "cell_type": "code",
     "collapsed": false,
     "input": [
      "file_hdf5_zlib9 = \"ld0.5_db_zlib9.h5\""
     ],
     "language": "python",
     "metadata": {},
     "outputs": []
    },
    {
     "cell_type": "code",
     "collapsed": false,
     "input": [
      "file_hdf5_zlib1 = \"ld0.5_db_zlib1.h5\""
     ],
     "language": "python",
     "metadata": {},
     "outputs": []
    },
    {
     "cell_type": "code",
     "collapsed": false,
     "input": [],
     "language": "python",
     "metadata": {},
     "outputs": []
    },
    {
     "cell_type": "code",
     "collapsed": false,
     "input": [],
     "language": "python",
     "metadata": {},
     "outputs": [],
     "prompt_number": 13
    },
    {
     "cell_type": "heading",
     "level": 2,
     "metadata": {},
     "source": [
      "4. Test query time of OSX written HDF5 file"
     ]
    },
    {
     "cell_type": "code",
     "collapsed": false,
     "input": [
      "#file_db = \"ld0.5_db_no_comp.h5\"\n",
      "#file_db = \"ld0.5_db_blosc9.h5\"\n",
      "#file_hdf5_zlib9 = \"ld0.5_db_zlib9.h5\"\n",
      "file_hdf5_zlib1 = \"ld0.5_db_zlib1.h5\""
     ],
     "language": "python",
     "metadata": {},
     "outputs": [],
     "prompt_number": 36
    },
    {
     "cell_type": "code",
     "collapsed": false,
     "input": [
      "user_snps = [\"14:69873335\", \"9:5453460\", \"7:88660988\", \"1:201688955\", \"1:181844943\", \"18:67015865\", \"6:32592119\", \"9:133472747\", \"4:63055561\", \"11:127160664\"]*100\n",
      "store = pd.HDFStore(file_db, 'r')\n",
      "list_of_df = []\n",
      "start_time = time.time()\n",
      "for item in user_snps:\n",
      "    print \"selection for snpID: %s\" % item\n",
      "    query_freq = '(freq_bin >= 5 & freq_bin <= 10)'\n",
      "    query_gene_count = '(gene_count >= 5 & gene_count <= 30)'\n",
      "    query_dist = '(dist_nearest_gene_snpsnap  >= 200 & dist_nearest_gene_snpsnap  <= 2000)'\n",
      "    query_ld_buddy_count = '(friends_ld05 >= 5 & friends_ld05 <= 500)'\n",
      "\n",
      "    #query = \"%s & %s & %s\" % (query_freq, query_gene_count, query_dist) # WITHOUT query_ld_buddy_count\n",
      "    query = \"%s & %s & %s & %s\" % (query_freq, query_gene_count, query_dist, query_ld_buddy_count) # WITH query_ld_buddy_count\n",
      "    \n",
      "    start_time = time.time()\n",
      "    #match_ID = store.select('dummy', query, columns=[]) # return no columns --> only index \n",
      "    match_ID = store.select('dummy', query) # return FULL DF\n",
      "    elapsed_time = time.time() - start_time\n",
      "    print \"found %s matching SNPs\" % len(match_ID)\n",
      "    print \"time elapsed: %s\" % elapsed_time \n",
      "store.close()\n",
      "user_snps_df = pd.concat(list_of_df)"
     ],
     "language": "python",
     "metadata": {},
     "outputs": [
      {
       "output_type": "stream",
       "stream": "stdout",
       "text": [
        "selection for snpID: 14:69873335\n",
        "found 18732 matching SNPs"
       ]
      },
      {
       "output_type": "stream",
       "stream": "stdout",
       "text": [
        "\n",
        "time elapsed: 3.65437793732\n",
        "selection for snpID: 9:5453460\n",
        "found 18732 matching SNPs"
       ]
      },
      {
       "output_type": "stream",
       "stream": "stdout",
       "text": [
        "\n",
        "time elapsed: 3.54150891304\n",
        "selection for snpID: 7:88660988\n",
        "found 18732 matching SNPs"
       ]
      },
      {
       "output_type": "stream",
       "stream": "stdout",
       "text": [
        "\n",
        "time elapsed: 3.5514061451\n",
        "selection for snpID: 1:201688955\n",
        "found 18732 matching SNPs"
       ]
      },
      {
       "output_type": "stream",
       "stream": "stdout",
       "text": [
        "\n",
        "time elapsed: 3.653028965\n",
        "selection for snpID: 1:181844943\n"
       ]
      },
      {
       "ename": "KeyboardInterrupt",
       "evalue": "",
       "output_type": "pyerr",
       "traceback": [
        "\u001b[0;31m---------------------------------------------------------------------------\u001b[0m\n\u001b[0;31mKeyboardInterrupt\u001b[0m                         Traceback (most recent call last)",
        "\u001b[0;32m<ipython-input-37-af41d32d04ee>\u001b[0m in \u001b[0;36m<module>\u001b[0;34m()\u001b[0m\n\u001b[1;32m     15\u001b[0m     \u001b[0mstart_time\u001b[0m \u001b[0;34m=\u001b[0m \u001b[0mtime\u001b[0m\u001b[0;34m.\u001b[0m\u001b[0mtime\u001b[0m\u001b[0;34m(\u001b[0m\u001b[0;34m)\u001b[0m\u001b[0;34m\u001b[0m\u001b[0m\n\u001b[1;32m     16\u001b[0m     \u001b[0;31m#match_ID = store.select('dummy', query, columns=[]) # return no columns --> only index\u001b[0m\u001b[0;34m\u001b[0m\u001b[0;34m\u001b[0m\u001b[0m\n\u001b[0;32m---> 17\u001b[0;31m     \u001b[0mmatch_ID\u001b[0m \u001b[0;34m=\u001b[0m \u001b[0mstore\u001b[0m\u001b[0;34m.\u001b[0m\u001b[0mselect\u001b[0m\u001b[0;34m(\u001b[0m\u001b[0;34m'dummy'\u001b[0m\u001b[0;34m,\u001b[0m \u001b[0mquery\u001b[0m\u001b[0;34m)\u001b[0m \u001b[0;31m# return FULL DF\u001b[0m\u001b[0;34m\u001b[0m\u001b[0m\n\u001b[0m\u001b[1;32m     18\u001b[0m     \u001b[0melapsed_time\u001b[0m \u001b[0;34m=\u001b[0m \u001b[0mtime\u001b[0m\u001b[0;34m.\u001b[0m\u001b[0mtime\u001b[0m\u001b[0;34m(\u001b[0m\u001b[0;34m)\u001b[0m \u001b[0;34m-\u001b[0m \u001b[0mstart_time\u001b[0m\u001b[0;34m\u001b[0m\u001b[0m\n\u001b[1;32m     19\u001b[0m     \u001b[0;32mprint\u001b[0m \u001b[0;34m\"found %s matching SNPs\"\u001b[0m \u001b[0;34m%\u001b[0m \u001b[0mlen\u001b[0m\u001b[0;34m(\u001b[0m\u001b[0mmatch_ID\u001b[0m\u001b[0;34m)\u001b[0m\u001b[0;34m\u001b[0m\u001b[0m\n",
        "\u001b[0;32m/usr/local/lib/python2.7/site-packages/pandas/io/pytables.pyc\u001b[0m in \u001b[0;36mselect\u001b[0;34m(self, key, where, start, stop, columns, iterator, chunksize, auto_close, **kwargs)\u001b[0m\n\u001b[1;32m    662\u001b[0m \u001b[0;34m\u001b[0m\u001b[0m\n\u001b[1;32m    663\u001b[0m         return TableIterator(self, func, nrows=s.nrows, start=start, stop=stop,\n\u001b[0;32m--> 664\u001b[0;31m                              auto_close=auto_close).get_values()\n\u001b[0m\u001b[1;32m    665\u001b[0m \u001b[0;34m\u001b[0m\u001b[0m\n\u001b[1;32m    666\u001b[0m     def select_as_coordinates(\n",
        "\u001b[0;32m/usr/local/lib/python2.7/site-packages/pandas/io/pytables.pyc\u001b[0m in \u001b[0;36mget_values\u001b[0;34m(self)\u001b[0m\n\u001b[1;32m   1336\u001b[0m \u001b[0;34m\u001b[0m\u001b[0m\n\u001b[1;32m   1337\u001b[0m     \u001b[0;32mdef\u001b[0m \u001b[0mget_values\u001b[0m\u001b[0;34m(\u001b[0m\u001b[0mself\u001b[0m\u001b[0;34m)\u001b[0m\u001b[0;34m:\u001b[0m\u001b[0;34m\u001b[0m\u001b[0m\n\u001b[0;32m-> 1338\u001b[0;31m         \u001b[0mresults\u001b[0m \u001b[0;34m=\u001b[0m \u001b[0mself\u001b[0m\u001b[0;34m.\u001b[0m\u001b[0mfunc\u001b[0m\u001b[0;34m(\u001b[0m\u001b[0mself\u001b[0m\u001b[0;34m.\u001b[0m\u001b[0mstart\u001b[0m\u001b[0;34m,\u001b[0m \u001b[0mself\u001b[0m\u001b[0;34m.\u001b[0m\u001b[0mstop\u001b[0m\u001b[0;34m)\u001b[0m\u001b[0;34m\u001b[0m\u001b[0m\n\u001b[0m\u001b[1;32m   1339\u001b[0m         \u001b[0mself\u001b[0m\u001b[0;34m.\u001b[0m\u001b[0mclose\u001b[0m\u001b[0;34m(\u001b[0m\u001b[0;34m)\u001b[0m\u001b[0;34m\u001b[0m\u001b[0m\n\u001b[1;32m   1340\u001b[0m         \u001b[0;32mreturn\u001b[0m \u001b[0mresults\u001b[0m\u001b[0;34m\u001b[0m\u001b[0m\n",
        "\u001b[0;32m/usr/local/lib/python2.7/site-packages/pandas/io/pytables.pyc\u001b[0m in \u001b[0;36mfunc\u001b[0;34m(_start, _stop)\u001b[0m\n\u001b[1;32m    651\u001b[0m         \u001b[0;32mdef\u001b[0m \u001b[0mfunc\u001b[0m\u001b[0;34m(\u001b[0m\u001b[0m_start\u001b[0m\u001b[0;34m,\u001b[0m \u001b[0m_stop\u001b[0m\u001b[0;34m)\u001b[0m\u001b[0;34m:\u001b[0m\u001b[0;34m\u001b[0m\u001b[0m\n\u001b[1;32m    652\u001b[0m             return s.read(where=where, start=_start, stop=_stop,\n\u001b[0;32m--> 653\u001b[0;31m                           columns=columns, **kwargs)\n\u001b[0m\u001b[1;32m    654\u001b[0m \u001b[0;34m\u001b[0m\u001b[0m\n\u001b[1;32m    655\u001b[0m         \u001b[0;32mif\u001b[0m \u001b[0miterator\u001b[0m \u001b[0;32mor\u001b[0m \u001b[0mchunksize\u001b[0m \u001b[0;32mis\u001b[0m \u001b[0;32mnot\u001b[0m \u001b[0mNone\u001b[0m\u001b[0;34m:\u001b[0m\u001b[0;34m\u001b[0m\u001b[0m\n",
        "\u001b[0;32m/usr/local/lib/python2.7/site-packages/pandas/io/pytables.pyc\u001b[0m in \u001b[0;36mread\u001b[0;34m(self, where, columns, **kwargs)\u001b[0m\n\u001b[1;32m   3786\u001b[0m     \u001b[0;32mdef\u001b[0m \u001b[0mread\u001b[0m\u001b[0;34m(\u001b[0m\u001b[0mself\u001b[0m\u001b[0;34m,\u001b[0m \u001b[0mwhere\u001b[0m\u001b[0;34m=\u001b[0m\u001b[0mNone\u001b[0m\u001b[0;34m,\u001b[0m \u001b[0mcolumns\u001b[0m\u001b[0;34m=\u001b[0m\u001b[0mNone\u001b[0m\u001b[0;34m,\u001b[0m \u001b[0;34m**\u001b[0m\u001b[0mkwargs\u001b[0m\u001b[0;34m)\u001b[0m\u001b[0;34m:\u001b[0m\u001b[0;34m\u001b[0m\u001b[0m\n\u001b[1;32m   3787\u001b[0m \u001b[0;34m\u001b[0m\u001b[0m\n\u001b[0;32m-> 3788\u001b[0;31m         \u001b[0;32mif\u001b[0m \u001b[0;32mnot\u001b[0m \u001b[0mself\u001b[0m\u001b[0;34m.\u001b[0m\u001b[0mread_axes\u001b[0m\u001b[0;34m(\u001b[0m\u001b[0mwhere\u001b[0m\u001b[0;34m=\u001b[0m\u001b[0mwhere\u001b[0m\u001b[0;34m,\u001b[0m \u001b[0;34m**\u001b[0m\u001b[0mkwargs\u001b[0m\u001b[0;34m)\u001b[0m\u001b[0;34m:\u001b[0m\u001b[0;34m\u001b[0m\u001b[0m\n\u001b[0m\u001b[1;32m   3789\u001b[0m             \u001b[0;32mreturn\u001b[0m \u001b[0mNone\u001b[0m\u001b[0;34m\u001b[0m\u001b[0m\n\u001b[1;32m   3790\u001b[0m \u001b[0;34m\u001b[0m\u001b[0m\n",
        "\u001b[0;32m/usr/local/lib/python2.7/site-packages/pandas/io/pytables.pyc\u001b[0m in \u001b[0;36mread_axes\u001b[0;34m(self, where, **kwargs)\u001b[0m\n\u001b[1;32m   3046\u001b[0m         \u001b[0;31m# create the selection\u001b[0m\u001b[0;34m\u001b[0m\u001b[0;34m\u001b[0m\u001b[0m\n\u001b[1;32m   3047\u001b[0m         \u001b[0mself\u001b[0m\u001b[0;34m.\u001b[0m\u001b[0mselection\u001b[0m \u001b[0;34m=\u001b[0m \u001b[0mSelection\u001b[0m\u001b[0;34m(\u001b[0m\u001b[0mself\u001b[0m\u001b[0;34m,\u001b[0m \u001b[0mwhere\u001b[0m\u001b[0;34m=\u001b[0m\u001b[0mwhere\u001b[0m\u001b[0;34m,\u001b[0m \u001b[0;34m**\u001b[0m\u001b[0mkwargs\u001b[0m\u001b[0;34m)\u001b[0m\u001b[0;34m\u001b[0m\u001b[0m\n\u001b[0;32m-> 3048\u001b[0;31m         \u001b[0mvalues\u001b[0m \u001b[0;34m=\u001b[0m \u001b[0mself\u001b[0m\u001b[0;34m.\u001b[0m\u001b[0mselection\u001b[0m\u001b[0;34m.\u001b[0m\u001b[0mselect\u001b[0m\u001b[0;34m(\u001b[0m\u001b[0;34m)\u001b[0m\u001b[0;34m\u001b[0m\u001b[0m\n\u001b[0m\u001b[1;32m   3049\u001b[0m \u001b[0;34m\u001b[0m\u001b[0m\n\u001b[1;32m   3050\u001b[0m         \u001b[0;31m# convert the data\u001b[0m\u001b[0;34m\u001b[0m\u001b[0;34m\u001b[0m\u001b[0m\n",
        "\u001b[0;32m/usr/local/lib/python2.7/site-packages/pandas/io/pytables.pyc\u001b[0m in \u001b[0;36mselect\u001b[0;34m(self)\u001b[0m\n\u001b[1;32m   4295\u001b[0m         \u001b[0;32mif\u001b[0m \u001b[0mself\u001b[0m\u001b[0;34m.\u001b[0m\u001b[0mcondition\u001b[0m \u001b[0;32mis\u001b[0m \u001b[0;32mnot\u001b[0m \u001b[0mNone\u001b[0m\u001b[0;34m:\u001b[0m\u001b[0;34m\u001b[0m\u001b[0m\n\u001b[1;32m   4296\u001b[0m             return self.table.table.readWhere(self.condition.format(),\n\u001b[0;32m-> 4297\u001b[0;31m                                               start=self.start, stop=self.stop)\n\u001b[0m\u001b[1;32m   4298\u001b[0m         \u001b[0;32melif\u001b[0m \u001b[0mself\u001b[0m\u001b[0;34m.\u001b[0m\u001b[0mcoordinates\u001b[0m \u001b[0;32mis\u001b[0m \u001b[0;32mnot\u001b[0m \u001b[0mNone\u001b[0m\u001b[0;34m:\u001b[0m\u001b[0;34m\u001b[0m\u001b[0m\n\u001b[1;32m   4299\u001b[0m             \u001b[0;32mreturn\u001b[0m \u001b[0mself\u001b[0m\u001b[0;34m.\u001b[0m\u001b[0mtable\u001b[0m\u001b[0;34m.\u001b[0m\u001b[0mtable\u001b[0m\u001b[0;34m.\u001b[0m\u001b[0mreadCoordinates\u001b[0m\u001b[0;34m(\u001b[0m\u001b[0mself\u001b[0m\u001b[0;34m.\u001b[0m\u001b[0mcoordinates\u001b[0m\u001b[0;34m)\u001b[0m\u001b[0;34m\u001b[0m\u001b[0m\n",
        "\u001b[0;32m/usr/local/lib/python2.7/site-packages/tables/_past.pyc\u001b[0m in \u001b[0;36moldfunc\u001b[0;34m(*args, **kwargs)\u001b[0m\n\u001b[1;32m     33\u001b[0m     \u001b[0;32mdef\u001b[0m \u001b[0moldfunc\u001b[0m\u001b[0;34m(\u001b[0m\u001b[0;34m*\u001b[0m\u001b[0margs\u001b[0m\u001b[0;34m,\u001b[0m \u001b[0;34m**\u001b[0m\u001b[0mkwargs\u001b[0m\u001b[0;34m)\u001b[0m\u001b[0;34m:\u001b[0m\u001b[0;34m\u001b[0m\u001b[0m\n\u001b[1;32m     34\u001b[0m         \u001b[0mwarn\u001b[0m\u001b[0;34m(\u001b[0m\u001b[0mwarnmsg\u001b[0m\u001b[0;34m,\u001b[0m \u001b[0mDeprecationWarning\u001b[0m\u001b[0;34m,\u001b[0m \u001b[0mstacklevel\u001b[0m\u001b[0;34m=\u001b[0m\u001b[0;36m2\u001b[0m\u001b[0;34m)\u001b[0m\u001b[0;34m\u001b[0m\u001b[0m\n\u001b[0;32m---> 35\u001b[0;31m         \u001b[0;32mreturn\u001b[0m \u001b[0mobj\u001b[0m\u001b[0;34m(\u001b[0m\u001b[0;34m*\u001b[0m\u001b[0margs\u001b[0m\u001b[0;34m,\u001b[0m \u001b[0;34m**\u001b[0m\u001b[0mkwargs\u001b[0m\u001b[0;34m)\u001b[0m\u001b[0;34m\u001b[0m\u001b[0m\n\u001b[0m\u001b[1;32m     36\u001b[0m     oldfunc.__doc__ = (\n\u001b[1;32m     37\u001b[0m         obj.__doc__ or '') + \"\\n\\n.. warning::\\n\\n    \" + warnmsg + \"\\n\"\n",
        "\u001b[0;32m/usr/local/lib/python2.7/site-packages/tables/table.pyc\u001b[0m in \u001b[0;36mread_where\u001b[0;34m(self, condition, condvars, field, start, stop, step)\u001b[0m\n\u001b[1;32m   1565\u001b[0m         \u001b[0mself\u001b[0m\u001b[0;34m.\u001b[0m\u001b[0m_g_check_open\u001b[0m\u001b[0;34m(\u001b[0m\u001b[0;34m)\u001b[0m\u001b[0;34m\u001b[0m\u001b[0m\n\u001b[1;32m   1566\u001b[0m         coords = [p.nrow for p in\n\u001b[0;32m-> 1567\u001b[0;31m                   self._where(condition, condvars, start, stop, step)]\n\u001b[0m\u001b[1;32m   1568\u001b[0m         \u001b[0mself\u001b[0m\u001b[0;34m.\u001b[0m\u001b[0m_where_condition\u001b[0m \u001b[0;34m=\u001b[0m \u001b[0mNone\u001b[0m  \u001b[0;31m# reset the conditions\u001b[0m\u001b[0;34m\u001b[0m\u001b[0m\n\u001b[1;32m   1569\u001b[0m         \u001b[0;32mif\u001b[0m \u001b[0mlen\u001b[0m\u001b[0;34m(\u001b[0m\u001b[0mcoords\u001b[0m\u001b[0;34m)\u001b[0m \u001b[0;34m>\u001b[0m \u001b[0;36m1\u001b[0m\u001b[0;34m:\u001b[0m\u001b[0;34m\u001b[0m\u001b[0m\n",
        "\u001b[0;32m/usr/local/lib/python2.7/site-packages/tables/tableextension.so\u001b[0m in \u001b[0;36mtables.tableextension.Row.__next__ (tables/tableextension.c:9673)\u001b[0;34m()\u001b[0m\n",
        "\u001b[0;32m/usr/local/lib/python2.7/site-packages/tables/tableextension.so\u001b[0m in \u001b[0;36mtables.tableextension.Row.__next__indexed (tables/tableextension.c:10204)\u001b[0;34m()\u001b[0m\n",
        "\u001b[0;32m/usr/local/lib/python2.7/site-packages/tables/conditions.pyc\u001b[0m in \u001b[0;36mcall_on_recarr\u001b[0;34m(func, params, recarr, param2arg)\u001b[0m\n\u001b[1;32m    454\u001b[0m             \u001b[0marg\u001b[0m \u001b[0;34m=\u001b[0m \u001b[0mget_nested_field\u001b[0m\u001b[0;34m(\u001b[0m\u001b[0mrecarr\u001b[0m\u001b[0;34m,\u001b[0m \u001b[0marg\u001b[0m\u001b[0;34m.\u001b[0m\u001b[0mpathname\u001b[0m\u001b[0;34m)\u001b[0m\u001b[0;34m\u001b[0m\u001b[0m\n\u001b[1;32m    455\u001b[0m         \u001b[0margs\u001b[0m\u001b[0;34m.\u001b[0m\u001b[0mappend\u001b[0m\u001b[0;34m(\u001b[0m\u001b[0marg\u001b[0m\u001b[0;34m)\u001b[0m\u001b[0;34m\u001b[0m\u001b[0m\n\u001b[0;32m--> 456\u001b[0;31m     \u001b[0;32mreturn\u001b[0m \u001b[0mfunc\u001b[0m\u001b[0;34m(\u001b[0m\u001b[0;34m*\u001b[0m\u001b[0margs\u001b[0m\u001b[0;34m)\u001b[0m\u001b[0;34m\u001b[0m\u001b[0m\n\u001b[0m",
        "\u001b[0;31mKeyboardInterrupt\u001b[0m: "
       ]
      }
     ],
     "prompt_number": 37
    },
    {
     "cell_type": "code",
     "collapsed": false,
     "input": [],
     "language": "python",
     "metadata": {},
     "outputs": []
    }
   ],
   "metadata": {}
  }
 ]
}