{
 "metadata": {
  "name": "",
  "signature": "sha256:70976db611bbcb4c8178304c36365f22fb71bbd810c22254dffb9e545219b01a"
 },
 "nbformat": 3,
 "nbformat_minor": 0,
 "worksheets": [
  {
   "cells": [
    {
     "cell_type": "code",
     "collapsed": false,
     "input": [
      "import os\n",
      "import sys\n",
      "import pandas as pd\n",
      "import numpy as np\n",
      "os.getcwd()"
     ],
     "language": "python",
     "metadata": {},
     "outputs": []
    },
    {
     "cell_type": "code",
     "collapsed": false,
     "input": [
      "store_path = '/Users/pascaltimshel/snpsnap/data/step3/ld0.5_db.h5'"
     ],
     "language": "python",
     "metadata": {},
     "outputs": []
    },
    {
     "cell_type": "code",
     "collapsed": false,
     "input": [
      "store = pd.HDFStore(store_path, 'r') #"
     ],
     "language": "python",
     "metadata": {},
     "outputs": [],
     "prompt_number": 6
    },
    {
     "cell_type": "code",
     "collapsed": false,
     "input": [
      "df = store.get('dummy') # OK!"
     ],
     "language": "python",
     "metadata": {},
     "outputs": [],
     "prompt_number": 9
    },
    {
     "cell_type": "code",
     "collapsed": false,
     "input": [
      "print df.head()"
     ],
     "language": "python",
     "metadata": {},
     "outputs": [
      {
       "output_type": "stream",
       "stream": "stdout",
       "text": [
        "                    rsID  freq_bin  gene_count  dist_nearest_gene\n",
        "snpID                                                            \n",
        "7:152288872  rs116944133         1           5               1146\n",
        "8:141975135  rs145218714         1           2              24474\n",
        "2:193432576   rs56039804         1           6              62069\n",
        "4:137049380  rs116089565         1           1               2316\n",
        "20:40585062  rs148676411         1           0              34718\n",
        "\n",
        "[5 rows x 4 columns]\n"
       ]
      }
     ],
     "prompt_number": 10
    },
    {
     "cell_type": "code",
     "collapsed": false,
     "input": [
      "#%%timeit\n",
      "(max_freq_deviation, max_distance_deviation, max_genes_count_deviation) = (1,0,2)# (2,5,5) #max 16\n",
      "\n",
      "i = 12345\n",
      "N_sample_sets = 1000\n",
      "\n",
      "store = pd.HDFStore(store_path, 'r') #\n",
      "freq = df.ix[i,'freq_bin']\n",
      "gene_count = df.ix[i,'gene_count']\n",
      "dist = df.ix[i,'dist_nearest_gene']\n",
      "\n",
      "\n",
      "print zip( ('max_freq_deviation', 'max_distance_deviation', 'max_genes_count_deviation'), (max_freq_deviation, max_distance_deviation, max_genes_count_deviation) )\n",
      "\n",
      "n_attempts = 5\n",
      "delta_freq = np.rint(np.linspace(0,max_freq_deviation, n_attempts)).astype(int) # rounds to nearest integer and convert to int\n",
      "delta_gene_count = np.linspace(0,max_genes_count_deviation, n_attempts)\n",
      "if max_distance_deviation < 1:\n",
      "    print \"Warning: max_distance_deviation set to %s. Lowest possible max_distance_deviation is 1.\" % max_distance_deviation\n",
      "    max_distance_deviation = 1\n",
      "delta_dist = np.linspace(1,max_distance_deviation, n_attempts) # OBS distance deviation starts at 1 %\n",
      "\n",
      "for i in xrange(n_attempts):\n",
      "    (freq_low, freq_high) = (freq-delta_freq[i], freq+delta_freq[i])\n",
      "    # Frequency bins only goes from 0-49\n",
      "    # However bin 0 (i.e. 0-1) is empty due to data processeing\n",
      "    if freq_low < 0:\n",
      "        freq_low = 0\n",
      "    elif freq_high > 49:\n",
      "        freq_high = 49\n",
      "    #print (freq_low, freq_high)\n",
      "    (gene_count_low, gene_count_high) = ( gene_count*(1-delta_gene_count[i]), gene_count*(1+delta_gene_count[i]) )\n",
      "    #print (gene_count_low, gene_count_high)\n",
      "    (dist_low, dist_high) = ( dist*(1-delta_dist[i]), dist*(1+delta_dist[i]) )\n",
      "    print (dist_low, dist_high)\n",
      "    query_freq = '(freq_bin >= %s & freq_bin <= %s)' % (freq_low, freq_high)\n",
      "    query_gene_count = '(gene_count >= %s & gene_count <= %s)' % (gene_count_low, gene_count_high)\n",
      "    query_dist = '(dist_nearest_gene  >= %s & dist_nearest_gene  <= %s)' % (dist_low, dist_high)\n",
      "    \n",
      "    query = \"%s & %s & %s\" % (query_freq, query_gene_count, query_dist)\n",
      "    #df_retrive = store.select('dummy', query_prim, columns=[]).index # return no columns --> only index\n",
      "    df_matches = store.select('dummy', query)\n",
      "    \n",
      "    print \"SNP: {%s} query #%d: found %d hits\" % (\"placeholder\", i, len(df_matches.index))\n",
      "    if len(df_matches.index) >= N_sample_sets:\n",
      "        break\n",
      "\n",
      "df_matches.head()\n",
      "\n"
     ],
     "language": "python",
     "metadata": {},
     "outputs": [
      {
       "output_type": "stream",
       "stream": "stdout",
       "text": [
        "[('max_freq_deviation', 1), ('max_distance_deviation', 0), ('max_genes_count_deviation', 2)]\n",
        "Warning: max_distance_deviation set to 0. Lowest possible max_distance_deviation is 1.\n",
        "(0.0, 3234.0)\n",
        "SNP: {placeholder} query #0: found 104 hits"
       ]
      },
      {
       "output_type": "stream",
       "stream": "stdout",
       "text": [
        "\n",
        "(0.0, 3234.0)\n",
        "SNP: {placeholder} query #1: found 7461 hits"
       ]
      },
      {
       "output_type": "stream",
       "stream": "stdout",
       "text": [
        "\n"
       ]
      },
      {
       "html": [
        "<div style=\"max-height:1000px;max-width:1500px;overflow:auto;\">\n",
        "<table border=\"1\" class=\"dataframe\">\n",
        "  <thead>\n",
        "    <tr style=\"text-align: right;\">\n",
        "      <th></th>\n",
        "      <th>rsID</th>\n",
        "      <th>freq_bin</th>\n",
        "      <th>gene_count</th>\n",
        "      <th>dist_nearest_gene</th>\n",
        "    </tr>\n",
        "    <tr>\n",
        "      <th>snpID</th>\n",
        "      <th></th>\n",
        "      <th></th>\n",
        "      <th></th>\n",
        "      <th></th>\n",
        "    </tr>\n",
        "  </thead>\n",
        "  <tbody>\n",
        "    <tr>\n",
        "      <th>14:60865458</th>\n",
        "      <td> rs117869306</td>\n",
        "      <td> 1</td>\n",
        "      <td> 35</td>\n",
        "      <td>  194</td>\n",
        "    </tr>\n",
        "    <tr>\n",
        "      <th>7:141349302</th>\n",
        "      <td> rs143372159</td>\n",
        "      <td> 1</td>\n",
        "      <td> 27</td>\n",
        "      <td> 2879</td>\n",
        "    </tr>\n",
        "    <tr>\n",
        "      <th>10:104181006</th>\n",
        "      <td> rs111522958</td>\n",
        "      <td> 1</td>\n",
        "      <td> 32</td>\n",
        "      <td> 1435</td>\n",
        "    </tr>\n",
        "    <tr>\n",
        "      <th>2:24408226</th>\n",
        "      <td>  rs79527308</td>\n",
        "      <td> 1</td>\n",
        "      <td> 25</td>\n",
        "      <td> 1815</td>\n",
        "    </tr>\n",
        "    <tr>\n",
        "      <th>20:62688320</th>\n",
        "      <td> rs112824039</td>\n",
        "      <td> 1</td>\n",
        "      <td> 23</td>\n",
        "      <td>  164</td>\n",
        "    </tr>\n",
        "  </tbody>\n",
        "</table>\n",
        "<p>5 rows \u00d7 4 columns</p>\n",
        "</div>"
       ],
       "metadata": {},
       "output_type": "pyout",
       "prompt_number": 52,
       "text": [
        "                     rsID  freq_bin  gene_count  dist_nearest_gene\n",
        "snpID                                                             \n",
        "14:60865458   rs117869306         1          35                194\n",
        "7:141349302   rs143372159         1          27               2879\n",
        "10:104181006  rs111522958         1          32               1435\n",
        "2:24408226     rs79527308         1          25               1815\n",
        "20:62688320   rs112824039         1          23                164\n",
        "\n",
        "[5 rows x 4 columns]"
       ]
      }
     ],
     "prompt_number": 52
    },
    {
     "cell_type": "code",
     "collapsed": false,
     "input": [
      "query_prim_freq = '(freq_bin = %s)' % pfreq\n",
      "query_prim_density = '(gene_count = %s)' % pdensity\n",
      "query_prim_dist = '(dist_nearest_gene = %s)' % pdist\n",
      "\n",
      "query_prim = \"%s & %s & %s\" % (query_prim_freq, query_prim_density, query_prim_dist)\n",
      "#df_retrive = store.select('dummy', query_prim, columns=[]).index # return no columns --> only index\n",
      "df_retrive = store.select('dummy', query_prim)\n",
      "print df_retrive\n",
      "print df_retrive.values"
     ],
     "language": "python",
     "metadata": {},
     "outputs": [],
     "prompt_number": 1
    },
    {
     "cell_type": "code",
     "collapsed": false,
     "input": [
      "\n",
      "store = pd.HDFStore(store_path, 'r') #\n",
      "query = '(dist_nearest_gene  >= %s & dist_nearest_gene  <= %s)' % (450.5, 458.99)\n",
      "df_retrive = store.select('dummy', query)\n",
      "df_retrive.head()"
     ],
     "language": "python",
     "metadata": {},
     "outputs": [
      {
       "html": [
        "<div style=\"max-height:1000px;max-width:1500px;overflow:auto;\">\n",
        "<table border=\"1\" class=\"dataframe\">\n",
        "  <thead>\n",
        "    <tr style=\"text-align: right;\">\n",
        "      <th></th>\n",
        "      <th>rsID</th>\n",
        "      <th>freq_bin</th>\n",
        "      <th>gene_count</th>\n",
        "      <th>dist_nearest_gene</th>\n",
        "    </tr>\n",
        "    <tr>\n",
        "      <th>snpID</th>\n",
        "      <th></th>\n",
        "      <th></th>\n",
        "      <th></th>\n",
        "      <th></th>\n",
        "    </tr>\n",
        "  </thead>\n",
        "  <tbody>\n",
        "    <tr>\n",
        "      <th>1:108875833</th>\n",
        "      <td> rs140743593</td>\n",
        "      <td> 1</td>\n",
        "      <td> 11</td>\n",
        "      <td> 450</td>\n",
        "    </tr>\n",
        "    <tr>\n",
        "      <th>22:21356949</th>\n",
        "      <td>  rs61743040</td>\n",
        "      <td> 1</td>\n",
        "      <td>  5</td>\n",
        "      <td> 452</td>\n",
        "    </tr>\n",
        "    <tr>\n",
        "      <th>7:55640410</th>\n",
        "      <td>  rs67772217</td>\n",
        "      <td> 1</td>\n",
        "      <td>  2</td>\n",
        "      <td> 454</td>\n",
        "    </tr>\n",
        "    <tr>\n",
        "      <th>4:17063953</th>\n",
        "      <td> rs115357380</td>\n",
        "      <td> 1</td>\n",
        "      <td>  2</td>\n",
        "      <td> 452</td>\n",
        "    </tr>\n",
        "    <tr>\n",
        "      <th>4:115025544</th>\n",
        "      <td> rs148750750</td>\n",
        "      <td> 1</td>\n",
        "      <td>  1</td>\n",
        "      <td> 450</td>\n",
        "    </tr>\n",
        "  </tbody>\n",
        "</table>\n",
        "<p>5 rows \u00d7 4 columns</p>\n",
        "</div>"
       ],
       "metadata": {},
       "output_type": "pyout",
       "prompt_number": 39,
       "text": [
        "                    rsID  freq_bin  gene_count  dist_nearest_gene\n",
        "snpID                                                            \n",
        "1:108875833  rs140743593         1          11                450\n",
        "22:21356949   rs61743040         1           5                452\n",
        "7:55640410    rs67772217         1           2                454\n",
        "4:17063953   rs115357380         1           2                452\n",
        "4:115025544  rs148750750         1           1                450\n",
        "\n",
        "[5 rows x 4 columns]"
       ]
      }
     ],
     "prompt_number": 39
    },
    {
     "cell_type": "code",
     "collapsed": false,
     "input": [],
     "language": "python",
     "metadata": {},
     "outputs": [],
     "prompt_number": 33
    },
    {
     "cell_type": "code",
     "collapsed": false,
     "input": [],
     "language": "python",
     "metadata": {},
     "outputs": [],
     "prompt_number": 33
    },
    {
     "cell_type": "code",
     "collapsed": false,
     "input": [],
     "language": "python",
     "metadata": {},
     "outputs": [],
     "prompt_number": 33
    },
    {
     "cell_type": "code",
     "collapsed": false,
     "input": [],
     "language": "python",
     "metadata": {},
     "outputs": [],
     "prompt_number": 33
    },
    {
     "cell_type": "code",
     "collapsed": false,
     "input": [],
     "language": "python",
     "metadata": {},
     "outputs": []
    },
    {
     "cell_type": "code",
     "collapsed": false,
     "input": [
      "a = np.linspace(0,2,5)\n",
      "print a\n",
      "b = np.rint(a)\n",
      "print b\n",
      "c = np.rint(np.linspace(0,2,5))\n",
      "print c"
     ],
     "language": "python",
     "metadata": {},
     "outputs": [
      {
       "output_type": "stream",
       "stream": "stdout",
       "text": [
        "[ 0.   0.5  1.   1.5  2. ]\n",
        "[ 0.  0.  1.  2.  2.]\n",
        "[ 0.  0.  1.  2.  2.]\n"
       ]
      }
     ],
     "prompt_number": 28
    },
    {
     "cell_type": "code",
     "collapsed": false,
     "input": [
      "(max_freq_deviation, max_distance_deviation, max_genes_count_deviation) = (2,5,5)\n"
     ],
     "language": "python",
     "metadata": {},
     "outputs": [],
     "prompt_number": 19
    },
    {
     "cell_type": "code",
     "collapsed": false,
     "input": [],
     "language": "python",
     "metadata": {},
     "outputs": [],
     "prompt_number": 1
    },
    {
     "cell_type": "code",
     "collapsed": false,
     "input": [],
     "language": "python",
     "metadata": {},
     "outputs": [],
     "prompt_number": 1
    },
    {
     "cell_type": "code",
     "collapsed": false,
     "input": [],
     "language": "python",
     "metadata": {},
     "outputs": [],
     "prompt_number": 1
    },
    {
     "cell_type": "code",
     "collapsed": false,
     "input": [],
     "language": "python",
     "metadata": {},
     "outputs": [],
     "prompt_number": 1
    },
    {
     "cell_type": "code",
     "collapsed": false,
     "input": [],
     "language": "python",
     "metadata": {},
     "outputs": [],
     "prompt_number": 1
    },
    {
     "cell_type": "code",
     "collapsed": false,
     "input": [],
     "language": "python",
     "metadata": {},
     "outputs": [],
     "prompt_number": 1
    },
    {
     "cell_type": "code",
     "collapsed": false,
     "input": [],
     "language": "python",
     "metadata": {},
     "outputs": [],
     "prompt_number": 1
    },
    {
     "cell_type": "code",
     "collapsed": false,
     "input": [],
     "language": "python",
     "metadata": {},
     "outputs": [],
     "prompt_number": 1
    },
    {
     "cell_type": "code",
     "collapsed": false,
     "input": [],
     "language": "python",
     "metadata": {},
     "outputs": []
    }
   ],
   "metadata": {}
  }
 ]
}