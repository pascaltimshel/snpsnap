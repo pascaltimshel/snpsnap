{
 "metadata": {
  "name": "",
  "signature": "sha256:b046d4a8c9d09635247367869b0e95b3dd79032421a7757be466ef7821c427d3"
 },
 "nbformat": 3,
 "nbformat_minor": 0,
 "worksheets": [
  {
   "cells": [
    {
     "cell_type": "code",
     "collapsed": false,
     "input": [
      "import os\n",
      "import sys\n",
      "import pandas as pd\n",
      "import numpy as np\n",
      "import time\n",
      "import gzip\n",
      "import zlib\n",
      "os.getcwd()"
     ],
     "language": "python",
     "metadata": {},
     "outputs": [
      {
       "metadata": {},
       "output_type": "pyout",
       "prompt_number": 3,
       "text": [
        "'/Users/pascaltimshel/git/snpsnap/notebooks'"
       ]
      }
     ],
     "prompt_number": 3
    },
    {
     "cell_type": "heading",
     "level": 1,
     "metadata": {},
     "source": [
      "Original HDF5"
     ]
    },
    {
     "cell_type": "heading",
     "level": 2,
     "metadata": {},
     "source": [
      "1. Reading from store"
     ]
    },
    {
     "cell_type": "code",
     "collapsed": false,
     "input": [
      "file_db = \"/Users/pascaltimshel/snpsnap/data/step3/ld0.5/ld0.5_db.h5\""
     ],
     "language": "python",
     "metadata": {},
     "outputs": [],
     "prompt_number": 24
    },
    {
     "cell_type": "code",
     "collapsed": false,
     "input": [
      "start_time = time.time()\n",
      "store = pd.HDFStore(file_db, 'r')\n",
      "dataframe_orig = store.select('dummy') # read data frame\n",
      "store.close()\n",
      "elapsed_time = time.time()-start_time\n",
      "print \"time taken: %s\" % elapsed_time"
     ],
     "language": "python",
     "metadata": {},
     "outputs": [
      {
       "output_type": "stream",
       "stream": "stdout",
       "text": [
        "time taken: 5.34850406647\n"
       ]
      }
     ],
     "prompt_number": 25
    },
    {
     "cell_type": "code",
     "collapsed": false,
     "input": [
      "dataframe_orig.head(2)"
     ],
     "language": "python",
     "metadata": {},
     "outputs": [
      {
       "html": [
        "<div style=\"max-height:1000px;max-width:1500px;overflow:auto;\">\n",
        "<table border=\"1\" class=\"dataframe\">\n",
        "  <thead>\n",
        "    <tr style=\"text-align: right;\">\n",
        "      <th></th>\n",
        "      <th>rsID</th>\n",
        "      <th>freq_bin</th>\n",
        "      <th>gene_count</th>\n",
        "      <th>dist_nearest_gene</th>\n",
        "    </tr>\n",
        "    <tr>\n",
        "      <th>snpID</th>\n",
        "      <th></th>\n",
        "      <th></th>\n",
        "      <th></th>\n",
        "      <th></th>\n",
        "    </tr>\n",
        "  </thead>\n",
        "  <tbody>\n",
        "    <tr>\n",
        "      <th>7:152288872</th>\n",
        "      <td> rs116944133</td>\n",
        "      <td> 1</td>\n",
        "      <td> 5</td>\n",
        "      <td>  1146</td>\n",
        "    </tr>\n",
        "    <tr>\n",
        "      <th>8:141975135</th>\n",
        "      <td> rs145218714</td>\n",
        "      <td> 1</td>\n",
        "      <td> 2</td>\n",
        "      <td> 24474</td>\n",
        "    </tr>\n",
        "  </tbody>\n",
        "</table>\n",
        "<p>2 rows \u00d7 4 columns</p>\n",
        "</div>"
       ],
       "metadata": {},
       "output_type": "pyout",
       "prompt_number": 28,
       "text": [
        "                    rsID  freq_bin  gene_count  dist_nearest_gene\n",
        "snpID                                                            \n",
        "7:152288872  rs116944133         1           5               1146\n",
        "8:141975135  rs145218714         1           2              24474\n",
        "\n",
        "[2 rows x 4 columns]"
       ]
      }
     ],
     "prompt_number": 28
    },
    {
     "cell_type": "heading",
     "level": 2,
     "metadata": {},
     "source": [
      "1.b Modifying the data frame"
     ]
    },
    {
     "cell_type": "code",
     "collapsed": false,
     "input": [
      "dataframe = dataframe_orig.drop('rsID', axis=1) # remove rsID col.\n",
      "dataframe.columns"
     ],
     "language": "python",
     "metadata": {},
     "outputs": [
      {
       "metadata": {},
       "output_type": "pyout",
       "prompt_number": 31,
       "text": [
        "Index([u'freq_bin', u'gene_count', u'dist_nearest_gene'], dtype='object')"
       ]
      }
     ],
     "prompt_number": 31
    },
    {
     "cell_type": "code",
     "collapsed": false,
     "input": [
      "dataframe.columns = ['freq_bin', 'gene_count', 'dist_nearest_gene_snpsnap'] # changing dist col to a longer name \n",
      "dataframe.head(2)"
     ],
     "language": "python",
     "metadata": {},
     "outputs": [
      {
       "html": [
        "<div style=\"max-height:1000px;max-width:1500px;overflow:auto;\">\n",
        "<table border=\"1\" class=\"dataframe\">\n",
        "  <thead>\n",
        "    <tr style=\"text-align: right;\">\n",
        "      <th></th>\n",
        "      <th>freq_bin</th>\n",
        "      <th>gene_count</th>\n",
        "      <th>dist_nearest_gene_snpsnap</th>\n",
        "    </tr>\n",
        "    <tr>\n",
        "      <th>snpID</th>\n",
        "      <th></th>\n",
        "      <th></th>\n",
        "      <th></th>\n",
        "    </tr>\n",
        "  </thead>\n",
        "  <tbody>\n",
        "    <tr>\n",
        "      <th>7:152288872</th>\n",
        "      <td> 1</td>\n",
        "      <td> 5</td>\n",
        "      <td>  1146</td>\n",
        "    </tr>\n",
        "    <tr>\n",
        "      <th>8:141975135</th>\n",
        "      <td> 1</td>\n",
        "      <td> 2</td>\n",
        "      <td> 24474</td>\n",
        "    </tr>\n",
        "  </tbody>\n",
        "</table>\n",
        "<p>2 rows \u00d7 3 columns</p>\n",
        "</div>"
       ],
       "metadata": {},
       "output_type": "pyout",
       "prompt_number": 33,
       "text": [
        "             freq_bin  gene_count  dist_nearest_gene_snpsnap\n",
        "snpID                                                       \n",
        "7:152288872         1           5                       1146\n",
        "8:141975135         1           2                      24474\n",
        "\n",
        "[2 rows x 3 columns]"
       ]
      }
     ],
     "prompt_number": 33
    },
    {
     "cell_type": "heading",
     "level": 2,
     "metadata": {},
     "source": [
      "2. Writing DF to store"
     ]
    },
    {
     "cell_type": "code",
     "collapsed": false,
     "input": [],
     "language": "python",
     "metadata": {},
     "outputs": []
    },
    {
     "cell_type": "code",
     "collapsed": false,
     "input": [
      "# will write to CWD\n",
      "#file_hdf5_no_comp = \"ld0.5_ORIGINAL_db_no_comp.h5\"\n",
      "#file_hdf5_blosc9 = \"ld0.5_ORIGINAL_db_blosc9.h5\"\n",
      "\n",
      "#file_hdf5_no_comp = \"ld0.5_ORIGINAL_mod_db_no_comp.h5\"\n",
      "file_hdf5_blosc9 = \"ld0.5_ORIGINAL_mod_db_blosc9.h5\""
     ],
     "language": "python",
     "metadata": {},
     "outputs": [],
     "prompt_number": 34
    },
    {
     "cell_type": "code",
     "collapsed": false,
     "input": [
      "file_hdf5 = file_hdf5_blosc9 # SWITCH\n",
      "print \"file is %s\" % file_hdf5\n",
      "\n",
      "store_w = pd.HDFStore(file_hdf5, 'w', complevel=9, complib='blosc') # blosc9\n",
      "#store_w = pd.HDFStore(file_hdf5, 'w', complevel=9, complib='zlib') # zlib9\n",
      "#store_w = pd.HDFStore(file_hdf5, 'w', complevel=1, complib='zlib') # zlib1\n",
      "#store_w = pd.HDFStore(file_hdf5, 'w', complevel=1, complib='lzo') # lzo1\n",
      "#store_w = pd.HDFStore(file_hdf5, 'w') # NO COMPRESSION\n",
      "\n",
      "start_time = time.time()\n",
      "print \"START: Writing to HDF5 file: %s\" % file_hdf5\n",
      "store_w.put('dummy', dataframe, format='table', append=False, data_columns=True)\n",
      "store_w.close()\n",
      "elapsed_time = time.time() - start_time\n",
      "print \"END: Elapsed_time of writing file: %.3f s (%.2f min)\" % (elapsed_time, elapsed_time/60)\n",
      "file_hdf5_size = os.path.getsize(file_hdf5)\n",
      "print \"Size of HDF5 file: %s bytes (%.1f MB)\" % (file_hdf5_size, file_hdf5_size/(1024*1024.0))"
     ],
     "language": "python",
     "metadata": {},
     "outputs": [
      {
       "output_type": "stream",
       "stream": "stdout",
       "text": [
        "file is ld0.5_ORIGINAL_mod_db_blosc9.h5\n",
        "START: Writing to HDF5 file: ld0.5_ORIGINAL_mod_db_blosc9.h5\n",
        "END: Elapsed_time of writing file: 36.323 s (0.61 min)"
       ]
      },
      {
       "output_type": "stream",
       "stream": "stdout",
       "text": [
        "\n",
        "Size of HDF5 file: 187440960 bytes (178.8 MB)\n"
       ]
      }
     ],
     "prompt_number": 35
    },
    {
     "cell_type": "code",
     "collapsed": false,
     "input": [],
     "language": "python",
     "metadata": {},
     "outputs": [],
     "prompt_number": 5
    },
    {
     "cell_type": "heading",
     "level": 2,
     "metadata": {},
     "source": [
      "3. Look at the internal stats of the HDF5"
     ]
    },
    {
     "cell_type": "code",
     "collapsed": false,
     "input": [],
     "language": "python",
     "metadata": {},
     "outputs": [],
     "prompt_number": 13
    },
    {
     "cell_type": "heading",
     "level": 2,
     "metadata": {},
     "source": [
      "4. Test query time of OSX written HDF5 file"
     ]
    },
    {
     "cell_type": "code",
     "collapsed": false,
     "input": [
      "#file_db = \"ld0.5_ORIGINAL_db_no_comp.h5\"\n",
      "#file_db = \"ld0.5_ORIGINAL_db_blosc9.h5\"\n",
      "\n",
      "#file_db = \"ld0.5_ORIGINAL_mod_db_no_comp.h5\"\n",
      "file_db = \"ld0.5_ORIGINAL_mod_db_blosc9.h5\""
     ],
     "language": "python",
     "metadata": {},
     "outputs": [],
     "prompt_number": 36
    },
    {
     "cell_type": "code",
     "collapsed": false,
     "input": [
      "user_snps = [\"14:69873335\", \"9:5453460\", \"7:88660988\", \"1:201688955\", \"1:181844943\", \"18:67015865\", \"6:32592119\", \"9:133472747\", \"4:63055561\", \"11:127160664\"]*100\n",
      "store = pd.HDFStore(file_db, 'r')\n",
      "list_of_df = []\n",
      "start_time = time.time()\n",
      "for item in user_snps:\n",
      "    print \"selection for snpID: %s\" % item\n",
      "    query_freq = '(freq_bin >= 5 & freq_bin <= 10)'\n",
      "    query_gene_count = '(gene_count >= 5 & gene_count <= 30)'\n",
      "    #query_dist = '(dist_nearest_gene  >= 200 & dist_nearest_gene  <= 2000)' #for UNMODIFIED\n",
      "    query_dist = '(dist_nearest_gene_snpsnap  >= 200 & dist_nearest_gene_snpsnap  <= 2000)' #for MODIFIED\n",
      "\n",
      "    query = \"%s & %s & %s\" % (query_freq, query_gene_count, query_dist) # WITHOUT query_ld_buddy_count\n",
      "    \n",
      "    start_time = time.time()\n",
      "    #match_ID = store.select('dummy', query, columns=[]) # return no columns --> only index \n",
      "    match_ID = store.select('dummy', query) # return FULL DF\n",
      "    elapsed_time = time.time() - start_time\n",
      "    print \"found %s matching SNPs\" % len(match_ID)\n",
      "    print \"time elapsed: %s\" % elapsed_time \n",
      "store.close()\n",
      "user_snps_df = pd.concat(list_of_df)"
     ],
     "language": "python",
     "metadata": {},
     "outputs": [
      {
       "output_type": "stream",
       "stream": "stdout",
       "text": [
        "selection for snpID: 14:69873335\n",
        "found 164491 matching SNPs"
       ]
      },
      {
       "output_type": "stream",
       "stream": "stdout",
       "text": [
        "\n",
        "time elapsed: 0.816192150116\n",
        "selection for snpID: 9:5453460\n",
        "found 164491 matching SNPs"
       ]
      },
      {
       "output_type": "stream",
       "stream": "stdout",
       "text": [
        "\n",
        "time elapsed: 0.80042886734\n",
        "selection for snpID: 7:88660988\n",
        "found 164491 matching SNPs"
       ]
      },
      {
       "output_type": "stream",
       "stream": "stdout",
       "text": [
        "\n",
        "time elapsed: 0.815894842148\n",
        "selection for snpID: 1:201688955\n",
        "found 164491 matching SNPs"
       ]
      },
      {
       "output_type": "stream",
       "stream": "stdout",
       "text": [
        "\n",
        "time elapsed: 0.82090306282\n",
        "selection for snpID: 1:181844943\n",
        "found 164491 matching SNPs"
       ]
      },
      {
       "output_type": "stream",
       "stream": "stdout",
       "text": [
        "\n",
        "time elapsed: 0.809310913086\n",
        "selection for snpID: 18:67015865\n",
        "found 164491 matching SNPs"
       ]
      },
      {
       "output_type": "stream",
       "stream": "stdout",
       "text": [
        "\n",
        "time elapsed: 0.765785932541\n",
        "selection for snpID: 6:32592119\n",
        "found 164491 matching SNPs"
       ]
      },
      {
       "output_type": "stream",
       "stream": "stdout",
       "text": [
        "\n",
        "time elapsed: 0.796098947525\n",
        "selection for snpID: 9:133472747\n",
        "found 164491 matching SNPs"
       ]
      },
      {
       "output_type": "stream",
       "stream": "stdout",
       "text": [
        "\n",
        "time elapsed: 0.811746120453\n",
        "selection for snpID: 4:63055561\n",
        "found 164491 matching SNPs"
       ]
      },
      {
       "output_type": "stream",
       "stream": "stdout",
       "text": [
        "\n",
        "time elapsed: 0.792728185654\n",
        "selection for snpID: 11:127160664\n",
        "found 164491 matching SNPs"
       ]
      },
      {
       "output_type": "stream",
       "stream": "stdout",
       "text": [
        "\n",
        "time elapsed: 0.774403810501\n",
        "selection for snpID: 14:69873335\n",
        "found 164491 matching SNPs"
       ]
      },
      {
       "output_type": "stream",
       "stream": "stdout",
       "text": [
        "\n",
        "time elapsed: 0.767582178116\n",
        "selection for snpID: 9:5453460\n",
        "found 164491 matching SNPs"
       ]
      },
      {
       "output_type": "stream",
       "stream": "stdout",
       "text": [
        "\n",
        "time elapsed: 0.766935110092\n",
        "selection for snpID: 7:88660988\n",
        "found 164491 matching SNPs"
       ]
      },
      {
       "output_type": "stream",
       "stream": "stdout",
       "text": [
        "\n",
        "time elapsed: 0.773638963699\n",
        "selection for snpID: 1:201688955\n",
        "found 164491 matching SNPs"
       ]
      },
      {
       "output_type": "stream",
       "stream": "stdout",
       "text": [
        "\n",
        "time elapsed: 0.770687103271\n",
        "selection for snpID: 1:181844943\n",
        "found 164491 matching SNPs"
       ]
      },
      {
       "output_type": "stream",
       "stream": "stdout",
       "text": [
        "\n",
        "time elapsed: 0.766919136047\n",
        "selection for snpID: 18:67015865\n",
        "found 164491 matching SNPs"
       ]
      },
      {
       "output_type": "stream",
       "stream": "stdout",
       "text": [
        "\n",
        "time elapsed: 0.792622804642\n",
        "selection for snpID: 6:32592119\n",
        "found 164491 matching SNPs"
       ]
      },
      {
       "output_type": "stream",
       "stream": "stdout",
       "text": [
        "\n",
        "time elapsed: 0.772015094757\n",
        "selection for snpID: 9:133472747\n",
        "found 164491 matching SNPs"
       ]
      },
      {
       "output_type": "stream",
       "stream": "stdout",
       "text": [
        "\n",
        "time elapsed: 0.843657016754\n",
        "selection for snpID: 4:63055561\n",
        "found 164491 matching SNPs"
       ]
      },
      {
       "output_type": "stream",
       "stream": "stdout",
       "text": [
        "\n",
        "time elapsed: 0.796003103256\n",
        "selection for snpID: 11:127160664\n",
        "found 164491 matching SNPs"
       ]
      },
      {
       "output_type": "stream",
       "stream": "stdout",
       "text": [
        "\n",
        "time elapsed: 0.773069858551\n",
        "selection for snpID: 14:69873335\n",
        "found 164491 matching SNPs"
       ]
      },
      {
       "output_type": "stream",
       "stream": "stdout",
       "text": [
        "\n",
        "time elapsed: 0.780937194824\n",
        "selection for snpID: 9:5453460\n",
        "found 164491 matching SNPs"
       ]
      },
      {
       "output_type": "stream",
       "stream": "stdout",
       "text": [
        "\n",
        "time elapsed: 0.774847984314\n",
        "selection for snpID: 7:88660988\n",
        "found 164491 matching SNPs"
       ]
      },
      {
       "output_type": "stream",
       "stream": "stdout",
       "text": [
        "\n",
        "time elapsed: 0.787602901459\n",
        "selection for snpID: 1:201688955\n",
        "found 164491 matching SNPs"
       ]
      },
      {
       "output_type": "stream",
       "stream": "stdout",
       "text": [
        "\n",
        "time elapsed: 0.780591011047\n",
        "selection for snpID: 1:181844943\n",
        "found 164491 matching SNPs"
       ]
      },
      {
       "output_type": "stream",
       "stream": "stdout",
       "text": [
        "\n",
        "time elapsed: 0.791728973389\n",
        "selection for snpID: 18:67015865\n",
        "found 164491 matching SNPs"
       ]
      },
      {
       "output_type": "stream",
       "stream": "stdout",
       "text": [
        "\n",
        "time elapsed: 0.811010837555\n",
        "selection for snpID: 6:32592119\n",
        "found 164491 matching SNPs"
       ]
      },
      {
       "output_type": "stream",
       "stream": "stdout",
       "text": [
        "\n",
        "time elapsed: 0.841603040695\n",
        "selection for snpID: 9:133472747\n",
        "found 164491 matching SNPs"
       ]
      },
      {
       "output_type": "stream",
       "stream": "stdout",
       "text": [
        "\n",
        "time elapsed: 0.796272039413\n",
        "selection for snpID: 4:63055561\n",
        "found 164491 matching SNPs"
       ]
      },
      {
       "output_type": "stream",
       "stream": "stdout",
       "text": [
        "\n",
        "time elapsed: 0.779611110687\n",
        "selection for snpID: 11:127160664\n",
        "found 164491 matching SNPs"
       ]
      },
      {
       "output_type": "stream",
       "stream": "stdout",
       "text": [
        "\n",
        "time elapsed: 0.772906064987\n",
        "selection for snpID: 14:69873335\n",
        "found 164491 matching SNPs"
       ]
      },
      {
       "output_type": "stream",
       "stream": "stdout",
       "text": [
        "\n",
        "time elapsed: 0.76939702034\n",
        "selection for snpID: 9:5453460\n",
        "found 164491 matching SNPs"
       ]
      },
      {
       "output_type": "stream",
       "stream": "stdout",
       "text": [
        "\n",
        "time elapsed: 0.782006025314\n",
        "selection for snpID: 7:88660988\n",
        "found 164491 matching SNPs"
       ]
      },
      {
       "output_type": "stream",
       "stream": "stdout",
       "text": [
        "\n",
        "time elapsed: 0.788677930832\n",
        "selection for snpID: 1:201688955\n",
        "found 164491 matching SNPs"
       ]
      },
      {
       "output_type": "stream",
       "stream": "stdout",
       "text": [
        "\n",
        "time elapsed: 0.77773809433\n",
        "selection for snpID: 1:181844943\n",
        "found 164491 matching SNPs"
       ]
      },
      {
       "output_type": "stream",
       "stream": "stdout",
       "text": [
        "\n",
        "time elapsed: 0.775069952011\n",
        "selection for snpID: 18:67015865\n",
        "found 164491 matching SNPs"
       ]
      },
      {
       "output_type": "stream",
       "stream": "stdout",
       "text": [
        "\n",
        "time elapsed: 0.787249088287\n",
        "selection for snpID: 6:32592119\n",
        "found 164491 matching SNPs"
       ]
      },
      {
       "output_type": "stream",
       "stream": "stdout",
       "text": [
        "\n",
        "time elapsed: 0.846366167068\n",
        "selection for snpID: 9:133472747\n",
        "found 164491 matching SNPs"
       ]
      },
      {
       "output_type": "stream",
       "stream": "stdout",
       "text": [
        "\n",
        "time elapsed: 0.795166969299\n",
        "selection for snpID: 4:63055561\n",
        "found 164491 matching SNPs"
       ]
      },
      {
       "output_type": "stream",
       "stream": "stdout",
       "text": [
        "\n",
        "time elapsed: 0.79056596756\n",
        "selection for snpID: 11:127160664\n",
        "found 164491 matching SNPs"
       ]
      },
      {
       "output_type": "stream",
       "stream": "stdout",
       "text": [
        "\n",
        "time elapsed: 0.890499830246\n",
        "selection for snpID: 14:69873335\n",
        "found 164491 matching SNPs"
       ]
      },
      {
       "output_type": "stream",
       "stream": "stdout",
       "text": [
        "\n",
        "time elapsed: 0.897199869156\n",
        "selection for snpID: 9:5453460\n",
        "found 164491 matching SNPs"
       ]
      },
      {
       "output_type": "stream",
       "stream": "stdout",
       "text": [
        "\n",
        "time elapsed: 0.974608898163\n",
        "selection for snpID: 7:88660988\n",
        "found 164491 matching SNPs"
       ]
      },
      {
       "output_type": "stream",
       "stream": "stdout",
       "text": [
        "\n",
        "time elapsed: 0.813673973083\n",
        "selection for snpID: 1:201688955\n",
        "found 164491 matching SNPs"
       ]
      },
      {
       "output_type": "stream",
       "stream": "stdout",
       "text": [
        "\n",
        "time elapsed: 0.825735092163\n",
        "selection for snpID: 1:181844943\n",
        "found 164491 matching SNPs"
       ]
      },
      {
       "output_type": "stream",
       "stream": "stdout",
       "text": [
        "\n",
        "time elapsed: 0.80228805542\n",
        "selection for snpID: 18:67015865\n",
        "found 164491 matching SNPs"
       ]
      },
      {
       "output_type": "stream",
       "stream": "stdout",
       "text": [
        "\n",
        "time elapsed: 0.771971940994\n",
        "selection for snpID: 6:32592119\n",
        "found 164491 matching SNPs"
       ]
      },
      {
       "output_type": "stream",
       "stream": "stdout",
       "text": [
        "\n",
        "time elapsed: 0.763602018356\n",
        "selection for snpID: 9:133472747\n",
        "found 164491 matching SNPs"
       ]
      },
      {
       "output_type": "stream",
       "stream": "stdout",
       "text": [
        "\n",
        "time elapsed: 0.769568920135\n",
        "selection for snpID: 4:63055561\n",
        "found 164491 matching SNPs"
       ]
      },
      {
       "output_type": "stream",
       "stream": "stdout",
       "text": [
        "\n",
        "time elapsed: 0.771394014359\n",
        "selection for snpID: 11:127160664\n",
        "found 164491 matching SNPs"
       ]
      },
      {
       "output_type": "stream",
       "stream": "stdout",
       "text": [
        "\n",
        "time elapsed: 0.827209949493\n",
        "selection for snpID: 14:69873335\n",
        "found 164491 matching SNPs"
       ]
      },
      {
       "output_type": "stream",
       "stream": "stdout",
       "text": [
        "\n",
        "time elapsed: 0.809946060181\n",
        "selection for snpID: 9:5453460\n",
        "found 164491 matching SNPs"
       ]
      },
      {
       "output_type": "stream",
       "stream": "stdout",
       "text": [
        "\n",
        "time elapsed: 0.766568899155\n",
        "selection for snpID: 7:88660988\n",
        "found 164491 matching SNPs"
       ]
      },
      {
       "output_type": "stream",
       "stream": "stdout",
       "text": [
        "\n",
        "time elapsed: 0.780722141266\n",
        "selection for snpID: 1:201688955\n",
        "found 164491 matching SNPs"
       ]
      },
      {
       "output_type": "stream",
       "stream": "stdout",
       "text": [
        "\n",
        "time elapsed: 0.763859987259\n",
        "selection for snpID: 1:181844943\n",
        "found 164491 matching SNPs"
       ]
      },
      {
       "output_type": "stream",
       "stream": "stdout",
       "text": [
        "\n",
        "time elapsed: 0.771636009216\n",
        "selection for snpID: 18:67015865\n",
        "found 164491 matching SNPs"
       ]
      },
      {
       "output_type": "stream",
       "stream": "stdout",
       "text": [
        "\n",
        "time elapsed: 0.78292798996\n",
        "selection for snpID: 6:32592119\n",
        "found 164491 matching SNPs"
       ]
      },
      {
       "output_type": "stream",
       "stream": "stdout",
       "text": [
        "\n",
        "time elapsed: 0.774999856949\n",
        "selection for snpID: 9:133472747\n",
        "found 164491 matching SNPs"
       ]
      },
      {
       "output_type": "stream",
       "stream": "stdout",
       "text": [
        "\n",
        "time elapsed: 0.774498939514\n",
        "selection for snpID: 4:63055561\n",
        "found 164491 matching SNPs"
       ]
      },
      {
       "output_type": "stream",
       "stream": "stdout",
       "text": [
        "\n",
        "time elapsed: 0.765783071518\n",
        "selection for snpID: 11:127160664\n",
        "found 164491 matching SNPs"
       ]
      },
      {
       "output_type": "stream",
       "stream": "stdout",
       "text": [
        "\n",
        "time elapsed: 0.76220202446\n",
        "selection for snpID: 14:69873335\n",
        "found 164491 matching SNPs"
       ]
      },
      {
       "output_type": "stream",
       "stream": "stdout",
       "text": [
        "\n",
        "time elapsed: 0.789756059647\n",
        "selection for snpID: 9:5453460\n",
        "found 164491 matching SNPs"
       ]
      },
      {
       "output_type": "stream",
       "stream": "stdout",
       "text": [
        "\n",
        "time elapsed: 0.772922039032\n",
        "selection for snpID: 7:88660988\n",
        "found 164491 matching SNPs"
       ]
      },
      {
       "output_type": "stream",
       "stream": "stdout",
       "text": [
        "\n",
        "time elapsed: 0.779123067856\n",
        "selection for snpID: 1:201688955\n",
        "found 164491 matching SNPs"
       ]
      },
      {
       "output_type": "stream",
       "stream": "stdout",
       "text": [
        "\n",
        "time elapsed: 0.773320913315\n",
        "selection for snpID: 1:181844943\n",
        "found 164491 matching SNPs"
       ]
      },
      {
       "output_type": "stream",
       "stream": "stdout",
       "text": [
        "\n",
        "time elapsed: 0.76987195015\n",
        "selection for snpID: 18:67015865\n",
        "found 164491 matching SNPs"
       ]
      },
      {
       "output_type": "stream",
       "stream": "stdout",
       "text": [
        "\n",
        "time elapsed: 0.774456977844\n",
        "selection for snpID: 6:32592119\n",
        "found 164491 matching SNPs"
       ]
      },
      {
       "output_type": "stream",
       "stream": "stdout",
       "text": [
        "\n",
        "time elapsed: 0.786053180695\n",
        "selection for snpID: 9:133472747\n",
        "found 164491 matching SNPs"
       ]
      },
      {
       "output_type": "stream",
       "stream": "stdout",
       "text": [
        "\n",
        "time elapsed: 0.770640134811\n",
        "selection for snpID: 4:63055561\n",
        "found 164491 matching SNPs"
       ]
      },
      {
       "output_type": "stream",
       "stream": "stdout",
       "text": [
        "\n",
        "time elapsed: 0.767113208771\n",
        "selection for snpID: 11:127160664\n",
        "found 164491 matching SNPs"
       ]
      },
      {
       "output_type": "stream",
       "stream": "stdout",
       "text": [
        "\n",
        "time elapsed: 0.770152807236\n",
        "selection for snpID: 14:69873335\n",
        "found 164491 matching SNPs"
       ]
      },
      {
       "output_type": "stream",
       "stream": "stdout",
       "text": [
        "\n",
        "time elapsed: 0.765189170837\n",
        "selection for snpID: 9:5453460\n",
        "found 164491 matching SNPs"
       ]
      },
      {
       "output_type": "stream",
       "stream": "stdout",
       "text": [
        "\n",
        "time elapsed: 0.764116048813\n",
        "selection for snpID: 7:88660988\n",
        "found 164491 matching SNPs"
       ]
      },
      {
       "output_type": "stream",
       "stream": "stdout",
       "text": [
        "\n",
        "time elapsed: 0.772519826889\n",
        "selection for snpID: 1:201688955\n",
        "found 164491 matching SNPs"
       ]
      },
      {
       "output_type": "stream",
       "stream": "stdout",
       "text": [
        "\n",
        "time elapsed: 0.789159059525\n",
        "selection for snpID: 1:181844943\n",
        "found 164491 matching SNPs"
       ]
      },
      {
       "output_type": "stream",
       "stream": "stdout",
       "text": [
        "\n",
        "time elapsed: 0.79788184166\n",
        "selection for snpID: 18:67015865\n",
        "found 164491 matching SNPs"
       ]
      },
      {
       "output_type": "stream",
       "stream": "stdout",
       "text": [
        "\n",
        "time elapsed: 0.806629180908\n",
        "selection for snpID: 6:32592119\n",
        "found 164491 matching SNPs"
       ]
      },
      {
       "output_type": "stream",
       "stream": "stdout",
       "text": [
        "\n",
        "time elapsed: 0.787564992905\n",
        "selection for snpID: 9:133472747\n",
        "found 164491 matching SNPs"
       ]
      },
      {
       "output_type": "stream",
       "stream": "stdout",
       "text": [
        "\n",
        "time elapsed: 0.812211990356\n",
        "selection for snpID: 4:63055561\n",
        "found 164491 matching SNPs"
       ]
      },
      {
       "output_type": "stream",
       "stream": "stdout",
       "text": [
        "\n",
        "time elapsed: 0.830330848694\n",
        "selection for snpID: 11:127160664\n",
        "found 164491 matching SNPs"
       ]
      },
      {
       "output_type": "stream",
       "stream": "stdout",
       "text": [
        "\n",
        "time elapsed: 0.863269090652\n",
        "selection for snpID: 14:69873335\n",
        "found 164491 matching SNPs"
       ]
      },
      {
       "output_type": "stream",
       "stream": "stdout",
       "text": [
        "\n",
        "time elapsed: 0.830889940262\n",
        "selection for snpID: 9:5453460\n",
        "found 164491 matching SNPs"
       ]
      },
      {
       "output_type": "stream",
       "stream": "stdout",
       "text": [
        "\n",
        "time elapsed: 0.80975484848\n",
        "selection for snpID: 7:88660988\n",
        "found 164491 matching SNPs"
       ]
      },
      {
       "output_type": "stream",
       "stream": "stdout",
       "text": [
        "\n",
        "time elapsed: 0.806951999664\n",
        "selection for snpID: 1:201688955\n",
        "found 164491 matching SNPs"
       ]
      },
      {
       "output_type": "stream",
       "stream": "stdout",
       "text": [
        "\n",
        "time elapsed: 0.794493913651\n",
        "selection for snpID: 1:181844943\n",
        "found 164491 matching SNPs"
       ]
      },
      {
       "output_type": "stream",
       "stream": "stdout",
       "text": [
        "\n",
        "time elapsed: 0.79665017128\n",
        "selection for snpID: 18:67015865\n",
        "found 164491 matching SNPs"
       ]
      },
      {
       "output_type": "stream",
       "stream": "stdout",
       "text": [
        "\n",
        "time elapsed: 0.771582126617\n",
        "selection for snpID: 6:32592119\n",
        "found 164491 matching SNPs"
       ]
      },
      {
       "output_type": "stream",
       "stream": "stdout",
       "text": [
        "\n",
        "time elapsed: 0.813989162445\n",
        "selection for snpID: 9:133472747\n",
        "found 164491 matching SNPs"
       ]
      },
      {
       "output_type": "stream",
       "stream": "stdout",
       "text": [
        "\n",
        "time elapsed: 0.780175209045\n",
        "selection for snpID: 4:63055561\n",
        "found 164491 matching SNPs"
       ]
      },
      {
       "output_type": "stream",
       "stream": "stdout",
       "text": [
        "\n",
        "time elapsed: 0.859993934631\n",
        "selection for snpID: 11:127160664\n",
        "found 164491 matching SNPs"
       ]
      },
      {
       "output_type": "stream",
       "stream": "stdout",
       "text": [
        "\n",
        "time elapsed: 0.785448074341\n",
        "selection for snpID: 14:69873335\n",
        "found 164491 matching SNPs"
       ]
      },
      {
       "output_type": "stream",
       "stream": "stdout",
       "text": [
        "\n",
        "time elapsed: 0.777408123016\n",
        "selection for snpID: 9:5453460\n",
        "found 164491 matching SNPs"
       ]
      },
      {
       "output_type": "stream",
       "stream": "stdout",
       "text": [
        "\n",
        "time elapsed: 0.797147989273\n",
        "selection for snpID: 7:88660988\n",
        "found 164491 matching SNPs"
       ]
      },
      {
       "output_type": "stream",
       "stream": "stdout",
       "text": [
        "\n",
        "time elapsed: 0.789615869522\n",
        "selection for snpID: 1:201688955\n",
        "found 164491 matching SNPs"
       ]
      },
      {
       "output_type": "stream",
       "stream": "stdout",
       "text": [
        "\n",
        "time elapsed: 0.768931150436\n",
        "selection for snpID: 1:181844943\n",
        "found 164491 matching SNPs"
       ]
      },
      {
       "output_type": "stream",
       "stream": "stdout",
       "text": [
        "\n",
        "time elapsed: 0.765084981918\n",
        "selection for snpID: 18:67015865\n",
        "found 164491 matching SNPs"
       ]
      },
      {
       "output_type": "stream",
       "stream": "stdout",
       "text": [
        "\n",
        "time elapsed: 0.766697883606\n",
        "selection for snpID: 6:32592119\n",
        "found 164491 matching SNPs"
       ]
      },
      {
       "output_type": "stream",
       "stream": "stdout",
       "text": [
        "\n",
        "time elapsed: 0.779348134995\n",
        "selection for snpID: 9:133472747\n",
        "found 164491 matching SNPs"
       ]
      },
      {
       "output_type": "stream",
       "stream": "stdout",
       "text": [
        "\n",
        "time elapsed: 0.784598827362\n",
        "selection for snpID: 4:63055561\n",
        "found 164491 matching SNPs"
       ]
      },
      {
       "output_type": "stream",
       "stream": "stdout",
       "text": [
        "\n",
        "time elapsed: 0.784841775894\n",
        "selection for snpID: 11:127160664\n",
        "found 164491 matching SNPs"
       ]
      },
      {
       "output_type": "stream",
       "stream": "stdout",
       "text": [
        "\n",
        "time elapsed: 0.788084983826\n",
        "selection for snpID: 14:69873335\n",
        "found 164491 matching SNPs"
       ]
      },
      {
       "output_type": "stream",
       "stream": "stdout",
       "text": [
        "\n",
        "time elapsed: 0.792876958847\n",
        "selection for snpID: 9:5453460\n",
        "found 164491 matching SNPs"
       ]
      },
      {
       "output_type": "stream",
       "stream": "stdout",
       "text": [
        "\n",
        "time elapsed: 0.768826961517\n",
        "selection for snpID: 7:88660988\n",
        "found 164491 matching SNPs"
       ]
      },
      {
       "output_type": "stream",
       "stream": "stdout",
       "text": [
        "\n",
        "time elapsed: 0.772068977356\n",
        "selection for snpID: 1:201688955\n",
        "found 164491 matching SNPs"
       ]
      },
      {
       "output_type": "stream",
       "stream": "stdout",
       "text": [
        "\n",
        "time elapsed: 0.780968904495\n",
        "selection for snpID: 1:181844943\n",
        "found 164491 matching SNPs"
       ]
      },
      {
       "output_type": "stream",
       "stream": "stdout",
       "text": [
        "\n",
        "time elapsed: 0.782339096069\n",
        "selection for snpID: 18:67015865\n",
        "found 164491 matching SNPs"
       ]
      },
      {
       "output_type": "stream",
       "stream": "stdout",
       "text": [
        "\n",
        "time elapsed: 0.779042005539\n",
        "selection for snpID: 6:32592119\n",
        "found 164491 matching SNPs"
       ]
      },
      {
       "output_type": "stream",
       "stream": "stdout",
       "text": [
        "\n",
        "time elapsed: 0.77593588829\n",
        "selection for snpID: 9:133472747\n",
        "found 164491 matching SNPs"
       ]
      },
      {
       "output_type": "stream",
       "stream": "stdout",
       "text": [
        "\n",
        "time elapsed: 0.784135103226\n",
        "selection for snpID: 4:63055561\n",
        "found 164491 matching SNPs"
       ]
      },
      {
       "output_type": "stream",
       "stream": "stdout",
       "text": [
        "\n",
        "time elapsed: 0.779493093491\n",
        "selection for snpID: 11:127160664\n",
        "found 164491 matching SNPs"
       ]
      },
      {
       "output_type": "stream",
       "stream": "stdout",
       "text": [
        "\n",
        "time elapsed: 0.786382913589\n",
        "selection for snpID: 14:69873335\n",
        "found 164491 matching SNPs"
       ]
      },
      {
       "output_type": "stream",
       "stream": "stdout",
       "text": [
        "\n",
        "time elapsed: 0.773199081421\n",
        "selection for snpID: 9:5453460\n",
        "found 164491 matching SNPs"
       ]
      },
      {
       "output_type": "stream",
       "stream": "stdout",
       "text": [
        "\n",
        "time elapsed: 0.795818090439\n",
        "selection for snpID: 7:88660988\n",
        "found 164491 matching SNPs"
       ]
      },
      {
       "output_type": "stream",
       "stream": "stdout",
       "text": [
        "\n",
        "time elapsed: 0.789175033569\n",
        "selection for snpID: 1:201688955\n",
        "found 164491 matching SNPs"
       ]
      },
      {
       "output_type": "stream",
       "stream": "stdout",
       "text": [
        "\n",
        "time elapsed: 0.787567138672\n",
        "selection for snpID: 1:181844943\n",
        "found 164491 matching SNPs"
       ]
      },
      {
       "output_type": "stream",
       "stream": "stdout",
       "text": [
        "\n",
        "time elapsed: 0.778819084167\n",
        "selection for snpID: 18:67015865\n",
        "found 164491 matching SNPs"
       ]
      },
      {
       "output_type": "stream",
       "stream": "stdout",
       "text": [
        "\n",
        "time elapsed: 0.789265871048\n",
        "selection for snpID: 6:32592119\n",
        "found 164491 matching SNPs"
       ]
      },
      {
       "output_type": "stream",
       "stream": "stdout",
       "text": [
        "\n",
        "time elapsed: 0.798310041428\n",
        "selection for snpID: 9:133472747\n",
        "found 164491 matching SNPs"
       ]
      },
      {
       "output_type": "stream",
       "stream": "stdout",
       "text": [
        "\n",
        "time elapsed: 0.792731046677\n",
        "selection for snpID: 4:63055561\n",
        "found 164491 matching SNPs"
       ]
      },
      {
       "output_type": "stream",
       "stream": "stdout",
       "text": [
        "\n",
        "time elapsed: 0.799916982651\n",
        "selection for snpID: 11:127160664\n",
        "found 164491 matching SNPs"
       ]
      },
      {
       "output_type": "stream",
       "stream": "stdout",
       "text": [
        "\n",
        "time elapsed: 0.801462173462\n",
        "selection for snpID: 14:69873335\n",
        "found 164491 matching SNPs"
       ]
      },
      {
       "output_type": "stream",
       "stream": "stdout",
       "text": [
        "\n",
        "time elapsed: 0.779171228409\n",
        "selection for snpID: 9:5453460\n",
        "found 164491 matching SNPs"
       ]
      },
      {
       "output_type": "stream",
       "stream": "stdout",
       "text": [
        "\n",
        "time elapsed: 0.789123058319\n",
        "selection for snpID: 7:88660988\n",
        "found 164491 matching SNPs"
       ]
      },
      {
       "output_type": "stream",
       "stream": "stdout",
       "text": [
        "\n",
        "time elapsed: 0.775017976761\n",
        "selection for snpID: 1:201688955\n",
        "found 164491 matching SNPs"
       ]
      },
      {
       "output_type": "stream",
       "stream": "stdout",
       "text": [
        "\n",
        "time elapsed: 0.786211013794\n",
        "selection for snpID: 1:181844943\n",
        "found 164491 matching SNPs"
       ]
      },
      {
       "output_type": "stream",
       "stream": "stdout",
       "text": [
        "\n",
        "time elapsed: 0.788421154022\n",
        "selection for snpID: 18:67015865\n",
        "found 164491 matching SNPs"
       ]
      },
      {
       "output_type": "stream",
       "stream": "stdout",
       "text": [
        "\n",
        "time elapsed: 0.771944999695\n",
        "selection for snpID: 6:32592119\n",
        "found 164491 matching SNPs"
       ]
      },
      {
       "output_type": "stream",
       "stream": "stdout",
       "text": [
        "\n",
        "time elapsed: 0.774703979492\n",
        "selection for snpID: 9:133472747\n",
        "found 164491 matching SNPs"
       ]
      },
      {
       "output_type": "stream",
       "stream": "stdout",
       "text": [
        "\n",
        "time elapsed: 0.775764942169\n",
        "selection for snpID: 4:63055561\n",
        "found 164491 matching SNPs"
       ]
      },
      {
       "output_type": "stream",
       "stream": "stdout",
       "text": [
        "\n",
        "time elapsed: 0.778151035309\n",
        "selection for snpID: 11:127160664\n",
        "found 164491 matching SNPs"
       ]
      },
      {
       "output_type": "stream",
       "stream": "stdout",
       "text": [
        "\n",
        "time elapsed: 0.791051149368\n",
        "selection for snpID: 14:69873335\n",
        "found 164491 matching SNPs"
       ]
      },
      {
       "output_type": "stream",
       "stream": "stdout",
       "text": [
        "\n",
        "time elapsed: 0.777178049088\n",
        "selection for snpID: 9:5453460\n",
        "found 164491 matching SNPs"
       ]
      },
      {
       "output_type": "stream",
       "stream": "stdout",
       "text": [
        "\n",
        "time elapsed: 0.772192955017\n",
        "selection for snpID: 7:88660988\n",
        "found 164491 matching SNPs"
       ]
      },
      {
       "output_type": "stream",
       "stream": "stdout",
       "text": [
        "\n",
        "time elapsed: 0.798583030701\n",
        "selection for snpID: 1:201688955\n",
        "found 164491 matching SNPs"
       ]
      },
      {
       "output_type": "stream",
       "stream": "stdout",
       "text": [
        "\n",
        "time elapsed: 0.789361000061\n",
        "selection for snpID: 1:181844943\n",
        "found 164491 matching SNPs"
       ]
      },
      {
       "output_type": "stream",
       "stream": "stdout",
       "text": [
        "\n",
        "time elapsed: 0.786108016968\n",
        "selection for snpID: 18:67015865\n",
        "found 164491 matching SNPs"
       ]
      },
      {
       "output_type": "stream",
       "stream": "stdout",
       "text": [
        "\n",
        "time elapsed: 0.786995887756\n",
        "selection for snpID: 6:32592119\n",
        "found 164491 matching SNPs"
       ]
      },
      {
       "output_type": "stream",
       "stream": "stdout",
       "text": [
        "\n",
        "time elapsed: 0.850193023682\n",
        "selection for snpID: 9:133472747\n",
        "found 164491 matching SNPs"
       ]
      },
      {
       "output_type": "stream",
       "stream": "stdout",
       "text": [
        "\n",
        "time elapsed: 0.768551111221\n",
        "selection for snpID: 4:63055561\n",
        "found 164491 matching SNPs"
       ]
      },
      {
       "output_type": "stream",
       "stream": "stdout",
       "text": [
        "\n",
        "time elapsed: 0.773800134659\n",
        "selection for snpID: 11:127160664\n",
        "found 164491 matching SNPs"
       ]
      },
      {
       "output_type": "stream",
       "stream": "stdout",
       "text": [
        "\n",
        "time elapsed: 0.765525102615\n",
        "selection for snpID: 14:69873335\n",
        "found 164491 matching SNPs"
       ]
      },
      {
       "output_type": "stream",
       "stream": "stdout",
       "text": [
        "\n",
        "time elapsed: 0.781202077866\n",
        "selection for snpID: 9:5453460\n",
        "found 164491 matching SNPs"
       ]
      },
      {
       "output_type": "stream",
       "stream": "stdout",
       "text": [
        "\n",
        "time elapsed: 0.768474817276\n",
        "selection for snpID: 7:88660988\n",
        "found 164491 matching SNPs"
       ]
      },
      {
       "output_type": "stream",
       "stream": "stdout",
       "text": [
        "\n",
        "time elapsed: 0.772071838379\n",
        "selection for snpID: 1:201688955\n",
        "found 164491 matching SNPs"
       ]
      },
      {
       "output_type": "stream",
       "stream": "stdout",
       "text": [
        "\n",
        "time elapsed: 0.778595924377\n",
        "selection for snpID: 1:181844943\n",
        "found 164491 matching SNPs"
       ]
      },
      {
       "output_type": "stream",
       "stream": "stdout",
       "text": [
        "\n",
        "time elapsed: 0.789907932281\n",
        "selection for snpID: 18:67015865\n",
        "found 164491 matching SNPs"
       ]
      },
      {
       "output_type": "stream",
       "stream": "stdout",
       "text": [
        "\n",
        "time elapsed: 0.77733206749\n",
        "selection for snpID: 6:32592119\n",
        "found 164491 matching SNPs"
       ]
      },
      {
       "output_type": "stream",
       "stream": "stdout",
       "text": [
        "\n",
        "time elapsed: 0.767694950104\n",
        "selection for snpID: 9:133472747\n",
        "found 164491 matching SNPs"
       ]
      },
      {
       "output_type": "stream",
       "stream": "stdout",
       "text": [
        "\n",
        "time elapsed: 0.776384830475\n",
        "selection for snpID: 4:63055561\n",
        "found 164491 matching SNPs"
       ]
      },
      {
       "output_type": "stream",
       "stream": "stdout",
       "text": [
        "\n",
        "time elapsed: 0.777622938156\n",
        "selection for snpID: 11:127160664\n",
        "found 164491 matching SNPs"
       ]
      },
      {
       "output_type": "stream",
       "stream": "stdout",
       "text": [
        "\n",
        "time elapsed: 0.775468111038\n",
        "selection for snpID: 14:69873335\n",
        "found 164491 matching SNPs"
       ]
      },
      {
       "output_type": "stream",
       "stream": "stdout",
       "text": [
        "\n",
        "time elapsed: 0.769734859467\n",
        "selection for snpID: 9:5453460\n",
        "found 164491 matching SNPs"
       ]
      },
      {
       "output_type": "stream",
       "stream": "stdout",
       "text": [
        "\n",
        "time elapsed: 0.783252000809\n",
        "selection for snpID: 7:88660988\n",
        "found 164491 matching SNPs"
       ]
      },
      {
       "output_type": "stream",
       "stream": "stdout",
       "text": [
        "\n",
        "time elapsed: 0.78612613678\n",
        "selection for snpID: 1:201688955\n",
        "found 164491 matching SNPs"
       ]
      },
      {
       "output_type": "stream",
       "stream": "stdout",
       "text": [
        "\n",
        "time elapsed: 0.779834985733\n",
        "selection for snpID: 1:181844943\n",
        "found 164491 matching SNPs"
       ]
      },
      {
       "output_type": "stream",
       "stream": "stdout",
       "text": [
        "\n",
        "time elapsed: 0.78161907196\n",
        "selection for snpID: 18:67015865\n",
        "found 164491 matching SNPs"
       ]
      },
      {
       "output_type": "stream",
       "stream": "stdout",
       "text": [
        "\n",
        "time elapsed: 0.781894922256\n",
        "selection for snpID: 6:32592119\n",
        "found 164491 matching SNPs"
       ]
      },
      {
       "output_type": "stream",
       "stream": "stdout",
       "text": [
        "\n",
        "time elapsed: 0.779672145844\n",
        "selection for snpID: 9:133472747\n",
        "found 164491 matching SNPs"
       ]
      },
      {
       "output_type": "stream",
       "stream": "stdout",
       "text": [
        "\n",
        "time elapsed: 0.784883975983\n",
        "selection for snpID: 4:63055561\n",
        "found 164491 matching SNPs"
       ]
      },
      {
       "output_type": "stream",
       "stream": "stdout",
       "text": [
        "\n",
        "time elapsed: 0.779666900635\n",
        "selection for snpID: 11:127160664\n",
        "found 164491 matching SNPs"
       ]
      },
      {
       "output_type": "stream",
       "stream": "stdout",
       "text": [
        "\n",
        "time elapsed: 0.780329942703\n",
        "selection for snpID: 14:69873335\n",
        "found 164491 matching SNPs"
       ]
      },
      {
       "output_type": "stream",
       "stream": "stdout",
       "text": [
        "\n",
        "time elapsed: 0.780356884003\n",
        "selection for snpID: 9:5453460\n",
        "found 164491 matching SNPs"
       ]
      },
      {
       "output_type": "stream",
       "stream": "stdout",
       "text": [
        "\n",
        "time elapsed: 0.780215024948\n",
        "selection for snpID: 7:88660988\n",
        "found 164491 matching SNPs"
       ]
      },
      {
       "output_type": "stream",
       "stream": "stdout",
       "text": [
        "\n",
        "time elapsed: 0.778282165527\n",
        "selection for snpID: 1:201688955\n",
        "found 164491 matching SNPs"
       ]
      },
      {
       "output_type": "stream",
       "stream": "stdout",
       "text": [
        "\n",
        "time elapsed: 0.786704778671\n",
        "selection for snpID: 1:181844943\n",
        "found 164491 matching SNPs"
       ]
      },
      {
       "output_type": "stream",
       "stream": "stdout",
       "text": [
        "\n",
        "time elapsed: 0.788713932037\n",
        "selection for snpID: 18:67015865\n",
        "found 164491 matching SNPs"
       ]
      },
      {
       "output_type": "stream",
       "stream": "stdout",
       "text": [
        "\n",
        "time elapsed: 0.780200004578\n",
        "selection for snpID: 6:32592119\n",
        "found 164491 matching SNPs"
       ]
      },
      {
       "output_type": "stream",
       "stream": "stdout",
       "text": [
        "\n",
        "time elapsed: 0.785769939423\n",
        "selection for snpID: 9:133472747\n",
        "found 164491 matching SNPs"
       ]
      },
      {
       "output_type": "stream",
       "stream": "stdout",
       "text": [
        "\n",
        "time elapsed: 0.781955957413\n",
        "selection for snpID: 4:63055561\n",
        "found 164491 matching SNPs"
       ]
      },
      {
       "output_type": "stream",
       "stream": "stdout",
       "text": [
        "\n",
        "time elapsed: 0.792330026627\n",
        "selection for snpID: 11:127160664\n",
        "found 164491 matching SNPs"
       ]
      },
      {
       "output_type": "stream",
       "stream": "stdout",
       "text": [
        "\n",
        "time elapsed: 0.787311077118\n",
        "selection for snpID: 14:69873335\n",
        "found 164491 matching SNPs"
       ]
      },
      {
       "output_type": "stream",
       "stream": "stdout",
       "text": [
        "\n",
        "time elapsed: 0.776437997818\n",
        "selection for snpID: 9:5453460\n",
        "found 164491 matching SNPs"
       ]
      },
      {
       "output_type": "stream",
       "stream": "stdout",
       "text": [
        "\n",
        "time elapsed: 0.789037942886\n",
        "selection for snpID: 7:88660988\n",
        "found 164491 matching SNPs"
       ]
      },
      {
       "output_type": "stream",
       "stream": "stdout",
       "text": [
        "\n",
        "time elapsed: 0.771015882492\n",
        "selection for snpID: 1:201688955\n",
        "found 164491 matching SNPs"
       ]
      },
      {
       "output_type": "stream",
       "stream": "stdout",
       "text": [
        "\n",
        "time elapsed: 0.786911964417\n",
        "selection for snpID: 1:181844943\n",
        "found 164491 matching SNPs"
       ]
      },
      {
       "output_type": "stream",
       "stream": "stdout",
       "text": [
        "\n",
        "time elapsed: 0.779335021973\n",
        "selection for snpID: 18:67015865\n",
        "found 164491 matching SNPs"
       ]
      },
      {
       "output_type": "stream",
       "stream": "stdout",
       "text": [
        "\n",
        "time elapsed: 0.780043125153\n",
        "selection for snpID: 6:32592119\n",
        "found 164491 matching SNPs"
       ]
      },
      {
       "output_type": "stream",
       "stream": "stdout",
       "text": [
        "\n",
        "time elapsed: 0.785242080688\n",
        "selection for snpID: 9:133472747\n",
        "found 164491 matching SNPs"
       ]
      },
      {
       "output_type": "stream",
       "stream": "stdout",
       "text": [
        "\n",
        "time elapsed: 0.780138015747\n",
        "selection for snpID: 4:63055561\n",
        "found 164491 matching SNPs"
       ]
      },
      {
       "output_type": "stream",
       "stream": "stdout",
       "text": [
        "\n",
        "time elapsed: 0.812684774399\n",
        "selection for snpID: 11:127160664\n",
        "found 164491 matching SNPs"
       ]
      },
      {
       "output_type": "stream",
       "stream": "stdout",
       "text": [
        "\n",
        "time elapsed: 0.79567193985\n",
        "selection for snpID: 14:69873335\n",
        "found 164491 matching SNPs"
       ]
      },
      {
       "output_type": "stream",
       "stream": "stdout",
       "text": [
        "\n",
        "time elapsed: 0.810926914215\n",
        "selection for snpID: 9:5453460\n",
        "found 164491 matching SNPs"
       ]
      },
      {
       "output_type": "stream",
       "stream": "stdout",
       "text": [
        "\n",
        "time elapsed: 0.77335691452\n",
        "selection for snpID: 7:88660988\n",
        "found 164491 matching SNPs"
       ]
      },
      {
       "output_type": "stream",
       "stream": "stdout",
       "text": [
        "\n",
        "time elapsed: 0.780613183975\n",
        "selection for snpID: 1:201688955\n",
        "found 164491 matching SNPs"
       ]
      },
      {
       "output_type": "stream",
       "stream": "stdout",
       "text": [
        "\n",
        "time elapsed: 0.787204027176\n",
        "selection for snpID: 1:181844943\n",
        "found 164491 matching SNPs"
       ]
      },
      {
       "output_type": "stream",
       "stream": "stdout",
       "text": [
        "\n",
        "time elapsed: 0.870043039322\n",
        "selection for snpID: 18:67015865\n",
        "found 164491 matching SNPs"
       ]
      },
      {
       "output_type": "stream",
       "stream": "stdout",
       "text": [
        "\n",
        "time elapsed: 0.776417970657\n",
        "selection for snpID: 6:32592119\n",
        "found 164491 matching SNPs"
       ]
      },
      {
       "output_type": "stream",
       "stream": "stdout",
       "text": [
        "\n",
        "time elapsed: 0.774155139923\n",
        "selection for snpID: 9:133472747\n",
        "found 164491 matching SNPs"
       ]
      },
      {
       "output_type": "stream",
       "stream": "stdout",
       "text": [
        "\n",
        "time elapsed: 0.809787988663\n",
        "selection for snpID: 4:63055561\n",
        "found 164491 matching SNPs"
       ]
      },
      {
       "output_type": "stream",
       "stream": "stdout",
       "text": [
        "\n",
        "time elapsed: 0.778882026672\n",
        "selection for snpID: 11:127160664\n",
        "found 164491 matching SNPs"
       ]
      },
      {
       "output_type": "stream",
       "stream": "stdout",
       "text": [
        "\n",
        "time elapsed: 0.794770956039\n",
        "selection for snpID: 14:69873335\n",
        "found 164491 matching SNPs"
       ]
      },
      {
       "output_type": "stream",
       "stream": "stdout",
       "text": [
        "\n",
        "time elapsed: 0.847625017166\n",
        "selection for snpID: 9:5453460\n",
        "found 164491 matching SNPs"
       ]
      },
      {
       "output_type": "stream",
       "stream": "stdout",
       "text": [
        "\n",
        "time elapsed: 0.912728071213\n",
        "selection for snpID: 7:88660988\n",
        "found 164491 matching SNPs"
       ]
      },
      {
       "output_type": "stream",
       "stream": "stdout",
       "text": [
        "\n",
        "time elapsed: 0.880417108536\n",
        "selection for snpID: 1:201688955\n",
        "found 164491 matching SNPs"
       ]
      },
      {
       "output_type": "stream",
       "stream": "stdout",
       "text": [
        "\n",
        "time elapsed: 0.846514940262\n",
        "selection for snpID: 1:181844943\n",
        "found 164491 matching SNPs"
       ]
      },
      {
       "output_type": "stream",
       "stream": "stdout",
       "text": [
        "\n",
        "time elapsed: 0.83945608139\n",
        "selection for snpID: 18:67015865\n",
        "found 164491 matching SNPs"
       ]
      },
      {
       "output_type": "stream",
       "stream": "stdout",
       "text": [
        "\n",
        "time elapsed: 0.884169101715\n",
        "selection for snpID: 6:32592119\n",
        "found 164491 matching SNPs"
       ]
      },
      {
       "output_type": "stream",
       "stream": "stdout",
       "text": [
        "\n",
        "time elapsed: 0.863572835922\n",
        "selection for snpID: 9:133472747\n",
        "found 164491 matching SNPs"
       ]
      },
      {
       "output_type": "stream",
       "stream": "stdout",
       "text": [
        "\n",
        "time elapsed: 0.788777112961\n",
        "selection for snpID: 4:63055561\n",
        "found 164491 matching SNPs"
       ]
      },
      {
       "output_type": "stream",
       "stream": "stdout",
       "text": [
        "\n",
        "time elapsed: 0.776775121689\n",
        "selection for snpID: 11:127160664\n",
        "found 164491 matching SNPs"
       ]
      },
      {
       "output_type": "stream",
       "stream": "stdout",
       "text": [
        "\n",
        "time elapsed: 0.78678393364\n",
        "selection for snpID: 14:69873335\n",
        "found 164491 matching SNPs"
       ]
      },
      {
       "output_type": "stream",
       "stream": "stdout",
       "text": [
        "\n",
        "time elapsed: 0.775353908539\n",
        "selection for snpID: 9:5453460\n",
        "found 164491 matching SNPs"
       ]
      },
      {
       "output_type": "stream",
       "stream": "stdout",
       "text": [
        "\n",
        "time elapsed: 0.800169944763\n",
        "selection for snpID: 7:88660988\n",
        "found 164491 matching SNPs"
       ]
      },
      {
       "output_type": "stream",
       "stream": "stdout",
       "text": [
        "\n",
        "time elapsed: 0.782671928406\n",
        "selection for snpID: 1:201688955\n",
        "found 164491 matching SNPs"
       ]
      },
      {
       "output_type": "stream",
       "stream": "stdout",
       "text": [
        "\n",
        "time elapsed: 0.801542043686\n",
        "selection for snpID: 1:181844943\n",
        "found 164491 matching SNPs"
       ]
      },
      {
       "output_type": "stream",
       "stream": "stdout",
       "text": [
        "\n",
        "time elapsed: 0.796816825867\n",
        "selection for snpID: 18:67015865\n",
        "found 164491 matching SNPs"
       ]
      },
      {
       "output_type": "stream",
       "stream": "stdout",
       "text": [
        "\n",
        "time elapsed: 0.768001079559\n",
        "selection for snpID: 6:32592119\n",
        "found 164491 matching SNPs"
       ]
      },
      {
       "output_type": "stream",
       "stream": "stdout",
       "text": [
        "\n",
        "time elapsed: 0.765748023987\n",
        "selection for snpID: 9:133472747\n",
        "found 164491 matching SNPs"
       ]
      },
      {
       "output_type": "stream",
       "stream": "stdout",
       "text": [
        "\n",
        "time elapsed: 0.773133993149\n",
        "selection for snpID: 4:63055561\n",
        "found 164491 matching SNPs"
       ]
      },
      {
       "output_type": "stream",
       "stream": "stdout",
       "text": [
        "\n",
        "time elapsed: 0.83994603157\n",
        "selection for snpID: 11:127160664\n",
        "found 164491 matching SNPs"
       ]
      },
      {
       "output_type": "stream",
       "stream": "stdout",
       "text": [
        "\n",
        "time elapsed: 0.874199151993\n",
        "selection for snpID: 14:69873335\n",
        "found 164491 matching SNPs"
       ]
      },
      {
       "output_type": "stream",
       "stream": "stdout",
       "text": [
        "\n",
        "time elapsed: 0.833821058273\n",
        "selection for snpID: 9:5453460\n",
        "found 164491 matching SNPs"
       ]
      },
      {
       "output_type": "stream",
       "stream": "stdout",
       "text": [
        "\n",
        "time elapsed: 0.792811155319\n",
        "selection for snpID: 7:88660988\n",
        "found 164491 matching SNPs"
       ]
      },
      {
       "output_type": "stream",
       "stream": "stdout",
       "text": [
        "\n",
        "time elapsed: 0.811995029449\n",
        "selection for snpID: 1:201688955\n",
        "found 164491 matching SNPs"
       ]
      },
      {
       "output_type": "stream",
       "stream": "stdout",
       "text": [
        "\n",
        "time elapsed: 0.851061105728\n",
        "selection for snpID: 1:181844943\n",
        "found 164491 matching SNPs"
       ]
      },
      {
       "output_type": "stream",
       "stream": "stdout",
       "text": [
        "\n",
        "time elapsed: 0.97504401207\n",
        "selection for snpID: 18:67015865\n",
        "found 164491 matching SNPs"
       ]
      },
      {
       "output_type": "stream",
       "stream": "stdout",
       "text": [
        "\n",
        "time elapsed: 0.838052034378\n",
        "selection for snpID: 6:32592119\n",
        "found 164491 matching SNPs"
       ]
      },
      {
       "output_type": "stream",
       "stream": "stdout",
       "text": [
        "\n",
        "time elapsed: 0.789538860321\n",
        "selection for snpID: 9:133472747\n",
        "found 164491 matching SNPs"
       ]
      },
      {
       "output_type": "stream",
       "stream": "stdout",
       "text": [
        "\n",
        "time elapsed: 0.779558897018\n",
        "selection for snpID: 4:63055561\n",
        "found 164491 matching SNPs"
       ]
      },
      {
       "output_type": "stream",
       "stream": "stdout",
       "text": [
        "\n",
        "time elapsed: 0.799155950546\n",
        "selection for snpID: 11:127160664\n",
        "found 164491 matching SNPs"
       ]
      },
      {
       "output_type": "stream",
       "stream": "stdout",
       "text": [
        "\n",
        "time elapsed: 0.790803909302\n",
        "selection for snpID: 14:69873335\n",
        "found 164491 matching SNPs"
       ]
      },
      {
       "output_type": "stream",
       "stream": "stdout",
       "text": [
        "\n",
        "time elapsed: 0.799432992935\n",
        "selection for snpID: 9:5453460\n",
        "found 164491 matching SNPs"
       ]
      },
      {
       "output_type": "stream",
       "stream": "stdout",
       "text": [
        "\n",
        "time elapsed: 0.780516862869\n",
        "selection for snpID: 7:88660988\n",
        "found 164491 matching SNPs"
       ]
      },
      {
       "output_type": "stream",
       "stream": "stdout",
       "text": [
        "\n",
        "time elapsed: 0.771283149719\n",
        "selection for snpID: 1:201688955\n",
        "found 164491 matching SNPs"
       ]
      },
      {
       "output_type": "stream",
       "stream": "stdout",
       "text": [
        "\n",
        "time elapsed: 0.818048000336\n",
        "selection for snpID: 1:181844943\n",
        "found 164491 matching SNPs"
       ]
      },
      {
       "output_type": "stream",
       "stream": "stdout",
       "text": [
        "\n",
        "time elapsed: 0.802885055542\n",
        "selection for snpID: 18:67015865\n",
        "found 164491 matching SNPs"
       ]
      },
      {
       "output_type": "stream",
       "stream": "stdout",
       "text": [
        "\n",
        "time elapsed: 0.806447029114\n",
        "selection for snpID: 6:32592119\n",
        "found 164491 matching SNPs"
       ]
      },
      {
       "output_type": "stream",
       "stream": "stdout",
       "text": [
        "\n",
        "time elapsed: 0.804045915604\n",
        "selection for snpID: 9:133472747\n",
        "found 164491 matching SNPs"
       ]
      },
      {
       "output_type": "stream",
       "stream": "stdout",
       "text": [
        "\n",
        "time elapsed: 0.78849196434\n",
        "selection for snpID: 4:63055561\n",
        "found 164491 matching SNPs"
       ]
      },
      {
       "output_type": "stream",
       "stream": "stdout",
       "text": [
        "\n",
        "time elapsed: 0.795470952988\n",
        "selection for snpID: 11:127160664\n",
        "found 164491 matching SNPs"
       ]
      },
      {
       "output_type": "stream",
       "stream": "stdout",
       "text": [
        "\n",
        "time elapsed: 0.802553892136\n",
        "selection for snpID: 14:69873335\n",
        "found 164491 matching SNPs"
       ]
      }
     ]
    },
    {
     "cell_type": "code",
     "collapsed": false,
     "input": [],
     "language": "python",
     "metadata": {},
     "outputs": []
    }
   ],
   "metadata": {}
  }
 ]
}