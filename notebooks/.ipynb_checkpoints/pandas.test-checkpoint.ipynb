{
 "metadata": {
  "name": "",
  "signature": "sha256:8f660b3df86154418b6b348c5463b9df72635ce0cea36ef50da17b8396563b75"
 },
 "nbformat": 3,
 "nbformat_minor": 0,
 "worksheets": [
  {
   "cells": [
    {
     "cell_type": "code",
     "collapsed": false,
     "input": [
      "import os\n",
      "import pandas as pd\n",
      "os.getcwd()\n"
     ],
     "language": "python",
     "metadata": {},
     "outputs": [
      {
       "metadata": {},
       "output_type": "pyout",
       "prompt_number": 1,
       "text": [
        "'/Users/pascaltimshel/git/snpsnap/notebooks'"
       ]
      }
     ],
     "prompt_number": 1
    },
    {
     "cell_type": "code",
     "collapsed": false,
     "input": [
      "store = pd.HDFStore('store_test.h5') # 'w' is optional\n",
      "\n",
      "matchedsnps = '/Users/pascaltimshel/snpsnap/data/step2/1KG_test_thin0.02_duprm/ld0.5/matchedsnps.tab'\n",
      "header_str = \"matched_rsID freq_bin snp_chr snp_position matched_gene_count matched_dist_to_nearest_gene matched_nearest_gene genes_in_matched_locus\"\n",
      "colnames=header_str.split()\n",
      "df = pd.read_csv(matchedsnps, index_col=0, names=colnames, delim_whitespace=True) # 13M\n",
      "\n",
      "df_noidx = pd.read_csv(matchedsnps, names=colnames, delim_whitespace=True) # 13M"
     ],
     "language": "python",
     "metadata": {},
     "outputs": [],
     "prompt_number": 2
    },
    {
     "cell_type": "code",
     "collapsed": false,
     "input": [
      "#df_noidx\n",
      "#df_noidx['matched_rsID'] # OK\n",
      "#df_noidx[df_noidx.matched_rsID == 'rs117838274'] # OK\n",
      "\n",
      "#df.xs('a', level=0) # cross section\n",
      "#df.xs('c', level='group2')\n",
      "\n",
      "#print df.head()\n",
      "#df.ix['rs117838274'] #OK --->series or df.ix[0]\n",
      "#df['rs117838274'] # does not work!\n",
      "df.ix[1:3, 3:4] # ok --> data frame\n",
      "\n",
      "\n",
      "df.ix['rs117838274'] = 'dasdsd'\n",
      "\n",
      "df.reset_index(inplace=True)\n",
      "#df.ix['rs116646648']\n",
      "#print df.ix['rs117838274']\n",
      "#df.ix['36597']\n",
      "df.index.names\n",
      "df.head()"
     ],
     "language": "python",
     "metadata": {},
     "outputs": [
      {
       "html": [
        "<div style=\"max-height:1000px;max-width:1500px;overflow:auto;\">\n",
        "<table border=\"1\" class=\"dataframe\">\n",
        "  <thead>\n",
        "    <tr style=\"text-align: right;\">\n",
        "      <th></th>\n",
        "      <th>matched_rsID</th>\n",
        "      <th>freq_bin</th>\n",
        "      <th>snp_chr</th>\n",
        "      <th>snp_position</th>\n",
        "      <th>matched_gene_count</th>\n",
        "      <th>matched_dist_to_nearest_gene</th>\n",
        "      <th>matched_nearest_gene</th>\n",
        "      <th>genes_in_matched_locus</th>\n",
        "    </tr>\n",
        "  </thead>\n",
        "  <tbody>\n",
        "    <tr>\n",
        "      <th>0</th>\n",
        "      <td> rs117838274</td>\n",
        "      <td> dasdsd</td>\n",
        "      <td> dasdsd</td>\n",
        "      <td>    dasdsd</td>\n",
        "      <td> dasdsd</td>\n",
        "      <td> dasdsd</td>\n",
        "      <td>          dasdsd</td>\n",
        "      <td>                          dasdsd</td>\n",
        "    </tr>\n",
        "    <tr>\n",
        "      <th>1</th>\n",
        "      <td> rs116646648</td>\n",
        "      <td>    1-2</td>\n",
        "      <td>      3</td>\n",
        "      <td>  38424943</td>\n",
        "      <td>      1</td>\n",
        "      <td>  36597</td>\n",
        "      <td> ENSG00000093217</td>\n",
        "      <td>                 ENSG00000093217</td>\n",
        "    </tr>\n",
        "    <tr>\n",
        "      <th>2</th>\n",
        "      <td>  rs74417123</td>\n",
        "      <td>    1-2</td>\n",
        "      <td>      4</td>\n",
        "      <td>  20507804</td>\n",
        "      <td>      2</td>\n",
        "      <td>  22094</td>\n",
        "      <td> ENSG00000207732</td>\n",
        "      <td> ENSG00000145147,ENSG00000207732</td>\n",
        "    </tr>\n",
        "    <tr>\n",
        "      <th>3</th>\n",
        "      <td> rs141575115</td>\n",
        "      <td>    1-2</td>\n",
        "      <td>      2</td>\n",
        "      <td> 150423534</td>\n",
        "      <td>      0</td>\n",
        "      <td>  19869</td>\n",
        "      <td> ENSG00000168288</td>\n",
        "      <td>                             NaN</td>\n",
        "    </tr>\n",
        "    <tr>\n",
        "      <th>4</th>\n",
        "      <td>  rs72663517</td>\n",
        "      <td>    1-2</td>\n",
        "      <td>      8</td>\n",
        "      <td>  76665584</td>\n",
        "      <td>      1</td>\n",
        "      <td>  33016</td>\n",
        "      <td> ENSG00000221029</td>\n",
        "      <td>                 ENSG00000221029</td>\n",
        "    </tr>\n",
        "  </tbody>\n",
        "</table>\n",
        "<p>5 rows \u00d7 8 columns</p>\n",
        "</div>"
       ],
       "metadata": {},
       "output_type": "pyout",
       "prompt_number": 3,
       "text": [
        "  matched_rsID freq_bin snp_chr snp_position matched_gene_count  \\\n",
        "0  rs117838274   dasdsd  dasdsd       dasdsd             dasdsd   \n",
        "1  rs116646648      1-2       3     38424943                  1   \n",
        "2   rs74417123      1-2       4     20507804                  2   \n",
        "3  rs141575115      1-2       2    150423534                  0   \n",
        "4   rs72663517      1-2       8     76665584                  1   \n",
        "\n",
        "  matched_dist_to_nearest_gene matched_nearest_gene  \\\n",
        "0                       dasdsd               dasdsd   \n",
        "1                        36597      ENSG00000093217   \n",
        "2                        22094      ENSG00000207732   \n",
        "3                        19869      ENSG00000168288   \n",
        "4                        33016      ENSG00000221029   \n",
        "\n",
        "            genes_in_matched_locus  \n",
        "0                           dasdsd  \n",
        "1                  ENSG00000093217  \n",
        "2  ENSG00000145147,ENSG00000207732  \n",
        "3                              NaN  \n",
        "4                  ENSG00000221029  \n",
        "\n",
        "[5 rows x 8 columns]"
       ]
      }
     ],
     "prompt_number": 3
    },
    {
     "cell_type": "code",
     "collapsed": false,
     "input": [
      "df2 = df.set_index('matched_rsID')\n",
      "#print df2.index\n",
      "df2.head()\n",
      "\n",
      "\n",
      "######### LOOOK HERE #########!!\n",
      "df2['chrposID'] = df2.snp_chr.map(str) + \":\" + df2.snp_position.map(str)\n",
      "#df1['e'] = Series(np.random.randn(sLength), index=df1.index)\n",
      "\n",
      "df2.head()\n",
      "\n",
      "df3 = df2.set_index('chrposID', append=True)\n",
      "\n",
      "df3.freq_bin\n",
      "df3.ix['rs117838274']\n",
      "df3.index.names\n",
      "df3.columns"
     ],
     "language": "python",
     "metadata": {},
     "outputs": [
      {
       "metadata": {},
       "output_type": "pyout",
       "prompt_number": 4,
       "text": [
        "Index([u'freq_bin', u'snp_chr', u'snp_position', u'matched_gene_count', u'matched_dist_to_nearest_gene', u'matched_nearest_gene', u'genes_in_matched_locus'], dtype='object')"
       ]
      }
     ],
     "prompt_number": 4
    },
    {
     "cell_type": "code",
     "collapsed": false,
     "input": [
      "# reindexing\n",
      "#df.index\n",
      "#df.columns;\n",
      "#df['rs117838274'] #---> does not work\n",
      "\n",
      "df_noidx.index\n",
      "#df_noidx[df_noidx.matched_rsID=='rs117838274'] # --> ok\n",
      "#df_noidx.matched_rsID['rs117838274']\n",
      "\n",
      "\n",
      "\n",
      "\n",
      "#users.set_index('user_id', inplace=True)"
     ],
     "language": "python",
     "metadata": {},
     "outputs": [
      {
       "ename": "KeyError",
       "evalue": "'rs117838274'",
       "output_type": "pyerr",
       "traceback": [
        "\u001b[0;31m---------------------------------------------------------------------------\u001b[0m\n\u001b[0;31mKeyError\u001b[0m                                  Traceback (most recent call last)",
        "\u001b[0;32m<ipython-input-5-6c5e6d6d5cbd>\u001b[0m in \u001b[0;36m<module>\u001b[0;34m()\u001b[0m\n\u001b[1;32m      6\u001b[0m \u001b[0mdf_noidx\u001b[0m\u001b[0;34m.\u001b[0m\u001b[0mindex\u001b[0m\u001b[0;34m\u001b[0m\u001b[0m\n\u001b[1;32m      7\u001b[0m \u001b[0;31m#df_noidx[df_noidx.matched_rsID=='rs117838274'] # --> ok\u001b[0m\u001b[0;34m\u001b[0m\u001b[0;34m\u001b[0m\u001b[0m\n\u001b[0;32m----> 8\u001b[0;31m \u001b[0mdf_noidx\u001b[0m\u001b[0;34m.\u001b[0m\u001b[0mmatched_rsID\u001b[0m\u001b[0;34m[\u001b[0m\u001b[0;34m'rs117838274'\u001b[0m\u001b[0;34m]\u001b[0m\u001b[0;34m\u001b[0m\u001b[0m\n\u001b[0m\u001b[1;32m      9\u001b[0m \u001b[0;34m\u001b[0m\u001b[0m\n\u001b[1;32m     10\u001b[0m \u001b[0;34m\u001b[0m\u001b[0m\n",
        "\u001b[0;32m/usr/local/lib/python2.7/site-packages/pandas/core/series.pyc\u001b[0m in \u001b[0;36m__getitem__\u001b[0;34m(self, key)\u001b[0m\n\u001b[1;32m    489\u001b[0m     \u001b[0;32mdef\u001b[0m \u001b[0m__getitem__\u001b[0m\u001b[0;34m(\u001b[0m\u001b[0mself\u001b[0m\u001b[0;34m,\u001b[0m \u001b[0mkey\u001b[0m\u001b[0;34m)\u001b[0m\u001b[0;34m:\u001b[0m\u001b[0;34m\u001b[0m\u001b[0m\n\u001b[1;32m    490\u001b[0m         \u001b[0;32mtry\u001b[0m\u001b[0;34m:\u001b[0m\u001b[0;34m\u001b[0m\u001b[0m\n\u001b[0;32m--> 491\u001b[0;31m             \u001b[0mresult\u001b[0m \u001b[0;34m=\u001b[0m \u001b[0mself\u001b[0m\u001b[0;34m.\u001b[0m\u001b[0mindex\u001b[0m\u001b[0;34m.\u001b[0m\u001b[0mget_value\u001b[0m\u001b[0;34m(\u001b[0m\u001b[0mself\u001b[0m\u001b[0;34m,\u001b[0m \u001b[0mkey\u001b[0m\u001b[0;34m)\u001b[0m\u001b[0;34m\u001b[0m\u001b[0m\n\u001b[0m\u001b[1;32m    492\u001b[0m             \u001b[0;32mif\u001b[0m \u001b[0misinstance\u001b[0m\u001b[0;34m(\u001b[0m\u001b[0mresult\u001b[0m\u001b[0;34m,\u001b[0m \u001b[0mnp\u001b[0m\u001b[0;34m.\u001b[0m\u001b[0mndarray\u001b[0m\u001b[0;34m)\u001b[0m\u001b[0;34m:\u001b[0m\u001b[0;34m\u001b[0m\u001b[0m\n\u001b[1;32m    493\u001b[0m                 \u001b[0;32mreturn\u001b[0m \u001b[0mself\u001b[0m\u001b[0;34m.\u001b[0m\u001b[0m_constructor\u001b[0m\u001b[0;34m(\u001b[0m\u001b[0mresult\u001b[0m\u001b[0;34m,\u001b[0m\u001b[0mindex\u001b[0m\u001b[0;34m=\u001b[0m\u001b[0;34m[\u001b[0m\u001b[0mkey\u001b[0m\u001b[0;34m]\u001b[0m\u001b[0;34m*\u001b[0m\u001b[0mlen\u001b[0m\u001b[0;34m(\u001b[0m\u001b[0mresult\u001b[0m\u001b[0;34m)\u001b[0m\u001b[0;34m)\u001b[0m\u001b[0;34m.\u001b[0m\u001b[0m__finalize__\u001b[0m\u001b[0;34m(\u001b[0m\u001b[0mself\u001b[0m\u001b[0;34m)\u001b[0m\u001b[0;34m\u001b[0m\u001b[0m\n",
        "\u001b[0;32m/usr/local/lib/python2.7/site-packages/pandas/core/index.pyc\u001b[0m in \u001b[0;36mget_value\u001b[0;34m(self, series, key)\u001b[0m\n\u001b[1;32m   1030\u001b[0m \u001b[0;34m\u001b[0m\u001b[0m\n\u001b[1;32m   1031\u001b[0m         \u001b[0;32mtry\u001b[0m\u001b[0;34m:\u001b[0m\u001b[0;34m\u001b[0m\u001b[0m\n\u001b[0;32m-> 1032\u001b[0;31m             \u001b[0;32mreturn\u001b[0m \u001b[0mself\u001b[0m\u001b[0;34m.\u001b[0m\u001b[0m_engine\u001b[0m\u001b[0;34m.\u001b[0m\u001b[0mget_value\u001b[0m\u001b[0;34m(\u001b[0m\u001b[0ms\u001b[0m\u001b[0;34m,\u001b[0m \u001b[0mk\u001b[0m\u001b[0;34m)\u001b[0m\u001b[0;34m\u001b[0m\u001b[0m\n\u001b[0m\u001b[1;32m   1033\u001b[0m         \u001b[0;32mexcept\u001b[0m \u001b[0mKeyError\u001b[0m \u001b[0;32mas\u001b[0m \u001b[0me1\u001b[0m\u001b[0;34m:\u001b[0m\u001b[0;34m\u001b[0m\u001b[0m\n\u001b[1;32m   1034\u001b[0m             \u001b[0;32mif\u001b[0m \u001b[0mlen\u001b[0m\u001b[0;34m(\u001b[0m\u001b[0mself\u001b[0m\u001b[0;34m)\u001b[0m \u001b[0;34m>\u001b[0m \u001b[0;36m0\u001b[0m \u001b[0;32mand\u001b[0m \u001b[0mself\u001b[0m\u001b[0;34m.\u001b[0m\u001b[0minferred_type\u001b[0m \u001b[0;34m==\u001b[0m \u001b[0;34m'integer'\u001b[0m\u001b[0;34m:\u001b[0m\u001b[0;34m\u001b[0m\u001b[0m\n",
        "\u001b[0;32m/usr/local/lib/python2.7/site-packages/pandas/index.so\u001b[0m in \u001b[0;36mpandas.index.IndexEngine.get_value (pandas/index.c:2661)\u001b[0;34m()\u001b[0m\n",
        "\u001b[0;32m/usr/local/lib/python2.7/site-packages/pandas/index.so\u001b[0m in \u001b[0;36mpandas.index.IndexEngine.get_value (pandas/index.c:2476)\u001b[0;34m()\u001b[0m\n",
        "\u001b[0;32m/usr/local/lib/python2.7/site-packages/pandas/index.so\u001b[0m in \u001b[0;36mpandas.index.IndexEngine.get_loc (pandas/index.c:3270)\u001b[0;34m()\u001b[0m\n",
        "\u001b[0;31mKeyError\u001b[0m: 'rs117838274'"
       ]
      }
     ],
     "prompt_number": 5
    },
    {
     "cell_type": "code",
     "collapsed": false,
     "input": [],
     "language": "python",
     "metadata": {},
     "outputs": []
    },
    {
     "cell_type": "code",
     "collapsed": false,
     "input": [],
     "language": "python",
     "metadata": {},
     "outputs": []
    },
    {
     "cell_type": "code",
     "collapsed": false,
     "input": [
      "## Writing data\n",
      "\n",
      "store.put('ld05', df_rdn_snps, format='fixed')  #Writing to a HDF5 Store\n",
      "# format='table'\n",
      "# or store['ld0.5']=df_rdn_snps\n",
      "\n",
      "### things to try\n",
      "#Specifying column data types --> dtype={'b': object, 'c': np.float64}\n",
      "store.close()"
     ],
     "language": "python",
     "metadata": {},
     "outputs": []
    },
    {
     "cell_type": "code",
     "collapsed": false,
     "input": [
      "\n",
      "#%%timeit -n 8 -r 5\n",
      "\n",
      "df_rdn_snps = pd.read_hdf('/Users/pascaltimshel/git/snpsnap/notebooks/store.h5', 'ld05') #'fixed'\n",
      "#auto_close=True\n"
     ],
     "language": "python",
     "metadata": {},
     "outputs": []
    }
   ],
   "metadata": {}
  }
 ]
}